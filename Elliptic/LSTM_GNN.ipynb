{
 "cells": [
  {
   "cell_type": "code",
   "execution_count": 1,
   "id": "66df167d",
   "metadata": {},
   "outputs": [],
   "source": [
    "from torch_geometric.nn import TAGConv\n",
    "from torch_geometric.nn import AGNNConv\n",
    "from torch.nn import Sequential, Linear, ReLU\n",
    "import torch.nn.functional as F\n",
    "from torch.nn import LogSoftmax\n",
    "import torch.nn as nn"
   ]
  },
  {
   "cell_type": "code",
   "execution_count": null,
   "id": "92384e1e",
   "metadata": {},
   "outputs": [],
   "source": [
    "class TemporalBoy(nn.Module):\n",
    "\n",
    "    def __init__(self, node_dim, edge_dim, output_dim, hidden_dim=50, n_gnn_layers=2, K=2, dropout_rate=0):\n",
    "        super().__init__()\n",
    "        self.node_dim = node_dim\n",
    "        self.edge_dim = edge_dim\n",
    "        self.output_dim = output_dim\n",
    "        self.hidden_dim = hidden_dim\n",
    "        self.K = K\n",
    "        self.dropout_rate = dropout_rate\n",
    "        self.dropout = nn.Dropout(self.dropout_rate, inplace=False)\n",
    "        self.relu = nn.PReLU()\n",
    "        self.softmax = LogSoftmax(dim = -1)\n",
    "        \n",
    "        self.gcn1 = TAGConv(hidden_dim, hidden_dim, K=K)\n",
    "        self.gcn2 = TAGConv(hidden_dim, output_dim, K=K)\n",
    "        \n",
    "        self.lstm = nn.LSTM(node_dim, hidden_dim, dropout=dropout_rate)\n",
    "        \n",
    "       \n",
    "\n",
    "    def forward(self, x, edge_index):\n",
    "        \"\"\"Applies the GNN to the input graph.\n",
    "\n",
    "          Args:\n",
    "              data (Data): A PyTorch Geometric Data object representing the input graph.\n",
    "\n",
    "          Returns:\n",
    "              torch.Tensor: The output tensor of the GNN.\n",
    "\n",
    "          \"\"\"\n",
    "        \n",
    "        x, hidden = self.lstm(x)\n",
    "        x = self.relu(x)\n",
    "        # try also feeding in hidden state perhaps?\n",
    "        x = self.gcn1(x, edge_index)\n",
    "        x = self.dropout(x)\n",
    "        x = self.relu(x)\n",
    "        \n",
    "        x = self.gcn2(x, edge_index)\n",
    "\n",
    "        \n",
    "        # Convert to probability\n",
    "        x = self.softmax(x)\n",
    "        return x"
   ]
  }
 ],
 "metadata": {
  "kernelspec": {
   "display_name": "Python 3 (ipykernel)",
   "language": "python",
   "name": "python3"
  },
  "language_info": {
   "codemirror_mode": {
    "name": "ipython",
    "version": 3
   },
   "file_extension": ".py",
   "mimetype": "text/x-python",
   "name": "python",
   "nbconvert_exporter": "python",
   "pygments_lexer": "ipython3",
   "version": "3.11.3"
  }
 },
 "nbformat": 4,
 "nbformat_minor": 5
}
