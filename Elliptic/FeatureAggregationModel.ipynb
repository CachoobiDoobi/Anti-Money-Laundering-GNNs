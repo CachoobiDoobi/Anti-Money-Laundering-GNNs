{
 "cells": [
  {
   "cell_type": "code",
   "execution_count": null,
   "metadata": {
    "collapsed": true
   },
   "outputs": [],
   "source": [
    "from torch_geometric.nn import TAGConv\n",
    "from torch_geometric.nn import AGNNConv\n",
    "from torch.nn import Sequential, Linear, ReLU\n",
    "import torch.nn.functional as F\n",
    "from torch.nn import LogSoftmax\n",
    "import torch.nn as nn"
   ]
  },
  {
   "cell_type": "code",
   "execution_count": null,
   "outputs": [],
   "source": [
    "class SpatialFeatureAggregator(nn.Module):\n",
    "    \"\"\"\n",
    "      This class defines a PyTorch module that takes in a graph represented in the PyTorch Geometric Data format,\n",
    "      and outputs a tensor of predictions for each node in the graph. The model consists of one or more TAGConv layers,\n",
    "      which are a type of graph convolutional layer.\n",
    "\n",
    "      Args:\n",
    "          node_dim (int): The number of node inputs.\n",
    "          edge_dim (int): The number of edge inputs.\n",
    "          output_dim (int, optional): The number of outputs (default: 1).\n",
    "          hidden_dim (int, optional): The number of hidden units in each GNN layer (default: 50).\n",
    "          n_gnn_layers (int, optional): The number of GNN layers in the model (default: 1).\n",
    "          K (int, optional): The number of hops in the neighbourhood for each GNN layer (default: 2).\n",
    "          dropout_rate (float, optional): The dropout rate to be applied to the output of each GNN layer (default: 0).\n",
    "\n",
    "      \"\"\"\n",
    "    def __init__(self, node_dim, edge_dim, output_dim, hidden_dim=50, n_gnn_layers=2, K=2, dropout_rate=0):\n",
    "        super().__init__()\n",
    "        self.node_dim = node_dim\n",
    "        self.edge_dim = edge_dim\n",
    "        self.output_dim = output_dim\n",
    "        self.hidden_dim = hidden_dim\n",
    "        self.K = K\n",
    "        self.dropout_rate = dropout_rate\n",
    "        self.dropout = nn.Dropout(self.dropout_rate, inplace=False)\n",
    "        self.relu = nn.PReLU()\n",
    "        self.softmax = LogSoftmax(dim = -1)\n",
    "\n",
    "        self.gcn1 = TAGConv(node_dim, hidden_dim, K=K)\n",
    "        self.gcn2 = TAGConv(hidden_dim, hidden_dim, K=K)\n",
    "        self.fc1 = nn.Linear(node_dim, hidden_dim)\n",
    "        self.fc2 = nn.Linear(2*hidden_dim, 2*hidden_dim)\n",
    "        self.fc3 = nn.Linear(2*hidden_dim, output_dim)\n",
    "\n",
    "\n",
    "    def forward(self, data):\n",
    "\n",
    "        x = data.x\n",
    "        edge_index = data.edge_index\n",
    "\n",
    "        # GCN Layer 1\n",
    "        x1 = self.gcn1(x=x, edge_index=edge_index)\n",
    "        x1 = self.dropout(x1)\n",
    "        x1 = self.relu(x1)\n",
    "\n",
    "        # GCN Layer 2\n",
    "        x1 = self.gcn2(x=x1, edge_index=edge_index)\n",
    "        x1 = self.dropout(x1)\n",
    "        x1 = self.relu(x1)\n",
    "\n",
    "        # Parallel FC Layer\n",
    "        x2 = self.fc1(x)\n",
    "        x2 = self.dropout(x2)\n",
    "\n",
    "        # Concatenate representations\n",
    "        x = torch.cat([x1, x2], dim=1)\n",
    "        x = self.relu(x)\n",
    "\n",
    "        # Two more FC Layers\n",
    "        x = self.fc2(x)\n",
    "        x = self.dropout(x)\n",
    "        x = self.relu(x)\n",
    "\n",
    "        x = self.fc3(x)\n",
    "\n",
    "        # Convert to probability\n",
    "        x = self.softmax(x)\n",
    "        return x"
   ],
   "metadata": {
    "collapsed": false
   }
  }
 ],
 "metadata": {
  "kernelspec": {
   "display_name": "Python 3",
   "language": "python",
   "name": "python3"
  },
  "language_info": {
   "codemirror_mode": {
    "name": "ipython",
    "version": 2
   },
   "file_extension": ".py",
   "mimetype": "text/x-python",
   "name": "python",
   "nbconvert_exporter": "python",
   "pygments_lexer": "ipython2",
   "version": "2.7.6"
  }
 },
 "nbformat": 4,
 "nbformat_minor": 0
}
