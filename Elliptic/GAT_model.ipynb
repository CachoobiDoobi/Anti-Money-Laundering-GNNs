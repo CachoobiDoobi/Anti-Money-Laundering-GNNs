{
 "cells": [
  {
   "cell_type": "code",
   "execution_count": 2,
   "metadata": {
    "collapsed": true,
    "ExecuteTime": {
     "end_time": "2023-06-07T10:21:57.001937100Z",
     "start_time": "2023-06-07T10:21:57.000788Z"
    }
   },
   "outputs": [],
   "source": [
    "import torch.nn as nn\n",
    "import torch.nn.functional as F\n",
    "from torch_geometric.nn import GATv2Conv"
   ]
  },
  {
   "cell_type": "code",
   "execution_count": 4,
   "outputs": [],
   "source": [
    "class GraphAttentionNetwork(nn.Module):\n",
    "    \"\"\"\n",
    "      This class defines a PyTorch module that takes in a graph represented in the PyTorch Geometric Data format,\n",
    "      and outputs a tensor of predictions for each node in the graph. The model consists of one or more TAGConv layers,\n",
    "      which are a type of graph convolutional layer.\n",
    "\n",
    "      Args:\n",
    "          node_dim (int): The number of node inputs.\n",
    "          edge_dim (int): The number of edge inputs.\n",
    "          output_dim (int, optional): The number of outputs (default: 1).\n",
    "          hidden_dim (int, optional): The number of hidden units in each GNN layer (default: 50).\n",
    "          n_gnn_layers (int, optional): The number of GNN layers in the model (default: 1).\n",
    "          K (int, optional): The number of hops in the neighbourhood for each GNN layer (default: 2).\n",
    "          dropout_rate (float, optional): The dropout rate to be applied to the output of each GNN layer (default: 0).\n",
    "\n",
    "      \"\"\"\n",
    "\n",
    "    def __init__(self, node_dim, output_dim, hidden_dim=50, n_gnn_layers=1, heads=1, dropout_rate=0):\n",
    "        super().__init__()\n",
    "        self.gat1 = GATv2Conv(node_dim, hidden_dim, heads=heads, dropout=dropout_rate)\n",
    "        self.gat2 = GATv2Conv(hidden_dim * heads, output_dim, heads=1, dropout=dropout_rate)\n",
    "        self.dropout = dropout_rate\n",
    "    def forward(self, x, edge_index):\n",
    "        # x = data.x\n",
    "        # edge_index = data.edge_index\n",
    "        x = F.dropout(x, p=0.6, training=self.training)\n",
    "        x = self.gat1(x, edge_index)\n",
    "        x = F.elu(x)\n",
    "        x = F.dropout(x, p=self.dropout, training=self.training)\n",
    "        x = self.gat2(x, edge_index)\n",
    "        return F.log_softmax(x, dim=1)"
   ],
   "metadata": {
    "collapsed": false,
    "ExecuteTime": {
     "end_time": "2023-06-07T11:00:59.315916900Z",
     "start_time": "2023-06-07T11:00:59.313150600Z"
    }
   }
  },
  {
   "cell_type": "code",
   "execution_count": null,
   "outputs": [],
   "source": [],
   "metadata": {
    "collapsed": false
   }
  }
 ],
 "metadata": {
  "kernelspec": {
   "display_name": "Python 3",
   "language": "python",
   "name": "python3"
  },
  "language_info": {
   "codemirror_mode": {
    "name": "ipython",
    "version": 2
   },
   "file_extension": ".py",
   "mimetype": "text/x-python",
   "name": "python",
   "nbconvert_exporter": "python",
   "pygments_lexer": "ipython2",
   "version": "2.7.6"
  }
 },
 "nbformat": 4,
 "nbformat_minor": 0
}
