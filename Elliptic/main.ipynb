{
 "cells": [
  {
   "cell_type": "code",
   "execution_count": 2,
   "metadata": {
    "ExecuteTime": {
     "end_time": "2023-06-27T17:10:06.513312700Z",
     "start_time": "2023-06-27T17:10:01.843025600Z"
    }
   },
   "outputs": [],
   "source": [
    "import seaborn as sns\n",
    "sns.set(rc={'axes.facecolor': 'dimgrey', 'grid.color': 'lightgrey'})\n",
    "import pandas as pd\n",
    "import torch\n",
    "import copy\n",
    "import matplotlib.pyplot as plt\n",
    "from torch_geometric.loader import DataLoader\n",
    "from torch_geometric.explain.metric import fidelity\n",
    "from torch_geometric.explain import ModelConfig, ExplainerConfig, GNNExplainer\n",
    "from torch_geometric.explain import Explainer\n",
    "from torch_geometric.loader import NeighborLoader"
   ]
  },
  {
   "cell_type": "code",
   "execution_count": 3,
   "metadata": {
    "ExecuteTime": {
     "end_time": "2023-06-27T17:10:07.316326400Z",
     "start_time": "2023-06-27T17:10:06.519302900Z"
    }
   },
   "outputs": [],
   "source": [
    "%run utils.ipynb\n",
    "%run gcn_model.ipynb\n",
    "%run GAT_model.ipynb"
   ]
  },
  {
   "cell_type": "code",
   "execution_count": 4,
   "metadata": {
    "ExecuteTime": {
     "end_time": "2023-06-27T17:10:16.410692700Z",
     "start_time": "2023-06-27T17:10:07.316326400Z"
    }
   },
   "outputs": [],
   "source": [
    "# class 1 is illicit, 2 is licit, unknown is unknown\n",
    "labels = pd.read_csv(\"data/elliptic_bitcoin_dataset/elliptic_txs_classes.csv\")\n",
    "edges = pd.read_csv(\"data/elliptic_bitcoin_dataset/elliptic_txs_edgelist.csv\")\n",
    "nodes = pd.read_csv(\"data/elliptic_bitcoin_dataset/elliptic_txs_features.csv\", header=None)"
   ]
  },
  {
   "cell_type": "code",
   "execution_count": 5,
   "metadata": {
    "ExecuteTime": {
     "end_time": "2023-06-27T17:10:16.468663Z",
     "start_time": "2023-06-27T17:10:16.412687800Z"
    }
   },
   "outputs": [],
   "source": [
    "indexes = labels.index[labels[\"class\"] != \"unknown\"].tolist()\n",
    "new_labels = labels.replace(\"unknown\", 3)"
   ]
  },
  {
   "cell_type": "code",
   "execution_count": 6,
   "metadata": {
    "ExecuteTime": {
     "end_time": "2023-06-27T17:10:16.469662300Z",
     "start_time": "2023-06-27T17:10:16.454159400Z"
    }
   },
   "outputs": [],
   "source": [
    "device = 'cuda' if torch.cuda.is_available() else 'cpu'"
   ]
  },
  {
   "cell_type": "code",
   "execution_count": 7,
   "metadata": {
    "ExecuteTime": {
     "end_time": "2023-06-27T17:10:30.223226400Z",
     "start_time": "2023-06-27T17:10:16.458686700Z"
    }
   },
   "outputs": [
    {
     "data": {
      "text/plain": "Data(x=[203769, 165], edge_index=[2, 234355], y=[203769])"
     },
     "execution_count": 7,
     "metadata": {},
     "output_type": "execute_result"
    }
   ],
   "source": [
    "data, graph_info = create_graph(nodes, edges, new_labels, device)\n",
    "data"
   ]
  },
  {
   "cell_type": "code",
   "execution_count": 8,
   "metadata": {
    "ExecuteTime": {
     "end_time": "2023-06-27T17:10:32.737953500Z",
     "start_time": "2023-06-27T17:10:30.221231400Z"
    }
   },
   "outputs": [
    {
     "data": {
      "text/plain": "(torch.Size([37253]), torch.Size([9311]))"
     },
     "execution_count": 8,
     "metadata": {},
     "output_type": "execute_result"
    }
   ],
   "source": [
    "# generate test and train masks\n",
    "train_p = 0.8\n",
    "# indices of the illicit and licit transaction nodes\n",
    "illicit_idx = (data.y == 0).nonzero(as_tuple=True)[0]\n",
    "# Generate random permutation of indices\n",
    "illicit_train, illicit_test = torch.utils.data.random_split(illicit_idx, lengths=[train_p, (1-train_p)])\n",
    "\n",
    "# the same for the licit nodes\n",
    "licit_idx   = (data.y == 1).nonzero(as_tuple=True)[0]\n",
    "licit_train, licit_test = torch.utils.data.random_split(licit_idx, lengths=[train_p, (1-train_p)])\n",
    "# obtain the training and test \"masks\", i.e. indices for the train and test sets\n",
    "unlabelled_idx = (data.y == 2).nonzero(as_tuple=True)[0]\n",
    "unlabelled_train, unlabelled_test = torch.utils.data.random_split(unlabelled_idx, lengths=[train_p, (1-train_p)])\n",
    "\n",
    "\n",
    "train_mask = torch.cat([torch.tensor(illicit_train), torch.tensor(licit_train)])\n",
    "test_mask  = torch.cat([torch.tensor(illicit_test), torch.tensor(licit_test)])\n",
    "\n",
    "train_mask.shape, test_mask.shape"
   ]
  },
  {
   "cell_type": "code",
   "execution_count": 9,
   "metadata": {
    "ExecuteTime": {
     "end_time": "2023-06-27T17:10:32.759603200Z",
     "start_time": "2023-06-27T17:10:32.737953500Z"
    }
   },
   "outputs": [
    {
     "name": "stdout",
     "output_type": "stream",
     "text": [
      "tensor(644, device='cuda:0') tensor(1129, device='cuda:0') tensor(946, device='cuda:0')\n"
     ]
    }
   ],
   "source": [
    "from torch_geometric.loader import ClusterLoader, RandomNodeLoader, ImbalancedSampler\n",
    "# from torch_geometric.data import ClusterData\n",
    "# train_loader = NeighborLoader(\n",
    "#     data,\n",
    "#     input_nodes=train_mask,\n",
    "#     num_neighbors=[-1],\n",
    "#     batch_size=2048,\n",
    "# )\n",
    "#\n",
    "# test_loader = NeighborLoader(\n",
    "#     data,\n",
    "#     input_nodes=test_mask,\n",
    "#     num_neighbors=[-1],\n",
    "#     batch_size=2048,\n",
    "# )\n",
    "sampler = ImbalancedSampler(data, input_nodes=train_mask)\n",
    "test_sampler = ImbalancedSampler(data, input_nodes=test_mask)\n",
    "train_loader = NeighborLoader(data,\n",
    "                        batch_size=1024, num_neighbors=[20, 1],\n",
    "                        sampler=sampler,input_nodes=train_mask)\n",
    "\n",
    "test_loader = NeighborLoader(data,\n",
    "                              batch_size=1024, num_neighbors=[20, 1],\n",
    "                              sampler=test_sampler,input_nodes=test_mask)\n",
    "for b in train_loader:\n",
    "    print((b.y == 0).sum(),(b.y == 1).sum(),(b.y == 2).sum())\n",
    "    break"
   ]
  },
  {
   "cell_type": "code",
   "execution_count": 17,
   "metadata": {
    "ExecuteTime": {
     "end_time": "2023-06-27T17:23:20.196393400Z",
     "start_time": "2023-06-27T17:23:20.176517300Z"
    }
   },
   "outputs": [],
   "source": [
    "GCN = GNN_Example(node_dim=data.x.shape[1], edge_dim=1, output_dim=2, hidden_dim=256, n_gnn_layers=3, K=2, dropout_rate=0.1).to(device)"
   ]
  },
  {
   "cell_type": "code",
   "execution_count": 18,
   "metadata": {
    "ExecuteTime": {
     "end_time": "2023-06-27T17:25:13.024953Z",
     "start_time": "2023-06-27T17:23:20.424899900Z"
    }
   },
   "outputs": [
    {
     "name": "stdout",
     "output_type": "stream",
     "text": [
      "Epoch:  10\n",
      "0 ({'precision': 0.7321428571428571, 'recall': 0.7321428571428571, 'f1-score': 0.7321428571428571, 'support': 56})\n",
      "1 ({'precision': 0.8770491803278688, 'recall': 0.8770491803278688, 'f1-score': 0.8770491803278688, 'support': 122})\n",
      "accuracy (0.8314606741573034)\n",
      "macro avg ({'precision': 0.8045960187353629, 'recall': 0.8045960187353629, 'f1-score': 0.8045960187353629, 'support': 178})\n",
      "weighted avg ({'precision': 0.8314606741573034, 'recall': 0.8314606741573034, 'f1-score': 0.8314606741573034, 'support': 178})\n",
      "############################\n",
      "Epoch:  20\n",
      "0 ({'precision': 0.7833333333333333, 'recall': 0.8703703703703703, 'f1-score': 0.8245614035087719, 'support': 54})\n",
      "1 ({'precision': 0.9457364341085271, 'recall': 0.9037037037037037, 'f1-score': 0.9242424242424242, 'support': 135})\n",
      "accuracy (0.8941798941798942)\n",
      "macro avg ({'precision': 0.8645348837209302, 'recall': 0.8870370370370371, 'f1-score': 0.8744019138755981, 'support': 189})\n",
      "weighted avg ({'precision': 0.8993355481727575, 'recall': 0.8941798941798942, 'f1-score': 0.8957621326042379, 'support': 189})\n",
      "############################\n",
      "Epoch:  30\n",
      "0 ({'precision': 0.8636363636363636, 'recall': 0.8769230769230769, 'f1-score': 0.8702290076335878, 'support': 65})\n",
      "1 ({'precision': 0.9238095238095239, 'recall': 0.9150943396226415, 'f1-score': 0.9194312796208531, 'support': 106})\n",
      "accuracy (0.9005847953216374)\n",
      "macro avg ({'precision': 0.8937229437229437, 'recall': 0.8960087082728592, 'f1-score': 0.8948301436272205, 'support': 171})\n",
      "weighted avg ({'precision': 0.9009366851472116, 'recall': 0.9005847953216374, 'f1-score': 0.9007286616139979, 'support': 171})\n",
      "############################\n",
      "Epoch:  40\n",
      "0 ({'precision': 0.8541666666666666, 'recall': 0.803921568627451, 'f1-score': 0.8282828282828283, 'support': 51})\n",
      "1 ({'precision': 0.927536231884058, 'recall': 0.9481481481481482, 'f1-score': 0.9377289377289377, 'support': 135})\n",
      "accuracy (0.9086021505376344)\n",
      "macro avg ({'precision': 0.8908514492753623, 'recall': 0.8760348583877996, 'f1-score': 0.883005883005883, 'support': 186})\n",
      "weighted avg ({'precision': 0.9074187704534828, 'recall': 0.9086021505376344, 'f1-score': 0.9077195206227465, 'support': 186})\n",
      "############################\n",
      "Epoch:  50\n",
      "0 ({'precision': 0.9206349206349206, 'recall': 0.8405797101449275, 'f1-score': 0.8787878787878787, 'support': 69})\n",
      "1 ({'precision': 0.8865979381443299, 'recall': 0.945054945054945, 'f1-score': 0.9148936170212766, 'support': 91})\n",
      "accuracy (0.9)\n",
      "macro avg ({'precision': 0.9036164293896252, 'recall': 0.8928173275999363, 'f1-score': 0.8968407479045777, 'support': 160})\n",
      "weighted avg ({'precision': 0.9012763868433972, 'recall': 0.9, 'f1-score': 0.8993230174081237, 'support': 160})\n",
      "############################\n",
      "Epoch:  60\n",
      "0 ({'precision': 0.9433962264150944, 'recall': 0.9615384615384616, 'f1-score': 0.9523809523809524, 'support': 52})\n",
      "1 ({'precision': 0.9885714285714285, 'recall': 0.9829545454545454, 'f1-score': 0.9857549857549858, 'support': 176})\n",
      "accuracy (0.9780701754385965)\n",
      "macro avg ({'precision': 0.9659838274932615, 'recall': 0.9722465034965035, 'f1-score': 0.9690679690679691, 'support': 228})\n",
      "weighted avg ({'precision': 0.9782683122901593, 'recall': 0.9780701754385965, 'f1-score': 0.9781433641082763, 'support': 228})\n",
      "############################\n",
      "Epoch:  70\n",
      "0 ({'precision': 0.9272727272727272, 'recall': 0.85, 'f1-score': 0.8869565217391303, 'support': 60})\n",
      "1 ({'precision': 0.94375, 'recall': 0.9741935483870968, 'f1-score': 0.9587301587301588, 'support': 155})\n",
      "accuracy (0.9395348837209302)\n",
      "macro avg ({'precision': 0.9355113636363637, 'recall': 0.9120967741935484, 'f1-score': 0.9228433402346445, 'support': 215})\n",
      "weighted avg ({'precision': 0.9391516913319239, 'recall': 0.9395348837209302, 'f1-score': 0.938700306546616, 'support': 215})\n",
      "############################\n",
      "Epoch:  80\n",
      "0 ({'precision': 0.9137931034482759, 'recall': 0.9298245614035088, 'f1-score': 0.9217391304347825, 'support': 57})\n",
      "1 ({'precision': 0.9591836734693877, 'recall': 0.9494949494949495, 'f1-score': 0.9543147208121828, 'support': 99})\n",
      "accuracy (0.9423076923076923)\n",
      "macro avg ({'precision': 0.9364883884588318, 'recall': 0.9396597554492292, 'f1-score': 0.9380269256234827, 'support': 156})\n",
      "weighted avg ({'precision': 0.9425986575001354, 'recall': 0.9423076923076923, 'f1-score': 0.9424121012512097, 'support': 156})\n",
      "############################\n",
      "Epoch:  90\n",
      "0 ({'precision': 0.9666666666666667, 'recall': 0.8787878787878788, 'f1-score': 0.9206349206349207, 'support': 66})\n",
      "1 ({'precision': 0.9316239316239316, 'recall': 0.9819819819819819, 'f1-score': 0.9561403508771931, 'support': 111})\n",
      "accuracy (0.943502824858757)\n",
      "macro avg ({'precision': 0.9491452991452991, 'recall': 0.9303849303849303, 'f1-score': 0.9383876357560569, 'support': 177})\n",
      "weighted avg ({'precision': 0.9446907141822397, 'recall': 0.943502824858757, 'f1-score': 0.9429010379054983, 'support': 177})\n",
      "############################\n",
      "Epoch:  100\n",
      "0 ({'precision': 0.9827586206896551, 'recall': 0.9344262295081968, 'f1-score': 0.9579831932773109, 'support': 61})\n",
      "1 ({'precision': 0.9629629629629629, 'recall': 0.9904761904761905, 'f1-score': 0.9765258215962442, 'support': 105})\n",
      "accuracy (0.9698795180722891)\n",
      "macro avg ({'precision': 0.972860791826309, 'recall': 0.9624512099921936, 'f1-score': 0.9672545074367775, 'support': 166})\n",
      "weighted avg ({'precision': 0.9702372709227715, 'recall': 0.9698795180722891, 'f1-score': 0.9697119642019374, 'support': 166})\n",
      "############################\n",
      "Epoch:  110\n",
      "0 ({'precision': 0.9782608695652174, 'recall': 0.9, 'f1-score': 0.9375, 'support': 50})\n",
      "1 ({'precision': 0.9681528662420382, 'recall': 0.9934640522875817, 'f1-score': 0.9806451612903226, 'support': 153})\n",
      "accuracy (0.9704433497536946)\n",
      "macro avg ({'precision': 0.9732068679036279, 'recall': 0.9467320261437908, 'f1-score': 0.9590725806451613, 'support': 203})\n",
      "weighted avg ({'precision': 0.9706425222329691, 'recall': 0.9704433497536946, 'f1-score': 0.9700182742730018, 'support': 203})\n",
      "############################\n",
      "Epoch:  120\n",
      "0 ({'precision': 0.9666666666666667, 'recall': 0.8923076923076924, 'f1-score': 0.928, 'support': 65})\n",
      "1 ({'precision': 0.9465648854961832, 'recall': 0.9841269841269841, 'f1-score': 0.9649805447470817, 'support': 126})\n",
      "accuracy (0.9528795811518325)\n",
      "macro avg ({'precision': 0.9566157760814249, 'recall': 0.9382173382173382, 'f1-score': 0.9464902723735409, 'support': 191})\n",
      "weighted avg ({'precision': 0.9534058057898033, 'recall': 0.9528795811518325, 'f1-score': 0.9523955426080226, 'support': 191})\n",
      "############################\n",
      "Epoch:  130\n",
      "0 ({'precision': 0.967741935483871, 'recall': 0.9523809523809523, 'f1-score': 0.96, 'support': 63})\n",
      "1 ({'precision': 0.9727272727272728, 'recall': 0.981651376146789, 'f1-score': 0.9771689497716896, 'support': 109})\n",
      "accuracy (0.9709302325581395)\n",
      "macro avg ({'precision': 0.9702346041055718, 'recall': 0.9670161642638706, 'f1-score': 0.9685844748858448, 'support': 172})\n",
      "weighted avg ({'precision': 0.9709012480392826, 'recall': 0.9709302325581395, 'f1-score': 0.9708803228204311, 'support': 172})\n",
      "############################\n",
      "Epoch:  140\n",
      "0 ({'precision': 1.0, 'recall': 0.9857142857142858, 'f1-score': 0.9928057553956835, 'support': 70})\n",
      "1 ({'precision': 0.9888888888888889, 'recall': 1.0, 'f1-score': 0.9944134078212291, 'support': 89})\n",
      "accuracy (0.9937106918238994)\n",
      "macro avg ({'precision': 0.9944444444444445, 'recall': 0.9928571428571429, 'f1-score': 0.9936095816084562, 'support': 159})\n",
      "weighted avg ({'precision': 0.9937805730258561, 'recall': 0.9937106918238994, 'f1-score': 0.9937056363131274, 'support': 159})\n",
      "############################\n",
      "Epoch:  150\n",
      "0 ({'precision': 0.9818181818181818, 'recall': 0.9473684210526315, 'f1-score': 0.9642857142857142, 'support': 57})\n",
      "1 ({'precision': 0.976, 'recall': 0.991869918699187, 'f1-score': 0.9838709677419355, 'support': 123})\n",
      "accuracy (0.9777777777777777)\n",
      "macro avg ({'precision': 0.978909090909091, 'recall': 0.9696191698759092, 'f1-score': 0.9740783410138248, 'support': 180})\n",
      "weighted avg ({'precision': 0.9778424242424243, 'recall': 0.9777777777777777, 'f1-score': 0.9776689708141321, 'support': 180})\n",
      "############################\n",
      "Epoch:  160\n",
      "0 ({'precision': 1.0, 'recall': 0.9743589743589743, 'f1-score': 0.9870129870129869, 'support': 78})\n",
      "1 ({'precision': 0.9830508474576272, 'recall': 1.0, 'f1-score': 0.9914529914529915, 'support': 116})\n",
      "accuracy (0.9896907216494846)\n",
      "macro avg ({'precision': 0.9915254237288136, 'recall': 0.9871794871794872, 'f1-score': 0.9892329892329892, 'support': 194})\n",
      "weighted avg ({'precision': 0.9898654551808491, 'recall': 0.9896907216494846, 'f1-score': 0.9896678350286596, 'support': 194})\n",
      "############################\n",
      "Epoch:  170\n",
      "0 ({'precision': 0.9375, 'recall': 0.8490566037735849, 'f1-score': 0.8910891089108911, 'support': 53})\n",
      "1 ({'precision': 0.9304347826086956, 'recall': 0.9727272727272728, 'f1-score': 0.9511111111111111, 'support': 110})\n",
      "accuracy (0.9325153374233128)\n",
      "macro avg ({'precision': 0.9339673913043478, 'recall': 0.9108919382504288, 'f1-score': 0.9211001100110011, 'support': 163})\n",
      "weighted avg ({'precision': 0.9327320618831687, 'recall': 0.9325153374233128, 'f1-score': 0.9315947545674813, 'support': 163})\n",
      "############################\n",
      "Epoch:  180\n",
      "0 ({'precision': 0.9661016949152542, 'recall': 0.9661016949152542, 'f1-score': 0.9661016949152542, 'support': 59})\n",
      "1 ({'precision': 0.9863013698630136, 'recall': 0.9863013698630136, 'f1-score': 0.9863013698630136, 'support': 146})\n",
      "accuracy (0.9804878048780488)\n",
      "macro avg ({'precision': 0.976201532389134, 'recall': 0.976201532389134, 'f1-score': 0.976201532389134, 'support': 205})\n",
      "weighted avg ({'precision': 0.9804878048780488, 'recall': 0.9804878048780488, 'f1-score': 0.9804878048780488, 'support': 205})\n",
      "############################\n",
      "Epoch:  190\n",
      "0 ({'precision': 0.9565217391304348, 'recall': 0.8979591836734694, 'f1-score': 0.9263157894736843, 'support': 49})\n",
      "1 ({'precision': 0.9609375, 'recall': 0.984, 'f1-score': 0.9723320158102766, 'support': 125})\n",
      "accuracy (0.9597701149425287)\n",
      "macro avg ({'precision': 0.9587296195652174, 'recall': 0.9409795918367347, 'f1-score': 0.9493239026419804, 'support': 174})\n",
      "weighted avg ({'precision': 0.9596939811344328, 'recall': 0.9597701149425287, 'f1-score': 0.9593734233361788, 'support': 174})\n",
      "############################\n",
      "Epoch:  200\n",
      "0 ({'precision': 0.9464285714285714, 'recall': 0.8688524590163934, 'f1-score': 0.9059829059829059, 'support': 61})\n",
      "1 ({'precision': 0.9316239316239316, 'recall': 0.9732142857142857, 'f1-score': 0.9519650655021833, 'support': 112})\n",
      "accuracy (0.9364161849710982)\n",
      "macro avg ({'precision': 0.9390262515262515, 'recall': 0.9210333723653396, 'f1-score': 0.9289739857425445, 'support': 173})\n",
      "weighted avg ({'precision': 0.9368440647342382, 'recall': 0.9364161849710982, 'f1-score': 0.9357517028971202, 'support': 173})\n",
      "############################\n",
      "{'0': {'precision': 0.9852941176470589, 'recall': 0.9710144927536232, 'f1-score': 0.9781021897810219, 'support': 69}, '1': {'precision': 0.9847328244274809, 'recall': 0.9923076923076923, 'f1-score': 0.9885057471264368, 'support': 130}, 'accuracy': 0.9849246231155779, 'macro avg': {'precision': 0.9850134710372699, 'recall': 0.9816610925306577, 'f1-score': 0.9833039684537294, 'support': 199}, 'weighted avg': {'precision': 0.9849274436845205, 'recall': 0.9849246231155779, 'f1-score': 0.9848984835242578, 'support': 199}}\n"
     ]
    }
   ],
   "source": [
    "lr = 1e-3\n",
    "epochs = 200\n",
    "# weights for classes\n",
    "weight = torch.tensor([0.5, 0.5]).to(device)\n",
    "optimizer = torch.optim.Adam(GCN.parameters(), lr=lr)\n",
    "loss_fn = torch.nn.NLLLoss(weight)\n",
    "\n",
    "best_model = None\n",
    "best_test_loss = 1e10\n",
    "best_result = None\n",
    "train_losses = []\n",
    "test_losses = []\n",
    "\n",
    "for epoch in range(1, 1 + epochs):\n",
    "    # train with random split\n",
    "    loss = train(GCN, train_loader,train_mask, optimizer, loss_fn, device)\n",
    "    train_losses.append(loss)\n",
    "    result, test_loss = test(GCN, test_loader,loss_fn,test_mask, device)\n",
    "    test_losses.append(test_loss)\n",
    "    if test_loss < best_test_loss:\n",
    "        best_test_loss = test_loss\n",
    "        best_model = copy.deepcopy(GCN)\n",
    "        best_result = result\n",
    "    if epoch % 10 == 0:\n",
    "        print(\"Epoch: \", epoch)\n",
    "        for item, amount in result.items():\n",
    "                print(\"{} ({})\".format(item, amount))\n",
    "        print(\"############################\")\n",
    "state = {\"net\":best_model.state_dict(), \"optimizer\":optimizer.state_dict()}\n",
    "torch.save(state, \"gcn.pt\")\n",
    "print(best_result)"
   ]
  },
  {
   "cell_type": "code",
   "execution_count": 16,
   "metadata": {
    "ExecuteTime": {
     "end_time": "2023-06-27T17:16:17.027485Z",
     "start_time": "2023-06-27T17:16:16.797522200Z"
    }
   },
   "outputs": [
    {
     "data": {
      "text/plain": "<Figure size 640x480 with 1 Axes>",
      "image/png": "[encoded data removed]"
     },
     "metadata": {},
     "output_type": "display_data"
    }
   ],
   "source": [
    "plt.plot(train_losses, label=\"Train\")\n",
    "plt.plot(test_losses, label=\"Test\")\n",
    "plt.legend()\n",
    "plt.xlabel(\"Epoch\")\n",
    "plt.ylabel(\"Loss\")\n",
    "plt.show()"
   ]
  },
  {
   "cell_type": "code",
   "execution_count": 12,
   "metadata": {
    "ExecuteTime": {
     "end_time": "2023-06-27T16:41:17.034913700Z",
     "start_time": "2023-06-27T16:41:14.568761100Z"
    }
   },
   "outputs": [
    {
     "ename": "RuntimeError",
     "evalue": "CUDA error: device-side assert triggered\nCUDA kernel errors might be asynchronously reported at some other API call, so the stacktrace below might be incorrect.\nFor debugging consider passing CUDA_LAUNCH_BLOCKING=1.\nCompile with `TORCH_USE_CUDA_DSA` to enable device-side assertions.\n",
     "output_type": "error",
     "traceback": [
      "\u001B[1;31m---------------------------------------------------------------------------\u001B[0m",
      "\u001B[1;31mRuntimeError\u001B[0m                              Traceback (most recent call last)",
      "Cell \u001B[1;32mIn[12], line 3\u001B[0m\n\u001B[0;32m      1\u001B[0m \u001B[38;5;66;03m# class 1 lict\u001B[39;00m\n\u001B[0;32m      2\u001B[0m \u001B[38;5;66;03m# class 0 ilicit\u001B[39;00m\n\u001B[1;32m----> 3\u001B[0m c, w \u001B[38;5;241m=\u001B[39m \u001B[43mget_ilicit_predictions\u001B[49m\u001B[43m(\u001B[49m\u001B[43mGCN\u001B[49m\u001B[43m,\u001B[49m\u001B[43m \u001B[49m\u001B[43mtest_loader\u001B[49m\u001B[43m,\u001B[49m\u001B[43m \u001B[49m\u001B[43mtest_mask\u001B[49m\u001B[43m,\u001B[49m\u001B[43m \u001B[49m\u001B[43mdevice\u001B[49m\u001B[43m)\u001B[49m\n\u001B[0;32m      4\u001B[0m c, w \u001B[38;5;241m=\u001B[39m c[\u001B[38;5;241m0\u001B[39m], w[\u001B[38;5;241m0\u001B[39m]\n\u001B[0;32m      5\u001B[0m \u001B[38;5;28mprint\u001B[39m(c\u001B[38;5;241m.\u001B[39mshape, w\u001B[38;5;241m.\u001B[39mshape)\n",
      "File \u001B[1;32mD:\\Python\\Lib\\site-packages\\torch\\utils\\_contextlib.py:115\u001B[0m, in \u001B[0;36mcontext_decorator.<locals>.decorate_context\u001B[1;34m(*args, **kwargs)\u001B[0m\n\u001B[0;32m    112\u001B[0m \u001B[38;5;129m@functools\u001B[39m\u001B[38;5;241m.\u001B[39mwraps(func)\n\u001B[0;32m    113\u001B[0m \u001B[38;5;28;01mdef\u001B[39;00m \u001B[38;5;21mdecorate_context\u001B[39m(\u001B[38;5;241m*\u001B[39margs, \u001B[38;5;241m*\u001B[39m\u001B[38;5;241m*\u001B[39mkwargs):\n\u001B[0;32m    114\u001B[0m     \u001B[38;5;28;01mwith\u001B[39;00m ctx_factory():\n\u001B[1;32m--> 115\u001B[0m         \u001B[38;5;28;01mreturn\u001B[39;00m \u001B[43mfunc\u001B[49m\u001B[43m(\u001B[49m\u001B[38;5;241;43m*\u001B[39;49m\u001B[43margs\u001B[49m\u001B[43m,\u001B[49m\u001B[43m \u001B[49m\u001B[38;5;241;43m*\u001B[39;49m\u001B[38;5;241;43m*\u001B[39;49m\u001B[43mkwargs\u001B[49m\u001B[43m)\u001B[49m\n",
      "File \u001B[1;32m~\\AppData\\Local\\Temp\\ipykernel_4092\\3487240776.py:6\u001B[0m, in \u001B[0;36mget_ilicit_predictions\u001B[1;34m(model, loader, test_mask, device)\u001B[0m\n\u001B[0;32m      4\u001B[0m \u001B[38;5;28;01mfor\u001B[39;00m i, batch \u001B[38;5;129;01min\u001B[39;00m \u001B[38;5;28menumerate\u001B[39m(loader):\n\u001B[0;32m      5\u001B[0m     batch \u001B[38;5;241m=\u001B[39m batch\u001B[38;5;241m.\u001B[39mto(device)\n\u001B[1;32m----> 6\u001B[0m     y_pred \u001B[38;5;241m=\u001B[39m \u001B[43mmodel\u001B[49m\u001B[43m(\u001B[49m\u001B[43mbatch\u001B[49m\u001B[38;5;241;43m.\u001B[39;49m\u001B[43mx\u001B[49m\u001B[43m,\u001B[49m\u001B[43m \u001B[49m\u001B[43mbatch\u001B[49m\u001B[38;5;241;43m.\u001B[39;49m\u001B[43medge_index\u001B[49m\u001B[43m)\u001B[49m\u001B[38;5;241;43m.\u001B[39;49m\u001B[43margmax\u001B[49m\u001B[43m(\u001B[49m\u001B[43mdim\u001B[49m\u001B[38;5;241;43m=\u001B[39;49m\u001B[38;5;241;43m-\u001B[39;49m\u001B[38;5;241;43m1\u001B[39;49m\u001B[43m)\u001B[49m\u001B[43m[\u001B[49m\u001B[43mtest_mask\u001B[49m\u001B[43m]\u001B[49m\u001B[38;5;241;43m.\u001B[39;49m\u001B[43mcpu\u001B[49m\u001B[43m(\u001B[49m\u001B[43m)\u001B[49m\u001B[38;5;241m.\u001B[39mdetach()\u001B[38;5;241m.\u001B[39mnumpy()\n\u001B[0;32m      7\u001B[0m     y_true \u001B[38;5;241m=\u001B[39m batch\u001B[38;5;241m.\u001B[39my[test_mask]\u001B[38;5;241m.\u001B[39mcpu()\u001B[38;5;241m.\u001B[39mdetach()\u001B[38;5;241m.\u001B[39mnumpy()\n\u001B[0;32m      9\u001B[0m illicit \u001B[38;5;241m=\u001B[39m np\u001B[38;5;241m.\u001B[39mwhere(y_true \u001B[38;5;241m==\u001B[39m \u001B[38;5;241m0\u001B[39m)[\u001B[38;5;241m0\u001B[39m]\n",
      "\u001B[1;31mRuntimeError\u001B[0m: CUDA error: device-side assert triggered\nCUDA kernel errors might be asynchronously reported at some other API call, so the stacktrace below might be incorrect.\nFor debugging consider passing CUDA_LAUNCH_BLOCKING=1.\nCompile with `TORCH_USE_CUDA_DSA` to enable device-side assertions.\n"
     ]
    }
   ],
   "source": [
    "# class 1 lict\n",
    "# class 0 ilicit\n",
    "c, w = get_ilicit_predictions(GCN, test_loader, test_mask, device)\n",
    "c, w = c[0], w[0]\n",
    "print(c.shape, w.shape)"
   ]
  },
  {
   "cell_type": "code",
   "execution_count": null,
   "metadata": {},
   "outputs": [],
   "source": [
    "# node_index =[8440, 8716, 8728, 8734, 8757, 8760, 8762, 8763, 8765, 8773, 8776, 8808]\n",
    "#[8041, 8107, 8157, 8170, 8368, 8394, 8415, 8439, 8440, 8455, 8493, 8496, 8530, 8567, 8568, 8579, 8590, 8594, 8612, 8624, 8657, 8674, 8687, 8696, 8716, 8728, 8734, 8757, 8760, 8762, 8763, 8765, 8773, 8776, 8808, 8814, 8819, 8827, 8845, 8846, 8856, 8874, 8882, 8900, 8902, 8912, 8915, 8921, 8946, 8986, 8987] #illicit_idx[:200].tolist()\n",
    "explainer = Explainer(\n",
    "    model=GCN,\n",
    "    algorithm=GNNExplainer(epochs=200),\n",
    "    explanation_type='model',\n",
    "    node_mask_type='attributes',\n",
    "    edge_mask_type='object',\n",
    "    model_config=dict(\n",
    "        mode='multiclass_classification',\n",
    "        task_level='node',\n",
    "        return_type='log_probs',\n",
    "    )\n",
    ")\n",
    "explanation_correct = explainer(data.x, data.edge_index, index=c)\n",
    "explanation_wrong = explainer(data.x, data.edge_index, index=w)"
   ]
  },
  {
   "cell_type": "code",
   "execution_count": null,
   "metadata": {},
   "outputs": [],
   "source": [
    "fid_pm = fidelity(explainer, explanation_correct)\n",
    "print(fid_pm)\n",
    "explanation_correct.visualize_graph('pics/subgraph_correct.png', backend=\"networkx\")\n",
    "\n",
    "\n",
    "fid_pm = fidelity(explainer, explanation_wrong)\n",
    "print(fid_pm)\n",
    "explanation_wrong.visualize_graph('pics/subgraph_wrong.png', backend=\"networkx\")"
   ]
  },
  {
   "cell_type": "code",
   "execution_count": null,
   "metadata": {},
   "outputs": [],
   "source": [
    "import networkx as nx\n",
    "# add cycle find\n",
    "index  = 10\n",
    "edge_list = data.edge_index.cpu().detach().numpy()\n",
    "G = nx.from_edgelist(edge_list.T)\n",
    "ns = G.neighbors(c[index])\n",
    "nodes = []\n",
    "for n in ns:\n",
    "    nodes.append(n)\n",
    "nodes.append(c[index])\n",
    "cliques = nx.algorithms.clique.cliques_containing_node(G, nodes)\n",
    "\n",
    "D = nx.DiGraph()\n",
    "for clique in cliques.values():\n",
    "    for edge in clique:\n",
    "        D.add_edge(edge[0], edge[1])\n",
    "print(c[index], G.degree(c[index]))\n",
    "\n",
    "plt.figure(1, figsize=(20,20))\n",
    "nx.draw_networkx(D, node_size=400)\n",
    "plt.show()\n",
    "\n",
    "cycles = nx.find_cycle(G, c[index])\n"
   ]
  },
  {
   "cell_type": "markdown",
   "metadata": {},
   "source": []
  },
  {
   "cell_type": "code",
   "execution_count": null,
   "metadata": {},
   "outputs": [],
   "source": [
    "index  = 5\n",
    "G = nx.from_edgelist(edge_list.T)\n",
    "ns = G.neighbors(w[index])\n",
    "nodes = []\n",
    "for n in ns:\n",
    "    nodes.append(n)\n",
    "nodes.append(w[index])\n",
    "cliques = nx.algorithms.clique.cliques_containing_node(G, nodes)\n",
    "\n",
    "D = nx.DiGraph()\n",
    "for clique in cliques.values():\n",
    "    for edge in clique:\n",
    "        D.add_edge(edge[0], edge[1])\n",
    "\n",
    "print(w[index], G.degree(w[index]))\n",
    "plt.figure(1, figsize=(20,20))\n",
    "nx.draw_networkx(D, node_size=600)\n",
    "plt.show()"
   ]
  },
  {
   "cell_type": "code",
   "execution_count": null,
   "metadata": {},
   "outputs": [],
   "source": [
    "import numpy as np\n",
    "\n",
    "degree_correct = []\n",
    "degree_wrong = []\n",
    "for node in c:\n",
    "    try:\n",
    "        degree_correct.append(G.degree(node))\n",
    "    except:\n",
    "        continue\n",
    "for node in w:\n",
    "    try:\n",
    "        degree_wrong.append(G.degree(node))\n",
    "    except:\n",
    "        continue\n",
    "print(np.mean(degree_correct), np.std(degree_correct), len(degree_correct))\n",
    "print(np.mean(degree_wrong),np.std(degree_wrong), len(degree_wrong))\n",
    "\n",
    "normalized_correct = (np.array(degree_correct) - np.mean(degree_correct)) / np.std(degree_correct)\n",
    "normalized_wrong = (np.array(degree_wrong) - np.mean(degree_wrong)) / np.std(degree_wrong)\n",
    "\n",
    "plt.scatter(np.arange(len(degree_correct)), normalized_correct, label=\"Correctly classfied\")\n",
    "plt.scatter(np.arange(len(degree_wrong)), normalized_wrong, label=\"Wrongly Classfied\")\n",
    "plt.legend()\n",
    "plt.show()"
   ]
  },
  {
   "cell_type": "code",
   "execution_count": null,
   "metadata": {},
   "outputs": [],
   "source": [
    "from scipy.stats import mannwhitneyu, ttest_ind, wilcoxon, ks_2samp\n",
    "\n",
    "U1, p = mannwhitneyu(degree_correct, degree_wrong, method=\"auto\",  alternative=\"two-sided\")\n",
    "print(U1, p)\n",
    "\n",
    "res = ks_2samp(degree_correct, degree_wrong)\n",
    "print(res)"
   ]
  },
  {
   "cell_type": "code",
   "execution_count": 9,
   "metadata": {
    "ExecuteTime": {
     "end_time": "2023-06-27T16:55:50.719821700Z",
     "start_time": "2023-06-27T16:55:50.694423400Z"
    }
   },
   "outputs": [],
   "source": [
    "%run GAT_model.ipynb\n",
    "GAT = GraphAttentionNetwork(node_dim=data.x.shape[1], output_dim=2, hidden_dim=256, n_gnn_layers=3, heads=2, dropout_rate=0.1).to(device)"
   ]
  },
  {
   "cell_type": "code",
   "execution_count": 10,
   "metadata": {
    "ExecuteTime": {
     "end_time": "2023-06-27T16:56:29.274059100Z",
     "start_time": "2023-06-27T16:55:51.373308400Z"
    }
   },
   "outputs": [
    {
     "name": "stdout",
     "output_type": "stream",
     "text": [
      "Epoch:  10\n",
      "0 ({'precision': 0.7333333333333333, 'recall': 0.9166666666666666, 'f1-score': 0.8148148148148148, 'support': 60})\n",
      "1 ({'precision': 0.9456521739130435, 'recall': 0.8130841121495327, 'f1-score': 0.8743718592964823, 'support': 107})\n",
      "accuracy (0.8502994011976048)\n",
      "macro avg ({'precision': 0.8394927536231884, 'recall': 0.8648753894080996, 'f1-score': 0.8445933370556485, 'support': 167})\n",
      "weighted avg ({'precision': 0.8693699557406925, 'recall': 0.8502994011976048, 'f1-score': 0.8529741187641467, 'support': 167})\n",
      "############################\n",
      "Epoch:  20\n",
      "0 ({'precision': 0.64, 'recall': 0.8275862068965517, 'f1-score': 0.7218045112781956, 'support': 58})\n",
      "1 ({'precision': 0.9038461538461539, 'recall': 0.7768595041322314, 'f1-score': 0.8355555555555555, 'support': 121})\n",
      "accuracy (0.7932960893854749)\n",
      "macro avg ({'precision': 0.7719230769230769, 'recall': 0.8022228555143915, 'f1-score': 0.7786800334168755, 'support': 179})\n",
      "weighted avg ({'precision': 0.8183541039965622, 'recall': 0.7932960893854749, 'f1-score': 0.7986976752869136, 'support': 179})\n",
      "############################\n",
      "Epoch:  30\n",
      "0 ({'precision': 0.7101449275362319, 'recall': 0.8909090909090909, 'f1-score': 0.7903225806451614, 'support': 55})\n",
      "1 ({'precision': 0.9354838709677419, 'recall': 0.8130841121495327, 'f1-score': 0.8699999999999999, 'support': 107})\n",
      "accuracy (0.8395061728395061)\n",
      "macro avg ({'precision': 0.822814399251987, 'recall': 0.8519966015293118, 'f1-score': 0.8301612903225806, 'support': 162})\n",
      "weighted avg ({'precision': 0.8589799086916119, 'recall': 0.8395061728395061, 'f1-score': 0.8429490242931104, 'support': 162})\n",
      "############################\n",
      "Epoch:  40\n",
      "0 ({'precision': 0.734375, 'recall': 0.8545454545454545, 'f1-score': 0.7899159663865547, 'support': 55})\n",
      "1 ({'precision': 0.9333333333333333, 'recall': 0.8682170542635659, 'f1-score': 0.8995983935742972, 'support': 129})\n",
      "accuracy (0.8641304347826086)\n",
      "macro avg ({'precision': 0.8338541666666667, 'recall': 0.8613812544045102, 'f1-score': 0.8447571799804259, 'support': 184})\n",
      "weighted avg ({'precision': 0.8738620923913044, 'recall': 0.8641304347826086, 'f1-score': 0.8668128854475263, 'support': 184})\n",
      "############################\n",
      "Epoch:  50\n",
      "0 ({'precision': 0.7831325301204819, 'recall': 0.9420289855072463, 'f1-score': 0.8552631578947367, 'support': 69})\n",
      "1 ({'precision': 0.95, 'recall': 0.8085106382978723, 'f1-score': 0.8735632183908046, 'support': 94})\n",
      "accuracy (0.8650306748466258)\n",
      "macro avg ({'precision': 0.8665662650602409, 'recall': 0.8752698119025593, 'f1-score': 0.8644131881427707, 'support': 163})\n",
      "weighted avg ({'precision': 0.879362850173701, 'recall': 0.8650306748466258, 'f1-score': 0.8658165670151685, 'support': 163})\n",
      "############################\n"
     ]
    }
   ],
   "source": [
    "lr = 1e-3\n",
    "epochs = 200\n",
    "# weights for classes\n",
    "weight = torch.tensor([0.5, 0.5]).to(device)\n",
    "optimizer = torch.optim.Adam(GAT.parameters(), lr=lr)\n",
    "loss_fn = torch.nn.NLLLoss(weight)\n",
    "\n",
    "best_model = None\n",
    "best_valid_auc = 0\n",
    "best_result = None\n",
    "losses = []\n",
    "best_test_loss = 1e9\n",
    "\n",
    "for epoch in range(1, 1 + epochs):\n",
    "    # train with random split\n",
    "    train_losses = []\n",
    "test_losses = []\n",
    "\n",
    "for epoch in range(1, 1 + epochs):\n",
    "    # train with random split\n",
    "    loss = train(GAT, train_loader,train_mask, optimizer, loss_fn, device)\n",
    "    train_losses.append(loss)\n",
    "    result, test_loss = test(GAT, test_loader,loss_fn,test_mask, device)\n",
    "    test_losses.append(test_loss)\n",
    "    if test_loss < best_test_loss:\n",
    "        best_test_loss = test_loss\n",
    "        best_model = copy.deepcopy(GAT)\n",
    "    if epoch % 10 == 0:\n",
    "        print(\"Epoch: \", epoch)\n",
    "        for item, amount in result.items():\n",
    "                print(\"{} ({})\".format(item, amount))\n",
    "        print(\"############################\")\n",
    "state = {\"net\":best_model.state_dict(), \"optimizer\":optimizer.state_dict()}\n",
    "torch.save(state, \"gat.pt\")"
   ]
  },
  {
   "cell_type": "code",
   "execution_count": 11,
   "metadata": {
    "ExecuteTime": {
     "end_time": "2023-06-27T16:56:36.303417700Z",
     "start_time": "2023-06-27T16:56:35.983678500Z"
    }
   },
   "outputs": [
    {
     "data": {
      "text/plain": "<Figure size 640x480 with 1 Axes>",
      "image/png": "[encoded data removed]"
     },
     "metadata": {},
     "output_type": "display_data"
    }
   ],
   "source": [
    "plt.plot(train_losses, label=\"Train\")\n",
    "plt.plot(test_losses, label=\"Test\")\n",
    "plt.legend()\n",
    "plt.xlabel(\"Epoch\")\n",
    "plt.ylabel(\"Loss\")\n",
    "plt.show()"
   ]
  },
  {
   "cell_type": "code",
   "execution_count": null,
   "metadata": {},
   "outputs": [],
   "source": [
    "# class 1 lict\n",
    "# class 0 ilicit\n",
    "c, w = get_ilicit_predictions(GAT, loader, test_mask, device)\n",
    "c, w = c[0], w[0]\n",
    "print(c.shape, w.shape)"
   ]
  },
  {
   "cell_type": "code",
   "execution_count": null,
   "metadata": {},
   "outputs": [],
   "source": [
    "explainer = Explainer(\n",
    "    model=GAT,\n",
    "    algorithm=GNNExplainer(epochs=200),\n",
    "    explanation_type='model',\n",
    "    node_mask_type='attributes',\n",
    "    edge_mask_type='object',\n",
    "    model_config=dict(\n",
    "        mode='multiclass_classification',\n",
    "        task_level='node',\n",
    "        return_type='log_probs',\n",
    "    )\n",
    ")\n",
    "explanation_correct = explainer(data.x, data.edge_index, index=c)\n",
    "explanation_wrong = explainer(data.x, data.edge_index, index=w)"
   ]
  },
  {
   "cell_type": "code",
   "execution_count": null,
   "metadata": {},
   "outputs": [],
   "source": [
    "fid_pm = fidelity(explainer, explanation_correct)\n",
    "print(fid_pm)\n",
    "explanation_correct.visualize_graph('subgraph_correct.png', backend=\"networkx\")\n",
    "\n",
    "\n",
    "fid_pm = fidelity(explainer, explanation_wrong)\n",
    "print(fid_pm)\n",
    "explanation_wrong.visualize_graph('subgraph_wrong.png', backend=\"networkx\")"
   ]
  },
  {
   "cell_type": "code",
   "execution_count": null,
   "metadata": {},
   "outputs": [],
   "source": [
    "import numpy as np\n",
    "\n",
    "degree_correct = []\n",
    "degree_wrong = []\n",
    "for node in c:\n",
    "    try:\n",
    "        degree_correct.append(G.degree(node))\n",
    "    except:\n",
    "        continue\n",
    "for node in w:\n",
    "    try:\n",
    "        degree_wrong.append(G.degree(node))\n",
    "    except:\n",
    "        continue\n",
    "print(np.mean(degree_correct), np.std(degree_correct), len(degree_correct))\n",
    "print(np.mean(degree_wrong),np.std(degree_wrong), len(degree_wrong))\n",
    "\n",
    "normalized_correct = (np.array(degree_correct) - np.mean(degree_correct)) / np.std(degree_correct)\n",
    "normalized_wrong = (np.array(degree_wrong) - np.mean(degree_wrong)) / np.std(degree_wrong)\n",
    "\n",
    "plt.scatter(np.arange(len(degree_correct)), normalized_correct, label=\"Correctly classfied\")\n",
    "plt.scatter(np.arange(len(degree_wrong)), normalized_wrong, label=\"Wrongly Classfied\")\n",
    "plt.legend()\n",
    "plt.show()"
   ]
  },
  {
   "cell_type": "code",
   "execution_count": null,
   "metadata": {},
   "outputs": [],
   "source": [
    "from scipy.stats import mannwhitneyu, ks_2samp\n",
    "\n",
    "U1, p = mannwhitneyu(degree_correct, degree_wrong, method=\"auto\",  alternative=\"two-sided\")\n",
    "print(U1, p)\n",
    "\n",
    "res = ks_2samp(degree_correct, degree_wrong)\n",
    "print(res)"
   ]
  },
  {
   "cell_type": "code",
   "execution_count": null,
   "metadata": {},
   "outputs": [],
   "source": [
    "from sklearn.manifold import TSNE\n",
    "\n",
    "untrained_gat = GraphAttentionNetwork(node_dim=data[\"train\"][0].x.shape[1], output_dim=2, hidden_dim=256, n_gnn_layers=1, heads=2, dropout_rate=0.5).to(device)\n",
    "\n",
    "# Get embeddings\n",
    "h = untrained_gat(data[\"train\"][0])\n",
    "\n",
    "# Train TSNE\n",
    "tsne = TSNE(n_components=2, learning_rate='auto',\n",
    "            init='pca').fit_transform(h.detach())\n",
    "\n",
    "# Plot TSNE\n",
    "plt.figure(figsize=(10, 10))\n",
    "plt.axis('off')\n",
    "plt.scatter(tsne[:, 0], tsne[:, 1], s=50, c=data[\"train\"][0].y)\n",
    "plt.show()"
   ]
  },
  {
   "cell_type": "code",
   "execution_count": null,
   "metadata": {},
   "outputs": [],
   "source": [
    "# Get embeddings\n",
    "checkpoint = torch.load(\"gat.pt\", map_location=device)\n",
    "GAT = GraphAttentionNetwork(node_dim=data[\"train\"][0].x.shape[1], output_dim=2, hidden_dim=256, n_gnn_layers=1, heads=2, dropout_rate=0.5).to(device)\n",
    "GAT.load_state_dict(checkpoint[\"net\"])\n",
    "\n",
    "h = GAT(data[\"train\"][0])\n",
    "\n",
    "# Train TSNE\n",
    "tsne = TSNE(n_components=2, learning_rate='auto',\n",
    "            init='pca').fit_transform(h.detach())\n",
    "\n",
    "# Plot TSNE\n",
    "plt.figure(figsize=(10, 10))\n",
    "plt.axis('off')\n",
    "plt.scatter(tsne[:, 0], tsne[:, 1], s=50, c=data[\"train\"][0].y)\n",
    "plt.show()"
   ]
  },
  {
   "cell_type": "code",
   "execution_count": 12,
   "metadata": {
    "ExecuteTime": {
     "end_time": "2023-06-27T16:57:02.526834700Z",
     "start_time": "2023-06-27T16:57:02.430817800Z"
    }
   },
   "outputs": [],
   "source": [
    "%run FeatureAggregationModel.ipynb\n",
    "SFA = SpatialFeatureAggregator(node_dim=data.x.shape[1], edge_dim=1, output_dim=2, hidden_dim=256, n_gnn_layers=3, K=2, dropout_rate=0.1).to(device)"
   ]
  },
  {
   "cell_type": "code",
   "execution_count": 1,
   "metadata": {
    "ExecuteTime": {
     "end_time": "2023-06-27T17:09:48.587262400Z",
     "start_time": "2023-06-27T17:09:47.594815Z"
    }
   },
   "outputs": [
    {
     "ename": "NameError",
     "evalue": "name 'torch' is not defined",
     "output_type": "error",
     "traceback": [
      "\u001B[1;31m---------------------------------------------------------------------------\u001B[0m",
      "\u001B[1;31mNameError\u001B[0m                                 Traceback (most recent call last)",
      "Cell \u001B[1;32mIn[1], line 4\u001B[0m\n\u001B[0;32m      2\u001B[0m epochs \u001B[38;5;241m=\u001B[39m \u001B[38;5;241m200\u001B[39m\n\u001B[0;32m      3\u001B[0m \u001B[38;5;66;03m# weights for classes\u001B[39;00m\n\u001B[1;32m----> 4\u001B[0m weight \u001B[38;5;241m=\u001B[39m \u001B[43mtorch\u001B[49m\u001B[38;5;241m.\u001B[39mtensor([\u001B[38;5;241m0.5\u001B[39m, \u001B[38;5;241m0.5\u001B[39m])\u001B[38;5;241m.\u001B[39mto(device)\n\u001B[0;32m      5\u001B[0m optimizer \u001B[38;5;241m=\u001B[39m torch\u001B[38;5;241m.\u001B[39moptim\u001B[38;5;241m.\u001B[39mAdam(SFA\u001B[38;5;241m.\u001B[39mparameters(), lr\u001B[38;5;241m=\u001B[39mlr)\n\u001B[0;32m      6\u001B[0m loss_fn \u001B[38;5;241m=\u001B[39m torch\u001B[38;5;241m.\u001B[39mnn\u001B[38;5;241m.\u001B[39mNLLLoss(weight)\n",
      "\u001B[1;31mNameError\u001B[0m: name 'torch' is not defined"
     ]
    }
   ],
   "source": [
    "lr = 1e-3\n",
    "epochs = 200\n",
    "# weights for classes\n",
    "weight = torch.tensor([0.5, 0.5]).to(device)\n",
    "optimizer = torch.optim.Adam(SFA.parameters(), lr=lr)\n",
    "loss_fn = torch.nn.NLLLoss(weight)\n",
    "\n",
    "best_model = None\n",
    "best_valid_auc = 0\n",
    "best_result = None\n",
    "losses = []\n",
    "best_test_loss = 1e9\n",
    "\n",
    "for epoch in range(1, 1 + epochs):\n",
    "    # train with random split\n",
    "    train_losses = []\n",
    "test_losses = []\n",
    "\n",
    "for epoch in range(1, 1 + epochs):\n",
    "    # train with random split\n",
    "    loss = train(SFA, train_loader,train_mask, optimizer, loss_fn, device)\n",
    "    train_losses.append(loss)\n",
    "    result, test_loss = test(SFA, test_loader,loss_fn,test_mask, device)\n",
    "    test_losses.append(test_loss)\n",
    "    if test_loss < best_test_loss:\n",
    "        best_test_loss = test_loss\n",
    "        best_model = copy.deepcopy(SFA)\n",
    "    if epoch % 10 == 0:\n",
    "        print(\"Epoch: \", epoch)\n",
    "        for item, amount in result.items():\n",
    "                print(\"{} ({})\".format(item, amount))\n",
    "        print(\"############################\")\n",
    "state = {\"net\":best_model.state_dict(), \"optimizer\":optimizer.state_dict()}\n",
    "torch.save(state, \"SFA.pt\")"
   ]
  },
  {
   "cell_type": "code",
   "execution_count": 15,
   "metadata": {
    "ExecuteTime": {
     "end_time": "2023-06-27T16:58:34.321519400Z",
     "start_time": "2023-06-27T16:58:34.124316300Z"
    }
   },
   "outputs": [
    {
     "data": {
      "text/plain": "<Figure size 640x480 with 1 Axes>",
      "image/png": "[encoded data removed]"
     },
     "metadata": {},
     "output_type": "display_data"
    }
   ],
   "source": [
    "plt.plot(train_losses, label=\"Train\")\n",
    "plt.plot(test_losses, label=\"Test\")\n",
    "plt.legend()\n",
    "plt.xlabel(\"Epoch\")\n",
    "plt.ylabel(\"Loss\")\n",
    "plt.show()"
   ]
  },
  {
   "cell_type": "code",
   "execution_count": 16,
   "metadata": {
    "ExecuteTime": {
     "end_time": "2023-06-27T16:58:40.977370700Z",
     "start_time": "2023-06-27T16:58:40.556084800Z"
    }
   },
   "outputs": [
    {
     "name": "stderr",
     "output_type": "stream",
     "text": [
      "D:\\Python\\Lib\\site-packages\\torch\\nn\\modules\\rnn.py:71: UserWarning: dropout option adds dropout after all but last recurrent layer, so non-zero dropout expects num_layers greater than 1, but got dropout=0.1 and num_layers=1\n",
      "  warnings.warn(\"dropout option adds dropout after all but last \"\n"
     ]
    }
   ],
   "source": [
    "%run LSTM_GNN.ipynb\n",
    "TB = TemporalBoy(node_dim=data.x.shape[1], edge_dim=1, output_dim=2, hidden_dim=256, n_gnn_layers=3, K=2, dropout_rate=0.1).to(device)"
   ]
  },
  {
   "cell_type": "code",
   "execution_count": 17,
   "metadata": {
    "ExecuteTime": {
     "end_time": "2023-06-27T17:05:09.501129400Z",
     "start_time": "2023-06-27T16:58:54.747077200Z"
    }
   },
   "outputs": [
    {
     "name": "stdout",
     "output_type": "stream",
     "text": [
      "Epoch:  10\n",
      "0 ({'precision': 0.7209302325581395, 'recall': 0.5961538461538461, 'f1-score': 0.6526315789473683, 'support': 52})\n",
      "1 ({'precision': 0.8278688524590164, 'recall': 0.8938053097345132, 'f1-score': 0.8595744680851064, 'support': 113})\n",
      "accuracy (0.8)\n",
      "macro avg ({'precision': 0.7743995425085779, 'recall': 0.7449795779441797, 'f1-score': 0.7561030235162374, 'support': 165})\n",
      "weighted avg ({'precision': 0.794166984369043, 'recall': 0.8, 'f1-score': 0.7943561030235163, 'support': 165})\n",
      "############################\n",
      "Epoch:  20\n",
      "0 ({'precision': 0.8153846153846154, 'recall': 0.8412698412698413, 'f1-score': 0.8281250000000001, 'support': 63})\n",
      "1 ({'precision': 0.9130434782608695, 'recall': 0.8974358974358975, 'f1-score': 0.9051724137931034, 'support': 117})\n",
      "accuracy (0.8777777777777778)\n",
      "macro avg ({'precision': 0.8642140468227424, 'recall': 0.8693528693528694, 'f1-score': 0.8666487068965518, 'support': 180})\n",
      "weighted avg ({'precision': 0.8788628762541805, 'recall': 0.8777777777777778, 'f1-score': 0.8782058189655173, 'support': 180})\n",
      "############################\n",
      "Epoch:  30\n",
      "0 ({'precision': 0.8823529411764706, 'recall': 0.9036144578313253, 'f1-score': 0.8928571428571428, 'support': 83})\n",
      "1 ({'precision': 0.9036144578313253, 'recall': 0.8823529411764706, 'f1-score': 0.8928571428571428, 'support': 85})\n",
      "accuracy (0.8928571428571429)\n",
      "macro avg ({'precision': 0.892983699503898, 'recall': 0.892983699503898, 'f1-score': 0.8928571428571428, 'support': 168})\n",
      "weighted avg ({'precision': 0.893110256150653, 'recall': 0.8928571428571429, 'f1-score': 0.8928571428571429, 'support': 168})\n",
      "############################\n",
      "Epoch:  40\n",
      "0 ({'precision': 0.855072463768116, 'recall': 0.8939393939393939, 'f1-score': 0.8740740740740741, 'support': 66})\n",
      "1 ({'precision': 0.9278350515463918, 'recall': 0.9, 'f1-score': 0.9137055837563451, 'support': 100})\n",
      "accuracy (0.8975903614457831)\n",
      "macro avg ({'precision': 0.8914537576572539, 'recall': 0.896969696969697, 'f1-score': 0.8938898289152096, 'support': 166})\n",
      "weighted avg ({'precision': 0.8989053479718967, 'recall': 0.8975903614457831, 'f1-score': 0.897948477497129, 'support': 166})\n",
      "############################\n",
      "Epoch:  50\n",
      "0 ({'precision': 0.9272727272727272, 'recall': 0.9107142857142857, 'f1-score': 0.918918918918919, 'support': 56})\n",
      "1 ({'precision': 0.9586776859504132, 'recall': 0.9666666666666667, 'f1-score': 0.9626556016597511, 'support': 120})\n",
      "accuracy (0.9488636363636364)\n",
      "macro avg ({'precision': 0.9429752066115702, 'recall': 0.9386904761904762, 'f1-score': 0.940787260289335, 'support': 176})\n",
      "weighted avg ({'precision': 0.9486851990984223, 'recall': 0.9488636363636364, 'f1-score': 0.9487393844240318, 'support': 176})\n",
      "############################\n"
     ]
    }
   ],
   "source": [
    "lr = 1e-3\n",
    "epochs = 200\n",
    "# weights for classes\n",
    "weight = torch.tensor([0.5, 0.5]).to(device)\n",
    "optimizer = torch.optim.Adam(TB.parameters(), lr=lr)\n",
    "loss_fn = torch.nn.NLLLoss(weight)\n",
    "\n",
    "best_model = None\n",
    "best_valid_auc = 0\n",
    "best_result = None\n",
    "losses = []\n",
    "best_test_loss = 1e9\n",
    "\n",
    "for epoch in range(1, 1 + epochs):\n",
    "    # train with random split\n",
    "    train_losses = []\n",
    "test_losses = []\n",
    "\n",
    "for epoch in range(1, 1 + epochs):\n",
    "    # train with random split\n",
    "    loss = train(TB, train_loader,train_mask, optimizer, loss_fn, device)\n",
    "    train_losses.append(loss)\n",
    "    result, test_loss = test(TB, test_loader,loss_fn,test_mask, device)\n",
    "    test_losses.append(test_loss)\n",
    "    if test_loss < best_test_loss:\n",
    "        best_test_loss = test_loss\n",
    "        best_model = copy.deepcopy(TB)\n",
    "    if epoch % 10 == 0:\n",
    "        print(\"Epoch: \", epoch)\n",
    "        for item, amount in result.items():\n",
    "                print(\"{} ({})\".format(item, amount))\n",
    "        print(\"############################\")\n",
    "state = {\"net\":best_model.state_dict(), \"optimizer\":optimizer.state_dict()}\n",
    "torch.save(state, \"TB.pt\")"
   ]
  },
  {
   "cell_type": "code",
   "execution_count": null,
   "metadata": {},
   "outputs": [],
   "source": [
    "plt.plot(train_losses, label=\"Train\")\n",
    "plt.plot(test_losses, label=\"Test\")\n",
    "plt.legend()\n",
    "plt.xlabel(\"Epoch\")\n",
    "plt.ylabel(\"Loss\")\n",
    "plt.show()"
   ]
  },
  {
   "cell_type": "code",
   "execution_count": null,
   "metadata": {},
   "outputs": [],
   "source": []
  }
 ],
 "metadata": {
  "kernelspec": {
   "display_name": "Python 3 (ipykernel)",
   "language": "python",
   "name": "python3"
  },
  "language_info": {
   "codemirror_mode": {
    "name": "ipython",
    "version": 3
   },
   "file_extension": ".py",
   "mimetype": "text/x-python",
   "name": "python",
   "nbconvert_exporter": "python",
   "pygments_lexer": "ipython3",
   "version": "3.11.3"
  }
 },
 "nbformat": 4,
 "nbformat_minor": 1
}
