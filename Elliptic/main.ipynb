{
 "cells": [
  {
   "cell_type": "code",
   "execution_count": 1,
   "metadata": {
    "ExecuteTime": {
     "end_time": "2023-06-26T14:08:14.508114Z",
     "start_time": "2023-06-26T14:08:09.614280Z"
    }
   },
   "outputs": [],
   "source": [
    "import seaborn as sns\n",
    "sns.set(rc={'axes.facecolor': 'dimgrey', 'grid.color': 'lightgrey'})\n",
    "import pandas as pd\n",
    "import torch\n",
    "import copy\n",
    "import matplotlib.pyplot as plt\n",
    "from torch_geometric.loader import DataLoader\n",
    "from torch_geometric.explain.metric import fidelity\n",
    "from torch_geometric.explain import ModelConfig, ExplainerConfig, GNNExplainer\n",
    "from torch_geometric.explain import Explainer"
   ]
  },
  {
   "cell_type": "code",
   "execution_count": 2,
   "metadata": {
    "ExecuteTime": {
     "end_time": "2023-06-26T14:08:18.762164800Z",
     "start_time": "2023-06-26T14:08:14.499985400Z"
    }
   },
   "outputs": [],
   "source": [
    "%run utils.ipynb\n",
    "%run gcn_model.ipynb\n",
    "%run GAT_model.ipynb"
   ]
  },
  {
   "cell_type": "code",
   "execution_count": 3,
   "metadata": {
    "ExecuteTime": {
     "end_time": "2023-06-26T14:08:34.267387500Z",
     "start_time": "2023-06-26T14:08:18.746205700Z"
    }
   },
   "outputs": [],
   "source": [
    "# class 1 is illicit, 2 is licit, unknown is unknown\n",
    "labels = pd.read_csv(\"data/elliptic_bitcoin_dataset/elliptic_txs_classes.csv\")\n",
    "edges = pd.read_csv(\"data/elliptic_bitcoin_dataset/elliptic_txs_edgelist.csv\")\n",
    "nodes = pd.read_csv(\"data/elliptic_bitcoin_dataset/elliptic_txs_features.csv\", header=None)"
   ]
  },
  {
   "cell_type": "code",
   "execution_count": 4,
   "metadata": {
    "ExecuteTime": {
     "end_time": "2023-06-26T14:08:34.327807300Z",
     "start_time": "2023-06-26T14:08:34.268387Z"
    }
   },
   "outputs": [],
   "source": [
    "indexes = labels.index[labels[\"class\"] != \"unknown\"].tolist()\n",
    "new_labels = labels.replace(\"unknown\", \"3\")"
   ]
  },
  {
   "cell_type": "code",
   "execution_count": 5,
   "metadata": {
    "ExecuteTime": {
     "end_time": "2023-06-26T14:08:34.328803400Z",
     "start_time": "2023-06-26T14:08:34.320987100Z"
    }
   },
   "outputs": [],
   "source": [
    "device = 'cuda' if torch.cuda.is_available() else 'cpu'"
   ]
  },
  {
   "cell_type": "code",
   "execution_count": 6,
   "metadata": {
    "ExecuteTime": {
     "end_time": "2023-06-26T14:08:47.344324200Z",
     "start_time": "2023-06-26T14:08:34.332792300Z"
    }
   },
   "outputs": [
    {
     "data": {
      "text/plain": "Data(x=[203769, 165], edge_index=[2, 234355], y=[203769])"
     },
     "execution_count": 6,
     "metadata": {},
     "output_type": "execute_result"
    }
   ],
   "source": [
    "data, graph_info = create_graph(nodes, edges, new_labels, device)\n",
    "data"
   ]
  },
  {
   "cell_type": "code",
   "execution_count": 7,
   "metadata": {
    "ExecuteTime": {
     "end_time": "2023-06-26T14:08:52.165779300Z",
     "start_time": "2023-06-26T14:08:47.345321900Z"
    }
   },
   "outputs": [],
   "source": [
    "# generate test and train masks\n",
    "train_p = 0.8\n",
    "# indices of the illicit and licit transaction nodes\n",
    "illicit_idx = (data.y == 0).nonzero(as_tuple=True)[0]\n",
    "# Generate random permutation of indices\n",
    "illicit_train, illicit_test = torch.utils.data.random_split(illicit_idx, lengths=[train_p, (1-train_p)])\n",
    "\n",
    "# the same for the licit nodes\n",
    "licit_idx   = (data.y == 1).nonzero(as_tuple=True)[0]\n",
    "licit_train, licit_test = torch.utils.data.random_split(licit_idx, lengths=[train_p, (1-train_p)])\n",
    "# obtain the training and test \"masks\", i.e. indices for the train and test sets\n",
    "train_mask = torch.cat((torch.tensor(illicit_train), torch.tensor(licit_train)))\n",
    "test_mask  = torch.cat((torch.tensor(illicit_test), torch.tensor(licit_test)))"
   ]
  },
  {
   "cell_type": "code",
   "execution_count": 8,
   "metadata": {
    "ExecuteTime": {
     "end_time": "2023-06-26T14:08:52.172673Z",
     "start_time": "2023-06-26T14:08:52.167774500Z"
    }
   },
   "outputs": [],
   "source": [
    "loader = DataLoader([data], batch_size = 1)"
   ]
  },
  {
   "cell_type": "code",
   "execution_count": 35,
   "metadata": {
    "ExecuteTime": {
     "end_time": "2023-06-26T12:24:42.667059300Z",
     "start_time": "2023-06-26T12:24:42.640645700Z"
    }
   },
   "outputs": [],
   "source": [
    "GCN = GNN_Example(node_dim=data.x.shape[1], edge_dim=1, output_dim=2, hidden_dim=256, n_gnn_layers=3, K=2, dropout_rate=0.1).to(device)"
   ]
  },
  {
   "cell_type": "code",
   "execution_count": 36,
   "metadata": {
    "ExecuteTime": {
     "end_time": "2023-06-26T12:25:31.467776Z",
     "start_time": "2023-06-26T12:24:42.670050900Z"
    }
   },
   "outputs": [
    {
     "name": "stdout",
     "output_type": "stream",
     "text": [
      "Epoch:  10\n",
      "0 ({'precision': 0.8666666666666667, 'recall': 0.07158590308370044, 'f1-score': 0.13224821973550355, 'support': 908})\n",
      "1 ({'precision': 0.9087267215244694, 'recall': 0.9988099488277996, 'f1-score': 0.95164124950394, 'support': 8403})\n",
      "accuracy (0.9083879282569004)\n",
      "macro avg ({'precision': 0.8876966940955681, 'recall': 0.53519792595575, 'f1-score': 0.5419447346197218, 'support': 9311})\n",
      "weighted avg ({'precision': 0.9046250643651004, 'recall': 0.9083879282569004, 'f1-score': 0.871734808624363, 'support': 9311})\n",
      "############################\n",
      "Epoch:  20\n",
      "0 ({'precision': 0.8250728862973761, 'recall': 0.6233480176211453, 'f1-score': 0.7101631116687578, 'support': 908})\n",
      "1 ({'precision': 0.9603478260869566, 'recall': 0.9857193859335951, 'f1-score': 0.9728682170542636, 'support': 8403})\n",
      "accuracy (0.9503812694662227)\n",
      "macro avg ({'precision': 0.8927103561921663, 'recall': 0.8045337017773702, 'f1-score': 0.8415156643615107, 'support': 9311})\n",
      "weighted avg ({'precision': 0.947155940647268, 'recall': 0.9503812694662227, 'f1-score': 0.9472494612074116, 'support': 9311})\n",
      "############################\n",
      "Epoch:  30\n",
      "0 ({'precision': 0.8673621460506706, 'recall': 0.6409691629955947, 'f1-score': 0.7371754274857505, 'support': 908})\n",
      "1 ({'precision': 0.9622685185185185, 'recall': 0.9894085445674164, 'f1-score': 0.9756498269084082, 'support': 8403})\n",
      "accuracy (0.9554290623993127)\n",
      "macro avg ({'precision': 0.9148153322845946, 'recall': 0.8151888537815055, 'f1-score': 0.8564126271970793, 'support': 9311})\n",
      "weighted avg ({'precision': 0.9530133379578047, 'recall': 0.9554290623993127, 'f1-score': 0.9523940268143504, 'support': 9311})\n",
      "############################\n",
      "Epoch:  40\n",
      "0 ({'precision': 0.8695054945054945, 'recall': 0.697136563876652, 'f1-score': 0.773838630806846, 'support': 908})\n",
      "1 ({'precision': 0.9679599207736223, 'recall': 0.9886945138640961, 'f1-score': 0.9782173554692098, 'support': 8403})\n",
      "accuracy (0.9602620556331222)\n",
      "macro avg ({'precision': 0.9187327076395584, 'recall': 0.8429155388703741, 'f1-score': 0.8760279931380279, 'support': 9311})\n",
      "weighted avg ({'precision': 0.9583587373291523, 'recall': 0.9602620556331222, 'f1-score': 0.9582865336462664, 'support': 9311})\n",
      "############################\n",
      "Epoch:  50\n",
      "0 ({'precision': 0.8842105263157894, 'recall': 0.7400881057268722, 'f1-score': 0.8057553956834532, 'support': 908})\n",
      "1 ({'precision': 0.9724008887849375, 'recall': 0.9895275496846364, 'f1-score': 0.9808894656128347, 'support': 8403})\n",
      "accuracy (0.9652024487165718)\n",
      "macro avg ({'precision': 0.9283057075503635, 'recall': 0.8648078277057543, 'f1-score': 0.893322430648144, 'support': 9311})\n",
      "weighted avg ({'precision': 0.9638006472295743, 'recall': 0.9652024487165718, 'f1-score': 0.9638105551310522, 'support': 9311})\n",
      "############################\n"
     ]
    }
   ],
   "source": [
    "lr = 1e-3\n",
    "epochs = 50\n",
    "# weights for classes\n",
    "weight = torch.tensor([0.5, 0.5]).to(device)\n",
    "optimizer = torch.optim.Adam(GCN.parameters(), lr=lr)\n",
    "loss_fn = torch.nn.NLLLoss(weight)\n",
    "\n",
    "best_model = None\n",
    "best_test_loss = 1e10\n",
    "best_result = None\n",
    "train_losses = []\n",
    "test_losses = []\n",
    "\n",
    "for epoch in range(1, 1 + epochs):\n",
    "    # train with random split\n",
    "    loss = train(GCN, loader,train_mask, optimizer, loss_fn, device)\n",
    "    train_losses.append(loss)\n",
    "    result, test_loss = test(GCN, loader,loss_fn,test_mask, device)\n",
    "    test_losses.append(test_loss)\n",
    "    if test_loss < best_test_loss:\n",
    "        best_test_loss = test_loss\n",
    "        best_model = copy.deepcopy(GCN)\n",
    "    if epoch % 10 == 0:\n",
    "        print(\"Epoch: \", epoch)\n",
    "        for item, amount in result.items():\n",
    "                print(\"{} ({})\".format(item, amount))\n",
    "        print(\"############################\")\n",
    "state = {\"net\":best_model.state_dict(), \"optimizer\":optimizer.state_dict()}\n",
    "torch.save(state, \"gcn.pt\")"
   ]
  },
  {
   "cell_type": "code",
   "execution_count": 37,
   "metadata": {
    "ExecuteTime": {
     "end_time": "2023-06-26T12:25:31.712902Z",
     "start_time": "2023-06-26T12:25:31.485692100Z"
    }
   },
   "outputs": [
    {
     "data": {
      "text/plain": "<Figure size 640x480 with 1 Axes>",
      "image/png": "[encoded data removed]"
     },
     "metadata": {},
     "output_type": "display_data"
    }
   ],
   "source": [
    "plt.plot(train_losses, label=\"Train\")\n",
    "plt.plot(test_losses, label=\"Test\")\n",
    "plt.legend()\n",
    "plt.xlabel(\"Epoch\")\n",
    "plt.ylabel(\"Loss\")\n",
    "plt.show()"
   ]
  },
  {
   "cell_type": "code",
   "execution_count": 38,
   "metadata": {
    "ExecuteTime": {
     "end_time": "2023-06-26T12:25:32.018989200Z",
     "start_time": "2023-06-26T12:25:31.716854800Z"
    }
   },
   "outputs": [
    {
     "name": "stdout",
     "output_type": "stream",
     "text": [
      "(672,) (236,)\n"
     ]
    }
   ],
   "source": [
    "# class 1 lict\n",
    "# class 0 ilicit\n",
    "c, w = get_ilicit_predictions(GCN, loader, test_mask, device)\n",
    "c, w = c[0], w[0]\n",
    "print(c.shape, w.shape)"
   ]
  },
  {
   "cell_type": "code",
   "execution_count": 39,
   "metadata": {
    "ExecuteTime": {
     "end_time": "2023-06-26T12:25:32.932942800Z",
     "start_time": "2023-06-26T12:25:32.023977900Z"
    }
   },
   "outputs": [
    {
     "ename": "OutOfMemoryError",
     "evalue": "CUDA out of memory. Tried to allocate 230.00 MiB (GPU 0; 4.00 GiB total capacity; 3.05 GiB already allocated; 0 bytes free; 3.48 GiB reserved in total by PyTorch) If reserved memory is >> allocated memory try setting max_split_size_mb to avoid fragmentation.  See documentation for Memory Management and PYTORCH_CUDA_ALLOC_CONF",
     "output_type": "error",
     "traceback": [
      "\u001B[1;31m---------------------------------------------------------------------------\u001B[0m",
      "\u001B[1;31mOutOfMemoryError\u001B[0m                          Traceback (most recent call last)",
      "Cell \u001B[1;32mIn[39], line 15\u001B[0m\n\u001B[0;32m      1\u001B[0m \u001B[38;5;66;03m# node_index =[8440, 8716, 8728, 8734, 8757, 8760, 8762, 8763, 8765, 8773, 8776, 8808]\u001B[39;00m\n\u001B[0;32m      2\u001B[0m \u001B[38;5;66;03m#[8041, 8107, 8157, 8170, 8368, 8394, 8415, 8439, 8440, 8455, 8493, 8496, 8530, 8567, 8568, 8579, 8590, 8594, 8612, 8624, 8657, 8674, 8687, 8696, 8716, 8728, 8734, 8757, 8760, 8762, 8763, 8765, 8773, 8776, 8808, 8814, 8819, 8827, 8845, 8846, 8856, 8874, 8882, 8900, 8902, 8912, 8915, 8921, 8946, 8986, 8987] #illicit_idx[:200].tolist()\u001B[39;00m\n\u001B[0;32m      3\u001B[0m explainer \u001B[38;5;241m=\u001B[39m Explainer(\n\u001B[0;32m      4\u001B[0m     model\u001B[38;5;241m=\u001B[39mGCN,\n\u001B[0;32m      5\u001B[0m     algorithm\u001B[38;5;241m=\u001B[39mGNNExplainer(epochs\u001B[38;5;241m=\u001B[39m\u001B[38;5;241m200\u001B[39m),\n\u001B[1;32m   (...)\u001B[0m\n\u001B[0;32m     13\u001B[0m     )\n\u001B[0;32m     14\u001B[0m )\n\u001B[1;32m---> 15\u001B[0m explanation_correct \u001B[38;5;241m=\u001B[39m \u001B[43mexplainer\u001B[49m\u001B[43m(\u001B[49m\u001B[43mdata\u001B[49m\u001B[38;5;241;43m.\u001B[39;49m\u001B[43mx\u001B[49m\u001B[43m,\u001B[49m\u001B[43m \u001B[49m\u001B[43mdata\u001B[49m\u001B[38;5;241;43m.\u001B[39;49m\u001B[43medge_index\u001B[49m\u001B[43m,\u001B[49m\u001B[43m \u001B[49m\u001B[43mindex\u001B[49m\u001B[38;5;241;43m=\u001B[39;49m\u001B[43mc\u001B[49m\u001B[43m)\u001B[49m\n\u001B[0;32m     16\u001B[0m explanation_wrong \u001B[38;5;241m=\u001B[39m explainer(data\u001B[38;5;241m.\u001B[39mx, data\u001B[38;5;241m.\u001B[39medge_index, index\u001B[38;5;241m=\u001B[39mw)\n",
      "File \u001B[1;32mD:\\Python\\Lib\\site-packages\\torch_geometric\\explain\\explainer.py:198\u001B[0m, in \u001B[0;36mExplainer.__call__\u001B[1;34m(self, x, edge_index, target, index, **kwargs)\u001B[0m\n\u001B[0;32m    195\u001B[0m training \u001B[38;5;241m=\u001B[39m \u001B[38;5;28mself\u001B[39m\u001B[38;5;241m.\u001B[39mmodel\u001B[38;5;241m.\u001B[39mtraining\n\u001B[0;32m    196\u001B[0m \u001B[38;5;28mself\u001B[39m\u001B[38;5;241m.\u001B[39mmodel\u001B[38;5;241m.\u001B[39meval()\n\u001B[1;32m--> 198\u001B[0m explanation \u001B[38;5;241m=\u001B[39m \u001B[38;5;28;43mself\u001B[39;49m\u001B[38;5;241;43m.\u001B[39;49m\u001B[43malgorithm\u001B[49m\u001B[43m(\u001B[49m\n\u001B[0;32m    199\u001B[0m \u001B[43m    \u001B[49m\u001B[38;5;28;43mself\u001B[39;49m\u001B[38;5;241;43m.\u001B[39;49m\u001B[43mmodel\u001B[49m\u001B[43m,\u001B[49m\n\u001B[0;32m    200\u001B[0m \u001B[43m    \u001B[49m\u001B[43mx\u001B[49m\u001B[43m,\u001B[49m\n\u001B[0;32m    201\u001B[0m \u001B[43m    \u001B[49m\u001B[43medge_index\u001B[49m\u001B[43m,\u001B[49m\n\u001B[0;32m    202\u001B[0m \u001B[43m    \u001B[49m\u001B[43mtarget\u001B[49m\u001B[38;5;241;43m=\u001B[39;49m\u001B[43mtarget\u001B[49m\u001B[43m,\u001B[49m\n\u001B[0;32m    203\u001B[0m \u001B[43m    \u001B[49m\u001B[43mindex\u001B[49m\u001B[38;5;241;43m=\u001B[39;49m\u001B[43mindex\u001B[49m\u001B[43m,\u001B[49m\n\u001B[0;32m    204\u001B[0m \u001B[43m    \u001B[49m\u001B[38;5;241;43m*\u001B[39;49m\u001B[38;5;241;43m*\u001B[39;49m\u001B[43mkwargs\u001B[49m\u001B[43m,\u001B[49m\n\u001B[0;32m    205\u001B[0m \u001B[43m\u001B[49m\u001B[43m)\u001B[49m\n\u001B[0;32m    207\u001B[0m \u001B[38;5;28mself\u001B[39m\u001B[38;5;241m.\u001B[39mmodel\u001B[38;5;241m.\u001B[39mtrain(training)\n\u001B[0;32m    209\u001B[0m \u001B[38;5;66;03m# Add explainer objectives to the `Explanation` object:\u001B[39;00m\n",
      "File \u001B[1;32mD:\\Python\\Lib\\site-packages\\torch\\nn\\modules\\module.py:1501\u001B[0m, in \u001B[0;36mModule._call_impl\u001B[1;34m(self, *args, **kwargs)\u001B[0m\n\u001B[0;32m   1496\u001B[0m \u001B[38;5;66;03m# If we don't have any hooks, we want to skip the rest of the logic in\u001B[39;00m\n\u001B[0;32m   1497\u001B[0m \u001B[38;5;66;03m# this function, and just call forward.\u001B[39;00m\n\u001B[0;32m   1498\u001B[0m \u001B[38;5;28;01mif\u001B[39;00m \u001B[38;5;129;01mnot\u001B[39;00m (\u001B[38;5;28mself\u001B[39m\u001B[38;5;241m.\u001B[39m_backward_hooks \u001B[38;5;129;01mor\u001B[39;00m \u001B[38;5;28mself\u001B[39m\u001B[38;5;241m.\u001B[39m_backward_pre_hooks \u001B[38;5;129;01mor\u001B[39;00m \u001B[38;5;28mself\u001B[39m\u001B[38;5;241m.\u001B[39m_forward_hooks \u001B[38;5;129;01mor\u001B[39;00m \u001B[38;5;28mself\u001B[39m\u001B[38;5;241m.\u001B[39m_forward_pre_hooks\n\u001B[0;32m   1499\u001B[0m         \u001B[38;5;129;01mor\u001B[39;00m _global_backward_pre_hooks \u001B[38;5;129;01mor\u001B[39;00m _global_backward_hooks\n\u001B[0;32m   1500\u001B[0m         \u001B[38;5;129;01mor\u001B[39;00m _global_forward_hooks \u001B[38;5;129;01mor\u001B[39;00m _global_forward_pre_hooks):\n\u001B[1;32m-> 1501\u001B[0m     \u001B[38;5;28;01mreturn\u001B[39;00m \u001B[43mforward_call\u001B[49m\u001B[43m(\u001B[49m\u001B[38;5;241;43m*\u001B[39;49m\u001B[43margs\u001B[49m\u001B[43m,\u001B[49m\u001B[43m \u001B[49m\u001B[38;5;241;43m*\u001B[39;49m\u001B[38;5;241;43m*\u001B[39;49m\u001B[43mkwargs\u001B[49m\u001B[43m)\u001B[49m\n\u001B[0;32m   1502\u001B[0m \u001B[38;5;66;03m# Do not call functions when jit is used\u001B[39;00m\n\u001B[0;32m   1503\u001B[0m full_backward_hooks, non_full_backward_hooks \u001B[38;5;241m=\u001B[39m [], []\n",
      "File \u001B[1;32mD:\\Python\\Lib\\site-packages\\torch_geometric\\explain\\algorithm\\gnn_explainer.py:75\u001B[0m, in \u001B[0;36mGNNExplainer.forward\u001B[1;34m(self, model, x, edge_index, target, index, **kwargs)\u001B[0m\n\u001B[0;32m     71\u001B[0m \u001B[38;5;28;01mif\u001B[39;00m \u001B[38;5;28misinstance\u001B[39m(x, \u001B[38;5;28mdict\u001B[39m) \u001B[38;5;129;01mor\u001B[39;00m \u001B[38;5;28misinstance\u001B[39m(edge_index, \u001B[38;5;28mdict\u001B[39m):\n\u001B[0;32m     72\u001B[0m     \u001B[38;5;28;01mraise\u001B[39;00m \u001B[38;5;167;01mValueError\u001B[39;00m(\u001B[38;5;124mf\u001B[39m\u001B[38;5;124m\"\u001B[39m\u001B[38;5;124mHeterogeneous graphs not yet supported in \u001B[39m\u001B[38;5;124m\"\u001B[39m\n\u001B[0;32m     73\u001B[0m                      \u001B[38;5;124mf\u001B[39m\u001B[38;5;124m\"\u001B[39m\u001B[38;5;124m'\u001B[39m\u001B[38;5;132;01m{\u001B[39;00m\u001B[38;5;28mself\u001B[39m\u001B[38;5;241m.\u001B[39m\u001B[38;5;18m__class__\u001B[39m\u001B[38;5;241m.\u001B[39m\u001B[38;5;18m__name__\u001B[39m\u001B[38;5;132;01m}\u001B[39;00m\u001B[38;5;124m'\u001B[39m\u001B[38;5;124m\"\u001B[39m)\n\u001B[1;32m---> 75\u001B[0m \u001B[38;5;28;43mself\u001B[39;49m\u001B[38;5;241;43m.\u001B[39;49m\u001B[43m_train\u001B[49m\u001B[43m(\u001B[49m\u001B[43mmodel\u001B[49m\u001B[43m,\u001B[49m\u001B[43m \u001B[49m\u001B[43mx\u001B[49m\u001B[43m,\u001B[49m\u001B[43m \u001B[49m\u001B[43medge_index\u001B[49m\u001B[43m,\u001B[49m\u001B[43m \u001B[49m\u001B[43mtarget\u001B[49m\u001B[38;5;241;43m=\u001B[39;49m\u001B[43mtarget\u001B[49m\u001B[43m,\u001B[49m\u001B[43m \u001B[49m\u001B[43mindex\u001B[49m\u001B[38;5;241;43m=\u001B[39;49m\u001B[43mindex\u001B[49m\u001B[43m,\u001B[49m\u001B[43m \u001B[49m\u001B[38;5;241;43m*\u001B[39;49m\u001B[38;5;241;43m*\u001B[39;49m\u001B[43mkwargs\u001B[49m\u001B[43m)\u001B[49m\n\u001B[0;32m     77\u001B[0m node_mask \u001B[38;5;241m=\u001B[39m \u001B[38;5;28mself\u001B[39m\u001B[38;5;241m.\u001B[39m_post_process_mask(\n\u001B[0;32m     78\u001B[0m     \u001B[38;5;28mself\u001B[39m\u001B[38;5;241m.\u001B[39mnode_mask,\n\u001B[0;32m     79\u001B[0m     \u001B[38;5;28mself\u001B[39m\u001B[38;5;241m.\u001B[39mhard_node_mask,\n\u001B[0;32m     80\u001B[0m     apply_sigmoid\u001B[38;5;241m=\u001B[39m\u001B[38;5;28;01mTrue\u001B[39;00m,\n\u001B[0;32m     81\u001B[0m )\n\u001B[0;32m     82\u001B[0m edge_mask \u001B[38;5;241m=\u001B[39m \u001B[38;5;28mself\u001B[39m\u001B[38;5;241m.\u001B[39m_post_process_mask(\n\u001B[0;32m     83\u001B[0m     \u001B[38;5;28mself\u001B[39m\u001B[38;5;241m.\u001B[39medge_mask,\n\u001B[0;32m     84\u001B[0m     \u001B[38;5;28mself\u001B[39m\u001B[38;5;241m.\u001B[39mhard_edge_mask,\n\u001B[0;32m     85\u001B[0m     apply_sigmoid\u001B[38;5;241m=\u001B[39m\u001B[38;5;28;01mTrue\u001B[39;00m,\n\u001B[0;32m     86\u001B[0m )\n",
      "File \u001B[1;32mD:\\Python\\Lib\\site-packages\\torch_geometric\\explain\\algorithm\\gnn_explainer.py:120\u001B[0m, in \u001B[0;36mGNNExplainer._train\u001B[1;34m(self, model, x, edge_index, target, index, **kwargs)\u001B[0m\n\u001B[0;32m    117\u001B[0m optimizer\u001B[38;5;241m.\u001B[39mzero_grad()\n\u001B[0;32m    119\u001B[0m h \u001B[38;5;241m=\u001B[39m x \u001B[38;5;28;01mif\u001B[39;00m \u001B[38;5;28mself\u001B[39m\u001B[38;5;241m.\u001B[39mnode_mask \u001B[38;5;129;01mis\u001B[39;00m \u001B[38;5;28;01mNone\u001B[39;00m \u001B[38;5;28;01melse\u001B[39;00m x \u001B[38;5;241m*\u001B[39m \u001B[38;5;28mself\u001B[39m\u001B[38;5;241m.\u001B[39mnode_mask\u001B[38;5;241m.\u001B[39msigmoid()\n\u001B[1;32m--> 120\u001B[0m y_hat, y \u001B[38;5;241m=\u001B[39m \u001B[43mmodel\u001B[49m\u001B[43m(\u001B[49m\u001B[43mh\u001B[49m\u001B[43m,\u001B[49m\u001B[43m \u001B[49m\u001B[43medge_index\u001B[49m\u001B[43m,\u001B[49m\u001B[43m \u001B[49m\u001B[38;5;241;43m*\u001B[39;49m\u001B[38;5;241;43m*\u001B[39;49m\u001B[43mkwargs\u001B[49m\u001B[43m)\u001B[49m, target\n\u001B[0;32m    122\u001B[0m \u001B[38;5;28;01mif\u001B[39;00m index \u001B[38;5;129;01mis\u001B[39;00m \u001B[38;5;129;01mnot\u001B[39;00m \u001B[38;5;28;01mNone\u001B[39;00m:\n\u001B[0;32m    123\u001B[0m     y_hat, y \u001B[38;5;241m=\u001B[39m y_hat[index], y[index]\n",
      "File \u001B[1;32mD:\\Python\\Lib\\site-packages\\torch\\nn\\modules\\module.py:1501\u001B[0m, in \u001B[0;36mModule._call_impl\u001B[1;34m(self, *args, **kwargs)\u001B[0m\n\u001B[0;32m   1496\u001B[0m \u001B[38;5;66;03m# If we don't have any hooks, we want to skip the rest of the logic in\u001B[39;00m\n\u001B[0;32m   1497\u001B[0m \u001B[38;5;66;03m# this function, and just call forward.\u001B[39;00m\n\u001B[0;32m   1498\u001B[0m \u001B[38;5;28;01mif\u001B[39;00m \u001B[38;5;129;01mnot\u001B[39;00m (\u001B[38;5;28mself\u001B[39m\u001B[38;5;241m.\u001B[39m_backward_hooks \u001B[38;5;129;01mor\u001B[39;00m \u001B[38;5;28mself\u001B[39m\u001B[38;5;241m.\u001B[39m_backward_pre_hooks \u001B[38;5;129;01mor\u001B[39;00m \u001B[38;5;28mself\u001B[39m\u001B[38;5;241m.\u001B[39m_forward_hooks \u001B[38;5;129;01mor\u001B[39;00m \u001B[38;5;28mself\u001B[39m\u001B[38;5;241m.\u001B[39m_forward_pre_hooks\n\u001B[0;32m   1499\u001B[0m         \u001B[38;5;129;01mor\u001B[39;00m _global_backward_pre_hooks \u001B[38;5;129;01mor\u001B[39;00m _global_backward_hooks\n\u001B[0;32m   1500\u001B[0m         \u001B[38;5;129;01mor\u001B[39;00m _global_forward_hooks \u001B[38;5;129;01mor\u001B[39;00m _global_forward_pre_hooks):\n\u001B[1;32m-> 1501\u001B[0m     \u001B[38;5;28;01mreturn\u001B[39;00m \u001B[43mforward_call\u001B[49m\u001B[43m(\u001B[49m\u001B[38;5;241;43m*\u001B[39;49m\u001B[43margs\u001B[49m\u001B[43m,\u001B[49m\u001B[43m \u001B[49m\u001B[38;5;241;43m*\u001B[39;49m\u001B[38;5;241;43m*\u001B[39;49m\u001B[43mkwargs\u001B[49m\u001B[43m)\u001B[49m\n\u001B[0;32m   1502\u001B[0m \u001B[38;5;66;03m# Do not call functions when jit is used\u001B[39;00m\n\u001B[0;32m   1503\u001B[0m full_backward_hooks, non_full_backward_hooks \u001B[38;5;241m=\u001B[39m [], []\n",
      "File \u001B[1;32m~\\AppData\\Local\\Temp\\ipykernel_9404\\1503145626.py:61\u001B[0m, in \u001B[0;36mGNN_Example.forward\u001B[1;34m(self, x, edge_index)\u001B[0m\n\u001B[0;32m     58\u001B[0m     x \u001B[38;5;241m=\u001B[39m \u001B[38;5;28mself\u001B[39m\u001B[38;5;241m.\u001B[39mdropout(x)\n\u001B[0;32m     59\u001B[0m     x \u001B[38;5;241m=\u001B[39m \u001B[38;5;28mself\u001B[39m\u001B[38;5;241m.\u001B[39mrelu(x)\n\u001B[1;32m---> 61\u001B[0m x \u001B[38;5;241m=\u001B[39m \u001B[38;5;28;43mself\u001B[39;49m\u001B[38;5;241;43m.\u001B[39;49m\u001B[43mconvs\u001B[49m\u001B[43m[\u001B[49m\u001B[38;5;241;43m-\u001B[39;49m\u001B[38;5;241;43m1\u001B[39;49m\u001B[43m]\u001B[49m\u001B[43m(\u001B[49m\u001B[43mx\u001B[49m\u001B[38;5;241;43m=\u001B[39;49m\u001B[43mx\u001B[49m\u001B[43m,\u001B[49m\u001B[43m \u001B[49m\u001B[43medge_index\u001B[49m\u001B[38;5;241;43m=\u001B[39;49m\u001B[43medge_index\u001B[49m\u001B[43m,\u001B[49m\u001B[43m)\u001B[49m\u001B[38;5;66;03m# edge_weight=edge_attr)\u001B[39;00m\n\u001B[0;32m     62\u001B[0m x \u001B[38;5;241m=\u001B[39m \u001B[38;5;28mself\u001B[39m\u001B[38;5;241m.\u001B[39msoftmax(x)\n\u001B[0;32m     63\u001B[0m \u001B[38;5;28;01mreturn\u001B[39;00m x\n",
      "File \u001B[1;32mD:\\Python\\Lib\\site-packages\\torch\\nn\\modules\\module.py:1501\u001B[0m, in \u001B[0;36mModule._call_impl\u001B[1;34m(self, *args, **kwargs)\u001B[0m\n\u001B[0;32m   1496\u001B[0m \u001B[38;5;66;03m# If we don't have any hooks, we want to skip the rest of the logic in\u001B[39;00m\n\u001B[0;32m   1497\u001B[0m \u001B[38;5;66;03m# this function, and just call forward.\u001B[39;00m\n\u001B[0;32m   1498\u001B[0m \u001B[38;5;28;01mif\u001B[39;00m \u001B[38;5;129;01mnot\u001B[39;00m (\u001B[38;5;28mself\u001B[39m\u001B[38;5;241m.\u001B[39m_backward_hooks \u001B[38;5;129;01mor\u001B[39;00m \u001B[38;5;28mself\u001B[39m\u001B[38;5;241m.\u001B[39m_backward_pre_hooks \u001B[38;5;129;01mor\u001B[39;00m \u001B[38;5;28mself\u001B[39m\u001B[38;5;241m.\u001B[39m_forward_hooks \u001B[38;5;129;01mor\u001B[39;00m \u001B[38;5;28mself\u001B[39m\u001B[38;5;241m.\u001B[39m_forward_pre_hooks\n\u001B[0;32m   1499\u001B[0m         \u001B[38;5;129;01mor\u001B[39;00m _global_backward_pre_hooks \u001B[38;5;129;01mor\u001B[39;00m _global_backward_hooks\n\u001B[0;32m   1500\u001B[0m         \u001B[38;5;129;01mor\u001B[39;00m _global_forward_hooks \u001B[38;5;129;01mor\u001B[39;00m _global_forward_pre_hooks):\n\u001B[1;32m-> 1501\u001B[0m     \u001B[38;5;28;01mreturn\u001B[39;00m \u001B[43mforward_call\u001B[49m\u001B[43m(\u001B[49m\u001B[38;5;241;43m*\u001B[39;49m\u001B[43margs\u001B[49m\u001B[43m,\u001B[49m\u001B[43m \u001B[49m\u001B[38;5;241;43m*\u001B[39;49m\u001B[38;5;241;43m*\u001B[39;49m\u001B[43mkwargs\u001B[49m\u001B[43m)\u001B[49m\n\u001B[0;32m   1502\u001B[0m \u001B[38;5;66;03m# Do not call functions when jit is used\u001B[39;00m\n\u001B[0;32m   1503\u001B[0m full_backward_hooks, non_full_backward_hooks \u001B[38;5;241m=\u001B[39m [], []\n",
      "File \u001B[1;32mD:\\Python\\Lib\\site-packages\\torch_geometric\\nn\\conv\\tag_conv.py:90\u001B[0m, in \u001B[0;36mTAGConv.forward\u001B[1;34m(self, x, edge_index, edge_weight)\u001B[0m\n\u001B[0;32m     87\u001B[0m out \u001B[38;5;241m=\u001B[39m \u001B[38;5;28mself\u001B[39m\u001B[38;5;241m.\u001B[39mlins[\u001B[38;5;241m0\u001B[39m](x)\n\u001B[0;32m     88\u001B[0m \u001B[38;5;28;01mfor\u001B[39;00m lin \u001B[38;5;129;01min\u001B[39;00m \u001B[38;5;28mself\u001B[39m\u001B[38;5;241m.\u001B[39mlins[\u001B[38;5;241m1\u001B[39m:]:\n\u001B[0;32m     89\u001B[0m     \u001B[38;5;66;03m# propagate_type: (x: Tensor, edge_weight: OptTensor)\u001B[39;00m\n\u001B[1;32m---> 90\u001B[0m     x \u001B[38;5;241m=\u001B[39m \u001B[38;5;28;43mself\u001B[39;49m\u001B[38;5;241;43m.\u001B[39;49m\u001B[43mpropagate\u001B[49m\u001B[43m(\u001B[49m\u001B[43medge_index\u001B[49m\u001B[43m,\u001B[49m\u001B[43m \u001B[49m\u001B[43mx\u001B[49m\u001B[38;5;241;43m=\u001B[39;49m\u001B[43mx\u001B[49m\u001B[43m,\u001B[49m\u001B[43m \u001B[49m\u001B[43medge_weight\u001B[49m\u001B[38;5;241;43m=\u001B[39;49m\u001B[43medge_weight\u001B[49m\u001B[43m,\u001B[49m\n\u001B[0;32m     91\u001B[0m \u001B[43m                       \u001B[49m\u001B[43msize\u001B[49m\u001B[38;5;241;43m=\u001B[39;49m\u001B[38;5;28;43;01mNone\u001B[39;49;00m\u001B[43m)\u001B[49m\n\u001B[0;32m     92\u001B[0m     out \u001B[38;5;241m=\u001B[39m out \u001B[38;5;241m+\u001B[39m lin\u001B[38;5;241m.\u001B[39mforward(x)\n\u001B[0;32m     94\u001B[0m \u001B[38;5;28;01mif\u001B[39;00m \u001B[38;5;28mself\u001B[39m\u001B[38;5;241m.\u001B[39mbias \u001B[38;5;129;01mis\u001B[39;00m \u001B[38;5;129;01mnot\u001B[39;00m \u001B[38;5;28;01mNone\u001B[39;00m:\n",
      "File \u001B[1;32mD:\\Python\\Lib\\site-packages\\torch_geometric\\nn\\conv\\message_passing.py:467\u001B[0m, in \u001B[0;36mMessagePassing.propagate\u001B[1;34m(self, edge_index, size, **kwargs)\u001B[0m\n\u001B[0;32m    465\u001B[0m     \u001B[38;5;28;01mif\u001B[39;00m res \u001B[38;5;129;01mis\u001B[39;00m \u001B[38;5;129;01mnot\u001B[39;00m \u001B[38;5;28;01mNone\u001B[39;00m:\n\u001B[0;32m    466\u001B[0m         msg_kwargs \u001B[38;5;241m=\u001B[39m res[\u001B[38;5;241m0\u001B[39m] \u001B[38;5;28;01mif\u001B[39;00m \u001B[38;5;28misinstance\u001B[39m(res, \u001B[38;5;28mtuple\u001B[39m) \u001B[38;5;28;01melse\u001B[39;00m res\n\u001B[1;32m--> 467\u001B[0m out \u001B[38;5;241m=\u001B[39m \u001B[38;5;28;43mself\u001B[39;49m\u001B[38;5;241;43m.\u001B[39;49m\u001B[43mmessage\u001B[49m\u001B[43m(\u001B[49m\u001B[38;5;241;43m*\u001B[39;49m\u001B[38;5;241;43m*\u001B[39;49m\u001B[43mmsg_kwargs\u001B[49m\u001B[43m)\u001B[49m\n\u001B[0;32m    468\u001B[0m \u001B[38;5;28;01mfor\u001B[39;00m hook \u001B[38;5;129;01min\u001B[39;00m \u001B[38;5;28mself\u001B[39m\u001B[38;5;241m.\u001B[39m_message_forward_hooks\u001B[38;5;241m.\u001B[39mvalues():\n\u001B[0;32m    469\u001B[0m     res \u001B[38;5;241m=\u001B[39m hook(\u001B[38;5;28mself\u001B[39m, (msg_kwargs, ), out)\n",
      "File \u001B[1;32mD:\\Python\\Lib\\site-packages\\torch_geometric\\nn\\conv\\tag_conv.py:100\u001B[0m, in \u001B[0;36mTAGConv.message\u001B[1;34m(self, x_j, edge_weight)\u001B[0m\n\u001B[0;32m     99\u001B[0m \u001B[38;5;28;01mdef\u001B[39;00m \u001B[38;5;21mmessage\u001B[39m(\u001B[38;5;28mself\u001B[39m, x_j: Tensor, edge_weight: OptTensor) \u001B[38;5;241m-\u001B[39m\u001B[38;5;241m>\u001B[39m Tensor:\n\u001B[1;32m--> 100\u001B[0m     \u001B[38;5;28;01mreturn\u001B[39;00m x_j \u001B[38;5;28;01mif\u001B[39;00m edge_weight \u001B[38;5;129;01mis\u001B[39;00m \u001B[38;5;28;01mNone\u001B[39;00m \u001B[38;5;28;01melse\u001B[39;00m \u001B[43medge_weight\u001B[49m\u001B[38;5;241;43m.\u001B[39;49m\u001B[43mview\u001B[49m\u001B[43m(\u001B[49m\u001B[38;5;241;43m-\u001B[39;49m\u001B[38;5;241;43m1\u001B[39;49m\u001B[43m,\u001B[49m\u001B[43m \u001B[49m\u001B[38;5;241;43m1\u001B[39;49m\u001B[43m)\u001B[49m\u001B[43m \u001B[49m\u001B[38;5;241;43m*\u001B[39;49m\u001B[43m \u001B[49m\u001B[43mx_j\u001B[49m\n",
      "\u001B[1;31mOutOfMemoryError\u001B[0m: CUDA out of memory. Tried to allocate 230.00 MiB (GPU 0; 4.00 GiB total capacity; 3.05 GiB already allocated; 0 bytes free; 3.48 GiB reserved in total by PyTorch) If reserved memory is >> allocated memory try setting max_split_size_mb to avoid fragmentation.  See documentation for Memory Management and PYTORCH_CUDA_ALLOC_CONF"
     ]
    }
   ],
   "source": [
    "# node_index =[8440, 8716, 8728, 8734, 8757, 8760, 8762, 8763, 8765, 8773, 8776, 8808]\n",
    "#[8041, 8107, 8157, 8170, 8368, 8394, 8415, 8439, 8440, 8455, 8493, 8496, 8530, 8567, 8568, 8579, 8590, 8594, 8612, 8624, 8657, 8674, 8687, 8696, 8716, 8728, 8734, 8757, 8760, 8762, 8763, 8765, 8773, 8776, 8808, 8814, 8819, 8827, 8845, 8846, 8856, 8874, 8882, 8900, 8902, 8912, 8915, 8921, 8946, 8986, 8987] #illicit_idx[:200].tolist()\n",
    "explainer = Explainer(\n",
    "    model=GCN,\n",
    "    algorithm=GNNExplainer(epochs=200),\n",
    "    explanation_type='model',\n",
    "    node_mask_type='attributes',\n",
    "    edge_mask_type='object',\n",
    "    model_config=dict(\n",
    "        mode='multiclass_classification',\n",
    "        task_level='node',\n",
    "        return_type='log_probs',\n",
    "    )\n",
    ")\n",
    "explanation_correct = explainer(data.x, data.edge_index, index=c)\n",
    "explanation_wrong = explainer(data.x, data.edge_index, index=w)"
   ]
  },
  {
   "cell_type": "code",
   "execution_count": null,
   "metadata": {
    "ExecuteTime": {
     "start_time": "2023-06-26T10:46:08.884374900Z"
    }
   },
   "outputs": [],
   "source": [
    "fid_pm = fidelity(explainer, explanation_correct)\n",
    "print(fid_pm)\n",
    "explanation_correct.visualize_graph('pics/subgraph_correct.png', backend=\"networkx\")\n",
    "\n",
    "\n",
    "fid_pm = fidelity(explainer, explanation_wrong)\n",
    "print(fid_pm)\n",
    "explanation_wrong.visualize_graph('pics/subgraph_wrong.png', backend=\"networkx\")"
   ]
  },
  {
   "cell_type": "code",
   "execution_count": 23,
   "metadata": {
    "ExecuteTime": {
     "end_time": "2023-06-26T11:23:46.953123900Z",
     "start_time": "2023-06-26T11:23:43.189223500Z"
    }
   },
   "outputs": [
    {
     "name": "stdout",
     "output_type": "stream",
     "text": [
      "11 2\n"
     ]
    },
    {
     "data": {
      "text/plain": "<Figure size 2000x2000 with 1 Axes>",
      "image/png": "[encoded data removed]"
     },
     "metadata": {},
     "output_type": "display_data"
    }
   ],
   "source": [
    "import networkx as nx\n",
    "# add cycle find\n",
    "index  = 10\n",
    "edge_list = data.edge_index.cpu().detach().numpy()\n",
    "G = nx.from_edgelist(edge_list.T)\n",
    "ns = G.neighbors(c[index])\n",
    "nodes = []\n",
    "for n in ns:\n",
    "    nodes.append(n)\n",
    "nodes.append(c[index])\n",
    "cliques = nx.algorithms.clique.cliques_containing_node(G, nodes)\n",
    "\n",
    "D = nx.DiGraph()\n",
    "for clique in cliques.values():\n",
    "    for edge in clique:\n",
    "        D.add_edge(edge[0], edge[1])\n",
    "print(c[index], G.degree(c[index]))\n",
    "\n",
    "plt.figure(1, figsize=(20,20))\n",
    "nx.draw_networkx(D, node_size=400)\n",
    "plt.show()\n",
    "\n",
    "cycles = nx.find_cycle(G, c[index])\n"
   ]
  },
  {
   "cell_type": "markdown",
   "metadata": {},
   "source": []
  },
  {
   "cell_type": "code",
   "execution_count": null,
   "metadata": {},
   "outputs": [],
   "source": [
    "index  = 5\n",
    "G = nx.from_edgelist(edge_list.T)\n",
    "ns = G.neighbors(w[index])\n",
    "nodes = []\n",
    "for n in ns:\n",
    "    nodes.append(n)\n",
    "nodes.append(w[index])\n",
    "cliques = nx.algorithms.clique.cliques_containing_node(G, nodes)\n",
    "\n",
    "D = nx.DiGraph()\n",
    "for clique in cliques.values():\n",
    "    for edge in clique:\n",
    "        D.add_edge(edge[0], edge[1])\n",
    "\n",
    "print(w[index], G.degree(w[index]))\n",
    "plt.figure(1, figsize=(20,20))\n",
    "nx.draw_networkx(D, node_size=600)\n",
    "plt.show()"
   ]
  },
  {
   "cell_type": "code",
   "execution_count": null,
   "metadata": {},
   "outputs": [],
   "source": [
    "import numpy as np\n",
    "\n",
    "degree_correct = []\n",
    "degree_wrong = []\n",
    "for node in c:\n",
    "    try:\n",
    "        degree_correct.append(G.degree(node))\n",
    "    except:\n",
    "        continue\n",
    "for node in w:\n",
    "    try:\n",
    "        degree_wrong.append(G.degree(node))\n",
    "    except:\n",
    "        continue\n",
    "print(np.mean(degree_correct), np.std(degree_correct), len(degree_correct))\n",
    "print(np.mean(degree_wrong),np.std(degree_wrong), len(degree_wrong))\n",
    "\n",
    "normalized_correct = (np.array(degree_correct) - np.mean(degree_correct)) / np.std(degree_correct)\n",
    "normalized_wrong = (np.array(degree_wrong) - np.mean(degree_wrong)) / np.std(degree_wrong)\n",
    "\n",
    "plt.scatter(np.arange(len(degree_correct)), normalized_correct, label=\"Correctly classfied\")\n",
    "plt.scatter(np.arange(len(degree_wrong)), normalized_wrong, label=\"Wrongly Classfied\")\n",
    "plt.legend()\n",
    "plt.show()"
   ]
  },
  {
   "cell_type": "code",
   "execution_count": null,
   "metadata": {},
   "outputs": [],
   "source": [
    "from scipy.stats import mannwhitneyu, ttest_ind, wilcoxon, ks_2samp\n",
    "\n",
    "U1, p = mannwhitneyu(degree_correct, degree_wrong, method=\"auto\",  alternative=\"two-sided\")\n",
    "print(U1, p)\n",
    "\n",
    "res = ks_2samp(degree_correct, degree_wrong)\n",
    "print(res)"
   ]
  },
  {
   "cell_type": "code",
   "execution_count": null,
   "metadata": {},
   "outputs": [],
   "source": [
    "GAT = GraphAttentionNetwork(node_dim=data.x.shape[1], output_dim=2, hidden_dim=512, n_gnn_layers=3, heads=2, dropout_rate=0.1).to(device)"
   ]
  },
  {
   "cell_type": "code",
   "execution_count": null,
   "metadata": {},
   "outputs": [],
   "source": [
    "lr = 1e-3\n",
    "epochs = 50\n",
    "# weights for classes\n",
    "weight = torch.tensor([0.5, 0.5]).to(device)\n",
    "optimizer = torch.optim.Adam(GAT.parameters(), lr=lr)\n",
    "loss_fn = torch.nn.NLLLoss(weight)\n",
    "\n",
    "best_model = None\n",
    "best_valid_auc = 0\n",
    "best_result = None\n",
    "losses = []\n",
    "best_test_losS = 1e9\n",
    "\n",
    "for epoch in range(1, 1 + epochs):\n",
    "    # train with random split\n",
    "    train_losses = []\n",
    "test_losses = []\n",
    "\n",
    "for epoch in range(1, 1 + epochs):\n",
    "    # train with random split\n",
    "    loss = train(GAT, loader,train_mask, optimizer, loss_fn, device)\n",
    "    train_losses.append(loss)\n",
    "    result, test_loss = test(GAT, loader,loss_fn,test_mask, device)\n",
    "    test_losses.append(test_loss)\n",
    "    if test_loss < best_test_loss:\n",
    "        best_test_loss = test_loss\n",
    "        best_model = copy.deepcopy(GAT)\n",
    "    if epoch % 10 == 0:\n",
    "        print(\"Epoch: \", epoch)\n",
    "        for item, amount in result.items():\n",
    "                print(\"{} ({})\".format(item, amount))\n",
    "        print(\"############################\")\n",
    "state = {\"net\":best_model.state_dict(), \"optimizer\":optimizer.state_dict()}\n",
    "torch.save(state, \"gat.pt\")"
   ]
  },
  {
   "cell_type": "code",
   "execution_count": null,
   "metadata": {},
   "outputs": [],
   "source": [
    "plt.plot(train_losses, label=\"Train\")\n",
    "plt.plot(test_losses, label=\"Test\")\n",
    "plt.legend()\n",
    "plt.xlabel(\"Epoch\")\n",
    "plt.ylabel(\"Loss\")\n",
    "plt.show()"
   ]
  },
  {
   "cell_type": "code",
   "execution_count": null,
   "metadata": {},
   "outputs": [],
   "source": [
    "# class 1 lict\n",
    "# class 0 ilicit\n",
    "c, w = get_ilicit_predictions(GAT, loader, test_mask, device)\n",
    "c, w = c[0], w[0]\n",
    "print(c.shape, w.shape)"
   ]
  },
  {
   "cell_type": "code",
   "execution_count": null,
   "metadata": {},
   "outputs": [],
   "source": [
    "explainer = Explainer(\n",
    "    model=GAT,\n",
    "    algorithm=GNNExplainer(epochs=200),\n",
    "    explanation_type='model',\n",
    "    node_mask_type='attributes',\n",
    "    edge_mask_type='object',\n",
    "    model_config=dict(\n",
    "        mode='multiclass_classification',\n",
    "        task_level='node',\n",
    "        return_type='log_probs',\n",
    "    )\n",
    ")\n",
    "explanation_correct = explainer(data.x, data.edge_index, index=c)\n",
    "explanation_wrong = explainer(data.x, data.edge_index, index=w)"
   ]
  },
  {
   "cell_type": "code",
   "execution_count": null,
   "metadata": {},
   "outputs": [],
   "source": [
    "fid_pm = fidelity(explainer, explanation_correct)\n",
    "print(fid_pm)\n",
    "explanation_correct.visualize_graph('subgraph_correct.png', backend=\"networkx\")\n",
    "\n",
    "\n",
    "fid_pm = fidelity(explainer, explanation_wrong)\n",
    "print(fid_pm)\n",
    "explanation_wrong.visualize_graph('subgraph_wrong.png', backend=\"networkx\")"
   ]
  },
  {
   "cell_type": "code",
   "execution_count": null,
   "metadata": {},
   "outputs": [],
   "source": [
    "import numpy as np\n",
    "\n",
    "degree_correct = []\n",
    "degree_wrong = []\n",
    "for node in c:\n",
    "    try:\n",
    "        degree_correct.append(G.degree(node))\n",
    "    except:\n",
    "        continue\n",
    "for node in w:\n",
    "    try:\n",
    "        degree_wrong.append(G.degree(node))\n",
    "    except:\n",
    "        continue\n",
    "print(np.mean(degree_correct), np.std(degree_correct), len(degree_correct))\n",
    "print(np.mean(degree_wrong),np.std(degree_wrong), len(degree_wrong))\n",
    "\n",
    "normalized_correct = (np.array(degree_correct) - np.mean(degree_correct)) / np.std(degree_correct)\n",
    "normalized_wrong = (np.array(degree_wrong) - np.mean(degree_wrong)) / np.std(degree_wrong)\n",
    "\n",
    "plt.scatter(np.arange(len(degree_correct)), normalized_correct, label=\"Correctly classfied\")\n",
    "plt.scatter(np.arange(len(degree_wrong)), normalized_wrong, label=\"Wrongly Classfied\")\n",
    "plt.legend()\n",
    "plt.show()"
   ]
  },
  {
   "cell_type": "code",
   "execution_count": null,
   "metadata": {},
   "outputs": [],
   "source": [
    "from scipy.stats import mannwhitneyu, ks_2samp\n",
    "\n",
    "U1, p = mannwhitneyu(degree_correct, degree_wrong, method=\"auto\",  alternative=\"two-sided\")\n",
    "print(U1, p)\n",
    "\n",
    "res = ks_2samp(degree_correct, degree_wrong)\n",
    "print(res)"
   ]
  },
  {
   "cell_type": "code",
   "execution_count": null,
   "metadata": {},
   "outputs": [],
   "source": [
    "from sklearn.manifold import TSNE\n",
    "\n",
    "untrained_gat = GraphAttentionNetwork(node_dim=data[\"train\"][0].x.shape[1], output_dim=2, hidden_dim=256, n_gnn_layers=1, heads=2, dropout_rate=0.5).to(device)\n",
    "\n",
    "# Get embeddings\n",
    "h = untrained_gat(data[\"train\"][0])\n",
    "\n",
    "# Train TSNE\n",
    "tsne = TSNE(n_components=2, learning_rate='auto',\n",
    "            init='pca').fit_transform(h.detach())\n",
    "\n",
    "# Plot TSNE\n",
    "plt.figure(figsize=(10, 10))\n",
    "plt.axis('off')\n",
    "plt.scatter(tsne[:, 0], tsne[:, 1], s=50, c=data[\"train\"][0].y)\n",
    "plt.show()"
   ]
  },
  {
   "cell_type": "code",
   "execution_count": null,
   "metadata": {},
   "outputs": [],
   "source": [
    "# Get embeddings\n",
    "checkpoint = torch.load(\"gat.pt\", map_location=device)\n",
    "GAT = GraphAttentionNetwork(node_dim=data[\"train\"][0].x.shape[1], output_dim=2, hidden_dim=256, n_gnn_layers=1, heads=2, dropout_rate=0.5).to(device)\n",
    "GAT.load_state_dict(checkpoint[\"net\"])\n",
    "\n",
    "h = GAT(data[\"train\"][0])\n",
    "\n",
    "# Train TSNE\n",
    "tsne = TSNE(n_components=2, learning_rate='auto',\n",
    "            init='pca').fit_transform(h.detach())\n",
    "\n",
    "# Plot TSNE\n",
    "plt.figure(figsize=(10, 10))\n",
    "plt.axis('off')\n",
    "plt.scatter(tsne[:, 0], tsne[:, 1], s=50, c=data[\"train\"][0].y)\n",
    "plt.show()"
   ]
  },
  {
   "cell_type": "code",
   "execution_count": 9,
   "metadata": {
    "ExecuteTime": {
     "end_time": "2023-06-26T14:08:52.283455600Z",
     "start_time": "2023-06-26T14:08:52.175665100Z"
    }
   },
   "outputs": [],
   "source": [
    "%run FeatureAggregationModel.ipynb\n",
    "SFA = SpatialFeatureAggregator(node_dim=data.x.shape[1], edge_dim=1, output_dim=2, hidden_dim=256, n_gnn_layers=3, K=2, dropout_rate=0.1).to(device)"
   ]
  },
  {
   "cell_type": "code",
   "execution_count": 10,
   "metadata": {
    "ExecuteTime": {
     "end_time": "2023-06-26T14:08:56.269777300Z",
     "start_time": "2023-06-26T14:08:52.288442400Z"
    }
   },
   "outputs": [
    {
     "ename": "OutOfMemoryError",
     "evalue": "CUDA out of memory. Tried to allocate 398.00 MiB (GPU 0; 4.00 GiB total capacity; 3.29 GiB already allocated; 0 bytes free; 3.44 GiB reserved in total by PyTorch) If reserved memory is >> allocated memory try setting max_split_size_mb to avoid fragmentation.  See documentation for Memory Management and PYTORCH_CUDA_ALLOC_CONF",
     "output_type": "error",
     "traceback": [
      "\u001B[1;31m---------------------------------------------------------------------------\u001B[0m",
      "\u001B[1;31mOutOfMemoryError\u001B[0m                          Traceback (most recent call last)",
      "Cell \u001B[1;32mIn[10], line 21\u001B[0m\n\u001B[0;32m     17\u001B[0m test_losses \u001B[38;5;241m=\u001B[39m []\n\u001B[0;32m     19\u001B[0m \u001B[38;5;28;01mfor\u001B[39;00m epoch \u001B[38;5;129;01min\u001B[39;00m \u001B[38;5;28mrange\u001B[39m(\u001B[38;5;241m1\u001B[39m, \u001B[38;5;241m1\u001B[39m \u001B[38;5;241m+\u001B[39m epochs):\n\u001B[0;32m     20\u001B[0m     \u001B[38;5;66;03m# train with random split\u001B[39;00m\n\u001B[1;32m---> 21\u001B[0m     loss \u001B[38;5;241m=\u001B[39m \u001B[43mtrain\u001B[49m\u001B[43m(\u001B[49m\u001B[43mSFA\u001B[49m\u001B[43m,\u001B[49m\u001B[43m \u001B[49m\u001B[43mloader\u001B[49m\u001B[43m,\u001B[49m\u001B[43mtrain_mask\u001B[49m\u001B[43m,\u001B[49m\u001B[43m \u001B[49m\u001B[43moptimizer\u001B[49m\u001B[43m,\u001B[49m\u001B[43m \u001B[49m\u001B[43mloss_fn\u001B[49m\u001B[43m,\u001B[49m\u001B[43m \u001B[49m\u001B[43mdevice\u001B[49m\u001B[43m)\u001B[49m\n\u001B[0;32m     22\u001B[0m     train_losses\u001B[38;5;241m.\u001B[39mappend(loss)\n\u001B[0;32m     23\u001B[0m     result, test_loss \u001B[38;5;241m=\u001B[39m test(SFA, loader,loss_fn,test_mask, device)\n",
      "File \u001B[1;32m~\\AppData\\Local\\Temp\\ipykernel_6200\\1882379839.py:21\u001B[0m, in \u001B[0;36mtrain\u001B[1;34m(model, train_data, train_mask, optimizer, loss_fn, device)\u001B[0m\n\u001B[0;32m     19\u001B[0m \u001B[38;5;28;01mfor\u001B[39;00m i, batch \u001B[38;5;129;01min\u001B[39;00m \u001B[38;5;28menumerate\u001B[39m(train_data):\n\u001B[0;32m     20\u001B[0m     batch \u001B[38;5;241m=\u001B[39m batch\u001B[38;5;241m.\u001B[39mto(device)\n\u001B[1;32m---> 21\u001B[0m     train_slice \u001B[38;5;241m=\u001B[39m \u001B[43mmodel\u001B[49m\u001B[38;5;241;43m.\u001B[39;49m\u001B[43mforward\u001B[49m\u001B[43m(\u001B[49m\u001B[43mbatch\u001B[49m\u001B[38;5;241;43m.\u001B[39;49m\u001B[43mx\u001B[49m\u001B[43m,\u001B[49m\u001B[43m \u001B[49m\u001B[43mbatch\u001B[49m\u001B[38;5;241;43m.\u001B[39;49m\u001B[43medge_index\u001B[49m\u001B[43m)\u001B[49m\n\u001B[0;32m     22\u001B[0m     train_label \u001B[38;5;241m=\u001B[39m batch\u001B[38;5;241m.\u001B[39my\n\u001B[0;32m     23\u001B[0m     loss[i] \u001B[38;5;241m=\u001B[39m loss_fn(train_slice[train_mask], train_label[train_mask])\n",
      "File \u001B[1;32m~\\AppData\\Local\\Temp\\ipykernel_6200\\2156651578.py:67\u001B[0m, in \u001B[0;36mSpatialFeatureAggregator.forward\u001B[1;34m(self, x, edge_index)\u001B[0m\n\u001B[0;32m     65\u001B[0m \u001B[38;5;66;03m# Two more FC Layers\u001B[39;00m\n\u001B[0;32m     66\u001B[0m x \u001B[38;5;241m=\u001B[39m \u001B[38;5;28mself\u001B[39m\u001B[38;5;241m.\u001B[39mfc2(x)\n\u001B[1;32m---> 67\u001B[0m x \u001B[38;5;241m=\u001B[39m \u001B[38;5;28;43mself\u001B[39;49m\u001B[38;5;241;43m.\u001B[39;49m\u001B[43mdropout\u001B[49m\u001B[43m(\u001B[49m\u001B[43mx\u001B[49m\u001B[43m)\u001B[49m\n\u001B[0;32m     68\u001B[0m x \u001B[38;5;241m=\u001B[39m \u001B[38;5;28mself\u001B[39m\u001B[38;5;241m.\u001B[39mrelu(x)\n\u001B[0;32m     70\u001B[0m x \u001B[38;5;241m=\u001B[39m \u001B[38;5;28mself\u001B[39m\u001B[38;5;241m.\u001B[39mfc3(x)\n",
      "File \u001B[1;32mD:\\Python\\Lib\\site-packages\\torch\\nn\\modules\\module.py:1501\u001B[0m, in \u001B[0;36mModule._call_impl\u001B[1;34m(self, *args, **kwargs)\u001B[0m\n\u001B[0;32m   1496\u001B[0m \u001B[38;5;66;03m# If we don't have any hooks, we want to skip the rest of the logic in\u001B[39;00m\n\u001B[0;32m   1497\u001B[0m \u001B[38;5;66;03m# this function, and just call forward.\u001B[39;00m\n\u001B[0;32m   1498\u001B[0m \u001B[38;5;28;01mif\u001B[39;00m \u001B[38;5;129;01mnot\u001B[39;00m (\u001B[38;5;28mself\u001B[39m\u001B[38;5;241m.\u001B[39m_backward_hooks \u001B[38;5;129;01mor\u001B[39;00m \u001B[38;5;28mself\u001B[39m\u001B[38;5;241m.\u001B[39m_backward_pre_hooks \u001B[38;5;129;01mor\u001B[39;00m \u001B[38;5;28mself\u001B[39m\u001B[38;5;241m.\u001B[39m_forward_hooks \u001B[38;5;129;01mor\u001B[39;00m \u001B[38;5;28mself\u001B[39m\u001B[38;5;241m.\u001B[39m_forward_pre_hooks\n\u001B[0;32m   1499\u001B[0m         \u001B[38;5;129;01mor\u001B[39;00m _global_backward_pre_hooks \u001B[38;5;129;01mor\u001B[39;00m _global_backward_hooks\n\u001B[0;32m   1500\u001B[0m         \u001B[38;5;129;01mor\u001B[39;00m _global_forward_hooks \u001B[38;5;129;01mor\u001B[39;00m _global_forward_pre_hooks):\n\u001B[1;32m-> 1501\u001B[0m     \u001B[38;5;28;01mreturn\u001B[39;00m \u001B[43mforward_call\u001B[49m\u001B[43m(\u001B[49m\u001B[38;5;241;43m*\u001B[39;49m\u001B[43margs\u001B[49m\u001B[43m,\u001B[49m\u001B[43m \u001B[49m\u001B[38;5;241;43m*\u001B[39;49m\u001B[38;5;241;43m*\u001B[39;49m\u001B[43mkwargs\u001B[49m\u001B[43m)\u001B[49m\n\u001B[0;32m   1502\u001B[0m \u001B[38;5;66;03m# Do not call functions when jit is used\u001B[39;00m\n\u001B[0;32m   1503\u001B[0m full_backward_hooks, non_full_backward_hooks \u001B[38;5;241m=\u001B[39m [], []\n",
      "File \u001B[1;32mD:\\Python\\Lib\\site-packages\\torch\\nn\\modules\\dropout.py:59\u001B[0m, in \u001B[0;36mDropout.forward\u001B[1;34m(self, input)\u001B[0m\n\u001B[0;32m     58\u001B[0m \u001B[38;5;28;01mdef\u001B[39;00m \u001B[38;5;21mforward\u001B[39m(\u001B[38;5;28mself\u001B[39m, \u001B[38;5;28minput\u001B[39m: Tensor) \u001B[38;5;241m-\u001B[39m\u001B[38;5;241m>\u001B[39m Tensor:\n\u001B[1;32m---> 59\u001B[0m     \u001B[38;5;28;01mreturn\u001B[39;00m \u001B[43mF\u001B[49m\u001B[38;5;241;43m.\u001B[39;49m\u001B[43mdropout\u001B[49m\u001B[43m(\u001B[49m\u001B[38;5;28;43minput\u001B[39;49m\u001B[43m,\u001B[49m\u001B[43m \u001B[49m\u001B[38;5;28;43mself\u001B[39;49m\u001B[38;5;241;43m.\u001B[39;49m\u001B[43mp\u001B[49m\u001B[43m,\u001B[49m\u001B[43m \u001B[49m\u001B[38;5;28;43mself\u001B[39;49m\u001B[38;5;241;43m.\u001B[39;49m\u001B[43mtraining\u001B[49m\u001B[43m,\u001B[49m\u001B[43m \u001B[49m\u001B[38;5;28;43mself\u001B[39;49m\u001B[38;5;241;43m.\u001B[39;49m\u001B[43minplace\u001B[49m\u001B[43m)\u001B[49m\n",
      "File \u001B[1;32mD:\\Python\\Lib\\site-packages\\torch\\nn\\functional.py:1252\u001B[0m, in \u001B[0;36mdropout\u001B[1;34m(input, p, training, inplace)\u001B[0m\n\u001B[0;32m   1250\u001B[0m \u001B[38;5;28;01mif\u001B[39;00m p \u001B[38;5;241m<\u001B[39m \u001B[38;5;241m0.0\u001B[39m \u001B[38;5;129;01mor\u001B[39;00m p \u001B[38;5;241m>\u001B[39m \u001B[38;5;241m1.0\u001B[39m:\n\u001B[0;32m   1251\u001B[0m     \u001B[38;5;28;01mraise\u001B[39;00m \u001B[38;5;167;01mValueError\u001B[39;00m(\u001B[38;5;124m\"\u001B[39m\u001B[38;5;124mdropout probability has to be between 0 and 1, \u001B[39m\u001B[38;5;124m\"\u001B[39m \u001B[38;5;124m\"\u001B[39m\u001B[38;5;124mbut got \u001B[39m\u001B[38;5;132;01m{}\u001B[39;00m\u001B[38;5;124m\"\u001B[39m\u001B[38;5;241m.\u001B[39mformat(p))\n\u001B[1;32m-> 1252\u001B[0m \u001B[38;5;28;01mreturn\u001B[39;00m _VF\u001B[38;5;241m.\u001B[39mdropout_(\u001B[38;5;28minput\u001B[39m, p, training) \u001B[38;5;28;01mif\u001B[39;00m inplace \u001B[38;5;28;01melse\u001B[39;00m \u001B[43m_VF\u001B[49m\u001B[38;5;241;43m.\u001B[39;49m\u001B[43mdropout\u001B[49m\u001B[43m(\u001B[49m\u001B[38;5;28;43minput\u001B[39;49m\u001B[43m,\u001B[49m\u001B[43m \u001B[49m\u001B[43mp\u001B[49m\u001B[43m,\u001B[49m\u001B[43m \u001B[49m\u001B[43mtraining\u001B[49m\u001B[43m)\u001B[49m\n",
      "\u001B[1;31mOutOfMemoryError\u001B[0m: CUDA out of memory. Tried to allocate 398.00 MiB (GPU 0; 4.00 GiB total capacity; 3.29 GiB already allocated; 0 bytes free; 3.44 GiB reserved in total by PyTorch) If reserved memory is >> allocated memory try setting max_split_size_mb to avoid fragmentation.  See documentation for Memory Management and PYTORCH_CUDA_ALLOC_CONF"
     ]
    }
   ],
   "source": [
    "lr = 1e-3\n",
    "epochs = 50\n",
    "# weights for classes\n",
    "weight = torch.tensor([0.5, 0.5]).to(device)\n",
    "optimizer = torch.optim.Adam(SFA.parameters(), lr=lr)\n",
    "loss_fn = torch.nn.NLLLoss(weight)\n",
    "\n",
    "best_model = None\n",
    "best_valid_auc = 0\n",
    "best_result = None\n",
    "losses = []\n",
    "best_test_loss = 1e9\n",
    "\n",
    "for epoch in range(1, 1 + epochs):\n",
    "    # train with random split\n",
    "    train_losses = []\n",
    "test_losses = []\n",
    "\n",
    "for epoch in range(1, 1 + epochs):\n",
    "    # train with random split\n",
    "    loss = train(SFA, loader,train_mask, optimizer, loss_fn, device)\n",
    "    train_losses.append(loss)\n",
    "    result, test_loss = test(SFA, loader,loss_fn,test_mask, device)\n",
    "    test_losses.append(test_loss)\n",
    "    if test_loss < best_test_loss:\n",
    "        best_test_loss = test_loss\n",
    "        best_model = copy.deepcopy(SFA)\n",
    "    if epoch % 10 == 0:\n",
    "        print(\"Epoch: \", epoch)\n",
    "        for item, amount in result.items():\n",
    "                print(\"{} ({})\".format(item, amount))\n",
    "        print(\"############################\")\n",
    "state = {\"net\":best_model.state_dict(), \"optimizer\":optimizer.state_dict()}\n",
    "torch.save(state, \"SFA.pt\")"
   ]
  },
  {
   "cell_type": "code",
   "execution_count": null,
   "metadata": {},
   "outputs": [],
   "source": [
    "plt.plot(train_losses, label=\"Train\")\n",
    "plt.plot(test_losses, label=\"Test\")\n",
    "plt.legend()\n",
    "plt.xlabel(\"Epoch\")\n",
    "plt.ylabel(\"Loss\")\n",
    "plt.show()"
   ]
  },
  {
   "cell_type": "code",
   "execution_count": null,
   "metadata": {},
   "outputs": [],
   "source": [
    "%run LSTM_GNN.ipynb\n",
    "TB = TemporalBoy(node_dim=data.x.shape[1], edge_dim=1, output_dim=2, hidden_dim=256, n_gnn_layers=3, K=2, dropout_rate=0.1).to(device)"
   ]
  },
  {
   "cell_type": "code",
   "execution_count": null,
   "metadata": {},
   "outputs": [],
   "source": [
    "lr = 1e-3\n",
    "epochs = 50\n",
    "# weights for classes\n",
    "weight = torch.tensor([0.5, 0.5]).to(device)\n",
    "optimizer = torch.optim.Adam(TB.parameters(), lr=lr)\n",
    "loss_fn = torch.nn.NLLLoss(weight)\n",
    "\n",
    "best_model = None\n",
    "best_valid_auc = 0\n",
    "best_result = None\n",
    "losses = []\n",
    "best_test_loss = 1e9\n",
    "\n",
    "for epoch in range(1, 1 + epochs):\n",
    "    # train with random split\n",
    "    train_losses = []\n",
    "test_losses = []\n",
    "\n",
    "for epoch in range(1, 1 + epochs):\n",
    "    # train with random split\n",
    "    loss = train(TB, loader,train_mask, optimizer, loss_fn, device)\n",
    "    train_losses.append(loss)\n",
    "    result, test_loss = test(TB, loader,loss_fn,test_mask, device)\n",
    "    test_losses.append(test_loss)\n",
    "    if test_loss < best_test_loss:\n",
    "        best_test_loss = test_loss\n",
    "        best_model = copy.deepcopy(TB)\n",
    "    if epoch % 10 == 0:\n",
    "        print(\"Epoch: \", epoch)\n",
    "        for item, amount in result.items():\n",
    "                print(\"{} ({})\".format(item, amount))\n",
    "        print(\"############################\")\n",
    "state = {\"net\":best_model.state_dict(), \"optimizer\":optimizer.state_dict()}\n",
    "torch.save(state, \"TB.pt\")"
   ]
  },
  {
   "cell_type": "code",
   "execution_count": null,
   "metadata": {
    "ExecuteTime": {
     "start_time": "2023-06-26T13:58:10.600517800Z"
    }
   },
   "outputs": [],
   "source": [
    "plt.plot(train_losses, label=\"Train\")\n",
    "plt.plot(test_losses, label=\"Test\")\n",
    "plt.legend()\n",
    "plt.xlabel(\"Epoch\")\n",
    "plt.ylabel(\"Loss\")\n",
    "plt.show()"
   ]
  },
  {
   "cell_type": "code",
   "execution_count": null,
   "metadata": {},
   "outputs": [],
   "source": []
  }
 ],
 "metadata": {
  "kernelspec": {
   "display_name": "Python 3 (ipykernel)",
   "language": "python",
   "name": "python3"
  },
  "language_info": {
   "codemirror_mode": {
    "name": "ipython",
    "version": 3
   },
   "file_extension": ".py",
   "mimetype": "text/x-python",
   "name": "python",
   "nbconvert_exporter": "python",
   "pygments_lexer": "ipython3",
   "version": "3.11.3"
  }
 },
 "nbformat": 4,
 "nbformat_minor": 1
}
