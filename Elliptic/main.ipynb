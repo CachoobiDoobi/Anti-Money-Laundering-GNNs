{
 "cells": [
  {
   "cell_type": "code",
   "execution_count": 73,
   "metadata": {
    "ExecuteTime": {
     "end_time": "2023-06-24T10:42:24.245658Z",
     "start_time": "2023-06-24T10:42:24.208333800Z"
    }
   },
   "outputs": [],
   "source": [
    "import seaborn as sns\n",
    "sns.set(rc={'axes.facecolor': 'dimgrey', 'grid.color': 'lightgrey'})\n",
    "import pandas as pd\n",
    "import torch\n",
    "import copy\n",
    "import matplotlib.pyplot as plt"
   ]
  },
  {
   "cell_type": "code",
   "execution_count": 88,
   "metadata": {
    "ExecuteTime": {
     "end_time": "2023-06-24T10:55:49.461152800Z",
     "start_time": "2023-06-24T10:55:49.374090600Z"
    }
   },
   "outputs": [],
   "source": [
    "%run utils.ipynb\n",
    "%run gcn_model.ipynb\n",
    "%run GAT_model.ipynb\n",
    "%run FeatureAggregationModel.ipynb"
   ]
  },
  {
   "cell_type": "code",
   "execution_count": 75,
   "metadata": {
    "ExecuteTime": {
     "end_time": "2023-06-24T10:42:33.023712700Z",
     "start_time": "2023-06-24T10:42:24.276975400Z"
    }
   },
   "outputs": [],
   "source": [
    "# class 1 is illicit, 2 is licit, unknown is unknown\n",
    "labels = pd.read_csv(\"data/elliptic_bitcoin_dataset/elliptic_txs_classes.csv\")\n",
    "edges = pd.read_csv(\"data/elliptic_bitcoin_dataset/elliptic_txs_edgelist.csv\")\n",
    "nodes = pd.read_csv(\"data/elliptic_bitcoin_dataset/elliptic_txs_features.csv\", header=None)"
   ]
  },
  {
   "cell_type": "code",
   "execution_count": 76,
   "metadata": {
    "ExecuteTime": {
     "end_time": "2023-06-24T10:42:33.070590Z",
     "start_time": "2023-06-24T10:42:33.029473Z"
    }
   },
   "outputs": [],
   "source": [
    "indexes = labels.index[labels[\"class\"] != \"unknown\"].tolist()\n",
    "# new_labels = new_labels[\"class\"].map(lambda x : 2 if x == 'unknown' else int(x)-1)\n",
    "new_labels = labels.replace(\"unknown\", \"3\")\n",
    "# labels_new = labels[labels[\"class\"] != \"unknown\"]\n",
    "# nodes_new =  nodes.take(indexes)\n",
    "# edges_new = edges.loc[edges[\"txId1\"].isin(labels_new[\"txId\"])].loc[edges[\"txId2\"].isin(labels_new[\"txId\"])]\n",
    "# nodes_new.shape, labels_new.shape, edges_new.shape"
   ]
  },
  {
   "cell_type": "code",
   "execution_count": 77,
   "metadata": {
    "ExecuteTime": {
     "end_time": "2023-06-24T10:42:33.070590Z",
     "start_time": "2023-06-24T10:42:33.061600200Z"
    }
   },
   "outputs": [],
   "source": [
    "device = 'cuda' if torch.cuda.is_available() else 'cpu'"
   ]
  },
  {
   "cell_type": "code",
   "execution_count": 78,
   "metadata": {
    "ExecuteTime": {
     "end_time": "2023-06-24T10:42:55.719313700Z",
     "start_time": "2023-06-24T10:42:33.074595900Z"
    }
   },
   "outputs": [
    {
     "name": "stdout",
     "output_type": "stream",
     "text": [
      "train 31\n",
      "val 5\n",
      "test 13\n"
     ]
    }
   ],
   "source": [
    "data, graph_info = time_step_split(nodes, edges, new_labels, device)\n",
    "for key in data:\n",
    "    print(key, len(data[key]))"
   ]
  },
  {
   "cell_type": "code",
   "execution_count": 79,
   "metadata": {
    "ExecuteTime": {
     "end_time": "2023-06-24T10:42:55.735141Z",
     "start_time": "2023-06-24T10:42:55.723725100Z"
    }
   },
   "outputs": [],
   "source": [
    "GCN = GNN_Example(node_dim=data[\"train\"][0].x.shape[1], edge_dim=1, output_dim=2, hidden_dim=256, n_gnn_layers=3, K=2, dropout_rate=0.1).to(device)"
   ]
  },
  {
   "cell_type": "code",
   "execution_count": 80,
   "metadata": {
    "ExecuteTime": {
     "end_time": "2023-06-24T10:43:50.112782600Z",
     "start_time": "2023-06-24T10:42:55.735141Z"
    }
   },
   "outputs": [
    {
     "name": "stdout",
     "output_type": "stream",
     "text": [
      "Epoch: 10, Loss:0.2838 Train:\n",
      "                   0           1  accuracy   macro avg  weighted avg\n",
      "precision   0.153182    0.872931  0.871809    0.513057      0.794568\n",
      "recall      0.045399    0.996478  0.871809    0.520939      0.871809\n",
      "f1-score    0.060416    0.927486  0.871809    0.493951      0.820309\n",
      "support    98.709677  792.096774  0.871809  890.806452    890.806452\n",
      " Train_auc_roc: 0.5209386512245995 \n",
      "\n",
      "Valid:\n",
      "                    0           1  accuracy    macro avg  weighted avg\n",
      "precision    0.184615    0.903700   0.90398     0.544158      0.859695\n",
      "recall       0.056140    0.996410   0.90398     0.526275      0.903980\n",
      "f1-score     0.086099    0.946611   0.90398     0.516355      0.870229\n",
      "support    123.400000  942.200000   0.90398  1065.600000   1065.600000\n",
      " Val_auc_roc: 0.5262753989508212 \n",
      "\n",
      "Test:\n",
      "                   0           1  accuracy    macro avg  weighted avg\n",
      "precision   0.076923    0.933482   0.93076     0.505202      0.879084\n",
      "recall      0.000950    0.996552   0.93076     0.498751      0.930760\n",
      "f1-score    0.001876    0.963456   0.93076     0.482666      0.900993\n",
      "support    66.769231  981.000000   0.93076  1047.769231   1047.769231\n",
      " Test_auc_roc: 0.49875094550254256 \n",
      "\n",
      "Epoch: 20, Loss:0.1902 Train:\n",
      "                   0           1  accuracy   macro avg  weighted avg\n",
      "precision   0.595751    0.968896  0.943954    0.782324      0.946100\n",
      "recall      0.644249    0.962815  0.943954    0.803532      0.943954\n",
      "f1-score    0.613780    0.965754  0.943954    0.789767      0.944572\n",
      "support    98.709677  792.096774  0.943954  890.806452    890.806452\n",
      " Train_auc_roc: 0.8035323021400919 \n",
      "\n",
      "Valid:\n",
      "                    0           1  accuracy    macro avg  weighted avg\n",
      "precision    0.509566    0.974719  0.921724     0.742143      0.937234\n",
      "recall       0.738965    0.931809  0.921724     0.835387      0.921724\n",
      "f1-score     0.597240    0.952607  0.921724     0.774923      0.927278\n",
      "support    123.400000  942.200000  0.921724  1065.600000   1065.600000\n",
      " Val_auc_roc: 0.8353871282710813 \n",
      "\n",
      "Test:\n",
      "                   0           1  accuracy    macro avg  weighted avg\n",
      "precision   0.285494    0.960825  0.918152     0.623160      0.926547\n",
      "recall      0.310086    0.951892  0.918152     0.630989      0.918152\n",
      "f1-score    0.292819    0.955423  0.918152     0.624121      0.921208\n",
      "support    66.769231  981.000000  0.918152  1047.769231   1047.769231\n",
      " Test_auc_roc: 0.6309889514694793 \n",
      "\n",
      "Epoch: 30, Loss:0.1520 Train:\n",
      "                   0           1  accuracy   macro avg  weighted avg\n",
      "precision   0.712185    0.968657  0.958352    0.840421      0.957055\n",
      "recall      0.654535    0.980859  0.958352    0.817697      0.958352\n",
      "f1-score    0.677011    0.974580  0.958352    0.825795      0.957008\n",
      "support    98.709677  792.096774  0.958352  890.806452    890.806452\n",
      " Train_auc_roc: 0.8176968996238408 \n",
      "\n",
      "Valid:\n",
      "                    0           1  accuracy    macro avg  weighted avg\n",
      "precision    0.530572    0.978804  0.930279     0.754688      0.945748\n",
      "recall       0.771993    0.939639  0.930279     0.855816      0.930279\n",
      "f1-score     0.617754    0.958786  0.930279     0.788270      0.936124\n",
      "support    123.400000  942.200000  0.930279  1065.600000   1065.600000\n",
      " Val_auc_roc: 0.8558159437504733 \n",
      "\n",
      "Test:\n",
      "                   0           1  accuracy    macro avg  weighted avg\n",
      "precision   0.260840    0.963742  0.903419     0.612291      0.926383\n",
      "recall      0.347006    0.931195  0.903419     0.639100      0.903419\n",
      "f1-score    0.290624    0.946676  0.903419     0.618650      0.913194\n",
      "support    66.769231  981.000000  0.903419  1047.769231   1047.769231\n",
      " Test_auc_roc: 0.63910038598156 \n",
      "\n",
      "Epoch: 40, Loss:0.1315 Train:\n",
      "                   0           1  accuracy   macro avg  weighted avg\n",
      "precision   0.714342    0.974622  0.961362    0.844482      0.960735\n",
      "recall      0.697078    0.978173  0.961362    0.837625      0.961362\n",
      "f1-score    0.700463    0.976316  0.961362    0.838389      0.960679\n",
      "support    98.709677  792.096774  0.961362  890.806452    890.806452\n",
      " Train_auc_roc: 0.8376253375496386 \n",
      "\n",
      "Valid:\n",
      "                    0           1  accuracy    macro avg  weighted avg\n",
      "precision    0.526264    0.982447   0.92894     0.754356      0.948361\n",
      "recall       0.811106    0.934498   0.92894     0.872802      0.928940\n",
      "f1-score     0.622928    0.957801   0.92894     0.790364      0.936027\n",
      "support    123.400000  942.200000   0.92894  1065.600000   1065.600000\n",
      " Val_auc_roc: 0.872801970801865 \n",
      "\n",
      "Test:\n",
      "                   0           1  accuracy    macro avg  weighted avg\n",
      "precision   0.295002    0.967527  0.904915     0.631265      0.933278\n",
      "recall      0.437605    0.930646  0.904915     0.684125      0.904915\n",
      "f1-score    0.322690    0.947901  0.904915     0.635295      0.916659\n",
      "support    66.769231  981.000000  0.904915  1047.769231   1047.769231\n",
      " Test_auc_roc: 0.6841252754060511 \n",
      "\n",
      "Epoch: 50, Loss:0.1148 Train:\n",
      "                   0           1  accuracy   macro avg  weighted avg\n",
      "precision   0.753321    0.976088   0.96579    0.864704      0.965088\n",
      "recall      0.705246    0.982428   0.96579    0.843837      0.965790\n",
      "f1-score    0.720885    0.979163   0.96579    0.850024      0.964966\n",
      "support    98.709677  792.096774   0.96579  890.806452    890.806452\n",
      " Train_auc_roc: 0.8438370778755047 \n",
      "\n",
      "Valid:\n",
      "                    0           1  accuracy    macro avg  weighted avg\n",
      "precision    0.519530    0.982947  0.926282     0.751238      0.949039\n",
      "recall       0.831415    0.931588  0.926282     0.881501      0.926282\n",
      "f1-score     0.618140    0.956530  0.926282     0.787335      0.934711\n",
      "support    123.400000  942.200000  0.926282  1065.600000   1065.600000\n",
      " Val_auc_roc: 0.8815014842432202 \n",
      "\n",
      "Test:\n",
      "                   0           1  accuracy    macro avg  weighted avg\n",
      "precision   0.270698    0.968221  0.892825     0.619459      0.931551\n",
      "recall      0.430107    0.916274  0.892825     0.673191      0.892825\n",
      "f1-score    0.308579    0.940767  0.892825     0.624673      0.908929\n",
      "support    66.769231  981.000000  0.892825  1047.769231   1047.769231\n",
      " Test_auc_roc: 0.6731905769959161 \n",
      "\n"
     ]
    }
   ],
   "source": [
    "lr = 1e-3\n",
    "epochs = 50\n",
    "# weights for classes\n",
    "weight = torch.tensor([0.5, 0.5]).to(device)\n",
    "optimizer = torch.optim.Adam(GCN.parameters(), lr=lr)\n",
    "loss_fn = torch.nn.NLLLoss(weight)\n",
    "\n",
    "best_model = None\n",
    "best_valid_auc = 0\n",
    "best_result = None\n",
    "losses = []\n",
    "\n",
    "for epoch in range(1, 1 + epochs):\n",
    "    # train with random split\n",
    "    loss = train(GCN, data['train'], optimizer, loss_fn, device)\n",
    "    losses.append(loss)\n",
    "    result = test(GCN, data, device)\n",
    "    train_acc, val_acc, test_acc, train_auc, val_auc, test_auc = result\n",
    "    if val_auc > best_valid_auc:\n",
    "        best_valid_auc = val_auc\n",
    "        best_model = copy.deepcopy(GCN)\n",
    "        best_result = [train_acc, val_acc, test_acc, train_auc, val_auc, test_auc]\n",
    "    if epoch % 10 == 0:\n",
    "        print('Epoch: {:02},'.format(epoch),\n",
    "              'Loss:{:.4f}'.format(loss),\n",
    "              'Train:\\n{}\\n'.format(train_acc),\n",
    "              'Train_auc_roc: {}'.format(train_auc),\n",
    "              '\\n\\n'\n",
    "              'Valid:\\n{}\\n'.format(val_acc),\n",
    "              'Val_auc_roc: {}'.format(val_auc),\n",
    "              '\\n\\n'\n",
    "              'Test:\\n{}\\n'.format(test_acc),\n",
    "              'Test_auc_roc: {}'.format(test_auc),\n",
    "              '\\n'\n",
    "              )\n",
    "state = {\"net\":best_model.state_dict(), \"optimizer\":optimizer.state_dict()}\n",
    "torch.save(state, \"checkpoints/gcn.pt\")"
   ]
  },
  {
   "cell_type": "code",
   "execution_count": 81,
   "metadata": {
    "ExecuteTime": {
     "end_time": "2023-06-24T10:43:50.297207500Z",
     "start_time": "2023-06-24T10:43:50.112782600Z"
    }
   },
   "outputs": [
    {
     "data": {
      "text/plain": "<Figure size 640x480 with 1 Axes>",
      "image/png": "[encoded data removed]"
     },
     "metadata": {},
     "output_type": "display_data"
    }
   ],
   "source": [
    "plt.plot(losses)\n",
    "plt.show()"
   ]
  },
  {
   "cell_type": "code",
   "execution_count": 82,
   "metadata": {
    "ExecuteTime": {
     "end_time": "2023-06-24T10:43:50.305614Z",
     "start_time": "2023-06-24T10:43:50.297207500Z"
    }
   },
   "outputs": [],
   "source": [
    "GAT = GraphAttentionNetwork(node_dim=data[\"train\"][0].x.shape[1], output_dim=2, hidden_dim=256, n_gnn_layers=1, heads=2, dropout_rate=0.5).to(device)"
   ]
  },
  {
   "cell_type": "code",
   "execution_count": 83,
   "metadata": {
    "ExecuteTime": {
     "end_time": "2023-06-24T10:44:54.931024100Z",
     "start_time": "2023-06-24T10:43:50.305614Z"
    }
   },
   "outputs": [
    {
     "name": "stdout",
     "output_type": "stream",
     "text": [
      "Epoch: 10, Loss:0.5957 Train:\n",
      "                   0           1  accuracy   macro avg  weighted avg\n",
      "precision   0.396986    0.931141  0.870416    0.664063      0.885542\n",
      "recall      0.444495    0.908867  0.870416    0.676681      0.870416\n",
      "f1-score    0.386868    0.917357  0.870416    0.652112      0.871198\n",
      "support    98.709677  792.096774  0.870416  890.806452    890.806452\n",
      " Train_auc_roc: 0.6766811875045673 \n",
      "\n",
      "Valid:\n",
      "                    0           1  accuracy    macro avg  weighted avg\n",
      "precision    0.217276    0.956617  0.686712     0.586946      0.889433\n",
      "recall       0.831467    0.669300  0.686712     0.750383      0.686712\n",
      "f1-score     0.327625    0.784738  0.686712     0.556181      0.748898\n",
      "support    123.400000  942.200000  0.686712  1065.600000   1065.600000\n",
      " Val_auc_roc: 0.7503833364031982 \n",
      "\n",
      "Test:\n",
      "                   0           1  accuracy    macro avg  weighted avg\n",
      "precision   0.146482    0.986017  0.609969     0.566249      0.935573\n",
      "recall      0.872144    0.593399  0.609969     0.732772      0.609969\n",
      "f1-score    0.234081    0.734392  0.609969     0.484236      0.706535\n",
      "support    66.769231  981.000000  0.609969  1047.769231   1047.769231\n",
      " Test_auc_roc: 0.7327716258510725 \n",
      "\n",
      "Epoch: 20, Loss:0.5662 Train:\n",
      "                   0           1  accuracy   macro avg  weighted avg\n",
      "precision   0.477245    0.944058  0.884776    0.710651      0.900726\n",
      "recall      0.543879    0.911522  0.884776    0.727700      0.884776\n",
      "f1-score    0.480668    0.926426  0.884776    0.703547      0.889155\n",
      "support    98.709677  792.096774  0.884776  890.806452    890.806452\n",
      " Train_auc_roc: 0.7277004032181734 \n",
      "\n",
      "Valid:\n",
      "                    0           1  accuracy    macro avg  weighted avg\n",
      "precision    0.240645    0.956632  0.741662     0.598639      0.892186\n",
      "recall       0.791952    0.732499  0.741662     0.762225      0.741662\n",
      "f1-score     0.352526    0.828548  0.741662     0.590537      0.791506\n",
      "support    123.400000  942.200000  0.741662  1065.600000   1065.600000\n",
      " Val_auc_roc: 0.7622254284945678 \n",
      "\n",
      "Test:\n",
      "                   0           1  accuracy    macro avg  weighted avg\n",
      "precision   0.168564    0.980268  0.691198     0.574416      0.932720\n",
      "recall      0.700698    0.686272  0.691198     0.693485      0.691198\n",
      "f1-score    0.254312    0.801920  0.691198     0.528116      0.772183\n",
      "support    66.769231  981.000000  0.691198  1047.769231   1047.769231\n",
      " Test_auc_roc: 0.6934852438052374 \n",
      "\n",
      "Epoch: 30, Loss:0.5018 Train:\n",
      "                   0           1  accuracy   macro avg  weighted avg\n",
      "precision   0.484436    0.956811  0.897127    0.720624      0.913260\n",
      "recall      0.608587    0.913930  0.897127    0.761259      0.897127\n",
      "f1-score    0.524385    0.934116  0.897127    0.729251      0.902077\n",
      "support    98.709677  792.096774  0.897127  890.806452    890.806452\n",
      " Train_auc_roc: 0.7612586565885818 \n",
      "\n",
      "Valid:\n",
      "                    0           1  accuracy    macro avg  weighted avg\n",
      "precision    0.251228    0.959230  0.758181     0.605229      0.895280\n",
      "recall       0.808984    0.747372  0.758181     0.778178      0.758181\n",
      "f1-score     0.368352    0.838969  0.758181     0.603660      0.802920\n",
      "support    123.400000  942.200000  0.758181  1065.600000   1065.600000\n",
      " Val_auc_roc: 0.778177674602484 \n",
      "\n",
      "Test:\n",
      "                   0           1  accuracy    macro avg  weighted avg\n",
      "precision   0.167743    0.975217  0.724435     0.571480      0.928275\n",
      "recall      0.618466    0.726709  0.724435     0.672587      0.724435\n",
      "f1-score    0.245228    0.827585  0.724435     0.536407      0.795974\n",
      "support    66.769231  981.000000  0.724435  1047.769231   1047.769231\n",
      " Test_auc_roc: 0.6725874490162618 \n",
      "\n",
      "Epoch: 40, Loss:0.4800 Train:\n",
      "                   0           1  accuracy   macro avg  weighted avg\n",
      "precision   0.527917    0.960816  0.915154    0.744366      0.925267\n",
      "recall      0.606264    0.933745  0.915154    0.770005      0.915154\n",
      "f1-score    0.551826    0.946436  0.915154    0.749131      0.917894\n",
      "support    98.709677  792.096774  0.915154  890.806452    890.806452\n",
      " Train_auc_roc: 0.7700047483179617 \n",
      "\n",
      "Valid:\n",
      "                    0           1  accuracy    macro avg  weighted avg\n",
      "precision    0.279798    0.975131  0.790789     0.627465      0.912399\n",
      "recall       0.835234    0.775295  0.790789     0.805264      0.790789\n",
      "f1-score     0.404362    0.862383  0.790789     0.633373      0.829448\n",
      "support    123.400000  942.200000  0.790789  1065.600000   1065.600000\n",
      " Val_auc_roc: 0.8052644028898482 \n",
      "\n",
      "Test:\n",
      "                   0           1  accuracy    macro avg  weighted avg\n",
      "precision   0.179709    0.973627  0.762871     0.576668      0.928033\n",
      "recall      0.581206    0.770214  0.762871     0.675710      0.762871\n",
      "f1-score    0.253962    0.855393  0.762871     0.554678      0.822960\n",
      "support    66.769231  981.000000  0.762871  1047.769231   1047.769231\n",
      " Test_auc_roc: 0.6757100401388356 \n",
      "\n",
      "Epoch: 50, Loss:0.4703 Train:\n",
      "                   0           1  accuracy   macro avg  weighted avg\n",
      "precision   0.584860    0.961642  0.930137    0.773251      0.934190\n",
      "recall      0.597467    0.952333  0.930137    0.774900      0.930137\n",
      "f1-score    0.575046    0.956467  0.930137    0.765756      0.930351\n",
      "support    98.709677  792.096774  0.930137  890.806452    890.806452\n",
      " Train_auc_roc: 0.7748998807663366 \n",
      "\n",
      "Valid:\n",
      "                    0           1  accuracy    macro avg  weighted avg\n",
      "precision    0.339731    0.987168  0.843536     0.663450      0.929775\n",
      "recall       0.850805    0.829425  0.843536     0.840115      0.843536\n",
      "f1-score     0.470751    0.900133  0.843536     0.685442      0.870742\n",
      "support    123.400000  942.200000  0.843536  1065.600000   1065.600000\n",
      " Val_auc_roc: 0.8401148418631083 \n",
      "\n",
      "Test:\n",
      "                   0           1  accuracy    macro avg  weighted avg\n",
      "precision   0.190835    0.970182  0.802852     0.580509      0.925732\n",
      "recall      0.507280    0.816700  0.802852     0.661990      0.802852\n",
      "f1-score    0.258419    0.883019  0.802852     0.570719      0.849347\n",
      "support    66.769231  981.000000  0.802852  1047.769231   1047.769231\n",
      " Test_auc_roc: 0.6619898754633635 \n",
      "\n"
     ]
    }
   ],
   "source": [
    "lr = 1e-3\n",
    "epochs = 50\n",
    "# weights for classes\n",
    "weight = torch.tensor([0.5, 0.5]).to(device)\n",
    "optimizer = torch.optim.Adam(GAT.parameters(), lr=lr)\n",
    "loss_fn = torch.nn.NLLLoss(weight)\n",
    "\n",
    "best_model = None\n",
    "best_valid_auc = 0\n",
    "best_result = None\n",
    "losses = []\n",
    "\n",
    "for epoch in range(1, 1 + epochs):\n",
    "    # train with random split\n",
    "    loss = train(GAT, data['train'], optimizer, loss_fn, device)\n",
    "    losses.append(loss)\n",
    "    result = test(GAT, data, device)\n",
    "    train_acc, val_acc, test_acc, train_auc, val_auc, test_auc = result\n",
    "    if val_auc > best_valid_auc:\n",
    "        best_valid_auc = val_auc\n",
    "        best_model = copy.deepcopy(GAT)\n",
    "        best_result = [train_acc, val_acc, test_acc, train_auc, val_auc, test_auc]\n",
    "    if epoch % 10 == 0:\n",
    "        print('Epoch: {:02},'.format(epoch),\n",
    "              'Loss:{:.4f}'.format(loss),\n",
    "              'Train:\\n{}\\n'.format(train_acc),\n",
    "              'Train_auc_roc: {}'.format(train_auc),\n",
    "              '\\n\\n'\n",
    "              'Valid:\\n{}\\n'.format(val_acc),\n",
    "              'Val_auc_roc: {}'.format(val_auc),\n",
    "              '\\n\\n'\n",
    "              'Test:\\n{}\\n'.format(test_acc),\n",
    "              'Test_auc_roc: {}'.format(test_auc),\n",
    "              '\\n'\n",
    "              )\n",
    "state = {\"net\":best_model.state_dict(), \"optimizer\":optimizer.state_dict()}\n",
    "torch.save(state, \"checkpoints/gat.pt\")"
   ]
  },
  {
   "cell_type": "code",
   "execution_count": 84,
   "metadata": {
    "ExecuteTime": {
     "end_time": "2023-06-24T10:44:55.118061700Z",
     "start_time": "2023-06-24T10:44:54.931024100Z"
    }
   },
   "outputs": [
    {
     "data": {
      "text/plain": "<Figure size 640x480 with 1 Axes>",
      "image/png": "[encoded data removed]"
     },
     "metadata": {},
     "output_type": "display_data"
    }
   ],
   "source": [
    "plt.plot(losses)\n",
    "plt.show()"
   ]
  },
  {
   "cell_type": "code",
   "execution_count": 89,
   "metadata": {
    "ExecuteTime": {
     "end_time": "2023-06-24T10:55:54.185345500Z",
     "start_time": "2023-06-24T10:55:54.131461400Z"
    }
   },
   "outputs": [],
   "source": [
    "%run FeatureAggregationModel.ipynb\n",
    "SFA = SpatialFeatureAggregator(node_dim=data[\"train\"][0].x.shape[1], edge_dim=1, output_dim=2, hidden_dim=256, n_gnn_layers=3, K=2, dropout_rate=0.1).to(device)"
   ]
  },
  {
   "cell_type": "code",
   "execution_count": 90,
   "metadata": {
    "ExecuteTime": {
     "end_time": "2023-06-24T10:57:01.839428500Z",
     "start_time": "2023-06-24T10:55:54.690248Z"
    }
   },
   "outputs": [
    {
     "name": "stdout",
     "output_type": "stream",
     "text": [
      "Epoch: 10, Loss:0.2019 Train:\n",
      "                   0           1  accuracy   macro avg  weighted avg\n",
      "precision   0.695271    0.948582  0.945236    0.821926      0.942354\n",
      "recall      0.514597    0.987757  0.945236    0.751177      0.945236\n",
      "f1-score    0.582303    0.967231  0.945236    0.774767      0.939653\n",
      "support    98.709677  792.096774  0.945236  890.806452    890.806452\n",
      " Train_auc_roc: 0.7511772204334586 \n",
      "\n",
      "Valid:\n",
      "                    0           1  accuracy    macro avg  weighted avg\n",
      "precision    0.747519    0.946968  0.939312     0.847243      0.939067\n",
      "recall       0.591630    0.984193  0.939312     0.787911      0.939312\n",
      "f1-score     0.650710    0.964537  0.939312     0.807624      0.934779\n",
      "support    123.400000  942.200000  0.939312  1065.600000   1065.600000\n",
      " Val_auc_roc: 0.7879114346830303 \n",
      "\n",
      "Test:\n",
      "                   0           1  accuracy    macro avg  weighted avg\n",
      "precision   0.396715    0.952258  0.946972     0.674487      0.930607\n",
      "recall      0.196060    0.992818  0.946972     0.594439      0.946972\n",
      "f1-score    0.260677    0.971769  0.946972     0.616223      0.934571\n",
      "support    66.769231  981.000000  0.946972  1047.769231   1047.769231\n",
      " Test_auc_roc: 0.5944391023951382 \n",
      "\n",
      "Epoch: 20, Loss:0.1439 Train:\n",
      "                   0           1  accuracy   macro avg  weighted avg\n",
      "precision   0.742491    0.970732  0.958857    0.856611      0.958301\n",
      "recall      0.652552    0.979442  0.958857    0.815997      0.958857\n",
      "f1-score    0.676078    0.974935  0.958857    0.825507      0.957718\n",
      "support    98.709677  792.096774  0.958857  890.806452    890.806452\n",
      " Train_auc_roc: 0.8159967868894802 \n",
      "\n",
      "Valid:\n",
      "                    0           1  accuracy    macro avg  weighted avg\n",
      "precision    0.487450    0.983485  0.915928     0.735468      0.945349\n",
      "recall       0.843254    0.918714  0.915928     0.880984      0.915928\n",
      "f1-score     0.598252    0.949929  0.915928     0.774091      0.926417\n",
      "support    123.400000  942.200000  0.915928  1065.600000   1065.600000\n",
      " Val_auc_roc: 0.8809840597421091 \n",
      "\n",
      "Test:\n",
      "                   0           1  accuracy    macro avg  weighted avg\n",
      "precision   0.250105    0.967097  0.888619     0.608601      0.927809\n",
      "recall      0.391848    0.911931  0.888619     0.651890      0.888619\n",
      "f1-score    0.289129    0.937557  0.888619     0.613343      0.904129\n",
      "support    66.769231  981.000000  0.888619  1047.769231   1047.769231\n",
      " Test_auc_roc: 0.6518896255558317 \n",
      "\n",
      "Epoch: 30, Loss:0.1087 Train:\n",
      "                   0           1  accuracy   macro avg  weighted avg\n",
      "precision   0.724755    0.979084  0.966563    0.851920      0.966227\n",
      "recall      0.718959    0.980483  0.966563    0.849721      0.966563\n",
      "f1-score    0.716831    0.979726  0.966563    0.848279      0.966108\n",
      "support    98.709677  792.096774  0.966563  890.806452    890.806452\n",
      " Train_auc_roc: 0.849721121625536 \n",
      "\n",
      "Valid:\n",
      "                    0           1  accuracy    macro avg  weighted avg\n",
      "precision    0.538197    0.986202  0.932091     0.762199      0.952607\n",
      "recall       0.847578    0.934795  0.932091     0.891187      0.932091\n",
      "f1-score     0.640196    0.959717  0.932091     0.799956      0.939387\n",
      "support    123.400000  942.200000  0.932091  1065.600000   1065.600000\n",
      " Val_auc_roc: 0.89118652044075 \n",
      "\n",
      "Test:\n",
      "                   0           1  accuracy    macro avg  weighted avg\n",
      "precision   0.283387    0.968198  0.906464     0.625792      0.932645\n",
      "recall      0.379007    0.930930  0.906464     0.654969      0.906464\n",
      "f1-score    0.309265    0.948441  0.906464     0.628853      0.916749\n",
      "support    66.769231  981.000000  0.906464  1047.769231   1047.769231\n",
      " Test_auc_roc: 0.6549685027890445 \n",
      "\n",
      "Epoch: 40, Loss:0.0846 Train:\n",
      "                   0           1  accuracy   macro avg  weighted avg\n",
      "precision   0.804274    0.981234  0.972783    0.892754      0.972105\n",
      "recall      0.748369    0.985769  0.972783    0.867069      0.972783\n",
      "f1-score    0.765115    0.983457  0.972783    0.874286      0.972158\n",
      "support    98.709677  792.096774  0.972783  890.806452    890.806452\n",
      " Train_auc_roc: 0.867069318940527 \n",
      "\n",
      "Valid:\n",
      "                    0           1  accuracy    macro avg  weighted avg\n",
      "precision    0.592169    0.982932   0.94244     0.787550      0.956335\n",
      "recall       0.825798    0.950414   0.94244     0.888106      0.942440\n",
      "f1-score     0.668632    0.966346   0.94244     0.817489      0.947847\n",
      "support    123.400000  942.200000   0.94244  1065.600000   1065.600000\n",
      " Val_auc_roc: 0.8881057357152077 \n",
      "\n",
      "Test:\n",
      "                   0           1  accuracy    macro avg  weighted avg\n",
      "precision   0.261124    0.965273  0.913594     0.613198      0.928532\n",
      "recall      0.345235    0.941508  0.913594     0.643372      0.913594\n",
      "f1-score    0.288542    0.952723  0.913594     0.620632      0.919287\n",
      "support    66.769231  981.000000  0.913594  1047.769231   1047.769231\n",
      " Test_auc_roc: 0.6433716171646007 \n",
      "\n",
      "Epoch: 50, Loss:0.0700 Train:\n",
      "                   0           1  accuracy   macro avg  weighted avg\n",
      "precision   0.825297    0.983003  0.978911    0.904150      0.977873\n",
      "recall      0.749102    0.991473  0.978911    0.870288      0.978911\n",
      "f1-score    0.775654    0.987181  0.978911    0.881418      0.977995\n",
      "support    98.709677  792.096774  0.978911  890.806452    890.806452\n",
      " Train_auc_roc: 0.870287721275231 \n",
      "\n",
      "Valid:\n",
      "                    0           1  accuracy    macro avg  weighted avg\n",
      "precision    0.609834    0.979634  0.943944     0.794734      0.955175\n",
      "recall       0.782610    0.955529  0.943944     0.869070      0.943944\n",
      "f1-score     0.668893    0.967358  0.943944     0.818126      0.948481\n",
      "support    123.400000  942.200000  0.943944  1065.600000   1065.600000\n",
      " Val_auc_roc: 0.869069661910919 \n",
      "\n",
      "Test:\n",
      "                   0           1  accuracy    macro avg  weighted avg\n",
      "precision   0.220803    0.960156  0.912488     0.590480      0.919715\n",
      "recall      0.293439    0.944202  0.912488     0.618820      0.912488\n",
      "f1-score    0.248468    0.951442  0.912488     0.599955      0.914523\n",
      "support    66.769231  981.000000  0.912488  1047.769231   1047.769231\n",
      " Test_auc_roc: 0.6188202922919117 \n",
      "\n"
     ]
    }
   ],
   "source": [
    "lr = 1e-3\n",
    "epochs = 50\n",
    "# weights for classes\n",
    "weight = torch.tensor([0.5, 0.5]).to(device)\n",
    "optimizer = torch.optim.Adam(SFA.parameters(), lr=lr)\n",
    "loss_fn = torch.nn.NLLLoss(weight)\n",
    "\n",
    "best_model = None\n",
    "best_valid_auc = 0\n",
    "best_result = None\n",
    "losses = []\n",
    "\n",
    "for epoch in range(1, 1 + epochs):\n",
    "    # train with random split\n",
    "    loss = train(SFA, data['train'], optimizer, loss_fn, device)\n",
    "    losses.append(loss)\n",
    "    result = test(SFA, data, device)\n",
    "    train_acc, val_acc, test_acc, train_auc, val_auc, test_auc = result\n",
    "    if val_auc > best_valid_auc:\n",
    "        best_valid_auc = val_auc\n",
    "        best_model = copy.deepcopy(SFA)\n",
    "        best_result = [train_acc, val_acc, test_acc, train_auc, val_auc, test_auc]\n",
    "    if epoch % 10 == 0:\n",
    "        print('Epoch: {:02},'.format(epoch),\n",
    "              'Loss:{:.4f}'.format(loss),\n",
    "              'Train:\\n{}\\n'.format(train_acc),\n",
    "              'Train_auc_roc: {}'.format(train_auc),\n",
    "              '\\n\\n'\n",
    "              'Valid:\\n{}\\n'.format(val_acc),\n",
    "              'Val_auc_roc: {}'.format(val_auc),\n",
    "              '\\n\\n'\n",
    "              'Test:\\n{}\\n'.format(test_acc),\n",
    "              'Test_auc_roc: {}'.format(test_auc),\n",
    "              '\\n'\n",
    "              )\n",
    "state = {\"net\":best_model.state_dict(), \"optimizer\":optimizer.state_dict()}\n",
    "torch.save(state, \"checkpoints/SFA.pt\")"
   ]
  },
  {
   "cell_type": "code",
   "execution_count": 91,
   "metadata": {
    "ExecuteTime": {
     "end_time": "2023-06-24T10:57:02.024417800Z",
     "start_time": "2023-06-24T10:57:01.839428500Z"
    }
   },
   "outputs": [
    {
     "data": {
      "text/plain": "<Figure size 640x480 with 1 Axes>",
      "image/png": "[encoded data removed]"
     },
     "metadata": {},
     "output_type": "display_data"
    }
   ],
   "source": [
    "plt.plot(losses)\n",
    "plt.show()"
   ]
  },
  {
   "cell_type": "code",
   "execution_count": 92,
   "metadata": {
    "ExecuteTime": {
     "end_time": "2023-06-24T10:57:02.437969700Z",
     "start_time": "2023-06-24T10:57:02.024417800Z"
    }
   },
   "outputs": [
    {
     "name": "stderr",
     "output_type": "stream",
     "text": [
      "D:\\Python\\Lib\\site-packages\\torch\\nn\\modules\\rnn.py:71: UserWarning: dropout option adds dropout after all but last recurrent layer, so non-zero dropout expects num_layers greater than 1, but got dropout=0.1 and num_layers=1\n",
      "  warnings.warn(\"dropout option adds dropout after all but last \"\n"
     ]
    }
   ],
   "source": [
    "%run LSTM_GNN.ipynb\n",
    "TB = TemporalBoy(node_dim=data[\"train\"][0].x.shape[1], edge_dim=1, output_dim=2, hidden_dim=256, n_gnn_layers=3, K=2, dropout_rate=0.1).to(device)"
   ]
  },
  {
   "cell_type": "code",
   "execution_count": 93,
   "metadata": {
    "ExecuteTime": {
     "end_time": "2023-06-24T11:09:21.990826Z",
     "start_time": "2023-06-24T10:57:02.437969700Z"
    }
   },
   "outputs": [
    {
     "name": "stdout",
     "output_type": "stream",
     "text": [
      "Epoch: 10, Loss:0.3181 Train:\n",
      "                   0           1  accuracy   macro avg  weighted avg\n",
      "precision   0.096774    0.865940  0.865978    0.481357      0.779165\n",
      "recall      0.001400    1.000000  0.865978    0.500700      0.865978\n",
      "f1-score    0.002739    0.924808  0.865978    0.463773      0.807343\n",
      "support    98.709677  792.096774  0.865978  890.806452    890.806452\n",
      " Train_auc_roc: 0.500699832149054 \n",
      "\n",
      "Valid:\n",
      "                    0           1  accuracy    macro avg  weighted avg\n",
      "precision    0.408938    0.895819  0.892164     0.652378      0.863932\n",
      "recall       0.053054    0.994913  0.892164     0.523984      0.892164\n",
      "f1-score     0.082858    0.940566  0.892164     0.511712      0.850707\n",
      "support    123.400000  942.200000  0.892164  1065.600000   1065.600000\n",
      " Val_auc_roc: 0.5239837230059261 \n",
      "\n",
      "Test:\n",
      "                   0           1  accuracy    macro avg  weighted avg\n",
      "precision   0.289405    0.936514  0.931084     0.612960      0.906162\n",
      "recall      0.034105    0.993529  0.931084     0.513817      0.931084\n",
      "f1-score    0.060171    0.963611  0.931084     0.511891      0.906894\n",
      "support    66.769231  981.000000  0.931084  1047.769231   1047.769231\n",
      " Test_auc_roc: 0.5138168386552835 \n",
      "\n",
      "Epoch: 20, Loss:0.2085 Train:\n",
      "                   0           1  accuracy   macro avg  weighted avg\n",
      "precision   0.625566    0.920615   0.91353    0.773091      0.910042\n",
      "recall      0.369512    0.979047   0.91353    0.674279      0.913530\n",
      "f1-score    0.452256    0.947958   0.91353    0.700107      0.903328\n",
      "support    98.709677  792.096774   0.91353  890.806452    890.806452\n",
      " Train_auc_roc: 0.6742791393873168 \n",
      "\n",
      "Valid:\n",
      "                    0           1  accuracy    macro avg  weighted avg\n",
      "precision    0.574367    0.946278  0.924672     0.760322      0.921454\n",
      "recall       0.497096    0.965991  0.924672     0.731544      0.924672\n",
      "f1-score     0.529328    0.955914  0.924672     0.742621      0.922077\n",
      "support    123.400000  942.200000  0.924672  1065.600000   1065.600000\n",
      " Val_auc_roc: 0.7315435547293377 \n",
      "\n",
      "Test:\n",
      "                   0           1  accuracy    macro avg  weighted avg\n",
      "precision   0.257130    0.945728  0.923659     0.601429      0.910449\n",
      "recall      0.141524    0.973605  0.923659     0.557565      0.923659\n",
      "f1-score    0.178600    0.958993  0.923659     0.568797      0.914458\n",
      "support    66.769231  981.000000  0.923659  1047.769231   1047.769231\n",
      " Test_auc_roc: 0.5575646319616786 \n",
      "\n",
      "Epoch: 30, Loss:0.1533 Train:\n",
      "                   0           1  accuracy   macro avg  weighted avg\n",
      "precision   0.698368    0.971036  0.957745    0.834702      0.956102\n",
      "recall      0.663730    0.977289  0.957745    0.820510      0.957745\n",
      "f1-score    0.677540    0.974062  0.957745    0.825801      0.956487\n",
      "support    98.709677  792.096774  0.957745  890.806452    890.806452\n",
      " Train_auc_roc: 0.8205097883858875 \n",
      "\n",
      "Valid:\n",
      "                    0           1  accuracy    macro avg  weighted avg\n",
      "precision    0.553073    0.977835  0.930569     0.765454      0.944687\n",
      "recall       0.792616    0.939358  0.930569     0.865987      0.930569\n",
      "f1-score     0.637323    0.958109  0.930569     0.797716      0.935709\n",
      "support    123.400000  942.200000  0.930569  1065.600000   1065.600000\n",
      " Val_auc_roc: 0.8659870276323878 \n",
      "\n",
      "Test:\n",
      "                   0           1  accuracy    macro avg  weighted avg\n",
      "precision   0.267465    0.961565  0.916317     0.614515      0.925400\n",
      "recall      0.310404    0.948261  0.916317     0.629333      0.916317\n",
      "f1-score    0.283057    0.954110  0.916317     0.618583      0.919701\n",
      "support    66.769231  981.000000  0.916317  1047.769231   1047.769231\n",
      " Test_auc_roc: 0.6293326983674461 \n",
      "\n",
      "Epoch: 40, Loss:0.1140 Train:\n",
      "                   0           1  accuracy   macro avg  weighted avg\n",
      "precision   0.755729    0.976655  0.965603    0.866192      0.964857\n",
      "recall      0.705232    0.981301  0.965603    0.843266      0.965603\n",
      "f1-score    0.716884    0.978936  0.965603    0.847910      0.964816\n",
      "support    98.709677  792.096774  0.965603  890.806452    890.806452\n",
      " Train_auc_roc: 0.8432662690383615 \n",
      "\n",
      "Valid:\n",
      "                    0           1  accuracy    macro avg  weighted avg\n",
      "precision    0.519629    0.982296  0.925016     0.750962      0.947345\n",
      "recall       0.812912    0.930784  0.925016     0.871848      0.925016\n",
      "f1-score     0.616180    0.955759  0.925016     0.785970      0.933259\n",
      "support    123.400000  942.200000  0.925016  1065.600000   1065.600000\n",
      " Val_auc_roc: 0.8718480839400785 \n",
      "\n",
      "Test:\n",
      "                   0           1  accuracy    macro avg  weighted avg\n",
      "precision   0.226299    0.958811  0.893354     0.592555      0.919103\n",
      "recall      0.304311    0.922101  0.893354     0.613206      0.893354\n",
      "f1-score    0.253210    0.939400  0.893354     0.596305      0.904153\n",
      "support    66.769231  981.000000  0.893354  1047.769231   1047.769231\n",
      " Test_auc_roc: 0.6132062148593733 \n",
      "\n",
      "Epoch: 50, Loss:0.0836 Train:\n",
      "                   0           1  accuracy   macro avg  weighted avg\n",
      "precision   0.816731    0.981120  0.973367    0.898925      0.972730\n",
      "recall      0.737600    0.986470  0.973367    0.862035      0.973367\n",
      "f1-score    0.758543    0.983755  0.973367    0.871149      0.972600\n",
      "support    98.709677  792.096774  0.973367  890.806452    890.806452\n",
      " Train_auc_roc: 0.8620347242922015 \n",
      "\n",
      "Valid:\n",
      "                    0           1  accuracy    macro avg  weighted avg\n",
      "precision    0.592477    0.976194  0.939868     0.784335      0.949750\n",
      "recall       0.744955    0.953931  0.939868     0.849443      0.939868\n",
      "f1-score     0.646390    0.964873  0.939868     0.805632      0.943893\n",
      "support    123.400000  942.200000  0.939868  1065.600000   1065.600000\n",
      " Val_auc_roc: 0.8494432019989654 \n",
      "\n",
      "Test:\n",
      "                   0           1  accuracy    macro avg  weighted avg\n",
      "precision   0.233991    0.955118  0.907991     0.594554      0.916611\n",
      "recall      0.254577    0.942421  0.907991     0.598499      0.907991\n",
      "f1-score    0.237600    0.948261  0.907991     0.592930      0.911088\n",
      "support    66.769231  981.000000  0.907991  1047.769231   1047.769231\n",
      " Test_auc_roc: 0.5984992469268323 \n",
      "\n"
     ]
    }
   ],
   "source": [
    "lr = 1e-3\n",
    "epochs = 50\n",
    "# weights for classes\n",
    "weight = torch.tensor([0.5, 0.5]).to(device)\n",
    "optimizer = torch.optim.Adam(TB.parameters(), lr=lr)\n",
    "loss_fn = torch.nn.NLLLoss(weight)\n",
    "\n",
    "best_model = None\n",
    "best_valid_auc = 0\n",
    "best_result = None\n",
    "losses = []\n",
    "\n",
    "for epoch in range(1, 1 + epochs):\n",
    "    # train with random split\n",
    "    loss = train(TB, data['train'], optimizer, loss_fn, device)\n",
    "    losses.append(loss)\n",
    "    result = test(TB, data, device)\n",
    "    train_acc, val_acc, test_acc, train_auc, val_auc, test_auc = result\n",
    "    if val_auc > best_valid_auc:\n",
    "        best_valid_auc = val_auc\n",
    "        best_model = copy.deepcopy(TB)\n",
    "        best_result = [train_acc, val_acc, test_acc, train_auc, val_auc, test_auc]\n",
    "    if epoch % 10 == 0:\n",
    "        print('Epoch: {:02},'.format(epoch),\n",
    "              'Loss:{:.4f}'.format(loss),\n",
    "              'Train:\\n{}\\n'.format(train_acc),\n",
    "              'Train_auc_roc: {}'.format(train_auc),\n",
    "              '\\n\\n'\n",
    "              'Valid:\\n{}\\n'.format(val_acc),\n",
    "              'Val_auc_roc: {}'.format(val_auc),\n",
    "              '\\n\\n'\n",
    "              'Test:\\n{}\\n'.format(test_acc),\n",
    "              'Test_auc_roc: {}'.format(test_auc),\n",
    "              '\\n'\n",
    "              )\n",
    "state = {\"net\":best_model.state_dict(), \"optimizer\":optimizer.state_dict()}\n",
    "torch.save(state, \"checkpoints/TB.pt\")"
   ]
  },
  {
   "cell_type": "code",
   "execution_count": 94,
   "metadata": {
    "ExecuteTime": {
     "end_time": "2023-06-24T11:09:22.232965Z",
     "start_time": "2023-06-24T11:09:21.990826Z"
    }
   },
   "outputs": [
    {
     "data": {
      "text/plain": "<Figure size 640x480 with 1 Axes>",
      "image/png": "[encoded data removed]"
     },
     "metadata": {},
     "output_type": "display_data"
    }
   ],
   "source": [
    "plt.plot(losses)\n",
    "plt.show()"
   ]
  }
 ],
 "metadata": {
  "kernelspec": {
   "display_name": "Python 3 (ipykernel)",
   "language": "python",
   "name": "python3"
  },
  "language_info": {
   "codemirror_mode": {
    "name": "ipython",
    "version": 3
   },
   "file_extension": ".py",
   "mimetype": "text/x-python",
   "name": "python",
   "nbconvert_exporter": "python",
   "pygments_lexer": "ipython3",
   "version": "3.11.3"
  }
 },
 "nbformat": 4,
 "nbformat_minor": 1
}
