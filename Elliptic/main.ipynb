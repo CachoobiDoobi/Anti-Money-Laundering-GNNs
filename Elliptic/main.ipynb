{
 "cells": [
  {
   "cell_type": "code",
   "execution_count": 61,
   "metadata": {
    "collapsed": true,
    "ExecuteTime": {
     "end_time": "2023-05-28T13:36:32.640832500Z",
     "start_time": "2023-05-28T13:36:32.623347700Z"
    }
   },
   "outputs": [],
   "source": [
    "import seaborn as sns\n",
    "sns.set(rc={'axes.facecolor': 'dimgrey', 'grid.color': 'lightgrey'})\n",
    "import pandas as pd\n",
    "import torch\n",
    "import copy\n",
    "import matplotlib.pyplot as plt"
   ]
  },
  {
   "cell_type": "code",
   "execution_count": 68,
   "outputs": [],
   "source": [
    "%run utils.ipynb\n",
    "%run model.ipynb"
   ],
   "metadata": {
    "collapsed": false,
    "ExecuteTime": {
     "end_time": "2023-05-28T13:45:08.421766900Z",
     "start_time": "2023-05-28T13:45:08.376398700Z"
    }
   }
  },
  {
   "cell_type": "code",
   "execution_count": 55,
   "outputs": [],
   "source": [
    "# class 1 is illicit, 2 is licit, unknown is unknown\n",
    "labels = pd.read_csv(\"data/elliptic_bitcoin_dataset/elliptic_txs_classes.csv\")\n",
    "edges = pd.read_csv(\"data/elliptic_bitcoin_dataset/elliptic_txs_edgelist.csv\")\n",
    "nodes = pd.read_csv(\"data/elliptic_bitcoin_dataset/elliptic_txs_features.csv\", header=None)"
   ],
   "metadata": {
    "collapsed": false,
    "ExecuteTime": {
     "end_time": "2023-05-28T13:32:27.839358800Z",
     "start_time": "2023-05-28T13:32:21.172671700Z"
    }
   }
  },
  {
   "cell_type": "code",
   "execution_count": 56,
   "outputs": [
    {
     "data": {
      "text/plain": "((46564, 167), (46564, 2), (36624, 2))"
     },
     "execution_count": 56,
     "metadata": {},
     "output_type": "execute_result"
    }
   ],
   "source": [
    "indexes = labels.index[labels[\"class\"] != \"unknown\"].tolist()\n",
    "labels_new = labels[labels[\"class\"] != \"unknown\"]\n",
    "nodes_new =  nodes.take(indexes)\n",
    "edges_new = edges.loc[edges[\"txId1\"].isin(labels_new[\"txId\"])].loc[edges[\"txId2\"].isin(labels_new[\"txId\"])]\n",
    "nodes_new.shape, labels_new.shape, edges_new.shape"
   ],
   "metadata": {
    "collapsed": false,
    "ExecuteTime": {
     "end_time": "2023-05-28T13:32:27.967695900Z",
     "start_time": "2023-05-28T13:32:27.839358800Z"
    }
   }
  },
  {
   "cell_type": "code",
   "execution_count": 57,
   "outputs": [],
   "source": [
    "device = 'cuda' if torch.cuda.is_available() else 'cpu'\n",
    "device = 'cpu'"
   ],
   "metadata": {
    "collapsed": false,
    "ExecuteTime": {
     "end_time": "2023-05-28T13:32:28.014560200Z",
     "start_time": "2023-05-28T13:32:27.967695900Z"
    }
   }
  },
  {
   "cell_type": "code",
   "execution_count": 58,
   "outputs": [
    {
     "name": "stdout",
     "output_type": "stream",
     "text": [
      "train 31\n",
      "val 5\n",
      "test 13\n"
     ]
    }
   ],
   "source": [
    "data, graph_info = time_step_split(nodes_new, edges_new, labels_new, device)\n",
    "for key in data:\n",
    "    print(key, len(data[key]))"
   ],
   "metadata": {
    "collapsed": false,
    "ExecuteTime": {
     "end_time": "2023-05-28T13:32:32.102082600Z",
     "start_time": "2023-05-28T13:32:28.014560200Z"
    }
   }
  },
  {
   "cell_type": "code",
   "execution_count": 69,
   "outputs": [],
   "source": [
    "model = GNN_Example(data[\"train\"][0].x.shape[1], 1, 2, 256, 3, K=2, dropout_rate=0.1).to(device)"
   ],
   "metadata": {
    "collapsed": false,
    "ExecuteTime": {
     "end_time": "2023-05-28T13:45:11.871531500Z",
     "start_time": "2023-05-28T13:45:11.857367200Z"
    }
   }
  },
  {
   "cell_type": "code",
   "execution_count": 72,
   "outputs": [
    {
     "name": "stdout",
     "output_type": "stream",
     "text": [
      "Epoch: 10, Loss:0.3364 Train:\n",
      "                   0           1  accuracy   macro avg  weighted avg\n",
      "precision   0.481123    0.985014  0.901516    0.733069      0.936047\n",
      "recall      0.776208    0.892958  0.901516    0.834583      0.901516\n",
      "f1-score    0.583079    0.935249  0.901516    0.759164      0.910893\n",
      "support    98.709677  792.096774  0.901516  890.806452    890.806452\n",
      " Train_auc_roc: 0.8345830701176352 \n",
      "\n",
      "Valid:\n",
      "                    0           1  accuracy    macro avg  weighted avg\n",
      "precision    0.268851    0.990983  0.770374     0.629917      0.923756\n",
      "recall       0.942556    0.741149  0.770374     0.841852      0.770374\n",
      "f1-score     0.403109    0.845517  0.770374     0.624313      0.814838\n",
      "support    123.400000  942.200000  0.770374  1065.600000   1065.600000\n",
      " Val_auc_roc: 0.8418521836360087 \n",
      "\n",
      "Test:\n",
      "                   0           1  accuracy    macro avg  weighted avg\n",
      "precision   0.168125    0.981644  0.683765     0.574885      0.933664\n",
      "recall      0.758780    0.676186  0.683765     0.717483      0.683765\n",
      "f1-score    0.257067    0.794893  0.683765     0.525980      0.765656\n",
      "support    66.769231  981.000000  0.683765  1047.769231   1047.769231\n",
      " Test_auc_roc: 0.7174829305623622 \n",
      "\n",
      "Epoch: 20, Loss:0.2251 Train:\n",
      "                   0           1  accuracy   macro avg  weighted avg\n",
      "precision   0.614774    0.985625  0.941245    0.800200      0.953481\n",
      "recall      0.786918    0.941972  0.941245    0.864445      0.941245\n",
      "f1-score    0.683064    0.962831  0.941245    0.822947      0.944649\n",
      "support    98.709677  792.096774  0.941245  890.806452    890.806452\n",
      " Train_auc_roc: 0.8644447327445419 \n",
      "\n",
      "Valid:\n",
      "                    0           1  accuracy    macro avg  weighted avg\n",
      "precision    0.367244    0.986634  0.856012     0.676939      0.932661\n",
      "recall       0.907311    0.845481  0.856012     0.876396      0.856012\n",
      "f1-score     0.501177    0.910012  0.856012     0.705594      0.880944\n",
      "support    123.400000  942.200000  0.856012  1065.600000   1065.600000\n",
      " Val_auc_roc: 0.8763958594165346 \n",
      "\n",
      "Test:\n",
      "                   0           1  accuracy    macro avg  weighted avg\n",
      "precision   0.179272    0.969971  0.790333     0.574622      0.923868\n",
      "recall      0.596098    0.797990  0.790333     0.697044      0.790333\n",
      "f1-score    0.257082    0.874047  0.790333     0.565564      0.841609\n",
      "support    66.769231  981.000000  0.790333  1047.769231   1047.769231\n",
      " Test_auc_roc: 0.6970441322238945 \n",
      "\n",
      "Epoch: 30, Loss:0.1625 Train:\n",
      "                   0           1  accuracy   macro avg  weighted avg\n",
      "precision   0.612217    0.993221  0.940304    0.802719      0.957552\n",
      "recall      0.887992    0.933525  0.940304    0.910758      0.940304\n",
      "f1-score    0.715887    0.961915  0.940304    0.838901      0.944874\n",
      "support    98.709677  792.096774  0.940304  890.806452    890.806452\n",
      " Train_auc_roc: 0.9107584432221555 \n",
      "\n",
      "Valid:\n",
      "                    0           1  accuracy    macro avg  weighted avg\n",
      "precision    0.327709    0.989699  0.823654     0.658704      0.931095\n",
      "recall       0.919091    0.806781  0.823654     0.862936      0.823654\n",
      "f1-score     0.461253    0.888006  0.823654     0.674629      0.858124\n",
      "support    123.400000  942.200000  0.823654  1065.600000   1065.600000\n",
      " Val_auc_roc: 0.862935673344144 \n",
      "\n",
      "Test:\n",
      "                   0           1  accuracy    macro avg  weighted avg\n",
      "precision   0.144621    0.972850  0.711928     0.558735      0.923184\n",
      "recall      0.668802    0.709023  0.711928     0.688913      0.711928\n",
      "f1-score    0.225451    0.818846  0.711928     0.522148      0.787152\n",
      "support    66.769231  981.000000  0.711928  1047.769231   1047.769231\n",
      " Test_auc_roc: 0.6889125551641115 \n",
      "\n",
      "Epoch: 40, Loss:0.1106 Train:\n",
      "                   0           1  accuracy   macro avg  weighted avg\n",
      "precision   0.673345    0.993116  0.954869    0.833231      0.964585\n",
      "recall      0.879822    0.951383  0.954869    0.915603      0.954869\n",
      "f1-score    0.757937    0.971538  0.954869    0.864737      0.957452\n",
      "support    98.709677  792.096774  0.954869  890.806452    890.806452\n",
      " Train_auc_roc: 0.915602696194669 \n",
      "\n",
      "Valid:\n",
      "                    0           1  accuracy    macro avg  weighted avg\n",
      "precision    0.408329    0.988643  0.880679     0.698486      0.940083\n",
      "recall       0.893596    0.873150  0.880679     0.883373      0.880679\n",
      "f1-score     0.538660    0.926983  0.880679     0.732821      0.900549\n",
      "support    123.400000  942.200000  0.880679  1065.600000   1065.600000\n",
      " Val_auc_roc: 0.8833731187267059 \n",
      "\n",
      "Test:\n",
      "                   0           1  accuracy    macro avg  weighted avg\n",
      "precision   0.162577    0.966392  0.803183     0.564484      0.919354\n",
      "recall      0.490596    0.814776  0.803183     0.652686      0.803183\n",
      "f1-score    0.233539    0.883042  0.803183     0.558290      0.848743\n",
      "support    66.769231  981.000000  0.803183  1047.769231   1047.769231\n",
      " Test_auc_roc: 0.6526859868579991 \n",
      "\n",
      "Epoch: 50, Loss:0.0886 Train:\n",
      "                   0           1  accuracy   macro avg  weighted avg\n",
      "precision   0.695795    0.995335   0.95904    0.845565      0.967963\n",
      "recall      0.917768    0.954309   0.95904    0.936038      0.959040\n",
      "f1-score    0.786802    0.974164   0.95904    0.880483      0.961333\n",
      "support    98.709677  792.096774   0.95904  890.806452    890.806452\n",
      " Train_auc_roc: 0.9360381598563554 \n",
      "\n",
      "Valid:\n",
      "                    0           1  accuracy    macro avg  weighted avg\n",
      "precision    0.432027    0.989617  0.891265     0.710822      0.943121\n",
      "recall       0.900910    0.883744  0.891265     0.892327      0.891265\n",
      "f1-score     0.563734    0.933348  0.891265     0.748541      0.908399\n",
      "support    123.400000  942.200000  0.891265  1065.600000   1065.600000\n",
      " Val_auc_roc: 0.892327386371862 \n",
      "\n",
      "Test:\n",
      "                   0           1  accuracy    macro avg  weighted avg\n",
      "precision   0.173667    0.966960  0.815065     0.570313      0.921122\n",
      "recall      0.482829    0.828004  0.815065     0.655416      0.815065\n",
      "f1-score    0.243836    0.891187  0.815065     0.567512      0.857313\n",
      "support    66.769231  981.000000  0.815065  1047.769231   1047.769231\n",
      " Test_auc_roc: 0.6554164209847126 \n",
      "\n"
     ]
    }
   ],
   "source": [
    "model.reset_parameters()\n",
    "\n",
    "lr = 1e-2\n",
    "epochs = 50\n",
    "weight = torch.tensor([0.9, 0.1]).to(device)\n",
    "optimizer = torch.optim.Adam(model.parameters(), lr=lr)\n",
    "loss_fn = torch.nn.NLLLoss(weight)\n",
    "\n",
    "best_model = None\n",
    "best_valid_auc = 0\n",
    "best_result = None\n",
    "losses = []\n",
    "\n",
    "for epoch in range(1, 1 + epochs):\n",
    "    # train with random split\n",
    "    loss = train(model, data['train'], optimizer, loss_fn, device)\n",
    "    losses.append(loss)\n",
    "    result = test(model, data, device)\n",
    "    train_acc, val_acc, test_acc, train_auc, val_auc, test_auc = result\n",
    "    if val_auc > best_valid_auc:\n",
    "        best_valid_auc = val_auc\n",
    "        best_model = copy.deepcopy(model)\n",
    "        best_result = [train_acc, val_acc, test_acc, train_auc, val_auc, test_auc]\n",
    "    if epoch % 10 == 0:\n",
    "        print('Epoch: {:02},'.format(epoch),\n",
    "              'Loss:{:.4f}'.format(loss),\n",
    "              'Train:\\n{}\\n'.format(train_acc),\n",
    "              'Train_auc_roc: {}'.format(train_auc),\n",
    "              '\\n\\n'\n",
    "              'Valid:\\n{}\\n'.format(val_acc),\n",
    "              'Val_auc_roc: {}'.format(val_auc),\n",
    "              '\\n\\n'\n",
    "              'Test:\\n{}\\n'.format(test_acc),\n",
    "              'Test_auc_roc: {}'.format(test_auc),\n",
    "              '\\n'\n",
    "              )"
   ],
   "metadata": {
    "collapsed": false,
    "ExecuteTime": {
     "end_time": "2023-05-28T13:50:08.314734400Z",
     "start_time": "2023-05-28T13:47:51.512021100Z"
    }
   }
  },
  {
   "cell_type": "code",
   "execution_count": 71,
   "outputs": [
    {
     "data": {
      "text/plain": "<Figure size 640x480 with 1 Axes>",
      "image/png": "[encoded data removed]"
     },
     "metadata": {},
     "output_type": "display_data"
    }
   ],
   "source": [
    "plt.plot(losses)\n",
    "plt.show()"
   ],
   "metadata": {
    "collapsed": false,
    "ExecuteTime": {
     "end_time": "2023-05-28T13:47:22.869983600Z",
     "start_time": "2023-05-28T13:47:22.697529500Z"
    }
   }
  }
 ],
 "metadata": {
  "kernelspec": {
   "display_name": "Python 3",
   "language": "python",
   "name": "python3"
  },
  "language_info": {
   "codemirror_mode": {
    "name": "ipython",
    "version": 2
   },
   "file_extension": ".py",
   "mimetype": "text/x-python",
   "name": "python",
   "nbconvert_exporter": "python",
   "pygments_lexer": "ipython2",
   "version": "2.7.6"
  }
 },
 "nbformat": 4,
 "nbformat_minor": 0
}
