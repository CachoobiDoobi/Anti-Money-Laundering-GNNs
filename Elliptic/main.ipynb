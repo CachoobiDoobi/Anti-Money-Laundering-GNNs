{
 "cells": [
  {
   "cell_type": "code",
   "execution_count": 9,
   "metadata": {
    "ExecuteTime": {
     "end_time": "2023-06-07T09:11:00.977256700Z",
     "start_time": "2023-06-07T09:10:57.367765200Z"
    }
   },
   "outputs": [],
   "source": [
    "import seaborn as sns\n",
    "sns.set(rc={'axes.facecolor': 'dimgrey', 'grid.color': 'lightgrey'})\n",
    "import pandas as pd\n",
    "import torch\n",
    "import copy\n",
    "import matplotlib.pyplot as plt"
   ]
  },
  {
   "cell_type": "code",
   "execution_count": 24,
   "metadata": {
    "ExecuteTime": {
     "end_time": "2023-06-07T11:08:02.019240700Z",
     "start_time": "2023-06-07T11:08:01.988896800Z"
    }
   },
   "outputs": [],
   "source": [
    "%run utils.ipynb\n",
    "%run gcn_model.ipynb\n",
    "%run GAT_model.ipynb\n",
    "%run FeatureAggregationModel.ipynb"
   ]
  },
  {
   "cell_type": "code",
   "execution_count": 3,
   "metadata": {
    "ExecuteTime": {
     "end_time": "2023-06-07T09:12:11.054956Z",
     "start_time": "2023-06-07T09:11:57.783101400Z"
    }
   },
   "outputs": [],
   "source": [
    "# class 1 is illicit, 2 is licit, unknown is unknown\n",
    "labels = pd.read_csv(\"data/elliptic_bitcoin_dataset/elliptic_txs_classes.csv\")\n",
    "edges = pd.read_csv(\"data/elliptic_bitcoin_dataset/elliptic_txs_edgelist.csv\")\n",
    "nodes = pd.read_csv(\"data/elliptic_bitcoin_dataset/elliptic_txs_features.csv\", header=None)"
   ]
  },
  {
   "cell_type": "code",
   "execution_count": 4,
   "metadata": {
    "ExecuteTime": {
     "end_time": "2023-06-07T09:12:19.140810500Z",
     "start_time": "2023-06-07T09:12:18.966261900Z"
    }
   },
   "outputs": [
    {
     "data": {
      "text/plain": [
       "((46564, 167), (46564, 2), (36624, 2))"
      ]
     },
     "execution_count": 4,
     "metadata": {},
     "output_type": "execute_result"
    }
   ],
   "source": [
    "indexes = labels.index[labels[\"class\"] != \"unknown\"].tolist()\n",
    "labels_new = labels[labels[\"class\"] != \"unknown\"]\n",
    "nodes_new =  nodes.take(indexes)\n",
    "edges_new = edges.loc[edges[\"txId1\"].isin(labels_new[\"txId\"])].loc[edges[\"txId2\"].isin(labels_new[\"txId\"])]\n",
    "nodes_new.shape, labels_new.shape, edges_new.shape"
   ]
  },
  {
   "cell_type": "code",
   "execution_count": 5,
   "metadata": {
    "ExecuteTime": {
     "end_time": "2023-06-07T09:12:20.259441100Z",
     "start_time": "2023-06-07T09:12:20.245026100Z"
    }
   },
   "outputs": [],
   "source": [
    "device = 'cuda' if torch.cuda.is_available() else 'cpu'"
   ]
  },
  {
   "cell_type": "code",
   "execution_count": 6,
   "metadata": {
    "ExecuteTime": {
     "end_time": "2023-06-07T09:12:58.333842400Z",
     "start_time": "2023-06-07T09:12:53.015314400Z"
    }
   },
   "outputs": [
    {
     "name": "stdout",
     "output_type": "stream",
     "text": [
      "train 31\n",
      "val 5\n",
      "test 13\n"
     ]
    }
   ],
   "source": [
    "data, graph_info = time_step_split(nodes_new, edges_new, labels_new, device)\n",
    "for key in data:\n",
    "    print(key, len(data[key]))"
   ]
  },
  {
   "cell_type": "code",
   "execution_count": 11,
   "metadata": {},
   "outputs": [],
   "source": [
    "GCN = GNN_Example(node_dim=data[\"train\"][0].x.shape[1], edge_dim=1, output_dim=2, hidden_dim=256, n_gnn_layers=3, K=2, dropout_rate=0.1).to(device)"
   ]
  },
  {
   "cell_type": "code",
   "execution_count": 14,
   "metadata": {},
   "outputs": [
    {
     "name": "stdout",
     "output_type": "stream",
     "text": [
      "Epoch: 10, Loss:0.1898 Train:\n",
      "                   0           1  accuracy   macro avg  weighted avg\n",
      "precision   0.709927    0.951059  0.946978    0.830493      0.946999\n",
      "recall      0.523810    0.986783  0.946978    0.755297      0.946978\n",
      "f1-score    0.585383    0.967954  0.946978    0.776668      0.942446\n",
      "support    98.709677  792.096774  0.946978  890.806452    890.806452\n",
      " Train_auc_roc: 0.7552967693191469 \n",
      "\n",
      "Valid:\n",
      "                    0           1  accuracy    macro avg  weighted avg\n",
      "precision    0.623936    0.960510   0.93499     0.792223      0.939345\n",
      "recall       0.723070    0.963188   0.93499     0.843129      0.934990\n",
      "f1-score     0.653442    0.961536   0.93499     0.807489      0.935821\n",
      "support    123.400000  942.200000   0.93499  1065.600000   1065.600000\n",
      " Val_auc_roc: 0.8431291272312077 \n",
      "\n",
      "Test:\n",
      "                   0           1  accuracy    macro avg  weighted avg\n",
      "precision   0.347624    0.958977  0.928329     0.653301      0.930666\n",
      "recall      0.299511    0.962739  0.928329     0.631125      0.928329\n",
      "f1-score    0.317800    0.960605  0.928329     0.639202      0.928789\n",
      "support    66.769231  981.000000  0.928329  1047.769231   1047.769231\n",
      " Test_auc_roc: 0.631125106315021 \n",
      "\n",
      "Epoch: 20, Loss:0.1450 Train:\n",
      "                   0           1  accuracy   macro avg  weighted avg\n",
      "precision   0.695048    0.973289  0.956488    0.834168      0.957072\n",
      "recall      0.685399    0.973612  0.956488    0.829506      0.956488\n",
      "f1-score    0.682988    0.973287  0.956488    0.828138      0.956164\n",
      "support    98.709677  792.096774  0.956488  890.806452    890.806452\n",
      " Train_auc_roc: 0.8295055805637969 \n",
      "\n",
      "Valid:\n",
      "                    0           1  accuracy    macro avg  weighted avg\n",
      "precision    0.522968    0.984521   0.92786     0.753744      0.950641\n",
      "recall       0.849461    0.931986   0.92786     0.890723      0.927860\n",
      "f1-score     0.623286    0.957445   0.92786     0.790366      0.936089\n",
      "support    123.400000  942.200000   0.92786  1065.600000   1065.600000\n",
      " Val_auc_roc: 0.89072331701403 \n",
      "\n",
      "Test:\n",
      "                   0           1  accuracy    macro avg  weighted avg\n",
      "precision   0.256260    0.965616  0.887544     0.610938      0.927768\n",
      "recall      0.381023    0.909655  0.887544     0.645339      0.887544\n",
      "f1-score    0.300849    0.936043  0.887544     0.618446      0.904691\n",
      "support    66.769231  981.000000  0.887544  1047.769231   1047.769231\n",
      " Test_auc_roc: 0.6453389758911403 \n",
      "\n",
      "Epoch: 30, Loss:0.1164 Train:\n",
      "                   0           1  accuracy   macro avg  weighted avg\n",
      "precision   0.738670    0.978319  0.966123    0.858495      0.965874\n",
      "recall      0.720046    0.980566  0.966123    0.850306      0.966123\n",
      "f1-score    0.721485    0.979367  0.966123    0.850426      0.965607\n",
      "support    98.709677  792.096774  0.966123  890.806452    890.806452\n",
      " Train_auc_roc: 0.850306190588922 \n",
      "\n",
      "Valid:\n",
      "                    0           1  accuracy    macro avg  weighted avg\n",
      "precision    0.607367    0.985994  0.947862     0.796681      0.959985\n",
      "recall       0.847648    0.953488  0.947862     0.900568      0.947862\n",
      "f1-score     0.688846    0.969390  0.947862     0.829118      0.952223\n",
      "support    123.400000  942.200000  0.947862  1065.600000   1065.600000\n",
      " Val_auc_roc: 0.9005684783440941 \n",
      "\n",
      "Test:\n",
      "                   0           1  accuracy    macro avg  weighted avg\n",
      "precision   0.325319    0.968434  0.922718     0.646877      0.936602\n",
      "recall      0.414633    0.948496  0.922718     0.681564      0.922718\n",
      "f1-score    0.339786    0.957836  0.922718     0.648811      0.927800\n",
      "support    66.769231  981.000000  0.922718  1047.769231   1047.769231\n",
      " Test_auc_roc: 0.6815643876475044 \n",
      "\n",
      "Epoch: 40, Loss:0.0963 Train:\n",
      "                   0           1  accuracy   macro avg  weighted avg\n",
      "precision   0.761361    0.979184  0.970419    0.870273      0.969673\n",
      "recall      0.726109    0.985035  0.970419    0.855572      0.970419\n",
      "f1-score    0.739101    0.982056  0.970419    0.860578      0.969793\n",
      "support    98.709677  792.096774  0.970419  890.806452    890.806452\n",
      " Train_auc_roc: 0.8555717396182696 \n",
      "\n",
      "Valid:\n",
      "                    0           1  accuracy    macro avg  weighted avg\n",
      "precision    0.636368    0.981167  0.950489     0.808767      0.959097\n",
      "recall       0.832000    0.961131  0.950489     0.896565      0.950489\n",
      "f1-score     0.701627    0.971006  0.950489     0.836317      0.953737\n",
      "support    123.400000  942.200000  0.950489  1065.600000   1065.600000\n",
      " Val_auc_roc: 0.8965654964360821 \n",
      "\n",
      "Test:\n",
      "                   0           1  accuracy    macro avg  weighted avg\n",
      "precision   0.353155    0.966172  0.928032     0.659663      0.936624\n",
      "recall      0.349422    0.955985  0.928032     0.652704      0.928032\n",
      "f1-score    0.308133    0.960563  0.928032     0.634348      0.928474\n",
      "support    66.769231  981.000000  0.928032  1047.769231   1047.769231\n",
      " Test_auc_roc: 0.6527035815390837 \n",
      "\n",
      "Epoch: 50, Loss:0.0833 Train:\n",
      "                   0           1  accuracy   macro avg  weighted avg\n",
      "precision   0.777909    0.980912  0.973533    0.879410      0.972600\n",
      "recall      0.734142    0.987075  0.973533    0.860609      0.973533\n",
      "f1-score    0.749420    0.983945  0.973533    0.866683      0.972795\n",
      "support    98.709677  792.096774  0.973533  890.806452    890.806452\n",
      " Train_auc_roc: 0.860608586019827 \n",
      "\n",
      "Valid:\n",
      "                    0           1  accuracy    macro avg  weighted avg\n",
      "precision    0.623882    0.979869  0.948153     0.801876      0.957872\n",
      "recall       0.811923    0.960161  0.948153     0.886042      0.948153\n",
      "f1-score     0.686215    0.969823  0.948153     0.828019      0.951838\n",
      "support    123.400000  942.200000  0.948153  1065.600000   1065.600000\n",
      " Val_auc_roc: 0.8860416949303787 \n",
      "\n",
      "Test:\n",
      "                   0           1  accuracy    macro avg  weighted avg\n",
      "precision   0.264414    0.963803  0.923988     0.614109      0.927166\n",
      "recall      0.329241    0.952776  0.923988     0.641008      0.923988\n",
      "f1-score    0.290089    0.957802  0.923988     0.623945      0.924417\n",
      "support    66.769231  981.000000  0.923988  1047.769231   1047.769231\n",
      " Test_auc_roc: 0.641008423787791 \n",
      "\n"
     ]
    }
   ],
   "source": [
    "lr = 1e-3\n",
    "epochs = 50\n",
    "# weights for classes\n",
    "weight = torch.tensor([0.5, 0.5]).to(device)\n",
    "optimizer = torch.optim.Adam(GCN.parameters(), lr=lr)\n",
    "loss_fn = torch.nn.NLLLoss(weight)\n",
    "\n",
    "best_model = None\n",
    "best_valid_auc = 0\n",
    "best_result = None\n",
    "losses = []\n",
    "\n",
    "for epoch in range(1, 1 + epochs):\n",
    "    # train with random split\n",
    "    loss = train(GCN, data['train'], optimizer, loss_fn, device)\n",
    "    losses.append(loss)\n",
    "    result = test(GCN, data, device)\n",
    "    train_acc, val_acc, test_acc, train_auc, val_auc, test_auc = result\n",
    "    if val_auc > best_valid_auc:\n",
    "        best_valid_auc = val_auc\n",
    "        best_model = copy.deepcopy(GCN)\n",
    "        best_result = [train_acc, val_acc, test_acc, train_auc, val_auc, test_auc]\n",
    "    if epoch % 10 == 0:\n",
    "        print('Epoch: {:02},'.format(epoch),\n",
    "              'Loss:{:.4f}'.format(loss),\n",
    "              'Train:\\n{}\\n'.format(train_acc),\n",
    "              'Train_auc_roc: {}'.format(train_auc),\n",
    "              '\\n\\n'\n",
    "              'Valid:\\n{}\\n'.format(val_acc),\n",
    "              'Val_auc_roc: {}'.format(val_auc),\n",
    "              '\\n\\n'\n",
    "              'Test:\\n{}\\n'.format(test_acc),\n",
    "              'Test_auc_roc: {}'.format(test_auc),\n",
    "              '\\n'\n",
    "              )\n",
    "state = {\"net\":best_model.state_dict(), \"optimizer\":optimizer.state_dict()}\n",
    "torch.save(state, \"gcn.pt\")"
   ]
  },
  {
   "cell_type": "code",
   "execution_count": 15,
   "metadata": {},
   "outputs": [
    {
     "data": {
      "image/png": "[encoded data removed]",
      "text/plain": [
       "<Figure size 640x480 with 1 Axes>"
      ]
     },
     "metadata": {},
     "output_type": "display_data"
    }
   ],
   "source": [
    "plt.plot(losses)\n",
    "plt.show()"
   ]
  },
  {
   "cell_type": "code",
   "execution_count": 19,
   "metadata": {
    "ExecuteTime": {
     "end_time": "2023-06-07T11:15:35.615761700Z",
     "start_time": "2023-06-07T11:15:35.605206900Z"
    }
   },
   "outputs": [],
   "source": [
    "GAT = GraphAttentionNetwork(node_dim=data[\"train\"][0].x.shape[1], output_dim=2, hidden_dim=256, n_gnn_layers=1, heads=2, dropout_rate=0.5).to(device)"
   ]
  },
  {
   "cell_type": "code",
   "execution_count": 20,
   "metadata": {
    "ExecuteTime": {
     "end_time": "2023-06-07T11:18:01.112720Z",
     "start_time": "2023-06-07T11:15:36.005144300Z"
    }
   },
   "outputs": [
    {
     "name": "stdout",
     "output_type": "stream",
     "text": [
      "Epoch: 10, Loss:0.5539 Train:\n",
      "                   0           1  accuracy   macro avg  weighted avg\n",
      "precision   0.508149    0.953906  0.904317    0.731028      0.916304\n",
      "recall      0.561154    0.927791  0.904317    0.744473      0.904317\n",
      "f1-score    0.495863    0.939535  0.904317    0.717699      0.906136\n",
      "support    98.709677  792.096774  0.904317  890.806452    890.806452\n",
      " Train_auc_roc: 0.7444725048596612 \n",
      "\n",
      "Valid:\n",
      "                    0           1  accuracy    macro avg  weighted avg\n",
      "precision    0.266693    0.975331  0.778497     0.621012      0.910713\n",
      "recall       0.820329    0.761030  0.778497     0.790680      0.778497\n",
      "f1-score     0.389133    0.852933  0.778497     0.621033      0.819712\n",
      "support    123.400000  942.200000  0.778497  1065.600000   1065.600000\n",
      " Val_auc_roc: 0.7906799019947716 \n",
      "\n",
      "Test:\n",
      "                   0           1  accuracy    macro avg  weighted avg\n",
      "precision   0.167675    0.980789  0.670679     0.574232      0.932960\n",
      "recall      0.738613    0.663067  0.670679     0.700840      0.670679\n",
      "f1-score    0.255182    0.783613  0.670679     0.519397      0.754589\n",
      "support    66.769231  981.000000  0.670679  1047.769231   1047.769231\n",
      " Test_auc_roc: 0.7008395964080797 \n",
      "\n",
      "Epoch: 20, Loss:0.5077 Train:\n",
      "                   0           1  accuracy   macro avg  weighted avg\n",
      "precision   0.529800    0.969741  0.916005    0.749771      0.930214\n",
      "recall      0.668395    0.925574  0.916005    0.796984      0.916005\n",
      "f1-score    0.576896    0.946663  0.916005    0.761779      0.920431\n",
      "support    98.709677  792.096774  0.916005  890.806452    890.806452\n",
      " Train_auc_roc: 0.7969841454003567 \n",
      "\n",
      "Valid:\n",
      "                    0           1  accuracy    macro avg  weighted avg\n",
      "precision    0.300788    0.970876   0.81186     0.635832      0.910691\n",
      "recall       0.815421    0.802182   0.81186     0.808802      0.811860\n",
      "f1-score     0.425433    0.877346   0.81186     0.651390      0.843971\n",
      "support    123.400000  942.200000   0.81186  1065.600000   1065.600000\n",
      " Val_auc_roc: 0.808801598778514 \n",
      "\n",
      "Test:\n",
      "                   0           1  accuracy    macro avg  weighted avg\n",
      "precision   0.174105    0.971099  0.740539     0.572602      0.924657\n",
      "recall      0.538146    0.746443  0.740539     0.642294      0.740539\n",
      "f1-score    0.249027    0.838836  0.740539     0.543932      0.806667\n",
      "support    66.769231  981.000000  0.740539  1047.769231   1047.769231\n",
      " Test_auc_roc: 0.6422944134736499 \n",
      "\n",
      "Epoch: 30, Loss:0.4848 Train:\n",
      "                   0           1  accuracy   macro avg  weighted avg\n",
      "precision   0.569505    0.978951  0.930627    0.774228      0.943236\n",
      "recall      0.718173    0.934735  0.930627    0.826454      0.930627\n",
      "f1-score    0.624128    0.955913  0.930627    0.790020      0.934376\n",
      "support    98.709677  792.096774  0.930627  890.806452    890.806452\n",
      " Train_auc_roc: 0.8264537629434784 \n",
      "\n",
      "Valid:\n",
      "                    0           1  accuracy    macro avg  weighted avg\n",
      "precision    0.319193    0.983674  0.824599     0.651434      0.923622\n",
      "recall       0.842322    0.809636  0.824599     0.825979      0.824599\n",
      "f1-score     0.448445    0.886638  0.824599     0.667541      0.855633\n",
      "support    123.400000  942.200000  0.824599  1065.600000   1065.600000\n",
      " Val_auc_roc: 0.8259788989657799 \n",
      "\n",
      "Test:\n",
      "                   0           1  accuracy    macro avg  weighted avg\n",
      "precision   0.164627    0.968539  0.769679     0.566583      0.921155\n",
      "recall      0.530843    0.780305  0.769679     0.655574      0.769679\n",
      "f1-score    0.235344    0.860276  0.769679     0.547810      0.825667\n",
      "support    66.769231  981.000000  0.769679  1047.769231   1047.769231\n",
      " Test_auc_roc: 0.6555736382457347 \n",
      "\n",
      "Epoch: 40, Loss:0.4762 Train:\n",
      "                   0           1  accuracy   macro avg  weighted avg\n",
      "precision   0.555974    0.980119  0.927926    0.768047      0.943320\n",
      "recall      0.752352    0.930838  0.927926    0.841595      0.927926\n",
      "f1-score    0.630380    0.954520  0.927926    0.792450      0.932977\n",
      "support    98.709677  792.096774  0.927926  890.806452    890.806452\n",
      " Train_auc_roc: 0.8415952110702469 \n",
      "\n",
      "Valid:\n",
      "                    0           1  accuracy    macro avg  weighted avg\n",
      "precision    0.355503    0.981302  0.853528     0.668402      0.926754\n",
      "recall       0.820772    0.845605  0.853528     0.833189      0.853528\n",
      "f1-score     0.480438    0.907564  0.853528     0.694001      0.877738\n",
      "support    123.400000  942.200000  0.853528  1065.600000   1065.600000\n",
      " Val_auc_roc: 0.8331886017549184 \n",
      "\n",
      "Test:\n",
      "                   0           1  accuracy    macro avg  weighted avg\n",
      "precision   0.187319    0.967472  0.815079     0.577396      0.922251\n",
      "recall      0.472394    0.831158  0.815079     0.651776      0.815079\n",
      "f1-score    0.251876    0.891091  0.815079     0.571484      0.856234\n",
      "support    66.769231  981.000000  0.815079  1047.769231   1047.769231\n",
      " Test_auc_roc: 0.6517763824084851 \n",
      "\n",
      "Epoch: 50, Loss:0.4608 Train:\n",
      "                   0           1  accuracy   macro avg  weighted avg\n",
      "precision   0.585919    0.979070  0.935897    0.782495      0.946364\n",
      "recall      0.739374    0.941734  0.935897    0.840554      0.935897\n",
      "f1-score    0.645730    0.959827  0.935897    0.802779      0.939358\n",
      "support    98.709677  792.096774  0.935897  890.806452    890.806452\n",
      " Train_auc_roc: 0.8405536661953873 \n",
      "\n",
      "Valid:\n",
      "                    0           1  accuracy    macro avg  weighted avg\n",
      "precision    0.383564    0.981421  0.872109     0.682492      0.930680\n",
      "recall       0.808792    0.867943  0.872109     0.838368      0.872109\n",
      "f1-score     0.504739    0.920693  0.872109     0.712716      0.892027\n",
      "support    123.400000  942.200000  0.872109  1065.600000   1065.600000\n",
      " Val_auc_roc: 0.838367684219433 \n",
      "\n",
      "Test:\n",
      "                   0           1  accuracy    macro avg  weighted avg\n",
      "precision   0.208095    0.968353  0.838371     0.588224      0.925056\n",
      "recall      0.477650    0.856361  0.838371     0.667005      0.838371\n",
      "f1-score    0.268424    0.906372  0.838371     0.587398      0.872140\n",
      "support    66.769231  981.000000  0.838371  1047.769231   1047.769231\n",
      " Test_auc_roc: 0.6670054423522495 \n",
      "\n"
     ]
    }
   ],
   "source": [
    "lr = 1e-3\n",
    "epochs = 50\n",
    "# weights for classes\n",
    "weight = torch.tensor([0.5, 0.5]).to(device)\n",
    "optimizer = torch.optim.Adam(GAT.parameters(), lr=lr)\n",
    "loss_fn = torch.nn.NLLLoss(weight)\n",
    "\n",
    "best_model = None\n",
    "best_valid_auc = 0\n",
    "best_result = None\n",
    "losses = []\n",
    "\n",
    "for epoch in range(1, 1 + epochs):\n",
    "    # train with random split\n",
    "    loss = train(GAT, data['train'], optimizer, loss_fn, device)\n",
    "    losses.append(loss)\n",
    "    result = test(GAT, data, device)\n",
    "    train_acc, val_acc, test_acc, train_auc, val_auc, test_auc = result\n",
    "    if val_auc > best_valid_auc:\n",
    "        best_valid_auc = val_auc\n",
    "        best_model = copy.deepcopy(GAT)\n",
    "        best_result = [train_acc, val_acc, test_acc, train_auc, val_auc, test_auc]\n",
    "    if epoch % 10 == 0:\n",
    "        print('Epoch: {:02},'.format(epoch),\n",
    "              'Loss:{:.4f}'.format(loss),\n",
    "              'Train:\\n{}\\n'.format(train_acc),\n",
    "              'Train_auc_roc: {}'.format(train_auc),\n",
    "              '\\n\\n'\n",
    "              'Valid:\\n{}\\n'.format(val_acc),\n",
    "              'Val_auc_roc: {}'.format(val_auc),\n",
    "              '\\n\\n'\n",
    "              'Test:\\n{}\\n'.format(test_acc),\n",
    "              'Test_auc_roc: {}'.format(test_auc),\n",
    "              '\\n'\n",
    "              )\n",
    "state = {\"net\":best_model.state_dict(), \"optimizer\":optimizer.state_dict()}\n",
    "torch.save(state, \"gat.pt\")"
   ]
  },
  {
   "cell_type": "code",
   "execution_count": 21,
   "metadata": {
    "ExecuteTime": {
     "end_time": "2023-06-07T11:18:05.472385600Z",
     "start_time": "2023-06-07T11:18:05.275140100Z"
    }
   },
   "outputs": [
    {
     "data": {
      "image/png": "[encoded data removed]",
      "text/plain": [
       "<Figure size 640x480 with 1 Axes>"
      ]
     },
     "metadata": {},
     "output_type": "display_data"
    }
   ],
   "source": [
    "plt.plot(losses)\n",
    "plt.show()"
   ]
  },
  {
   "cell_type": "code",
   "execution_count": 64,
   "metadata": {
    "ExecuteTime": {
     "end_time": "2023-06-07T11:18:21.574285700Z",
     "start_time": "2023-06-07T11:18:08.725520500Z"
    }
   },
   "outputs": [
    {
     "data": {
      "image/png": "[encoded data removed]",
      "text/plain": [
       "<Figure size 1000x1000 with 1 Axes>"
      ]
     },
     "metadata": {},
     "output_type": "display_data"
    }
   ],
   "source": [
    "from sklearn.manifold import TSNE\n",
    "\n",
    "untrained_gat = GraphAttentionNetwork(node_dim=data[\"train\"][0].x.shape[1], output_dim=2, hidden_dim=256, n_gnn_layers=1, heads=2, dropout_rate=0.5).to(device)\n",
    "\n",
    "# Get embeddings\n",
    "h = untrained_gat(data[\"train\"][0])\n",
    "\n",
    "# Train TSNE\n",
    "tsne = TSNE(n_components=2, learning_rate='auto',\n",
    "            init='pca').fit_transform(h.detach())\n",
    "\n",
    "# Plot TSNE\n",
    "plt.figure(figsize=(10, 10))\n",
    "plt.axis('off')\n",
    "plt.scatter(tsne[:, 0], tsne[:, 1], s=50, c=data[\"train\"][0].y)\n",
    "plt.show()"
   ]
  },
  {
   "cell_type": "code",
   "execution_count": 66,
   "metadata": {
    "ExecuteTime": {
     "end_time": "2023-06-07T11:19:00.902397Z",
     "start_time": "2023-06-07T11:18:45.684949400Z"
    }
   },
   "outputs": [
    {
     "data": {
      "image/png": "[encoded data removed]",
      "text/plain": [
       "<Figure size 1000x1000 with 1 Axes>"
      ]
     },
     "metadata": {},
     "output_type": "display_data"
    }
   ],
   "source": [
    "# Get embeddings\n",
    "checkpoint = torch.load(\"gat.pt\", map_location=device)\n",
    "GAT = GraphAttentionNetwork(node_dim=data[\"train\"][0].x.shape[1], output_dim=2, hidden_dim=256, n_gnn_layers=1, heads=2, dropout_rate=0.5).to(device)\n",
    "GAT.load_state_dict(checkpoint[\"net\"])\n",
    "\n",
    "h = GAT(data[\"train\"][0])\n",
    "\n",
    "# Train TSNE\n",
    "tsne = TSNE(n_components=2, learning_rate='auto',\n",
    "            init='pca').fit_transform(h.detach())\n",
    "\n",
    "# Plot TSNE\n",
    "plt.figure(figsize=(10, 10))\n",
    "plt.axis('off')\n",
    "plt.scatter(tsne[:, 0], tsne[:, 1], s=50, c=data[\"train\"][0].y)\n",
    "plt.show()"
   ]
  },
  {
   "cell_type": "code",
   "execution_count": 41,
   "metadata": {},
   "outputs": [],
   "source": [
    "%run FeatureAggregationModel.ipynb\n",
    "SFA = SpatialFeatureAggregator(node_dim=data[\"train\"][0].x.shape[1], edge_dim=1, output_dim=2, hidden_dim=256, n_gnn_layers=3, K=2, dropout_rate=0.1).to(device)"
   ]
  },
  {
   "cell_type": "code",
   "execution_count": 42,
   "metadata": {},
   "outputs": [
    {
     "name": "stdout",
     "output_type": "stream",
     "text": [
      "Epoch: 10, Loss:0.2017 Train:\n",
      "                   0           1  accuracy   macro avg  weighted avg\n",
      "precision   0.729367    0.948558  0.947341    0.838962      0.945676\n",
      "recall      0.530421    0.990433  0.947341    0.760427      0.947341\n",
      "f1-score    0.603219    0.968484  0.947341    0.785851      0.941792\n",
      "support    98.709677  792.096774  0.947341  890.806452    890.806452\n",
      " Train_auc_roc: 0.7604269888816387 \n",
      "\n",
      "Valid:\n",
      "                    0           1  accuracy    macro avg  weighted avg\n",
      "precision    0.849371    0.939381  0.937141     0.894376      0.938481\n",
      "recall       0.555308    0.991212  0.937141     0.773260      0.937141\n",
      "f1-score     0.657692    0.963438  0.937141     0.810565      0.928593\n",
      "support    123.400000  942.200000  0.937141  1065.600000   1065.600000\n",
      " Val_auc_roc: 0.7732597481050855 \n",
      "\n",
      "Test:\n",
      "                   0           1  accuracy    macro avg  weighted avg\n",
      "precision   0.437711    0.949107  0.948366     0.693409      0.931704\n",
      "recall      0.160482    0.997862  0.948366     0.579172      0.948366\n",
      "f1-score    0.232440    0.972544  0.948366     0.602492      0.932780\n",
      "support    66.769231  981.000000  0.948366  1047.769231   1047.769231\n",
      " Test_auc_roc: 0.5791720787850841 \n",
      "\n",
      "Epoch: 20, Loss:0.1463 Train:\n",
      "                   0           1  accuracy   macro avg  weighted avg\n",
      "precision   0.685764    0.975306  0.954911    0.830535      0.956556\n",
      "recall      0.699652    0.969392  0.954911    0.834522      0.954911\n",
      "f1-score    0.682012    0.972150  0.954911    0.827081      0.955025\n",
      "support    98.709677  792.096774  0.954911  890.806452    890.806452\n",
      " Train_auc_roc: 0.8345221306466624 \n",
      "\n",
      "Valid:\n",
      "                    0           1  accuracy    macro avg  weighted avg\n",
      "precision    0.510778    0.982901  0.922436     0.746839      0.946672\n",
      "recall       0.842302    0.926543  0.922436     0.884423      0.922436\n",
      "f1-score     0.615945    0.953792  0.922436     0.784868      0.931027\n",
      "support    123.400000  942.200000  0.922436  1065.600000   1065.600000\n",
      " Val_auc_roc: 0.8844228181123777 \n",
      "\n",
      "Test:\n",
      "                   0           1  accuracy    macro avg  weighted avg\n",
      "precision   0.297916    0.967331  0.908765     0.632623      0.932116\n",
      "recall      0.391270    0.933011  0.908765     0.662140      0.908765\n",
      "f1-score    0.311841    0.949151  0.908765     0.630496      0.917239\n",
      "support    66.769231  981.000000  0.908765  1047.769231   1047.769231\n",
      " Test_auc_roc: 0.6621404255827664 \n",
      "\n",
      "Epoch: 30, Loss:0.1066 Train:\n",
      "                   0           1  accuracy   macro avg  weighted avg\n",
      "precision   0.735797    0.979018  0.966464    0.857408      0.966120\n",
      "recall      0.723143    0.980372  0.966464    0.851758      0.966464\n",
      "f1-score    0.723983    0.979640  0.966464    0.851812      0.966010\n",
      "support    98.709677  792.096774  0.966464  890.806452    890.806452\n",
      " Train_auc_roc: 0.8517575612174862 \n",
      "\n",
      "Valid:\n",
      "                    0           1  accuracy    macro avg  weighted avg\n",
      "precision    0.597674    0.985246    0.9465     0.791460      0.958971\n",
      "recall       0.851884    0.952791    0.9465     0.902338      0.946500\n",
      "f1-score     0.683989    0.968715    0.9465     0.826352      0.951060\n",
      "support    123.400000  942.200000    0.9465  1065.600000   1065.600000\n",
      " Val_auc_roc: 0.902337687487198 \n",
      "\n",
      "Test:\n",
      "                   0           1  accuracy    macro avg  weighted avg\n",
      "precision   0.352741    0.968825  0.931061     0.660783      0.939525\n",
      "recall      0.378707    0.957319  0.931061     0.668013      0.931061\n",
      "f1-score    0.348001    0.962574  0.931061     0.655288      0.933457\n",
      "support    66.769231  981.000000  0.931061  1047.769231   1047.769231\n",
      " Test_auc_roc: 0.6680128604917359 \n",
      "\n",
      "Epoch: 40, Loss:0.0862 Train:\n",
      "                   0           1  accuracy   macro avg  weighted avg\n",
      "precision   0.768248    0.980941  0.971634    0.874594      0.970980\n",
      "recall      0.736309    0.984628  0.971634    0.860468      0.971634\n",
      "f1-score    0.746009    0.982728  0.971634    0.864368      0.971006\n",
      "support    98.709677  792.096774  0.971634  890.806452    890.806452\n",
      " Train_auc_roc: 0.8604683471831965 \n",
      "\n",
      "Valid:\n",
      "                    0           1  accuracy    macro avg  weighted avg\n",
      "precision    0.584188    0.981232  0.940732     0.782710      0.954529\n",
      "recall       0.823388    0.950189  0.940732     0.886788      0.940732\n",
      "f1-score     0.661625    0.965396  0.940732     0.813510      0.945967\n",
      "support    123.400000  942.200000  0.940732  1065.600000   1065.600000\n",
      " Val_auc_roc: 0.8867884701423779 \n",
      "\n",
      "Test:\n",
      "                   0           1  accuracy    macro avg  weighted avg\n",
      "precision   0.249911    0.966256  0.913785     0.608083      0.928073\n",
      "recall      0.354202    0.939521  0.913785     0.646862      0.913785\n",
      "f1-score    0.289644    0.952128  0.913785     0.620886      0.919061\n",
      "support    66.769231  981.000000  0.913785  1047.769231   1047.769231\n",
      " Test_auc_roc: 0.6468615151879594 \n",
      "\n",
      "Epoch: 50, Loss:0.0731 Train:\n",
      "                   0           1  accuracy   macro avg  weighted avg\n",
      "precision   0.798573    0.983581  0.976504    0.891077      0.975755\n",
      "recall      0.753830    0.988035  0.976504    0.870932      0.976504\n",
      "f1-score    0.767019    0.985773  0.976504    0.876396      0.975861\n",
      "support    98.709677  792.096774  0.976504  890.806452    890.806452\n",
      " Train_auc_roc: 0.8709322839306627 \n",
      "\n",
      "Valid:\n",
      "                    0           1  accuracy    macro avg  weighted avg\n",
      "precision    0.630664    0.976388  0.947272     0.803526      0.955664\n",
      "recall       0.770264    0.962694  0.947272     0.866479      0.947272\n",
      "f1-score     0.673414    0.969387  0.947272     0.821401      0.950567\n",
      "support    123.400000  942.200000  0.947272  1065.600000   1065.600000\n",
      " Val_auc_roc: 0.8664788860579531 \n",
      "\n",
      "Test:\n",
      "                   0           1  accuracy    macro avg  weighted avg\n",
      "precision   0.245560    0.961622  0.920058     0.603591      0.923367\n",
      "recall      0.306269    0.950611  0.920058     0.628440      0.920058\n",
      "f1-score    0.269354    0.955535  0.920058     0.612445      0.920448\n",
      "support    66.769231  981.000000  0.920058  1047.769231   1047.769231\n",
      " Test_auc_roc: 0.6284401900960271 \n",
      "\n"
     ]
    }
   ],
   "source": [
    "lr = 1e-3\n",
    "epochs = 50\n",
    "# weights for classes\n",
    "weight = torch.tensor([0.5, 0.5]).to(device)\n",
    "optimizer = torch.optim.Adam(SFA.parameters(), lr=lr)\n",
    "loss_fn = torch.nn.NLLLoss(weight)\n",
    "\n",
    "best_model = None\n",
    "best_valid_auc = 0\n",
    "best_result = None\n",
    "losses = []\n",
    "\n",
    "for epoch in range(1, 1 + epochs):\n",
    "    # train with random split\n",
    "    loss = train(SFA, data['train'], optimizer, loss_fn, device)\n",
    "    losses.append(loss)\n",
    "    result = test(SFA, data, device)\n",
    "    train_acc, val_acc, test_acc, train_auc, val_auc, test_auc = result\n",
    "    if val_auc > best_valid_auc:\n",
    "        best_valid_auc = val_auc\n",
    "        best_model = copy.deepcopy(SFA)\n",
    "        best_result = [train_acc, val_acc, test_acc, train_auc, val_auc, test_auc]\n",
    "    if epoch % 10 == 0:\n",
    "        print('Epoch: {:02},'.format(epoch),\n",
    "              'Loss:{:.4f}'.format(loss),\n",
    "              'Train:\\n{}\\n'.format(train_acc),\n",
    "              'Train_auc_roc: {}'.format(train_auc),\n",
    "              '\\n\\n'\n",
    "              'Valid:\\n{}\\n'.format(val_acc),\n",
    "              'Val_auc_roc: {}'.format(val_auc),\n",
    "              '\\n\\n'\n",
    "              'Test:\\n{}\\n'.format(test_acc),\n",
    "              'Test_auc_roc: {}'.format(test_auc),\n",
    "              '\\n'\n",
    "              )\n",
    "state = {\"net\":best_model.state_dict(), \"optimizer\":optimizer.state_dict()}\n",
    "torch.save(state, \"SFA.pt\")"
   ]
  },
  {
   "cell_type": "code",
   "execution_count": null,
   "metadata": {},
   "outputs": [],
   "source": [
    "plt.plot(losses)\n",
    "plt.show()"
   ]
  },
  {
   "cell_type": "code",
   "execution_count": 49,
   "metadata": {},
   "outputs": [
    {
     "name": "stderr",
     "output_type": "stream",
     "text": [
      "D:\\Python\\Lib\\site-packages\\torch\\nn\\modules\\rnn.py:71: UserWarning: dropout option adds dropout after all but last recurrent layer, so non-zero dropout expects num_layers greater than 1, but got dropout=0.1 and num_layers=1\n",
      "  warnings.warn(\"dropout option adds dropout after all but last \"\n"
     ]
    }
   ],
   "source": [
    "%run LSTM_GNN.ipynb\n",
    "TB = TemporalBoy(node_dim=data[\"train\"][0].x.shape[1], edge_dim=1, output_dim=2, hidden_dim=256, n_gnn_layers=3, K=2, dropout_rate=0.1).to(device)"
   ]
  },
  {
   "cell_type": "code",
   "execution_count": 50,
   "metadata": {},
   "outputs": [
    {
     "name": "stdout",
     "output_type": "stream",
     "text": [
      "Epoch: 10, Loss:0.3106 Train:\n",
      "                   0           1  accuracy   macro avg  weighted avg\n",
      "precision   0.085456    0.865980  0.865721    0.475718      0.776111\n",
      "recall      0.002248    0.999377  0.865721    0.500812      0.865721\n",
      "f1-score    0.004339    0.924603  0.865721    0.464471      0.807584\n",
      "support    98.709677  792.096774  0.865721  890.806452    890.806452\n",
      " Train_auc_roc: 0.5008123895191725 \n",
      "\n",
      "Valid:\n",
      "                    0           1  accuracy    macro avg  weighted avg\n",
      "precision    0.430914    0.896033  0.894236     0.663473      0.867317\n",
      "recall       0.030802    0.995655  0.894236     0.513229      0.894236\n",
      "f1-score     0.056144    0.941420  0.894236     0.498782      0.853792\n",
      "support    123.400000  942.200000  0.894236  1065.600000   1065.600000\n",
      " Val_auc_roc: 0.5132287797643095 \n",
      "\n",
      "Test:\n",
      "                   0           1  accuracy    macro avg  weighted avg\n",
      "precision   0.190653    0.935264  0.930714     0.562959      0.898479\n",
      "recall      0.015984    0.994799  0.930714     0.505391      0.930714\n",
      "f1-score    0.029181    0.963487  0.930714     0.496334      0.904231\n",
      "support    66.769231  981.000000  0.930714  1047.769231   1047.769231\n",
      " Test_auc_roc: 0.505391263206538 \n",
      "\n",
      "Epoch: 20, Loss:0.2234 Train:\n",
      "                   0           1  accuracy   macro avg  weighted avg\n",
      "precision   0.542900    0.896682  0.894845    0.719791      0.888264\n",
      "recall      0.183533    0.987900  0.894845    0.585717      0.894845\n",
      "f1-score    0.260555    0.938490  0.894845    0.599523      0.870389\n",
      "support    98.709677  792.096774  0.894845  890.806452    890.806452\n",
      " Train_auc_roc: 0.5857165006121677 \n",
      "\n",
      "Valid:\n",
      "                    0           1  accuracy    macro avg  weighted avg\n",
      "precision    0.697500    0.932072  0.923279     0.814786      0.916336\n",
      "recall       0.324185    0.979944  0.923279     0.652064      0.923279\n",
      "f1-score     0.427035    0.955219  0.923279     0.691127      0.913298\n",
      "support    123.400000  942.200000  0.923279  1065.600000   1065.600000\n",
      " Val_auc_roc: 0.6520641842304785 \n",
      "\n",
      "Test:\n",
      "                   0           1  accuracy    macro avg  weighted avg\n",
      "precision   0.315931    0.943563  0.933518     0.629747      0.915189\n",
      "recall      0.109426    0.987695  0.933518     0.548560      0.933518\n",
      "f1-score    0.158172    0.964655  0.933518     0.561414      0.917991\n",
      "support    66.769231  981.000000  0.933518  1047.769231   1047.769231\n",
      " Test_auc_roc: 0.5485604495212416 \n",
      "\n",
      "Epoch: 30, Loss:0.1674 Train:\n",
      "                   0           1  accuracy   macro avg  weighted avg\n",
      "precision   0.707865    0.971645   0.95249    0.839755      0.952642\n",
      "recall      0.645742    0.969813   0.95249    0.807778      0.952490\n",
      "f1-score    0.655432    0.970542   0.95249    0.812987      0.951568\n",
      "support    98.709677  792.096774   0.95249  890.806452    890.806452\n",
      " Train_auc_roc: 0.8077779090763001 \n",
      "\n",
      "Valid:\n",
      "                    0           1  accuracy    macro avg  weighted avg\n",
      "precision    0.535361    0.978254  0.927975     0.756808      0.942969\n",
      "recall       0.781965    0.935589  0.927975     0.858777      0.927975\n",
      "f1-score     0.625610    0.956272  0.927975     0.790941      0.933224\n",
      "support    123.400000  942.200000  0.927975  1065.600000   1065.600000\n",
      " Val_auc_roc: 0.8587770001321484 \n",
      "\n",
      "Test:\n",
      "                   0           1  accuracy    macro avg  weighted avg\n",
      "precision   0.295409    0.965953  0.925822     0.630681      0.932690\n",
      "recall      0.346056    0.954915  0.925822     0.650485      0.925822\n",
      "f1-score    0.312808    0.959711  0.925822     0.636260      0.928077\n",
      "support    66.769231  981.000000  0.925822  1047.769231   1047.769231\n",
      " Test_auc_roc: 0.6504854867749512 \n",
      "\n",
      "Epoch: 40, Loss:0.1233 Train:\n",
      "                   0           1  accuracy   macro avg  weighted avg\n",
      "precision   0.717094    0.977465  0.962458    0.847280      0.961926\n",
      "recall      0.702584    0.976455  0.962458    0.839519      0.962458\n",
      "f1-score    0.702467    0.976892  0.962458    0.839680      0.961827\n",
      "support    98.709677  792.096774  0.962458  890.806452    890.806452\n",
      " Train_auc_roc: 0.8395192161479779 \n",
      "\n",
      "Valid:\n",
      "                    0           1  accuracy    macro avg  weighted avg\n",
      "precision    0.504949    0.982303  0.920035     0.743626      0.945063\n",
      "recall       0.805127    0.924236  0.920035     0.864681      0.920035\n",
      "f1-score     0.598573    0.952115  0.920035     0.775344      0.929062\n",
      "support    123.400000  942.200000  0.920035  1065.600000   1065.600000\n",
      " Val_auc_roc: 0.8646813096424111 \n",
      "\n",
      "Test:\n",
      "                   0           1  accuracy    macro avg  weighted avg\n",
      "precision   0.232596    0.962942  0.893506     0.597769      0.923408\n",
      "recall      0.336915    0.918368  0.893506     0.627642      0.893506\n",
      "f1-score    0.272149    0.939392  0.893506     0.605770      0.905952\n",
      "support    66.769231  981.000000  0.893506  1047.769231   1047.769231\n",
      " Test_auc_roc: 0.6276415600731418 \n",
      "\n",
      "Epoch: 50, Loss:0.0946 Train:\n",
      "                   0           1  accuracy   macro avg  weighted avg\n",
      "precision   0.776088    0.980010  0.970748    0.878049      0.969836\n",
      "recall      0.723295    0.984427  0.970748    0.853861      0.970748\n",
      "f1-score    0.741195    0.982168  0.970748    0.861681      0.969964\n",
      "support    98.709677  792.096774  0.970748  890.806452    890.806452\n",
      " Train_auc_roc: 0.8538610800806502 \n",
      "\n",
      "Valid:\n",
      "                    0           1  accuracy    macro avg  weighted avg\n",
      "precision    0.578097    0.980603  0.937263     0.779350      0.953280\n",
      "recall       0.819706    0.946923  0.937263     0.883315      0.937263\n",
      "f1-score     0.651789    0.963379  0.937263     0.807584      0.943586\n",
      "support    123.400000  942.200000  0.937263  1065.600000   1065.600000\n",
      " Val_auc_roc: 0.8833145563878133 \n",
      "\n",
      "Test:\n",
      "                   0           1  accuracy    macro avg  weighted avg\n",
      "precision   0.257936    0.961659  0.907761     0.609797      0.924573\n",
      "recall      0.322310    0.934997  0.907761     0.628653      0.907761\n",
      "f1-score    0.282903    0.947552  0.907761     0.615227      0.914621\n",
      "support    66.769231  981.000000  0.907761  1047.769231   1047.769231\n",
      " Test_auc_roc: 0.6286532362083972 \n",
      "\n"
     ]
    }
   ],
   "source": [
    "lr = 1e-3\n",
    "epochs = 50\n",
    "# weights for classes\n",
    "weight = torch.tensor([0.5, 0.5]).to(device)\n",
    "optimizer = torch.optim.Adam(TB.parameters(), lr=lr)\n",
    "loss_fn = torch.nn.NLLLoss(weight)\n",
    "\n",
    "best_model = None\n",
    "best_valid_auc = 0\n",
    "best_result = None\n",
    "losses = []\n",
    "\n",
    "for epoch in range(1, 1 + epochs):\n",
    "    # train with random split\n",
    "    loss = train(TB, data['train'], optimizer, loss_fn, device)\n",
    "    losses.append(loss)\n",
    "    result = test(TB, data, device)\n",
    "    train_acc, val_acc, test_acc, train_auc, val_auc, test_auc = result\n",
    "    if val_auc > best_valid_auc:\n",
    "        best_valid_auc = val_auc\n",
    "        best_model = copy.deepcopy(TB)\n",
    "        best_result = [train_acc, val_acc, test_acc, train_auc, val_auc, test_auc]\n",
    "    if epoch % 10 == 0:\n",
    "        print('Epoch: {:02},'.format(epoch),\n",
    "              'Loss:{:.4f}'.format(loss),\n",
    "              'Train:\\n{}\\n'.format(train_acc),\n",
    "              'Train_auc_roc: {}'.format(train_auc),\n",
    "              '\\n\\n'\n",
    "              'Valid:\\n{}\\n'.format(val_acc),\n",
    "              'Val_auc_roc: {}'.format(val_auc),\n",
    "              '\\n\\n'\n",
    "              'Test:\\n{}\\n'.format(test_acc),\n",
    "              'Test_auc_roc: {}'.format(test_auc),\n",
    "              '\\n'\n",
    "              )\n",
    "state = {\"net\":best_model.state_dict(), \"optimizer\":optimizer.state_dict()}\n",
    "torch.save(state, \"TB.pt\")"
   ]
  },
  {
   "cell_type": "code",
   "execution_count": 51,
   "metadata": {},
   "outputs": [
    {
     "data": {
      "image/png": "[encoded data removed]",
      "text/plain": [
       "<Figure size 640x480 with 1 Axes>"
      ]
     },
     "metadata": {},
     "output_type": "display_data"
    }
   ],
   "source": [
    "plt.plot(losses)\n",
    "plt.show()"
   ]
  },
  {
   "cell_type": "code",
   "execution_count": null,
   "metadata": {},
   "outputs": [],
   "source": []
  }
 ],
 "metadata": {
  "kernelspec": {
   "display_name": "Python 3 (ipykernel)",
   "language": "python",
   "name": "python3"
  },
  "language_info": {
   "codemirror_mode": {
    "name": "ipython",
    "version": 3
   },
   "file_extension": ".py",
   "mimetype": "text/x-python",
   "name": "python",
   "nbconvert_exporter": "python",
   "pygments_lexer": "ipython3",
   "version": "3.11.3"
  }
 },
 "nbformat": 4,
 "nbformat_minor": 1
}
