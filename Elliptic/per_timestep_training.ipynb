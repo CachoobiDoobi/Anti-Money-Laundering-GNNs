{
 "cells": [
  {
   "cell_type": "code",
   "execution_count": 3,
   "metadata": {
    "collapsed": true,
    "ExecuteTime": {
     "end_time": "2023-06-25T13:35:09.061930800Z",
     "start_time": "2023-06-25T13:35:09.048957200Z"
    }
   },
   "outputs": [],
   "source": [
    "import seaborn as sns\n",
    "\n",
    "sns.set(rc={'axes.facecolor': 'dimgrey', 'grid.color': 'lightgrey'})\n",
    "import torch\n",
    "# Now train the DT classifier\n",
    "# Load libraries\n",
    "import pandas as pd\n",
    "from sklearn.metrics import classification_report"
   ]
  },
  {
   "cell_type": "code",
   "execution_count": 4,
   "outputs": [
    {
     "name": "stdout",
     "output_type": "stream",
     "text": [
      "cuda\n"
     ]
    }
   ],
   "source": [
    "\n",
    "device = 'cuda' if torch.cuda.is_available() else 'cpu'\n",
    "print(device)"
   ],
   "metadata": {
    "collapsed": false,
    "ExecuteTime": {
     "end_time": "2023-06-25T13:35:09.102525700Z",
     "start_time": "2023-06-25T13:35:09.077079700Z"
    }
   }
  },
  {
   "cell_type": "code",
   "execution_count": 5,
   "outputs": [],
   "source": [
    "%run utils.ipynb\n",
    "%run gcn_model.ipynb\n",
    "%run GAT_model.ipynb"
   ],
   "metadata": {
    "collapsed": false,
    "ExecuteTime": {
     "end_time": "2023-06-25T13:35:10.507365Z",
     "start_time": "2023-06-25T13:35:09.085572800Z"
    }
   }
  },
  {
   "cell_type": "code",
   "execution_count": 6,
   "outputs": [
    {
     "name": "stdout",
     "output_type": "stream",
     "text": [
      "done\n"
     ]
    }
   ],
   "source": [
    "# class 1 is illicit, 2 is licit, unknown is unknown\n",
    "labels = pd.read_csv(\"data/elliptic_bitcoin_dataset/elliptic_txs_classes.csv\")\n",
    "edges = pd.read_csv(\"data/elliptic_bitcoin_dataset/elliptic_txs_edgelist.csv\")\n",
    "nodes = pd.read_csv(\"data/elliptic_bitcoin_dataset/elliptic_txs_features.csv\", header=None)\n",
    "print('done')"
   ],
   "metadata": {
    "collapsed": false,
    "ExecuteTime": {
     "end_time": "2023-06-25T13:35:18.265720Z",
     "start_time": "2023-06-25T13:35:10.511315700Z"
    }
   }
  },
  {
   "cell_type": "code",
   "execution_count": 7,
   "outputs": [],
   "source": [
    "indexes = labels.index[labels[\"class\"] != \"unknown\"].tolist()\n",
    "new_labels = labels.replace(\"unknown\", \"3\")"
   ],
   "metadata": {
    "collapsed": false,
    "ExecuteTime": {
     "end_time": "2023-06-25T13:35:18.343208500Z",
     "start_time": "2023-06-25T13:35:18.259726900Z"
    }
   }
  },
  {
   "cell_type": "code",
   "execution_count": 8,
   "outputs": [],
   "source": [
    "import numpy as np\n",
    "\n",
    "\n",
    "@torch.no_grad()\n",
    "def test(model, data, loss_fn):\n",
    "    model.eval()\n",
    "    res = {}\n",
    "    losses = []\n",
    "    for i, batch in enumerate(data):\n",
    "        out = model.forward(batch)\n",
    "        y_true = batch.y\n",
    "        indexes = y_true != 2\n",
    "\n",
    "        y_pred = out.argmax(dim=-1, keepdim=True)[indexes].view(-1, 1).cpu().detach().numpy()\n",
    "        y_true = y_true[indexes].view(-1, 1).cpu().detach().numpy()\n",
    "\n",
    "        res = classification_report(y_true, y_pred, output_dict=True, zero_division=0)\n",
    "\n",
    "    return res"
   ],
   "metadata": {
    "collapsed": false,
    "ExecuteTime": {
     "end_time": "2023-06-25T13:35:18.360136700Z",
     "start_time": "2023-06-25T13:35:18.303172Z"
    }
   }
  },
  {
   "cell_type": "code",
   "execution_count": 9,
   "outputs": [],
   "source": [
    "def trainGCN(data):\n",
    "    GCN = GNN_Example(node_dim=data['train'][0].x.shape[1], edge_dim=1, output_dim=2, hidden_dim=256, n_gnn_layers=3,\n",
    "                      K=2, dropout_rate=0.1).to(device)\n",
    "\n",
    "    lr = 1e-3\n",
    "    epochs = 50\n",
    "    # weights for classes\n",
    "    weight = torch.tensor([0.5, 0.5]).to(device)\n",
    "    optimizer = torch.optim.Adam(GCN.parameters(), lr=lr)\n",
    "    loss_fn = torch.nn.NLLLoss(weight)\n",
    "\n",
    "    best_test_loss = 10e9\n",
    "    best_result = None\n",
    "    train_losses = []\n",
    "    test_losses = []\n",
    "    result = None\n",
    "    for epoch in range(1, 1 + epochs):\n",
    "        # train with random split\n",
    "        loss = train(GCN, data['train'], optimizer, loss_fn, device)\n",
    "        train_losses.append(loss)\n",
    "        result = test(GCN, data[\"test\"],loss_fn)\n",
    "\n",
    "        # if epoch % 10 == 0:\n",
    "        #     print(\"Epoch: \", epoch)\n",
    "        #     for item, amount in result.items():\n",
    "        #         print(\"{} ({})\".format(item, amount))\n",
    "        #     print(\"############################\")\n",
    "\n",
    "    return result\n"
   ],
   "metadata": {
    "collapsed": false,
    "ExecuteTime": {
     "end_time": "2023-06-25T13:35:18.361129800Z",
     "start_time": "2023-06-25T13:35:18.313120900Z"
    }
   }
  },
  {
   "cell_type": "code",
   "execution_count": 10,
   "outputs": [
    {
     "name": "stdout",
     "output_type": "stream",
     "text": [
      "Starting Index:  0\n",
      "Done\n",
      "Starting Index:  1\n",
      "Done\n",
      "Starting Index:  2\n",
      "Done\n",
      "Starting Index:  3\n",
      "Done\n",
      "Starting Index:  4\n",
      "Done\n",
      "Starting Index:  5\n",
      "Done\n",
      "Starting Index:  6\n",
      "Done\n",
      "Starting Index:  7\n",
      "Done\n",
      "Starting Index:  8\n",
      "Done\n",
      "Starting Index:  9\n",
      "Done\n",
      "Starting Index:  10\n",
      "Done\n",
      "Starting Index:  11\n",
      "Done\n",
      "Starting Index:  12\n",
      "Done\n",
      "Starting Index:  13\n",
      "Done\n",
      "Starting Index:  14\n",
      "Done\n",
      "Starting Index:  15\n",
      "Done\n",
      "Starting Index:  16\n",
      "Done\n",
      "Starting Index:  17\n",
      "Done\n",
      "Starting Index:  18\n",
      "Done\n",
      "Starting Index:  19\n",
      "Done\n",
      "Starting Index:  20\n",
      "Done\n",
      "Starting Index:  21\n",
      "Done\n",
      "Starting Index:  22\n",
      "Done\n",
      "Starting Index:  23\n",
      "Done\n",
      "Starting Index:  24\n",
      "Done\n",
      "Starting Index:  25\n",
      "Done\n",
      "Starting Index:  26\n",
      "Done\n",
      "Starting Index:  27\n",
      "Done\n",
      "Starting Index:  28\n",
      "Done\n",
      "Starting Index:  29\n",
      "Done\n",
      "Starting Index:  30\n",
      "Done\n",
      "Starting Index:  31\n",
      "Done\n",
      "Starting Index:  32\n",
      "Done\n",
      "Starting Index:  33\n",
      "Done\n",
      "Starting Index:  34\n",
      "Done\n",
      "Starting Index:  35\n",
      "Done\n",
      "Starting Index:  36\n",
      "Done\n",
      "Starting Index:  37\n",
      "Done\n",
      "Starting Index:  38\n",
      "Done\n",
      "Starting Index:  39\n",
      "Done\n",
      "Starting Index:  40\n",
      "Done\n",
      "Starting Index:  41\n",
      "Done\n",
      "Starting Index:  42\n",
      "Done\n",
      "Starting Index:  43\n",
      "Done\n",
      "Starting Index:  44\n",
      "Done\n",
      "Starting Index:  45\n",
      "Done\n",
      "Starting Index:  46\n",
      "Done\n",
      "Starting Index:  47\n",
      "Done\n",
      "Starting Index:  48\n",
      "Done\n"
     ]
    }
   ],
   "source": [
    "# cross validation\n",
    "results = []\n",
    "\n",
    "for idx in range(49):\n",
    "    print(\"Starting Index: \", idx)\n",
    "    data, graph_info = time_step_split_cross_validation(nodes, edges, new_labels, device, test_index=idx)\n",
    "\n",
    "    result = trainGCN(data)\n",
    "    results.append((idx, result))\n",
    "    print(\"Done\")"
   ],
   "metadata": {
    "collapsed": false,
    "ExecuteTime": {
     "end_time": "2023-06-25T14:33:03.422586300Z",
     "start_time": "2023-06-25T13:35:18.324229100Z"
    }
   }
  },
  {
   "cell_type": "markdown",
   "source": [],
   "metadata": {
    "collapsed": false
   }
  },
  {
   "cell_type": "code",
   "execution_count": 1,
   "outputs": [
    {
     "ename": "NameError",
     "evalue": "name 'results' is not defined",
     "output_type": "error",
     "traceback": [
      "\u001B[1;31m---------------------------------------------------------------------------\u001B[0m",
      "\u001B[1;31mNameError\u001B[0m                                 Traceback (most recent call last)",
      "Cell \u001B[1;32mIn[1], line 2\u001B[0m\n\u001B[0;32m      1\u001B[0m \u001B[38;5;28;01mimport\u001B[39;00m \u001B[38;5;21;01mpickle\u001B[39;00m\n\u001B[1;32m----> 2\u001B[0m \u001B[38;5;28mprint\u001B[39m(\u001B[43mresults\u001B[49m)\n\u001B[0;32m      3\u001B[0m \u001B[38;5;28;01mwith\u001B[39;00m \u001B[38;5;28mopen\u001B[39m(\u001B[38;5;124m\"\u001B[39m\u001B[38;5;124mresults_cross_validation\u001B[39m\u001B[38;5;124m\"\u001B[39m, \u001B[38;5;124m\"\u001B[39m\u001B[38;5;124mwb\u001B[39m\u001B[38;5;124m\"\u001B[39m) \u001B[38;5;28;01mas\u001B[39;00m fp:   \u001B[38;5;66;03m#Pickling\u001B[39;00m\n\u001B[0;32m      4\u001B[0m     pickle\u001B[38;5;241m.\u001B[39mdump(results, fp)\n",
      "\u001B[1;31mNameError\u001B[0m: name 'results' is not defined"
     ]
    }
   ],
   "source": [
    "import pickle\n",
    "print(results)\n",
    "with open(\"results_cross_validation\", \"wb\") as fp:   #Pickling\n",
    "    pickle.dump(results, fp)"
   ],
   "metadata": {
    "collapsed": false,
    "ExecuteTime": {
     "end_time": "2023-06-25T14:36:35.467943700Z",
     "start_time": "2023-06-25T14:36:34.984459600Z"
    }
   }
  },
  {
   "cell_type": "markdown",
   "source": [],
   "metadata": {
    "collapsed": false
   }
  },
  {
   "cell_type": "code",
   "execution_count": 3,
   "outputs": [
    {
     "name": "stdout",
     "output_type": "stream",
     "text": [
      "[(0, {'0': {'precision': 0.0, 'recall': 0.0, 'f1-score': 0.0, 'support': 17}, '1': {'precision': 0.9920560747663552, 'recall': 0.9967136150234742, 'f1-score': 0.9943793911007026, 'support': 2130}, 'accuracy': 0.9888216115510013, 'macro avg': {'precision': 0.4960280373831776, 'recall': 0.4983568075117371, 'f1-score': 0.4971896955503513, 'support': 2147}, 'weighted avg': {'precision': 0.9842009498147819, 'recall': 0.9888216115510013, 'f1-score': 0.9865058700719593, 'support': 2147}}), (1, {'0': {'precision': 0.16666666666666666, 'recall': 0.05555555555555555, 'f1-score': 0.08333333333333333, 'support': 18}, '1': {'precision': 0.9846984698469847, 'recall': 0.9954504094631483, 'f1-score': 0.9900452488687784, 'support': 1099}, 'accuracy': 0.9803043867502238, 'macro avg': {'precision': 0.5756825682568257, 'recall': 0.5255029825093519, 'f1-score': 0.5366892911010559, 'support': 1117}, 'weighted avg': {'precision': 0.971516220556702, 'recall': 0.9803043867502238, 'f1-score': 0.9754339556909467, 'support': 1117}}), (2, {'0': {'precision': 0.0, 'recall': 0.0, 'f1-score': 0.0, 'support': 11}, '1': {'precision': 0.9913793103448276, 'recall': 0.9976340694006309, 'f1-score': 0.9944968553459119, 'support': 1268}, 'accuracy': 0.9890539483971853, 'macro avg': {'precision': 0.4956896551724138, 'recall': 0.49881703470031546, 'f1-score': 0.49724842767295596, 'support': 1279}, 'weighted avg': {'precision': 0.9828529832034726, 'recall': 0.9890539483971853, 'f1-score': 0.9859437158550558, 'support': 1279}}), (3, {'0': {'precision': 0.25, 'recall': 0.06666666666666667, 'f1-score': 0.10526315789473685, 'support': 30}, '1': {'precision': 0.9804469273743017, 'recall': 0.9957446808510638, 'f1-score': 0.988036593947924, 'support': 1410}, 'accuracy': 0.9763888888888889, 'macro avg': {'precision': 0.6152234636871509, 'recall': 0.5312056737588653, 'f1-score': 0.5466498759213304, 'support': 1440}, 'weighted avg': {'precision': 0.9652292830540037, 'recall': 0.9763888888888889, 'f1-score': 0.969645480696816, 'support': 1440}}), (4, {'0': {'precision': 0.0, 'recall': 0.0, 'f1-score': 0.0, 'support': 8}, '1': {'precision': 0.9957446808510638, 'recall': 0.9989327641408752, 'f1-score': 0.9973361747469365, 'support': 1874}, 'accuracy': 0.9946865037194474, 'macro avg': {'precision': 0.4978723404255319, 'recall': 0.4994663820704376, 'f1-score': 0.49866808737346824, 'support': 1882}, 'weighted avg': {'precision': 0.9915119723245981, 'recall': 0.9946865037194474, 'f1-score': 0.9930967011029537, 'support': 1882}}), (5, {'0': {'precision': 0.11764705882352941, 'recall': 0.4, 'f1-score': 0.1818181818181818, 'support': 5}, '1': {'precision': 0.9935897435897436, 'recall': 0.96875, 'f1-score': 0.9810126582278481, 'support': 480}, 'accuracy': 0.9628865979381444, 'macro avg': {'precision': 0.5556184012066365, 'recall': 0.684375, 'f1-score': 0.5814154200230149, 'support': 485}, 'weighted avg': {'precision': 0.9845594066333908, 'recall': 0.9628865979381444, 'f1-score': 0.9727735399143465, 'support': 485}}), (6, {'0': {'precision': 0.9, 'recall': 0.7058823529411765, 'f1-score': 0.7912087912087913, 'support': 102}, '1': {'precision': 0.9732858414959928, 'recall': 0.9927338782924614, 'f1-score': 0.9829136690647482, 'support': 1101}, 'accuracy': 0.9684123025768911, 'macro avg': {'precision': 0.9366429207479965, 'recall': 0.849308115616819, 'f1-score': 0.8870612301367697, 'support': 1203}, 'weighted avg': {'precision': 0.9670720793741381, 'recall': 0.9684123025768911, 'f1-score': 0.966659390144293, 'support': 1203}}), (7, {'0': {'precision': 0.8666666666666667, 'recall': 0.582089552238806, 'f1-score': 0.6964285714285713, 'support': 67}, '1': {'precision': 0.975, 'recall': 0.994535519125683, 'f1-score': 0.9846708746618575, 'support': 1098}, 'accuracy': 0.9708154506437768, 'macro avg': {'precision': 0.9208333333333334, 'recall': 0.7883125356822445, 'f1-score': 0.8405497230452144, 'support': 1165}, 'weighted avg': {'precision': 0.9687696709585121, 'recall': 0.9708154506437768, 'f1-score': 0.9680938494973681, 'support': 1165}}), (8, {'0': {'precision': 0.9607843137254902, 'recall': 0.7903225806451613, 'f1-score': 0.8672566371681416, 'support': 248}, '1': {'precision': 0.9094076655052264, 'recall': 0.9849056603773585, 'f1-score': 0.9456521739130435, 'support': 530}, 'accuracy': 0.922879177377892, 'macro avg': {'precision': 0.9350959896153583, 'recall': 0.8876141205112599, 'f1-score': 0.9064544055405925, 'support': 778}, 'weighted avg': {'precision': 0.9257847975857219, 'recall': 0.922879177377892, 'f1-score': 0.9206623370072136, 'support': 778}}), (9, {'0': {'precision': 0.5416666666666666, 'recall': 0.7222222222222222, 'f1-score': 0.619047619047619, 'support': 18}, '1': {'precision': 0.9947257383966245, 'recall': 0.9884696016771488, 'f1-score': 0.9915878023133543, 'support': 954}, 'accuracy': 0.9835390946502057, 'macro avg': {'precision': 0.7681962025316456, 'recall': 0.8553459119496856, 'f1-score': 0.8053177106804866, 'support': 972}, 'weighted avg': {'precision': 0.9863357555868105, 'recall': 0.9835390946502057, 'f1-score': 0.9846889100306555, 'support': 972}}), (10, {'0': {'precision': 0.9008264462809917, 'recall': 0.8320610687022901, 'f1-score': 0.8650793650793651, 'support': 131}, '1': {'precision': 0.9617391304347827, 'recall': 0.9787610619469026, 'f1-score': 0.9701754385964912, 'support': 565}, 'accuracy': 0.9511494252873564, 'macro avg': {'precision': 0.9312827883578871, 'recall': 0.9054110653245964, 'f1-score': 0.9176274018379282, 'support': 696}, 'weighted avg': {'precision': 0.9502742430437674, 'recall': 0.9511494252873564, 'f1-score': 0.9503944247592161, 'support': 696}}), (11, {'0': {'precision': 0.9285714285714286, 'recall': 0.8125, 'f1-score': 0.8666666666666666, 'support': 16}, '1': {'precision': 0.9939024390243902, 'recall': 0.9979591836734694, 'f1-score': 0.9959266802443992, 'support': 490}, 'accuracy': 0.9920948616600791, 'macro avg': {'precision': 0.9612369337979094, 'recall': 0.9052295918367347, 'f1-score': 0.9312966734555329, 'support': 506}, 'weighted avg': {'precision': 0.9918366363223202, 'recall': 0.9920948616600791, 'f1-score': 0.9918394070877911, 'support': 506}}), (12, {'0': {'precision': 0.9242424242424242, 'recall': 0.8384879725085911, 'f1-score': 0.8792792792792792, 'support': 291}, '1': {'precision': 0.9137614678899083, 'recall': 0.9613899613899614, 'f1-score': 0.9369708372530573, 'support': 518}, 'accuracy': 0.9171817058096415, 'macro avg': {'precision': 0.9190019460661663, 'recall': 0.8999389669492762, 'f1-score': 0.9081250582661682, 'support': 809}, 'weighted avg': {'precision': 0.9175315028696143, 'recall': 0.9171817058096415, 'f1-score': 0.9162189913069888, 'support': 809}}), (13, {'0': {'precision': 0.775, 'recall': 0.7209302325581395, 'f1-score': 0.7469879518072289, 'support': 43}, '1': {'precision': 0.9681697612732095, 'recall': 0.9759358288770054, 'f1-score': 0.9720372836218375, 'support': 374}, 'accuracy': 0.9496402877697842, 'macro avg': {'precision': 0.8715848806366048, 'recall': 0.8484330307175725, 'f1-score': 0.8595126177145331, 'support': 417}, 'weighted avg': {'precision': 0.9482505772570271, 'recall': 0.9496402877697842, 'f1-score': 0.9488307577992279, 'support': 417}}), (14, {'0': {'precision': 0.9178082191780822, 'recall': 0.9115646258503401, 'f1-score': 0.9146757679180887, 'support': 147}, '1': {'precision': 0.972457627118644, 'recall': 0.9745222929936306, 'f1-score': 0.9734888653234358, 'support': 471}, 'accuracy': 0.959546925566343, 'macro avg': {'precision': 0.9451329231483632, 'recall': 0.9430434594219854, 'f1-score': 0.9440823166207623, 'support': 618}, 'weighted avg': {'precision': 0.959458496103656, 'recall': 0.959546925566343, 'f1-score': 0.9594993421542027, 'support': 618}}), (15, {'0': {'precision': 0.963963963963964, 'recall': 0.8359375, 'f1-score': 0.8953974895397491, 'support': 128}, '1': {'precision': 0.9498806682577565, 'recall': 0.9900497512437811, 'f1-score': 0.9695493300852618, 'support': 402}, 'accuracy': 0.9528301886792453, 'macro avg': {'precision': 0.9569223161108602, 'recall': 0.9129936256218906, 'f1-score': 0.9324734098125054, 'support': 530}, 'weighted avg': {'precision': 0.9532819170320859, 'recall': 0.9528301886792453, 'f1-score': 0.9516409610478549, 'support': 530}}), (16, {'0': {'precision': 0.9494949494949495, 'recall': 0.9494949494949495, 'f1-score': 0.9494949494949495, 'support': 99}, '1': {'precision': 0.9929775280898876, 'recall': 0.9929775280898876, 'f1-score': 0.9929775280898876, 'support': 712}, 'accuracy': 0.9876695437731196, 'macro avg': {'precision': 0.9712362387924185, 'recall': 0.9712362387924185, 'f1-score': 0.9712362387924185, 'support': 811}, 'weighted avg': {'precision': 0.9876695437731196, 'recall': 0.9876695437731196, 'f1-score': 0.9876695437731196, 'support': 811}}), (17, {'0': {'precision': 0.8490566037735849, 'recall': 0.8653846153846154, 'f1-score': 0.8571428571428571, 'support': 52}, '1': {'precision': 0.9791666666666666, 'recall': 0.9762611275964391, 'f1-score': 0.9777117384843982, 'support': 337}, 'accuracy': 0.961439588688946, 'macro avg': {'precision': 0.9141116352201257, 'recall': 0.9208228714905273, 'f1-score': 0.9174272978136276, 'support': 389}, 'weighted avg': {'precision': 0.9617740618583369, 'recall': 0.961439588688946, 'f1-score': 0.9615945615441407, 'support': 389}}), (18, {'0': {'precision': 0.8461538461538461, 'recall': 0.825, 'f1-score': 0.8354430379746836, 'support': 80}, '1': {'precision': 0.9790104947526237, 'recall': 0.9819548872180451, 'f1-score': 0.9804804804804805, 'support': 665}, 'accuracy': 0.9651006711409396, 'macro avg': {'precision': 0.9125821704532349, 'recall': 0.9034774436090225, 'f1-score': 0.907961759227582, 'support': 745}, 'weighted avg': {'precision': 0.9647440089970503, 'recall': 0.9651006711409396, 'f1-score': 0.9649059900100594, 'support': 745}}), (19, {'0': {'precision': 0.9166666666666666, 'recall': 0.7615384615384615, 'f1-score': 0.8319327731092437, 'support': 260}, '1': {'precision': 0.9093567251461988, 'recall': 0.971875, 'f1-score': 0.9395770392749245, 'support': 640}, 'accuracy': 0.9111111111111111, 'macro avg': {'precision': 0.9130116959064327, 'recall': 0.8667067307692308, 'f1-score': 0.8857549061920842, 'support': 900}, 'weighted avg': {'precision': 0.9114684860298894, 'recall': 0.9111111111111111, 'f1-score': 0.9084798068270612, 'support': 900}}), (20, {'0': {'precision': 0.8235294117647058, 'recall': 0.7, 'f1-score': 0.7567567567567567, 'support': 100}, '1': {'precision': 0.9460431654676259, 'recall': 0.9722735674676525, 'f1-score': 0.95897903372835, 'support': 541}, 'accuracy': 0.9297971918876755, 'macro avg': {'precision': 0.8847862886161659, 'recall': 0.8361367837338263, 'f1-score': 0.8578678952425534, 'support': 641}, 'weighted avg': {'precision': 0.9269302553735665, 'recall': 0.9297971918876755, 'f1-score': 0.9274310966032964, 'support': 641}}), (21, {'0': {'precision': 0.7898089171974523, 'recall': 0.7848101265822784, 'f1-score': 0.7873015873015873, 'support': 158}, '1': {'precision': 0.9788293897882939, 'recall': 0.9794392523364486, 'f1-score': 0.9791342260977889, 'support': 1605}, 'accuracy': 0.9619965967101531, 'macro avg': {'precision': 0.8843191534928732, 'recall': 0.8821246894593635, 'f1-score': 0.8832179066996881, 'support': 1763}, 'weighted avg': {'precision': 0.9618893814676173, 'recall': 0.9619965967101531, 'f1-score': 0.9619421915374939, 'support': 1763}}), (22, {'0': {'precision': 0.6363636363636364, 'recall': 0.5283018867924528, 'f1-score': 0.5773195876288659, 'support': 53}, '1': {'precision': 0.9781277340332458, 'recall': 0.9858906525573192, 'f1-score': 0.9819938515590689, 'support': 1134}, 'accuracy': 0.9654591406908172, 'macro avg': {'precision': 0.8072456851984411, 'recall': 0.757096269674886, 'f1-score': 0.7796567195939674, 'support': 1187}, 'weighted avg': {'precision': 0.9628678375071386, 'recall': 0.9654591406908172, 'f1-score': 0.9639249922597423, 'support': 1187}}), (23, {'0': {'precision': 0.7777777777777778, 'recall': 0.6131386861313869, 'f1-score': 0.6857142857142857, 'support': 137}, '1': {'precision': 0.9479371316306483, 'recall': 0.9757330637007078, 'f1-score': 0.9616342800199303, 'support': 989}, 'accuracy': 0.9316163410301954, 'macro avg': {'precision': 0.862857454704213, 'recall': 0.7944358749160474, 'f1-score': 0.823674282867108, 'support': 1126}, 'weighted avg': {'precision': 0.9272339065171109, 'recall': 0.9316163410301954, 'f1-score': 0.9280631972314106, 'support': 1126}}), (24, {'0': {'precision': 0.9122807017543859, 'recall': 0.8813559322033898, 'f1-score': 0.8965517241379309, 'support': 118}, '1': {'precision': 0.9708333333333333, 'recall': 0.9789915966386554, 'f1-score': 0.9748953974895397, 'support': 476}, 'accuracy': 0.9595959595959596, 'macro avg': {'precision': 0.9415570175438597, 'recall': 0.9301737644210226, 'f1-score': 0.9357235608137353, 'support': 594}, 'weighted avg': {'precision': 0.9592016657806132, 'recall': 0.9595959595959596, 'f1-score': 0.9593321761840012, 'support': 594}}), (25, {'0': {'precision': 0.8378378378378378, 'recall': 0.6458333333333334, 'f1-score': 0.7294117647058824, 'support': 96}, '1': {'precision': 0.9232505643340858, 'recall': 0.9714964370546318, 'f1-score': 0.9467592592592592, 'support': 421}, 'accuracy': 0.9110251450676983, 'macro avg': {'precision': 0.8805442010859619, 'recall': 0.8086648851939826, 'f1-score': 0.8380855119825708, 'support': 517}, 'weighted avg': {'precision': 0.9073905609614751, 'recall': 0.9110251450676983, 'f1-score': 0.9064007302899668, 'support': 517}}), (26, {'0': {'precision': 0.9565217391304348, 'recall': 0.9166666666666666, 'f1-score': 0.9361702127659574, 'support': 24}, '1': {'precision': 0.9890710382513661, 'recall': 0.9945054945054945, 'f1-score': 0.9917808219178081, 'support': 182}, 'accuracy': 0.9854368932038835, 'macro avg': {'precision': 0.9727963886909005, 'recall': 0.9555860805860805, 'f1-score': 0.9639755173418827, 'support': 206}, 'weighted avg': {'precision': 0.9852788868974711, 'recall': 0.9854368932038835, 'f1-score': 0.9853019159972042, 'support': 206}}), (27, {'0': {'precision': 0.9647058823529412, 'recall': 0.9647058823529412, 'f1-score': 0.9647058823529412, 'support': 85}, '1': {'precision': 0.9849246231155779, 'recall': 0.9849246231155779, 'f1-score': 0.9849246231155779, 'support': 199}, 'accuracy': 0.9788732394366197, 'macro avg': {'precision': 0.9748152527342595, 'recall': 0.9748152527342595, 'f1-score': 0.9748152527342595, 'support': 284}, 'weighted avg': {'precision': 0.9788732394366197, 'recall': 0.9788732394366197, 'f1-score': 0.9788732394366197, 'support': 284}}), (28, {'0': {'precision': 0.9012738853503185, 'recall': 0.8601823708206687, 'f1-score': 0.880248833592535, 'support': 329}, '1': {'precision': 0.9465116279069767, 'recall': 0.9633136094674556, 'f1-score': 0.9548387096774194, 'support': 845}, 'accuracy': 0.934412265758092, 'macro avg': {'precision': 0.9238927566286477, 'recall': 0.9117479901440622, 'f1-score': 0.9175437716349772, 'support': 1174}, 'weighted avg': {'precision': 0.9338342707509797, 'recall': 0.934412265758092, 'f1-score': 0.9339357546246707, 'support': 1174}}), (29, {'0': {'precision': 0.8372093023255814, 'recall': 0.8674698795180723, 'f1-score': 0.8520710059171598, 'support': 83}, '1': {'precision': 0.9748858447488584, 'recall': 0.9682539682539683, 'f1-score': 0.9715585893060296, 'support': 441}, 'accuracy': 0.9522900763358778, 'macro avg': {'precision': 0.90604757353722, 'recall': 0.9178619238860203, 'f1-score': 0.9118147976115947, 'support': 524}, 'weighted avg': {'precision': 0.9530783008154005, 'recall': 0.9522900763358778, 'f1-score': 0.9526321209448154, 'support': 524}}), (30, {'0': {'precision': 0.8155339805825242, 'recall': 0.7924528301886793, 'f1-score': 0.8038277511961723, 'support': 106}, '1': {'precision': 0.9637561779242174, 'recall': 0.9685430463576159, 'f1-score': 0.9661436829066887, 'support': 604}, 'accuracy': 0.9422535211267605, 'macro avg': {'precision': 0.8896450792533708, 'recall': 0.8804979382731476, 'f1-score': 0.8849857170514306, 'support': 710}, 'weighted avg': {'precision': 0.9416272301520773, 'recall': 0.9422535211267605, 'f1-score': 0.9419106001442735, 'support': 710}}), (31, {'0': {'precision': 0.8786127167630058, 'recall': 0.8888888888888888, 'f1-score': 0.8837209302325582, 'support': 342}, '1': {'precision': 0.9611054247697032, 'recall': 0.9571865443425076, 'f1-score': 0.9591419816138916, 'support': 981}, 'accuracy': 0.9395313681027967, 'macro avg': {'precision': 0.9198590707663545, 'recall': 0.9230377166156982, 'f1-score': 0.9214314559232248, 'support': 1323}, 'weighted avg': {'precision': 0.9397807791625298, 'recall': 0.9395313681027967, 'f1-score': 0.9396453832976286, 'support': 1323}}), (32, {'0': {'precision': 0.6551724137931034, 'recall': 0.8260869565217391, 'f1-score': 0.7307692307692308, 'support': 23}, '1': {'precision': 0.9902912621359223, 'recall': 0.9760765550239234, 'f1-score': 0.983132530120482, 'support': 418}, 'accuracy': 0.9682539682539683, 'macro avg': {'precision': 0.8227318379645129, 'recall': 0.9010817557728312, 'f1-score': 0.8569508804448565, 'support': 441}, 'weighted avg': {'precision': 0.972813408367476, 'recall': 0.9682539682539683, 'f1-score': 0.9699707253924122, 'support': 441}}), (33, {'0': {'precision': 0.8928571428571429, 'recall': 0.6756756756756757, 'f1-score': 0.7692307692307693, 'support': 37}, '1': {'precision': 0.9753593429158111, 'recall': 0.9937238493723849, 'f1-score': 0.9844559585492227, 'support': 478}, 'accuracy': 0.970873786407767, 'macro avg': {'precision': 0.934108242886477, 'recall': 0.8346997625240302, 'f1-score': 0.876843363889996, 'support': 515}, 'weighted avg': {'precision': 0.9694320003873241, 'recall': 0.970873786407767, 'f1-score': 0.9689931779574115, 'support': 515}}), (34, {'0': {'precision': 0.9419354838709677, 'recall': 0.8021978021978022, 'f1-score': 0.8664688427299703, 'support': 182}, '1': {'precision': 0.96964586846543, 'recall': 0.9922346850733391, 'f1-score': 0.9808102345415778, 'support': 1159}, 'accuracy': 0.9664429530201343, 'macro avg': {'precision': 0.9557906761681989, 'recall': 0.8972162436355706, 'f1-score': 0.9236395386357741, 'support': 1341}, 'weighted avg': {'precision': 0.9658850258135343, 'recall': 0.9664429530201343, 'f1-score': 0.9652918651831047, 'support': 1341}}), (35, {'0': {'precision': 0.6571428571428571, 'recall': 0.696969696969697, 'f1-score': 0.676470588235294, 'support': 33}, '1': {'precision': 0.9940227136879857, 'recall': 0.9928358208955224, 'f1-score': 0.9934289127837516, 'support': 1675}, 'accuracy': 0.9871194379391101, 'macro avg': {'precision': 0.8255827854154214, 'recall': 0.8449027589326097, 'f1-score': 0.8349497505095228, 'support': 1708}, 'weighted avg': {'precision': 0.9875139108390458, 'recall': 0.9871194379391101, 'f1-score': 0.9873050107286584, 'support': 1708}}), (36, {'0': {'precision': 0.75, 'recall': 0.6, 'f1-score': 0.6666666666666665, 'support': 40}, '1': {'precision': 0.9656652360515021, 'recall': 0.982532751091703, 'f1-score': 0.974025974025974, 'support': 458}, 'accuracy': 0.9518072289156626, 'macro avg': {'precision': 0.8578326180257511, 'recall': 0.7912663755458516, 'f1-score': 0.8203463203463203, 'support': 498}, 'weighted avg': {'precision': 0.9483427271317028, 'recall': 0.9518072289156626, 'f1-score': 0.9493384794589614, 'support': 498}}), (37, {'0': {'precision': 0.9340659340659341, 'recall': 0.7657657657657657, 'f1-score': 0.8415841584158416, 'support': 111}, '1': {'precision': 0.9609022556390977, 'recall': 0.9906976744186047, 'f1-score': 0.9755725190839695, 'support': 645}, 'accuracy': 0.9576719576719577, 'macro avg': {'precision': 0.9474840948525158, 'recall': 0.8782317200921852, 'f1-score': 0.9085783387499056, 'support': 756}, 'weighted avg': {'precision': 0.956962002074784, 'recall': 0.9576719576719577, 'f1-score': 0.9558996248588872, 'support': 756}}), (38, {'0': {'precision': 0.8493150684931506, 'recall': 0.7654320987654321, 'f1-score': 0.8051948051948052, 'support': 81}, '1': {'precision': 0.9828828828828828, 'recall': 0.9900181488203267, 'f1-score': 0.9864376130198915, 'support': 1102}, 'accuracy': 0.9746407438715131, 'macro avg': {'precision': 0.9160989756880167, 'recall': 0.8777251237928794, 'f1-score': 0.8958162091073484, 'support': 1183}, 'weighted avg': {'precision': 0.9737374957606781, 'recall': 0.9746407438715131, 'f1-score': 0.9740279195001689, 'support': 1183}}), (39, {'0': {'precision': 0.9285714285714286, 'recall': 0.4642857142857143, 'f1-score': 0.6190476190476191, 'support': 112}, '1': {'precision': 0.948051948051948, 'recall': 0.9963603275705186, 'f1-score': 0.9716060337178349, 'support': 1099}, 'accuracy': 0.9471511147811725, 'macro avg': {'precision': 0.9383116883116883, 'recall': 0.7303230209281164, 'f1-score': 0.795326826382727, 'support': 1211}, 'weighted avg': {'precision': 0.9462502815103971, 'recall': 0.9471511147811725, 'f1-score': 0.9389994751356184, 'support': 1211}}), (40, {'0': {'precision': 0.9552238805970149, 'recall': 0.5517241379310345, 'f1-score': 0.6994535519125683, 'support': 116}, '1': {'precision': 0.9511737089201878, 'recall': 0.9970472440944882, 'f1-score': 0.9735703988467083, 'support': 1016}, 'accuracy': 0.9514134275618374, 'macro avg': {'precision': 0.9531987947586014, 'recall': 0.7743856910127613, 'f1-score': 0.8365119753796383, 'support': 1132}, 'weighted avg': {'precision': 0.9515887441803572, 'recall': 0.9514134275618374, 'f1-score': 0.9454806866167081, 'support': 1132}}), (41, {'0': {'precision': 0.9117647058823529, 'recall': 0.6485355648535565, 'f1-score': 0.7579462102689486, 'support': 239}, '1': {'precision': 0.9576612903225806, 'recall': 0.9921671018276762, 'f1-score': 0.9746088740702744, 'support': 1915}, 'accuracy': 0.9540389972144847, 'macro avg': {'precision': 0.9347129981024668, 'recall': 0.8203513333406163, 'f1-score': 0.8662775421696115, 'support': 2154}, 'weighted avg': {'precision': 0.9525687723647281, 'recall': 0.9540389972144847, 'f1-score': 0.9505687734906473, 'support': 2154}}), (42, {'0': {'precision': 0.0, 'recall': 0.0, 'f1-score': 0.0, 'support': 24}, '1': {'precision': 0.9823529411764705, 'recall': 0.9925705794947994, 'f1-score': 0.9874353288987434, 'support': 1346}, 'accuracy': 0.9751824817518249, 'macro avg': {'precision': 0.49117647058823527, 'recall': 0.4962852897473997, 'f1-score': 0.4937176644493717, 'support': 1370}, 'weighted avg': {'precision': 0.9651438385573208, 'recall': 0.9751824817518249, 'f1-score': 0.9701371917501523, 'support': 1370}}), (43, {'0': {'precision': 0.1875, 'recall': 0.125, 'f1-score': 0.15, 'support': 24}, '1': {'precision': 0.9866666666666667, 'recall': 0.9917038927887684, 'f1-score': 0.9891788669637174, 'support': 1567}, 'accuracy': 0.978629792583281, 'macro avg': {'precision': 0.5870833333333334, 'recall': 0.5583519463943842, 'f1-score': 0.5695894334818586, 'support': 1591}, 'weighted avg': {'precision': 0.9746113555415882, 'recall': 0.978629792583281, 'f1-score': 0.9765199777071937, 'support': 1591}}), (44, {'0': {'precision': 0.0, 'recall': 0.0, 'f1-score': 0.0, 'support': 5}, '1': {'precision': 0.9958711808422791, 'recall': 0.9917763157894737, 'f1-score': 0.9938195302843016, 'support': 1216}, 'accuracy': 0.9877149877149877, 'macro avg': {'precision': 0.49793559042113955, 'recall': 0.49588815789473684, 'f1-score': 0.4969097651421508, 'support': 1221}, 'weighted avg': {'precision': 0.9917930842786334, 'recall': 0.9877149877149877, 'f1-score': 0.9897498352380923, 'support': 1221}}), (45, {'0': {'precision': 0.0, 'recall': 0.0, 'f1-score': 0.0, 'support': 2}, '1': {'precision': 0.9971830985915493, 'recall': 0.9971830985915493, 'f1-score': 0.9971830985915493, 'support': 710}, 'accuracy': 0.9943820224719101, 'macro avg': {'precision': 0.49859154929577465, 'recall': 0.49859154929577465, 'f1-score': 0.49859154929577465, 'support': 712}, 'weighted avg': {'precision': 0.9943820224719101, 'recall': 0.9943820224719101, 'f1-score': 0.9943820224719101, 'support': 712}}), (46, {'0': {'precision': 0.0, 'recall': 0.0, 'f1-score': 0.0, 'support': 22}, '1': {'precision': 0.9739027283511269, 'recall': 0.9963592233009708, 'f1-score': 0.9850029994001198, 'support': 824}, 'accuracy': 0.9704491725768322, 'macro avg': {'precision': 0.48695136417556345, 'recall': 0.4981796116504854, 'f1-score': 0.4925014997000599, 'support': 846}, 'weighted avg': {'precision': 0.9485766526729652, 'recall': 0.9704491725768322, 'f1-score': 0.9593882641911332, 'support': 846}}), (47, {'0': {'precision': 1.0, 'recall': 0.027777777777777776, 'f1-score': 0.05405405405405406, 'support': 36}, '1': {'precision': 0.925531914893617, 'recall': 1.0, 'f1-score': 0.9613259668508287, 'support': 435}, 'accuracy': 0.9256900212314225, 'macro avg': {'precision': 0.9627659574468085, 'recall': 0.5138888888888888, 'f1-score': 0.5076900104524413, 'support': 471}, 'weighted avg': {'precision': 0.9312237430546144, 'recall': 0.9256900212314225, 'f1-score': 0.8919803429427949, 'support': 471}}), (48, {'0': {'precision': 1.0, 'recall': 0.017857142857142856, 'f1-score': 0.03508771929824561, 'support': 56}, '1': {'precision': 0.8842105263157894, 'recall': 1.0, 'f1-score': 0.9385474860335195, 'support': 420}, 'accuracy': 0.884453781512605, 'macro avg': {'precision': 0.9421052631578948, 'recall': 0.5089285714285714, 'f1-score': 0.48681760266588253, 'support': 476}, 'weighted avg': {'precision': 0.8978328173374612, 'recall': 0.884453781512605, 'f1-score': 0.8322581017117225, 'support': 476}})]\n"
     ]
    }
   ],
   "source": [
    "with open(\"results_cross_validation\", \"rb\") as fp:   # Unpickling\n",
    "    b = pickle.load(fp)\n",
    "print(b)"
   ],
   "metadata": {
    "collapsed": false,
    "ExecuteTime": {
     "end_time": "2023-06-25T14:36:45.144770400Z",
     "start_time": "2023-06-25T14:36:45.134843800Z"
    }
   }
  }
 ],
 "metadata": {
  "kernelspec": {
   "display_name": "Python 3",
   "language": "python",
   "name": "python3"
  },
  "language_info": {
   "codemirror_mode": {
    "name": "ipython",
    "version": 2
   },
   "file_extension": ".py",
   "mimetype": "text/x-python",
   "name": "python",
   "nbconvert_exporter": "python",
   "pygments_lexer": "ipython2",
   "version": "2.7.6"
  }
 },
 "nbformat": 4,
 "nbformat_minor": 0
}
