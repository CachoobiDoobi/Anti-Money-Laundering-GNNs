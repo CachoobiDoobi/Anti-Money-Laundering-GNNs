{
 "cells": [
  {
   "cell_type": "code",
   "execution_count": 42,
   "metadata": {
    "collapsed": true,
    "ExecuteTime": {
     "end_time": "2023-06-23T17:23:54.123276072Z",
     "start_time": "2023-06-23T17:23:54.111027557Z"
    }
   },
   "outputs": [],
   "source": [
    "import seaborn as sns\n",
    "sns.set(rc={'axes.facecolor': 'dimgrey', 'grid.color': 'lightgrey'})\n",
    "import pandas as pd\n",
    "import matplotlib.pyplot as plt\n",
    "from torch_geometric.nn import Node2Vec\n",
    "import torch\n",
    "from tqdm.notebook import tqdm\n",
    "# Now train the DT classifier\n",
    "# Load libraries\n",
    "import pandas as pd\n",
    "from torch_geometric.data import Data\n",
    "from sklearn.metrics import classification_report\n",
    "from sklearn.tree import DecisionTreeClassifier # Import Decision Tree Classifier\n",
    "from sklearn import metrics #Import scikit-learn metrics module for accuracy calculation\n",
    "from sklearn.metrics import f1_score\n",
    "from sklearn.ensemble import RandomForestClassifier\n",
    "from sklearn.metrics import classification_report\n",
    "from sklearn.ensemble import IsolationForest\n",
    "from sklearn.svm import OneClassSVM"
   ]
  },
  {
   "cell_type": "code",
   "execution_count": 43,
   "outputs": [
    {
     "name": "stdout",
     "output_type": "stream",
     "text": [
      "cpu\n"
     ]
    }
   ],
   "source": [
    "device = 'cuda' if torch.cuda.is_available() else 'cpu'\n",
    "print(device)"
   ],
   "metadata": {
    "collapsed": false,
    "ExecuteTime": {
     "end_time": "2023-06-23T17:23:54.454143244Z",
     "start_time": "2023-06-23T17:23:54.449324254Z"
    }
   }
  },
  {
   "cell_type": "code",
   "execution_count": 189,
   "outputs": [],
   "source": [
    "%run utils.ipynb\n",
    "%run gcn_model.ipynb\n",
    "%run GAT_model.ipynb"
   ],
   "metadata": {
    "collapsed": false,
    "ExecuteTime": {
     "end_time": "2023-06-25T11:27:34.894818072Z",
     "start_time": "2023-06-25T11:27:34.846628395Z"
    }
   }
  },
  {
   "cell_type": "code",
   "execution_count": 190,
   "outputs": [
    {
     "name": "stdout",
     "output_type": "stream",
     "text": [
      "done\n"
     ]
    }
   ],
   "source": [
    "# class 1 is illicit, 2 is licit, unknown is unknown\n",
    "labels = pd.read_csv(\"data/elliptic_bitcoin_dataset/elliptic_txs_classes.csv\")\n",
    "edges = pd.read_csv(\"data/elliptic_bitcoin_dataset/elliptic_txs_edgelist.csv\")\n",
    "nodes = pd.read_csv(\"data/elliptic_bitcoin_dataset/elliptic_txs_features.csv\", header=None)\n",
    "print('done')"
   ],
   "metadata": {
    "collapsed": false,
    "ExecuteTime": {
     "end_time": "2023-06-25T11:27:39.137653333Z",
     "start_time": "2023-06-25T11:27:34.962401263Z"
    }
   }
  },
  {
   "cell_type": "code",
   "execution_count": 191,
   "outputs": [
    {
     "data": {
      "text/plain": "((46564, 167), (46564, 2), (36624, 2))"
     },
     "execution_count": 191,
     "metadata": {},
     "output_type": "execute_result"
    }
   ],
   "source": [
    "indexes = labels.index[labels[\"class\"] != \"unknown\"].tolist()\n",
    "labels_new = labels[labels[\"class\"] != \"unknown\"]\n",
    "nodes_new =  nodes.take(indexes)\n",
    "edges_new = edges.loc[edges[\"txId1\"].isin(labels_new[\"txId\"])].loc[edges[\"txId2\"].isin(labels_new[\"txId\"])]\n",
    "nodes_new.shape, labels_new.shape, edges_new.shape"
   ],
   "metadata": {
    "collapsed": false,
    "ExecuteTime": {
     "end_time": "2023-06-25T11:27:39.215206373Z",
     "start_time": "2023-06-25T11:27:39.146310920Z"
    }
   }
  },
  {
   "cell_type": "code",
   "execution_count": 198,
   "outputs": [
    {
     "name": "stdout",
     "output_type": "stream",
     "text": [
      "{'train': [Data(x=[2147, 165], edge_index=[2, 1924], y=[2147]), Data(x=[1117, 165], edge_index=[2, 858], y=[1117]), Data(x=[1279, 165], edge_index=[2, 727], y=[1279]), Data(x=[1440, 165], edge_index=[2, 1169], y=[1440]), Data(x=[1882, 165], edge_index=[2, 1491], y=[1882]), Data(x=[485, 165], edge_index=[2, 209], y=[485]), Data(x=[1203, 165], edge_index=[2, 858], y=[1203]), Data(x=[1165, 165], edge_index=[2, 1044], y=[1165]), Data(x=[778, 165], edge_index=[2, 484], y=[778]), Data(x=[972, 165], edge_index=[2, 538], y=[972]), Data(x=[696, 165], edge_index=[2, 477], y=[696]), Data(x=[506, 165], edge_index=[2, 446], y=[506]), Data(x=[809, 165], edge_index=[2, 564], y=[809]), Data(x=[417, 165], edge_index=[2, 350], y=[417]), Data(x=[618, 165], edge_index=[2, 446], y=[618]), Data(x=[530, 165], edge_index=[2, 334], y=[530]), Data(x=[811, 165], edge_index=[2, 673], y=[811]), Data(x=[389, 165], edge_index=[2, 275], y=[389]), Data(x=[745, 165], edge_index=[2, 585], y=[745]), Data(x=[900, 165], edge_index=[2, 613], y=[900]), Data(x=[641, 165], edge_index=[2, 518], y=[641]), Data(x=[1763, 165], edge_index=[2, 1537], y=[1763]), Data(x=[1187, 165], edge_index=[2, 1046], y=[1187]), Data(x=[1126, 165], edge_index=[2, 961], y=[1126]), Data(x=[594, 165], edge_index=[2, 559], y=[594]), Data(x=[517, 165], edge_index=[2, 346], y=[517]), Data(x=[206, 165], edge_index=[2, 58], y=[206]), Data(x=[284, 165], edge_index=[2, 150], y=[284]), Data(x=[1174, 165], edge_index=[2, 911], y=[1174]), Data(x=[524, 165], edge_index=[2, 372], y=[524]), Data(x=[710, 165], edge_index=[2, 522], y=[710]), Data(x=[1323, 165], edge_index=[2, 997], y=[1323]), Data(x=[441, 165], edge_index=[2, 429], y=[441]), Data(x=[515, 165], edge_index=[2, 427], y=[515]), Data(x=[1341, 165], edge_index=[2, 1002], y=[1341]), Data(x=[1708, 165], edge_index=[2, 1148], y=[1708]), Data(x=[498, 165], edge_index=[2, 423], y=[498]), Data(x=[756, 165], edge_index=[2, 653], y=[756]), Data(x=[1183, 165], edge_index=[2, 1055], y=[1183]), Data(x=[1211, 165], edge_index=[2, 1180], y=[1211]), Data(x=[1132, 165], edge_index=[2, 1048], y=[1132]), Data(x=[2154, 165], edge_index=[2, 1443], y=[2154]), Data(x=[1370, 165], edge_index=[2, 935], y=[1370]), Data(x=[1591, 165], edge_index=[2, 1497], y=[1591]), Data(x=[1221, 165], edge_index=[2, 1346], y=[1221]), Data(x=[712, 165], edge_index=[2, 388], y=[712]), Data(x=[846, 165], edge_index=[2, 822], y=[846]), Data(x=[471, 165], edge_index=[2, 371], y=[471]), Data(x=[476, 165], edge_index=[2, 415], y=[476])], 'val': [], 'test': []}\n"
     ]
    }
   ],
   "source": [
    "data, graph_info = time_step_split(nodes_new, edges_new, labels_new, device, train_lt = 49, val_lt = 49, test_lt = 49)\n",
    "# data = data['train']\n",
    "\n",
    "print(data)"
   ],
   "metadata": {
    "collapsed": false,
    "ExecuteTime": {
     "end_time": "2023-06-25T11:29:41.305319243Z",
     "start_time": "2023-06-25T11:29:38.569031986Z"
    }
   }
  },
  {
   "cell_type": "code",
   "execution_count": 199,
   "outputs": [],
   "source": [
    "def trainGCN(data_train, data):\n",
    "\n",
    "    GCN = GNN_Example(node_dim=data['train'][0].x.shape[1], edge_dim=1, output_dim=2, hidden_dim=256, n_gnn_layers=3, K=2, dropout_rate=0.1).to(device)\n",
    "\n",
    "    lr = 1e-3\n",
    "    epochs = 50\n",
    "    # weights for classes\n",
    "    weight = torch.tensor([0.5, 0.5]).to(device)\n",
    "    optimizer = torch.optim.Adam(GCN.parameters(), lr=lr)\n",
    "    loss_fn = torch.nn.NLLLoss(weight)\n",
    "\n",
    "    best_model = None\n",
    "    best_valid_auc = 0\n",
    "    best_result = None\n",
    "    losses = []\n",
    "\n",
    "    for epoch in range(1, 1 + epochs):\n",
    "        # train with random split\n",
    "        loss = train(GCN, data_train, optimizer, loss_fn, device)\n",
    "        losses.append(loss)\n",
    "        result = test(GCN, data, device)\n",
    "        train_acc, val_acc, test_acc, train_auc, val_auc, test_auc = result\n",
    "        if val_auc > best_valid_auc:\n",
    "            best_valid_auc = val_auc\n",
    "            best_model = copy.deepcopy(GCN)\n",
    "            best_result = [train_acc, val_acc, test_acc, train_auc, val_auc, test_auc]\n",
    "        if epoch % 10 == 0:\n",
    "            print('Epoch: {:02},'.format(epoch),\n",
    "                  'Loss:{:.4f}'.format(loss),\n",
    "                  'Train:\\n{}\\n'.format(train_acc),\n",
    "                  'Train_auc_roc: {}'.format(train_auc),\n",
    "                  '\\n\\n'\n",
    "                  'Valid:\\n{}\\n'.format(val_acc),\n",
    "                  'Val_auc_roc: {}'.format(val_auc),\n",
    "                  '\\n\\n'\n",
    "                  'Test:\\n{}\\n'.format(test_acc),\n",
    "                  'Test_auc_roc: {}'.format(test_auc),\n",
    "                  '\\n'\n",
    "                  )\n",
    "\n",
    "    return best_result"
   ],
   "metadata": {
    "collapsed": false,
    "ExecuteTime": {
     "end_time": "2023-06-25T11:29:41.310029608Z",
     "start_time": "2023-06-25T11:29:41.307536806Z"
    }
   }
  },
  {
   "cell_type": "code",
   "execution_count": 200,
   "outputs": [
    {
     "ename": "TypeError",
     "evalue": "unhashable type: 'dict'",
     "output_type": "error",
     "traceback": [
      "\u001B[0;31m---------------------------------------------------------------------------\u001B[0m",
      "\u001B[0;31mTypeError\u001B[0m                                 Traceback (most recent call last)",
      "Cell \u001B[0;32mIn[200], line 6\u001B[0m\n\u001B[1;32m      4\u001B[0m data[\u001B[38;5;124m'\u001B[39m\u001B[38;5;124mval\u001B[39m\u001B[38;5;124m'\u001B[39m] \u001B[38;5;241m=\u001B[39m  data[\u001B[38;5;124m'\u001B[39m\u001B[38;5;124mtrain\u001B[39m\u001B[38;5;124m'\u001B[39m][idx]\n\u001B[1;32m      5\u001B[0m train_data \u001B[38;5;241m=\u001B[39m [x \u001B[38;5;28;01mfor\u001B[39;00m i, x \u001B[38;5;129;01min\u001B[39;00m \u001B[38;5;28menumerate\u001B[39m(data[\u001B[38;5;124m'\u001B[39m\u001B[38;5;124mtrain\u001B[39m\u001B[38;5;124m'\u001B[39m]) \u001B[38;5;28;01mif\u001B[39;00m i \u001B[38;5;241m!=\u001B[39m idx]\n\u001B[0;32m----> 6\u001B[0m result \u001B[38;5;241m=\u001B[39m \u001B[43mtrainGCN\u001B[49m\u001B[43m(\u001B[49m\u001B[43mtrain_data\u001B[49m\u001B[43m,\u001B[49m\u001B[43m \u001B[49m\u001B[43mdata\u001B[49m\u001B[43m)\u001B[49m\n",
      "Cell \u001B[0;32mIn[199], line 22\u001B[0m, in \u001B[0;36mtrainGCN\u001B[0;34m(data_train, data)\u001B[0m\n\u001B[1;32m     20\u001B[0m losses\u001B[38;5;241m.\u001B[39mappend(loss)\n\u001B[1;32m     21\u001B[0m result \u001B[38;5;241m=\u001B[39m test(GCN, data, device)\n\u001B[0;32m---> 22\u001B[0m train_acc, val_acc, test_acc, train_auc, val_auc, test_auc \u001B[38;5;241m=\u001B[39m result\n\u001B[1;32m     23\u001B[0m \u001B[38;5;28;01mif\u001B[39;00m val_auc \u001B[38;5;241m>\u001B[39m best_valid_auc:\n\u001B[1;32m     24\u001B[0m     best_valid_auc \u001B[38;5;241m=\u001B[39m val_auc\n",
      "File \u001B[0;32m~/anaconda3/envs/MLGraphGood/lib/python3.9/site-packages/torch_geometric/data/data.py:798\u001B[0m, in \u001B[0;36mData.__call__\u001B[0;34m(self, *args)\u001B[0m\n\u001B[1;32m    794\u001B[0m \u001B[38;5;28;01mdef\u001B[39;00m \u001B[38;5;21m__call__\u001B[39m(\u001B[38;5;28mself\u001B[39m, \u001B[38;5;241m*\u001B[39margs: List[\u001B[38;5;28mstr\u001B[39m]) \u001B[38;5;241m-\u001B[39m\u001B[38;5;241m>\u001B[39m Iterable:\n\u001B[1;32m    795\u001B[0m \u001B[38;5;250m    \u001B[39m\u001B[38;5;124mr\u001B[39m\u001B[38;5;124;03m\"\"\"Iterates over all attributes :obj:`*args` in the data, yielding\u001B[39;00m\n\u001B[1;32m    796\u001B[0m \u001B[38;5;124;03m    their attribute names and values.\u001B[39;00m\n\u001B[1;32m    797\u001B[0m \u001B[38;5;124;03m    If :obj:`*args` is not given, will iterate over all attributes.\"\"\"\u001B[39;00m\n\u001B[0;32m--> 798\u001B[0m     \u001B[38;5;28;01mfor\u001B[39;00m key, value \u001B[38;5;129;01min\u001B[39;00m \u001B[38;5;28mself\u001B[39m\u001B[38;5;241m.\u001B[39m_store\u001B[38;5;241m.\u001B[39mitems(\u001B[38;5;241m*\u001B[39margs):\n\u001B[1;32m    799\u001B[0m         \u001B[38;5;28;01myield\u001B[39;00m key, value\n",
      "File \u001B[0;32m~/anaconda3/envs/MLGraphGood/lib/python3.9/site-packages/torch_geometric/data/view.py:39\u001B[0m, in \u001B[0;36mItemsView.__iter__\u001B[0;34m(self)\u001B[0m\n\u001B[1;32m     38\u001B[0m \u001B[38;5;28;01mdef\u001B[39;00m \u001B[38;5;21m__iter__\u001B[39m(\u001B[38;5;28mself\u001B[39m):\n\u001B[0;32m---> 39\u001B[0m     \u001B[38;5;28;01mfor\u001B[39;00m key \u001B[38;5;129;01min\u001B[39;00m \u001B[38;5;28;43mself\u001B[39;49m\u001B[38;5;241;43m.\u001B[39;49m\u001B[43m_keys\u001B[49m\u001B[43m(\u001B[49m\u001B[43m)\u001B[49m:\n\u001B[1;32m     40\u001B[0m         \u001B[38;5;28;01myield\u001B[39;00m (key, \u001B[38;5;28mself\u001B[39m\u001B[38;5;241m.\u001B[39m_mapping[key])\n",
      "File \u001B[0;32m~/anaconda3/envs/MLGraphGood/lib/python3.9/site-packages/torch_geometric/data/view.py:14\u001B[0m, in \u001B[0;36mMappingView._keys\u001B[0;34m(self)\u001B[0m\n\u001B[1;32m     12\u001B[0m     \u001B[38;5;28;01mreturn\u001B[39;00m \u001B[38;5;28mself\u001B[39m\u001B[38;5;241m.\u001B[39m_mapping\u001B[38;5;241m.\u001B[39mkeys()\n\u001B[1;32m     13\u001B[0m \u001B[38;5;28;01melse\u001B[39;00m:\n\u001B[0;32m---> 14\u001B[0m     \u001B[38;5;28;01mreturn\u001B[39;00m [arg \u001B[38;5;28;01mfor\u001B[39;00m arg \u001B[38;5;129;01min\u001B[39;00m \u001B[38;5;28mself\u001B[39m\u001B[38;5;241m.\u001B[39m_args \u001B[38;5;28;01mif\u001B[39;00m arg \u001B[38;5;129;01min\u001B[39;00m \u001B[38;5;28mself\u001B[39m\u001B[38;5;241m.\u001B[39m_mapping]\n",
      "File \u001B[0;32m~/anaconda3/envs/MLGraphGood/lib/python3.9/site-packages/torch_geometric/data/view.py:14\u001B[0m, in \u001B[0;36m<listcomp>\u001B[0;34m(.0)\u001B[0m\n\u001B[1;32m     12\u001B[0m     \u001B[38;5;28;01mreturn\u001B[39;00m \u001B[38;5;28mself\u001B[39m\u001B[38;5;241m.\u001B[39m_mapping\u001B[38;5;241m.\u001B[39mkeys()\n\u001B[1;32m     13\u001B[0m \u001B[38;5;28;01melse\u001B[39;00m:\n\u001B[0;32m---> 14\u001B[0m     \u001B[38;5;28;01mreturn\u001B[39;00m [arg \u001B[38;5;28;01mfor\u001B[39;00m arg \u001B[38;5;129;01min\u001B[39;00m \u001B[38;5;28mself\u001B[39m\u001B[38;5;241m.\u001B[39m_args \u001B[38;5;28;01mif\u001B[39;00m \u001B[43marg\u001B[49m\u001B[43m \u001B[49m\u001B[38;5;129;43;01min\u001B[39;49;00m\u001B[43m \u001B[49m\u001B[38;5;28;43mself\u001B[39;49m\u001B[38;5;241;43m.\u001B[39;49m\u001B[43m_mapping\u001B[49m]\n",
      "\u001B[0;31mTypeError\u001B[0m: unhashable type: 'dict'"
     ]
    }
   ],
   "source": [
    "# cross validation\n",
    "for idx in range(49):\n",
    "    data['test'] = data['train'][idx]\n",
    "    data['val'] =  data['train'][idx]\n",
    "    train_data = [x for i, x in enumerate(data['train']) if i != idx]\n",
    "    result = trainGCN(train_data, data)"
   ],
   "metadata": {
    "collapsed": false,
    "ExecuteTime": {
     "end_time": "2023-06-25T11:29:41.891749495Z",
     "start_time": "2023-06-25T11:29:41.310745974Z"
    }
   }
  },
  {
   "cell_type": "code",
   "execution_count": null,
   "outputs": [],
   "source": [],
   "metadata": {
    "collapsed": false
   }
  }
 ],
 "metadata": {
  "kernelspec": {
   "display_name": "Python 3",
   "language": "python",
   "name": "python3"
  },
  "language_info": {
   "codemirror_mode": {
    "name": "ipython",
    "version": 2
   },
   "file_extension": ".py",
   "mimetype": "text/x-python",
   "name": "python",
   "nbconvert_exporter": "python",
   "pygments_lexer": "ipython2",
   "version": "2.7.6"
  }
 },
 "nbformat": 4,
 "nbformat_minor": 0
}
