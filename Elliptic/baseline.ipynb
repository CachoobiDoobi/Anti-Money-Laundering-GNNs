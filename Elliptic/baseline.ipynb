{
 "cells": [
  {
   "cell_type": "code",
   "execution_count": 130,
   "metadata": {
    "collapsed": true,
    "ExecuteTime": {
     "end_time": "2023-06-07T14:24:05.954448927Z",
     "start_time": "2023-06-07T14:24:05.950216950Z"
    }
   },
   "outputs": [
    {
     "name": "stdout",
     "output_type": "stream",
     "text": [
      "done\n"
     ]
    }
   ],
   "source": [
    "import seaborn as sns\n",
    "sns.set(rc={'axes.facecolor': 'dimgrey', 'grid.color': 'lightgrey'})\n",
    "import pandas as pd\n",
    "import torch\n",
    "import copy\n",
    "import matplotlib.pyplot as plt\n",
    "from torch_geometric.nn import Node2Vec\n",
    "import os.path as osp\n",
    "import torch\n",
    "from torch_geometric.datasets import Planetoid\n",
    "from tqdm.notebook import tqdm\n",
    "from pygsp import graphs\n",
    "print('done')"
   ]
  },
  {
   "cell_type": "code",
   "execution_count": 131,
   "outputs": [],
   "source": [
    "%run utils.ipynb\n",
    "%run model.ipynb"
   ],
   "metadata": {
    "collapsed": false,
    "ExecuteTime": {
     "end_time": "2023-06-07T14:24:06.760835554Z",
     "start_time": "2023-06-07T14:24:06.734611542Z"
    }
   }
  },
  {
   "cell_type": "code",
   "execution_count": 132,
   "outputs": [
    {
     "name": "stdout",
     "output_type": "stream",
     "text": [
      "done\n"
     ]
    }
   ],
   "source": [
    "# class 1 is illicit, 2 is licit, unknown is unknown\n",
    "labels = pd.read_csv(\"data/elliptic_bitcoin_dataset/elliptic_txs_classes.csv\")\n",
    "edges = pd.read_csv(\"data/elliptic_bitcoin_dataset/elliptic_txs_edgelist.csv\")\n",
    "nodes = pd.read_csv(\"data/elliptic_bitcoin_dataset/elliptic_txs_features.csv\", header=None)\n",
    "print('done')"
   ],
   "metadata": {
    "collapsed": false,
    "ExecuteTime": {
     "end_time": "2023-06-07T14:24:12.492281470Z",
     "start_time": "2023-06-07T14:24:08.267343458Z"
    }
   }
  },
  {
   "cell_type": "code",
   "execution_count": 133,
   "outputs": [
    {
     "data": {
      "text/plain": "((46564, 167), (46564, 2), (36624, 2))"
     },
     "execution_count": 133,
     "metadata": {},
     "output_type": "execute_result"
    }
   ],
   "source": [
    "indexes = labels.index[labels[\"class\"] != \"unknown\"].tolist()\n",
    "labels_new = labels[labels[\"class\"] != \"unknown\"]\n",
    "nodes_new =  nodes.take(indexes)\n",
    "edges_new = edges.loc[edges[\"txId1\"].isin(labels_new[\"txId\"])].loc[edges[\"txId2\"].isin(labels_new[\"txId\"])]\n",
    "nodes_new.shape, labels_new.shape, edges_new.shape"
   ],
   "metadata": {
    "collapsed": false,
    "ExecuteTime": {
     "end_time": "2023-06-07T14:24:14.024302983Z",
     "start_time": "2023-06-07T14:24:13.965540219Z"
    }
   }
  },
  {
   "cell_type": "code",
   "execution_count": 134,
   "outputs": [
    {
     "name": "stdout",
     "output_type": "stream",
     "text": [
      "done\n"
     ]
    }
   ],
   "source": [
    "device = 'cuda' if torch.cuda.is_available() else 'cpu'\n",
    "print('done')"
   ],
   "metadata": {
    "collapsed": false,
    "ExecuteTime": {
     "end_time": "2023-06-07T14:24:30.601261916Z",
     "start_time": "2023-06-07T14:24:30.559068096Z"
    }
   }
  },
  {
   "cell_type": "code",
   "execution_count": 141,
   "outputs": [
    {
     "ename": "IndexError",
     "evalue": "too many indices for array: array is 1-dimensional, but 2 were indexed",
     "output_type": "error",
     "traceback": [
      "\u001B[0;31m---------------------------------------------------------------------------\u001B[0m",
      "\u001B[0;31mIndexError\u001B[0m                                Traceback (most recent call last)",
      "Cell \u001B[0;32mIn[141], line 2\u001B[0m\n\u001B[1;32m      1\u001B[0m \u001B[38;5;66;03m# define the training and test set nodes\u001B[39;00m\n\u001B[0;32m----> 2\u001B[0m labeled_nodes \u001B[38;5;241m=\u001B[39m \u001B[43mlabels\u001B[49m\u001B[38;5;241;43m.\u001B[39;49m\u001B[43mindex\u001B[49m\u001B[43m[\u001B[49m\u001B[43mlabels\u001B[49m\u001B[43m[\u001B[49m\u001B[43mlabels\u001B[49m\u001B[43m[\u001B[49m\u001B[38;5;124;43m\"\u001B[39;49m\u001B[38;5;124;43mclass\u001B[39;49m\u001B[38;5;124;43m\"\u001B[39;49m\u001B[43m]\u001B[49m\u001B[43m \u001B[49m\u001B[38;5;241;43m!=\u001B[39;49m\u001B[43m \u001B[49m\u001B[38;5;124;43m\"\u001B[39;49m\u001B[38;5;124;43munknown\u001B[39;49m\u001B[38;5;124;43m\"\u001B[39;49m\u001B[43m]\u001B[49m\u001B[43m \u001B[49m\u001B[38;5;241;43m==\u001B[39;49m\u001B[43m \u001B[49m\u001B[38;5;28;43;01mTrue\u001B[39;49;00m\u001B[43m]\u001B[49m\u001B[38;5;241m.\u001B[39mtolist()\n\u001B[1;32m      3\u001B[0m \u001B[38;5;28mprint\u001B[39m(labeled_nodes)\n",
      "File \u001B[0;32m~/anaconda3/envs/MLGraphGood/lib/python3.9/site-packages/pandas/core/indexes/range.py:924\u001B[0m, in \u001B[0;36mRangeIndex.__getitem__\u001B[0;34m(self, key)\u001B[0m\n\u001B[1;32m    917\u001B[0m \u001B[38;5;28;01melif\u001B[39;00m is_scalar(key):\n\u001B[1;32m    918\u001B[0m     \u001B[38;5;28;01mraise\u001B[39;00m \u001B[38;5;167;01mIndexError\u001B[39;00m(\n\u001B[1;32m    919\u001B[0m         \u001B[38;5;124m\"\u001B[39m\u001B[38;5;124monly integers, slices (`:`), \u001B[39m\u001B[38;5;124m\"\u001B[39m\n\u001B[1;32m    920\u001B[0m         \u001B[38;5;124m\"\u001B[39m\u001B[38;5;124mellipsis (`...`), numpy.newaxis (`None`) \u001B[39m\u001B[38;5;124m\"\u001B[39m\n\u001B[1;32m    921\u001B[0m         \u001B[38;5;124m\"\u001B[39m\u001B[38;5;124mand integer or boolean \u001B[39m\u001B[38;5;124m\"\u001B[39m\n\u001B[1;32m    922\u001B[0m         \u001B[38;5;124m\"\u001B[39m\u001B[38;5;124marrays are valid indices\u001B[39m\u001B[38;5;124m\"\u001B[39m\n\u001B[1;32m    923\u001B[0m     )\n\u001B[0;32m--> 924\u001B[0m \u001B[38;5;28;01mreturn\u001B[39;00m \u001B[38;5;28;43msuper\u001B[39;49m\u001B[43m(\u001B[49m\u001B[43m)\u001B[49m\u001B[38;5;241;43m.\u001B[39;49m\u001B[38;5;21;43m__getitem__\u001B[39;49m\u001B[43m(\u001B[49m\u001B[43mkey\u001B[49m\u001B[43m)\u001B[49m\n",
      "File \u001B[0;32m~/anaconda3/envs/MLGraphGood/lib/python3.9/site-packages/pandas/core/indexes/base.py:5195\u001B[0m, in \u001B[0;36mIndex.__getitem__\u001B[0;34m(self, key)\u001B[0m\n\u001B[1;32m   5192\u001B[0m     \u001B[38;5;28;01melse\u001B[39;00m:\n\u001B[1;32m   5193\u001B[0m         key \u001B[38;5;241m=\u001B[39m np\u001B[38;5;241m.\u001B[39masarray(key, dtype\u001B[38;5;241m=\u001B[39m\u001B[38;5;28mbool\u001B[39m)\n\u001B[0;32m-> 5195\u001B[0m result \u001B[38;5;241m=\u001B[39m \u001B[43mgetitem\u001B[49m\u001B[43m(\u001B[49m\u001B[43mkey\u001B[49m\u001B[43m)\u001B[49m\n\u001B[1;32m   5196\u001B[0m \u001B[38;5;66;03m# Because we ruled out integer above, we always get an arraylike here\u001B[39;00m\n\u001B[1;32m   5197\u001B[0m \u001B[38;5;28;01mif\u001B[39;00m result\u001B[38;5;241m.\u001B[39mndim \u001B[38;5;241m>\u001B[39m \u001B[38;5;241m1\u001B[39m:\n",
      "\u001B[0;31mIndexError\u001B[0m: too many indices for array: array is 1-dimensional, but 2 were indexed"
     ]
    }
   ],
   "source": [
    "# define the training and test set nodes\n",
    "labeled_nodes = labels.index[labels[labels[\"class\"] != \"unknown\"] == True].tolist()\n",
    "print(labeled_nodes)"
   ],
   "metadata": {
    "collapsed": false,
    "ExecuteTime": {
     "end_time": "2023-06-07T14:31:55.722692934Z",
     "start_time": "2023-06-07T14:31:55.690576256Z"
    }
   }
  },
  {
   "cell_type": "code",
   "execution_count": 142,
   "outputs": [
    {
     "name": "stdout",
     "output_type": "stream",
     "text": [
      "Data(x=[2147, 165], edge_index=[2, 1924], y=[2147])\n"
     ]
    }
   ],
   "source": [
    "data, graph_info = time_step_split(nodes_new, edges_new, labels_new, device,  train_lt = 49, val_lt = 49, test_lt = 49)\n",
    "data = data['train']\n",
    "print(data[0])"
   ],
   "metadata": {
    "collapsed": false,
    "ExecuteTime": {
     "end_time": "2023-06-07T14:49:25.498179764Z",
     "start_time": "2023-06-07T14:49:23.001776788Z"
    }
   }
  },
  {
   "cell_type": "code",
   "execution_count": 108,
   "outputs": [],
   "source": [
    "from torch_geometric.utils import to_dense_adj\n",
    "\n",
    "def isConnected(edge_index):\n",
    "    \"\"\"\n",
    "    Computes whether a graph is connected or not, based on its edge index\n",
    "    :return:\n",
    "    \"\"\"\n",
    "    adj = to_dense_adj(data['train'][0].edge_index).squeeze(0)\n",
    "    g = graphs.Graph(adj)\n",
    "    return g.is_connected()"
   ],
   "metadata": {
    "collapsed": false,
    "ExecuteTime": {
     "end_time": "2023-06-07T14:08:01.938515206Z",
     "start_time": "2023-06-07T14:08:01.893871977Z"
    }
   }
  },
  {
   "cell_type": "code",
   "execution_count": 109,
   "outputs": [],
   "source": [
    "# Define your Node2Vec model here\n",
    "def defineNode2VecModel(edge_index):\n",
    "    n2v = Node2Vec(edge_index=edge_index, embedding_dim=3, walk_length=20, context_size=10,\n",
    "                   walks_per_node=10, num_negative_samples=1,\n",
    "                   p=1, q=1, sparse=False)\n",
    "    return n2v\n",
    "\n",
    "n2v = defineNode2VecModel(data[0].edge_index)"
   ],
   "metadata": {
    "collapsed": false,
    "ExecuteTime": {
     "end_time": "2023-06-07T14:08:02.278372639Z",
     "start_time": "2023-06-07T14:08:02.266890906Z"
    }
   }
  },
  {
   "cell_type": "code",
   "execution_count": 110,
   "outputs": [],
   "source": [
    "#define the training function for the Node2Vec model here\n",
    "def train(model, loader, optimizer):\n",
    "    model.train()\n",
    "    total_loss = 0\n",
    "    for pos_rw, neg_rw in loader:\n",
    "        optimizer.zero_grad()\n",
    "        loss = model.loss(pos_rw.to(device), neg_rw.to(device))\n",
    "        loss.backward()\n",
    "        optimizer.step()\n",
    "        total_loss += loss.item()\n",
    "    return total_loss / len(loader)\n",
    "#########################################################################\n",
    "\n",
    "#########################################################################\n",
    "#define the test function for the Node2Vec model here\n",
    "@torch.no_grad()\n",
    "def test(model):\n",
    "    model.eval()\n",
    "    z = model()\n",
    "    acc = model.test(z[data.train_mask], data.y[data.train_mask],\n",
    "                   z[data.test_mask], data.y[data.test_mask],\n",
    "                   max_iter=150)\n",
    "    return acc\n",
    "#########################################################################"
   ],
   "metadata": {
    "collapsed": false,
    "ExecuteTime": {
     "end_time": "2023-06-07T14:08:04.823283207Z",
     "start_time": "2023-06-07T14:08:04.819222955Z"
    }
   }
  },
  {
   "cell_type": "code",
   "execution_count": 111,
   "outputs": [
    {
     "ename": "TypeError",
     "evalue": "test() missing 1 required positional argument: 'model'",
     "output_type": "error",
     "traceback": [
      "\u001B[0;31m---------------------------------------------------------------------------\u001B[0m",
      "\u001B[0;31mTypeError\u001B[0m                                 Traceback (most recent call last)",
      "Cell \u001B[0;32mIn[111], line 11\u001B[0m\n\u001B[1;32m      9\u001B[0m \u001B[38;5;28;01mfor\u001B[39;00m epoch \u001B[38;5;129;01min\u001B[39;00m \u001B[38;5;28mrange\u001B[39m(train_epochs):\n\u001B[1;32m     10\u001B[0m     loss \u001B[38;5;241m=\u001B[39m train(n2v, loader, optimizer)\n\u001B[0;32m---> 11\u001B[0m     acc \u001B[38;5;241m=\u001B[39m \u001B[43mtest\u001B[49m\u001B[43m(\u001B[49m\u001B[43m)\u001B[49m\n\u001B[1;32m     12\u001B[0m     \u001B[38;5;28mprint\u001B[39m(\u001B[38;5;124mf\u001B[39m\u001B[38;5;124m'\u001B[39m\u001B[38;5;124mEpoch: \u001B[39m\u001B[38;5;132;01m{\u001B[39;00mepoch\u001B[38;5;132;01m:\u001B[39;00m\u001B[38;5;124m03d\u001B[39m\u001B[38;5;132;01m}\u001B[39;00m\u001B[38;5;124m, Loss: \u001B[39m\u001B[38;5;132;01m{\u001B[39;00mloss\u001B[38;5;132;01m:\u001B[39;00m\u001B[38;5;124m.4f\u001B[39m\u001B[38;5;132;01m}\u001B[39;00m\u001B[38;5;124m, Acc: \u001B[39m\u001B[38;5;132;01m{\u001B[39;00macc\u001B[38;5;132;01m:\u001B[39;00m\u001B[38;5;124m.4f\u001B[39m\u001B[38;5;132;01m}\u001B[39;00m\u001B[38;5;124m'\u001B[39m)\n\u001B[1;32m     13\u001B[0m \u001B[38;5;66;03m#########################################################################\u001B[39;00m\n",
      "File \u001B[0;32m~/anaconda3/envs/MLGraphGood/lib/python3.9/site-packages/torch/utils/_contextlib.py:115\u001B[0m, in \u001B[0;36mcontext_decorator.<locals>.decorate_context\u001B[0;34m(*args, **kwargs)\u001B[0m\n\u001B[1;32m    112\u001B[0m \u001B[38;5;129m@functools\u001B[39m\u001B[38;5;241m.\u001B[39mwraps(func)\n\u001B[1;32m    113\u001B[0m \u001B[38;5;28;01mdef\u001B[39;00m \u001B[38;5;21mdecorate_context\u001B[39m(\u001B[38;5;241m*\u001B[39margs, \u001B[38;5;241m*\u001B[39m\u001B[38;5;241m*\u001B[39mkwargs):\n\u001B[1;32m    114\u001B[0m     \u001B[38;5;28;01mwith\u001B[39;00m ctx_factory():\n\u001B[0;32m--> 115\u001B[0m         \u001B[38;5;28;01mreturn\u001B[39;00m \u001B[43mfunc\u001B[49m\u001B[43m(\u001B[49m\u001B[38;5;241;43m*\u001B[39;49m\u001B[43margs\u001B[49m\u001B[43m,\u001B[49m\u001B[43m \u001B[49m\u001B[38;5;241;43m*\u001B[39;49m\u001B[38;5;241;43m*\u001B[39;49m\u001B[43mkwargs\u001B[49m\u001B[43m)\u001B[49m\n",
      "\u001B[0;31mTypeError\u001B[0m: test() missing 1 required positional argument: 'model'"
     ]
    }
   ],
   "source": [
    "#########################################################################\n",
    "# train your Node2Vec model\n",
    "train_epochs = 200\n",
    "# Define a loader here\n",
    "loader = n2v.loader(batch_size=128, shuffle=True)\n",
    "# define an optimizer here\n",
    "optimizer = torch.optim.Adam(list(n2v.parameters()), lr=0.01)\n",
    "\n",
    "for epoch in range(train_epochs):\n",
    "    loss = train(n2v, loader, optimizer)\n",
    "    acc = test(n2v)\n",
    "    print(f'Epoch: {epoch:03d}, Loss: {loss:.4f}, Acc: {acc:.4f}')\n",
    "#########################################################################"
   ],
   "metadata": {
    "collapsed": false,
    "ExecuteTime": {
     "end_time": "2023-06-07T14:08:05.907903950Z",
     "start_time": "2023-06-07T14:08:05.644300328Z"
    }
   }
  },
  {
   "cell_type": "code",
   "execution_count": null,
   "outputs": [],
   "source": [
    "#########################################################################\n",
    "# produce embedding using the trained model\n",
    "n2v.eval()\n",
    "emb = n2v(torch.arange(data.num_nodes))\n",
    "# visualize the features here\n",
    "emb = emb.detach().numpy()\n",
    "z = TSNE(n_components=2).fit_transform(emb)\n",
    "y = data.y.cpu().numpy()\n",
    "X_embedded = TSNE(n_components=2, learning_rate='auto',\n",
    "                  init='random', perplexity=3).fit_transform(emb)\n",
    "\n",
    "fig = plt.figure()\n",
    "ax = fig.add_subplot(projection='3d')\n",
    "\n",
    "for i in range(cora_dataset.num_classes):\n",
    "    plt.scatter(z[y == i,0], z[y == i,1], s=20)\n",
    "\n",
    "plt.axis('off')\n",
    "plt.show()\n",
    "#########################################################################"
   ],
   "metadata": {
    "collapsed": false
   }
  }
 ],
 "metadata": {
  "kernelspec": {
   "display_name": "Python 3",
   "language": "python",
   "name": "python3"
  },
  "language_info": {
   "codemirror_mode": {
    "name": "ipython",
    "version": 2
   },
   "file_extension": ".py",
   "mimetype": "text/x-python",
   "name": "python",
   "nbconvert_exporter": "python",
   "pygments_lexer": "ipython2",
   "version": "2.7.6"
  }
 },
 "nbformat": 4,
 "nbformat_minor": 0
}
