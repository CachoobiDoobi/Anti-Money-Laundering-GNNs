{
 "cells": [
  {
   "cell_type": "code",
   "execution_count": 1,
   "metadata": {
    "collapsed": true,
    "ExecuteTime": {
     "end_time": "2023-06-10T16:32:48.145493190Z",
     "start_time": "2023-06-10T16:32:46.751692756Z"
    }
   },
   "outputs": [],
   "source": [
    "import seaborn as sns\n",
    "sns.set(rc={'axes.facecolor': 'dimgrey', 'grid.color': 'lightgrey'})\n",
    "import pandas as pd\n",
    "import torch\n",
    "import matplotlib.pyplot as plt\n",
    "from torch_geometric.nn import Node2Vec\n",
    "import torch\n",
    "from torch_geometric.datasets import Planetoid\n",
    "from tqdm.notebook import tqdm\n",
    "from pygsp import graphs"
   ]
  },
  {
   "cell_type": "code",
   "execution_count": 2,
   "outputs": [
    {
     "name": "stdout",
     "output_type": "stream",
     "text": [
      "cpu\n"
     ]
    }
   ],
   "source": [
    "device = 'cuda' if torch.cuda.is_available() else 'cpu'\n",
    "print(device)"
   ],
   "metadata": {
    "collapsed": false,
    "ExecuteTime": {
     "end_time": "2023-06-10T16:32:48.149859458Z",
     "start_time": "2023-06-10T16:32:48.146113028Z"
    }
   }
  },
  {
   "cell_type": "code",
   "execution_count": 3,
   "outputs": [],
   "source": [
    "%run utils.ipynb"
   ],
   "metadata": {
    "collapsed": false,
    "ExecuteTime": {
     "end_time": "2023-06-10T16:33:01.105215760Z",
     "start_time": "2023-06-10T16:33:00.942722594Z"
    }
   }
  },
  {
   "cell_type": "code",
   "execution_count": 4,
   "outputs": [
    {
     "name": "stdout",
     "output_type": "stream",
     "text": [
      "done\n"
     ]
    }
   ],
   "source": [
    "# class 1 is illicit, 2 is licit, unknown is unknown\n",
    "labels = pd.read_csv(\"data/elliptic_bitcoin_dataset/elliptic_txs_classes.csv\")\n",
    "edges = pd.read_csv(\"data/elliptic_bitcoin_dataset/elliptic_txs_edgelist.csv\")\n",
    "nodes = pd.read_csv(\"data/elliptic_bitcoin_dataset/elliptic_txs_features.csv\", header=None)\n",
    "print('done')"
   ],
   "metadata": {
    "collapsed": false,
    "ExecuteTime": {
     "end_time": "2023-06-10T16:33:06.185730258Z",
     "start_time": "2023-06-10T16:33:01.251453725Z"
    }
   }
  },
  {
   "cell_type": "code",
   "execution_count": 5,
   "outputs": [
    {
     "data": {
      "text/plain": "((203769, 167), (203769, 2), (234355, 2))"
     },
     "execution_count": 5,
     "metadata": {},
     "output_type": "execute_result"
    }
   ],
   "source": [
    "indexes = labels.index.tolist()\n",
    "labels_new = labels\n",
    "labels_new = labels_new.replace('unknown', 3)\n",
    "nodes_new =  nodes\n",
    "edges_new = edges.loc[edges[\"txId1\"].isin(labels_new[\"txId\"])].loc[edges[\"txId2\"].isin(labels_new[\"txId\"])]\n",
    "nodes_new.shape, labels_new.shape, edges_new.shape"
   ],
   "metadata": {
    "collapsed": false,
    "ExecuteTime": {
     "end_time": "2023-06-10T16:33:06.252187525Z",
     "start_time": "2023-06-10T16:33:06.190752875Z"
    }
   }
  },
  {
   "cell_type": "code",
   "execution_count": 6,
   "outputs": [
    {
     "name": "stdout",
     "output_type": "stream",
     "text": [
      "train 31\n",
      "val 5\n",
      "test 13\n"
     ]
    }
   ],
   "source": [
    "data, graph_info = time_step_split(nodes_new, edges_new, labels_new, device)\n",
    "for key in data:\n",
    "    print(key, len(data[key]))"
   ],
   "metadata": {
    "collapsed": false,
    "ExecuteTime": {
     "end_time": "2023-06-10T16:33:22.053581109Z",
     "start_time": "2023-06-10T16:33:06.470241836Z"
    }
   }
  },
  {
   "cell_type": "code",
   "execution_count": 7,
   "outputs": [],
   "source": [
    "data, graph_info = create_graph(nodes_new, edges_new, labels_new, device)"
   ],
   "metadata": {
    "collapsed": false,
    "ExecuteTime": {
     "end_time": "2023-06-10T16:33:29.657636576Z",
     "start_time": "2023-06-10T16:33:22.222424922Z"
    }
   }
  },
  {
   "cell_type": "code",
   "execution_count": 8,
   "outputs": [],
   "source": [
    "# generate test and train masks\n",
    "train_p = 0.8\n",
    "# indeces of the illicit and licit transaction nodes\n",
    "illicit_idx = (data.y == 0).nonzero(as_tuple=True)[0]\n",
    "# Generate random permutation of indices\n",
    "illicit_train, illicit_test = torch.utils.data.random_split(illicit_idx, lengths=[train_p, (1-train_p)])\n",
    "\n",
    "# the same for the licit nodes\n",
    "licit_idx   = (data.y == 1).nonzero(as_tuple=True)[0]\n",
    "licit_train, licit_test = torch.utils.data.random_split(licit_idx, lengths=[train_p, (1-train_p)])\n",
    "# obtain the training and test \"masks\", i.e. indices for the train and test sets\n",
    "train_mask = torch.cat((torch.tensor(illicit_train), torch.tensor(licit_train)))\n",
    "test_mask  = torch.cat((torch.tensor(illicit_test), torch.tensor(licit_test)))"
   ],
   "metadata": {
    "collapsed": false,
    "ExecuteTime": {
     "end_time": "2023-06-10T16:33:29.963283875Z",
     "start_time": "2023-06-10T16:33:29.660379133Z"
    }
   }
  },
  {
   "cell_type": "code",
   "execution_count": 9,
   "outputs": [
    {
     "name": "stdout",
     "output_type": "stream",
     "text": [
      "4545\n",
      "42019\n",
      "37253\n",
      "9311\n"
     ]
    }
   ],
   "source": [
    "print(len(illicit_idx))\n",
    "print(len(licit_idx))\n",
    "\n",
    "print(len(train_mask))\n",
    "print(len(test_mask))"
   ],
   "metadata": {
    "collapsed": false,
    "ExecuteTime": {
     "end_time": "2023-06-10T16:33:29.968282105Z",
     "start_time": "2023-06-10T16:33:29.965214554Z"
    }
   }
  },
  {
   "cell_type": "code",
   "execution_count": 10,
   "outputs": [],
   "source": [
    "# Define your Node2Vec model here\n",
    "def defineNode2VecModel(edge_index):\n",
    "    n2v = Node2Vec(edge_index=edge_index, embedding_dim=3, walk_length=20, context_size=10,\n",
    "                   walks_per_node=10, num_negative_samples=1,\n",
    "                   p=1, q=1, sparse=False)\n",
    "    return n2v\n",
    "# print(type(torch.tensor(data.edge_index)))\n",
    "n2v = defineNode2VecModel(data.edge_index)"
   ],
   "metadata": {
    "collapsed": false,
    "ExecuteTime": {
     "end_time": "2023-06-10T16:33:30.008582282Z",
     "start_time": "2023-06-10T16:33:29.968567953Z"
    }
   }
  },
  {
   "cell_type": "code",
   "execution_count": 11,
   "outputs": [],
   "source": [
    "# training and test loops\n",
    "# define the training function for the Node2Vec model here\n",
    "def train(model, loader, optimizer):\n",
    "    model.train()\n",
    "    total_loss = 0\n",
    "    for pos_rw, neg_rw in loader:\n",
    "        optimizer.zero_grad()\n",
    "        loss = model.loss(pos_rw.to(device), neg_rw.to(device))\n",
    "        loss.backward()\n",
    "        optimizer.step()\n",
    "        total_loss += loss.item()\n",
    "    return total_loss / len(loader)\n",
    "#########################################################################\n",
    "\n",
    "#########################################################################\n",
    "#define the test function for the Node2Vec model here\n",
    "@torch.no_grad()\n",
    "def test(model):\n",
    "    model.eval()\n",
    "    z = model()\n",
    "    acc = model.test(z[train_mask], data.y[train_mask],\n",
    "                   z[test_mask], data.y[test_mask],\n",
    "                   max_iter=150)\n",
    "    return acc\n",
    "#########################################################################"
   ],
   "metadata": {
    "collapsed": false,
    "ExecuteTime": {
     "end_time": "2023-06-10T16:33:30.027446087Z",
     "start_time": "2023-06-10T16:33:29.988805425Z"
    }
   }
  },
  {
   "cell_type": "code",
   "execution_count": 12,
   "outputs": [
    {
     "data": {
      "text/plain": "  0%|          | 0/30 [00:00<?, ?it/s]",
      "application/vnd.jupyter.widget-view+json": {
       "version_major": 2,
       "version_minor": 0,
       "model_id": "4b33d459ed4c4cf88b5172110d7e4f06"
      }
     },
     "metadata": {},
     "output_type": "display_data"
    },
    {
     "name": "stdout",
     "output_type": "stream",
     "text": [
      "Epoch: 000, Loss: 1.0179, Acc: 0.9025\n",
      "Epoch: 001, Loss: 0.8527, Acc: 0.9025\n",
      "Epoch: 002, Loss: 0.8294, Acc: 0.9025\n",
      "Epoch: 003, Loss: 0.8249, Acc: 0.9025\n",
      "Epoch: 004, Loss: 0.8236, Acc: 0.9025\n",
      "Epoch: 005, Loss: 0.8230, Acc: 0.9025\n",
      "Epoch: 006, Loss: 0.8226, Acc: 0.9025\n",
      "Epoch: 007, Loss: 0.8223, Acc: 0.9025\n",
      "Epoch: 008, Loss: 0.8218, Acc: 0.9025\n",
      "Epoch: 009, Loss: 0.8216, Acc: 0.9025\n",
      "Epoch: 010, Loss: 0.8215, Acc: 0.9025\n",
      "Epoch: 011, Loss: 0.8213, Acc: 0.9025\n",
      "Epoch: 012, Loss: 0.8210, Acc: 0.9025\n",
      "Epoch: 013, Loss: 0.8210, Acc: 0.9025\n",
      "Epoch: 014, Loss: 0.8209, Acc: 0.9025\n",
      "Epoch: 015, Loss: 0.8208, Acc: 0.9025\n",
      "Epoch: 016, Loss: 0.8208, Acc: 0.9025\n",
      "Epoch: 017, Loss: 0.8206, Acc: 0.9025\n",
      "Epoch: 018, Loss: 0.8205, Acc: 0.9025\n",
      "Epoch: 019, Loss: 0.8204, Acc: 0.9025\n",
      "Epoch: 020, Loss: 0.8203, Acc: 0.9025\n",
      "Epoch: 021, Loss: 0.8202, Acc: 0.9025\n",
      "Epoch: 022, Loss: 0.8200, Acc: 0.9025\n",
      "Epoch: 023, Loss: 0.8200, Acc: 0.9025\n",
      "Epoch: 024, Loss: 0.8198, Acc: 0.9025\n",
      "Epoch: 025, Loss: 0.8198, Acc: 0.9025\n",
      "Epoch: 026, Loss: 0.8194, Acc: 0.9025\n",
      "Epoch: 027, Loss: 0.8191, Acc: 0.9025\n",
      "Epoch: 028, Loss: 0.8189, Acc: 0.9025\n",
      "Epoch: 029, Loss: 0.8187, Acc: 0.9025\n"
     ]
    }
   ],
   "source": [
    "#########################################################################\n",
    "# train your Node2Vec model\n",
    "train_epochs = 30\n",
    "# Define a loader here\n",
    "loader = n2v.loader(batch_size=128, shuffle=True)\n",
    "# define an optimizer here\n",
    "optimizer = torch.optim.Adam(list(n2v.parameters()), lr=0.01)\n",
    "\n",
    "for epoch in tqdm(range(train_epochs)):\n",
    "    loss = train(n2v, loader, optimizer)\n",
    "    acc = test(n2v)\n",
    "    print(f'Epoch: {epoch:03d}, Loss: {loss:.4f}, Acc: {acc:.4f}')\n",
    "#########################################################################"
   ],
   "metadata": {
    "collapsed": false,
    "ExecuteTime": {
     "end_time": "2023-06-10T16:44:48.901499305Z",
     "start_time": "2023-06-10T16:33:29.992201331Z"
    }
   }
  },
  {
   "cell_type": "code",
   "execution_count": 14,
   "outputs": [
    {
     "name": "stdout",
     "output_type": "stream",
     "text": [
      "203769\n"
     ]
    }
   ],
   "source": [
    "#########################################################################\n",
    "# produce embedding using the trained model\n",
    "n2v.eval()\n",
    "emb = n2v(torch.arange(data.num_nodes))\n",
    "# visualize the features here\n",
    "emb = emb.detach().numpy()\n",
    "print(len(emb))\n",
    "#########################################################################"
   ],
   "metadata": {
    "collapsed": false,
    "ExecuteTime": {
     "end_time": "2023-06-10T16:54:15.955934910Z",
     "start_time": "2023-06-10T16:54:15.913674213Z"
    }
   }
  },
  {
   "cell_type": "code",
   "execution_count": 20,
   "outputs": [
    {
     "name": "stdout",
     "output_type": "stream",
     "text": [
      "[[ 0.708115   -1.1584514   0.6703178 ]\n",
      " [ 0.5693056   0.57121     0.25333804]\n",
      " [ 0.6992649  -1.1388178   1.0769901 ]\n",
      " ...\n",
      " [ 1.034434    0.76907533 -1.8171932 ]\n",
      " [ 0.30891314  0.08497109 -0.17869766]\n",
      " [ 0.21370861 -0.11148543 -0.17180477]]\n",
      "tensor([0, 0, 0,  ..., 1, 1, 1])\n"
     ]
    }
   ],
   "source": [
    "# apply the training and test masks\n",
    "train_emb = emb[train_mask]\n",
    "train_y   = data.y[train_mask]\n",
    "\n",
    "test_emb  = emb[test_mask]\n",
    "test_y    = data.y[test_mask]\n",
    "\n",
    "print(train_emb)\n",
    "print(test_y)"
   ],
   "metadata": {
    "collapsed": false,
    "ExecuteTime": {
     "end_time": "2023-06-10T16:57:10.176513637Z",
     "start_time": "2023-06-10T16:57:10.151722253Z"
    }
   }
  },
  {
   "cell_type": "code",
   "execution_count": 21,
   "outputs": [],
   "source": [
    "# Now train the DT classifier\n",
    "# Load libraries\n",
    "import pandas as pd\n",
    "from sklearn.tree import DecisionTreeClassifier # Import Decision Tree Classifier\n",
    "from sklearn import metrics #Import scikit-learn metrics module for accuracy calculation"
   ],
   "metadata": {
    "collapsed": false,
    "ExecuteTime": {
     "end_time": "2023-06-10T16:58:15.145364408Z",
     "start_time": "2023-06-10T16:58:15.115537432Z"
    }
   }
  },
  {
   "cell_type": "code",
   "execution_count": 22,
   "outputs": [],
   "source": [
    "# Create Decision Tree classifer object\n",
    "clf = DecisionTreeClassifier()\n",
    "\n",
    "# Train Decision Tree Classifer\n",
    "clf = clf.fit(train_emb, train_y)\n",
    "\n",
    "#Predict the response for test dataset\n",
    "y_pred = clf.predict(test_emb)"
   ],
   "metadata": {
    "collapsed": false,
    "ExecuteTime": {
     "end_time": "2023-06-10T16:58:15.763931137Z",
     "start_time": "2023-06-10T16:58:15.577824750Z"
    }
   }
  },
  {
   "cell_type": "code",
   "execution_count": 23,
   "outputs": [
    {
     "name": "stdout",
     "output_type": "stream",
     "text": [
      "Accuracy: 0.8253678444850178\n"
     ]
    }
   ],
   "source": [
    "# Model Accuracy, how often is the classifier correct?\n",
    "print(\"Accuracy:\",metrics.accuracy_score(test_y, y_pred))"
   ],
   "metadata": {
    "collapsed": false,
    "ExecuteTime": {
     "end_time": "2023-06-10T16:58:17.989008027Z",
     "start_time": "2023-06-10T16:58:17.970578155Z"
    }
   }
  },
  {
   "cell_type": "code",
   "execution_count": 24,
   "outputs": [],
   "source": [
    "torch.save(n2v, 'BaselineModel.pt')"
   ],
   "metadata": {
    "collapsed": false,
    "ExecuteTime": {
     "end_time": "2023-06-10T17:03:28.163269265Z",
     "start_time": "2023-06-10T17:03:28.142464677Z"
    }
   }
  },
  {
   "cell_type": "code",
   "execution_count": null,
   "outputs": [],
   "source": [],
   "metadata": {
    "collapsed": false
   }
  }
 ],
 "metadata": {
  "kernelspec": {
   "display_name": "Python 3",
   "language": "python",
   "name": "python3"
  },
  "language_info": {
   "codemirror_mode": {
    "name": "ipython",
    "version": 2
   },
   "file_extension": ".py",
   "mimetype": "text/x-python",
   "name": "python",
   "nbconvert_exporter": "python",
   "pygments_lexer": "ipython2",
   "version": "2.7.6"
  }
 },
 "nbformat": 4,
 "nbformat_minor": 0
}
