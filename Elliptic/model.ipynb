{
 "cells": [
  {
   "cell_type": "code",
   "execution_count": 2,
   "outputs": [],
   "source": [
    "from torch_geometric.nn import TAGConv\n",
    "from torch_geometric.nn import AGNNConv\n",
    "from torch.nn import Sequential, Linear, ReLU\n",
    "import torch.nn.functional as F\n",
    "from torch.nn import LogSoftmax\n",
    "import torch.nn as nn"
   ],
   "metadata": {
    "collapsed": false,
    "ExecuteTime": {
     "end_time": "2023-05-28T13:44:46.322517200Z",
     "start_time": "2023-05-28T13:44:46.322517200Z"
    }
   }
  },
  {
   "cell_type": "code",
   "execution_count": 3,
   "outputs": [],
   "source": [
    "class GNN_Example(nn.Module):\n",
    "    \"\"\"\n",
    "      This class defines a PyTorch module that takes in a graph represented in the PyTorch Geometric Data format,\n",
    "      and outputs a tensor of predictions for each node in the graph. The model consists of one or more TAGConv layers,\n",
    "      which are a type of graph convolutional layer.\n",
    "\n",
    "      Args:\n",
    "          node_dim (int): The number of node inputs.\n",
    "          edge_dim (int): The number of edge inputs.\n",
    "          output_dim (int, optional): The number of outputs (default: 1).\n",
    "          hidden_dim (int, optional): The number of hidden units in each GNN layer (default: 50).\n",
    "          n_gnn_layers (int, optional): The number of GNN layers in the model (default: 1).\n",
    "          K (int, optional): The number of hops in the neighbourhood for each GNN layer (default: 2).\n",
    "          dropout_rate (float, optional): The dropout rate to be applied to the output of each GNN layer (default: 0).\n",
    "\n",
    "      \"\"\"\n",
    "    def __init__(self, node_dim, edge_dim, output_dim=1, hidden_dim=50, n_gnn_layers=1, K=2, dropout_rate=0):\n",
    "        super().__init__()\n",
    "        self.node_dim = node_dim\n",
    "        self.edge_dim = edge_dim\n",
    "        self.output_dim = output_dim\n",
    "        self.hidden_dim = hidden_dim\n",
    "        self.n_gnn_layers = n_gnn_layers\n",
    "        self.K = K\n",
    "        self.dropout_rate = dropout_rate\n",
    "        self.dropout = nn.Dropout(self.dropout_rate, inplace=False)\n",
    "        self.relu = nn.PReLU()\n",
    "        self.softmax = LogSoftmax(dim = -1)\n",
    "\n",
    "        self.convs = nn.ModuleList()\n",
    "\n",
    "        if n_gnn_layers == 1:\n",
    "            self.convs.append(TAGConv(node_dim, output_dim, K=K))\n",
    "        else:\n",
    "            self.convs.append(TAGConv(node_dim, hidden_dim, K=K))\n",
    "\n",
    "            for l in range(n_gnn_layers-2):\n",
    "                self.convs.append(TAGConv(hidden_dim, hidden_dim, K=K))\n",
    "\n",
    "            self.convs.append(TAGConv(hidden_dim, output_dim, K=K))\n",
    "\n",
    "    def forward(self, data):\n",
    "        \"\"\"Applies the GNN to the input graph.\n",
    "\n",
    "          Args:\n",
    "              data (Data): A PyTorch Geometric Data object representing the input graph.\n",
    "\n",
    "          Returns:\n",
    "              torch.Tensor: The output tensor of the GNN.\n",
    "\n",
    "          \"\"\"\n",
    "        x = data.x\n",
    "        edge_index = data.edge_index\n",
    "        edge_attr = data.edge_attr\n",
    "\n",
    "        for i in range(len(self.convs)-1):\n",
    "            x = self.convs[i](x=x, edge_index=edge_index, edge_weight=edge_attr)\n",
    "            x = self.dropout(x)\n",
    "            x = self.relu(x)\n",
    "\n",
    "        x = self.convs[-1](x=x, edge_index=edge_index, edge_weight=edge_attr)\n",
    "        x = self.softmax(x)\n",
    "        return x\n",
    "\n",
    "    def reset_parameters(self):\n",
    "        \"\"\"\n",
    "        Reset all learnable parameters in GCN layers and Batch Normalization\n",
    "        Layers.\n",
    "        \"\"\"\n",
    "        for conv in self.convs:\n",
    "            conv.reset_parameters()\n",
    "        # for bn in self.bns:\n",
    "        #     bn.reset_parameters()"
   ],
   "metadata": {
    "collapsed": false,
    "ExecuteTime": {
     "end_time": "2023-05-28T13:44:46.754350500Z",
     "start_time": "2023-05-28T13:44:46.722714600Z"
    }
   }
  },
  {
   "cell_type": "code",
   "execution_count": null,
   "outputs": [],
   "source": [],
   "metadata": {
    "collapsed": false
   }
  }
 ],
 "metadata": {
  "kernelspec": {
   "display_name": "Python 3",
   "language": "python",
   "name": "python3"
  },
  "language_info": {
   "codemirror_mode": {
    "name": "ipython",
    "version": 2
   },
   "file_extension": ".py",
   "mimetype": "text/x-python",
   "name": "python",
   "nbconvert_exporter": "python",
   "pygments_lexer": "ipython2",
   "version": "2.7.6"
  }
 },
 "nbformat": 4,
 "nbformat_minor": 0
}
