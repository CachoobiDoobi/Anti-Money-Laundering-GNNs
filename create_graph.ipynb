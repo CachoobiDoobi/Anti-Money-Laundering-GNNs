{
 "cells": [
  {
   "cell_type": "code",
   "execution_count": 1,
   "id": "2756a07a",
   "metadata": {
    "ExecuteTime": {
     "end_time": "2023-05-27T15:06:58.923648Z",
     "start_time": "2023-05-27T15:06:57.507357700Z"
    }
   },
   "outputs": [],
   "source": [
    "import networkx as nx\n",
    "import pandas as pd\n",
    "import pickle\n",
    "import time\n",
    "import numpy as np\n",
    "from datetime import datetime"
   ]
  },
  {
   "cell_type": "code",
   "execution_count": 0,
   "outputs": [],
   "source": [
    "df = pd.read_csv('./Data/HI-Small_Trans.csv')\n",
    "dates = pd.to_datetime(df[\"Timestamp\"])\n",
    "out  =(dates - pd.Timestamp(\"1970-01-01\")) // pd.Timedelta('1s')\n",
    "df[\"Timestamp\"] = out"
   ],
   "metadata": {
    "collapsed": false
   }
  },
  {
   "cell_type": "code",
   "execution_count": 18,
   "outputs": [
    {
     "data": {
      "text/plain": "0          False\n1          False\n2           True\n3          False\n4          False\n           ...  \n5078340    False\n5078341    False\n5078342    False\n5078343    False\n5078344    False\nName: Account, Length: 5078345, dtype: bool"
     },
     "execution_count": 18,
     "metadata": {},
     "output_type": "execute_result"
    }
   ],
   "source": [
    "df[\"Account\"] == \"8000F4670\""
   ],
   "metadata": {
    "collapsed": false,
    "ExecuteTime": {
     "end_time": "2023-05-27T15:15:19.592874200Z",
     "start_time": "2023-05-27T15:15:12.122397500Z"
    }
   }
  },
  {
   "cell_type": "code",
   "execution_count": 18,
   "outputs": [
    {
     "name": "stdout",
     "output_type": "stream",
     "text": [
      "Done:  0.0  million\n",
      "Done:  0.1  million\n",
      "Done:  0.2  million\n",
      "Done:  0.3  million\n",
      "Done:  0.4  million\n",
      "Done:  0.5  million\n",
      "Done:  0.6  million\n",
      "Done:  0.7  million\n",
      "Done:  0.8  million\n",
      "Done:  0.9  million\n",
      "Done:  1.0  million\n",
      "Done:  1.1  million\n",
      "Done:  1.2  million\n",
      "Done:  1.3  million\n",
      "Done:  1.4  million\n",
      "Done:  1.5  million\n",
      "Done:  1.6  million\n",
      "Done:  1.7  million\n",
      "Done:  1.8  million\n",
      "Done:  1.9  million\n",
      "Done:  2.0  million\n",
      "Done:  2.1  million\n",
      "Done:  2.2  million\n",
      "Done:  2.3  million\n",
      "Done:  2.4  million\n",
      "Done:  2.5  million\n",
      "Done:  2.6  million\n",
      "Done:  2.7  million\n",
      "Done:  2.8  million\n",
      "Done:  2.9  million\n",
      "Done:  3.0  million\n",
      "Done:  3.1  million\n",
      "Done:  3.2  million\n",
      "Done:  3.3  million\n",
      "Done:  3.4  million\n",
      "Done:  3.5  million\n",
      "Done:  3.6  million\n",
      "Done:  3.7  million\n",
      "Done:  3.8  million\n",
      "Done:  3.9  million\n",
      "Done:  4.0  million\n",
      "Done:  4.1  million\n",
      "Done:  4.2  million\n",
      "Done:  4.3  million\n",
      "Done:  4.4  million\n",
      "Done:  4.5  million\n",
      "Done:  4.6  million\n",
      "Done:  4.7  million\n",
      "Done:  4.8  million\n",
      "Done:  4.9  million\n",
      "Done:  5.0  million\n",
      "Graph creation took 282.344 seconds\n"
     ]
    }
   ],
   "source": [
    "start_time = time.time()\n",
    "graph = nx.MultiDiGraph()\n",
    "# Add node features\n",
    "node_features = ['Account']\n",
    "unique_accounts = pd.unique(df[node_features].squeeze())\n",
    "# Add nodes with features\n",
    "\n",
    "for account in unique_accounts:\n",
    "    graph.add_node(account)\n",
    "# Add edges with features\n",
    "edge_features = ['Timestamp', 'Amount Paid', 'Payment Currency', 'Payment Format']\n",
    "\n",
    "for i, row in df.iterrows():\n",
    "    source_node = row['Account']  # Replace 'source_node' with your own column name\n",
    "    target_node = row['Account.1']  # Replace 'target_node' with your own column name\n",
    "    #features = {feature: row[feature] for feature in edge_features}\n",
    "    graph.add_edge(source_node, target_node, timestamp=row[\"Timestamp\"], amount_paid=row[\"Amount Paid\"])\n",
    "    if i % 100000 == 0:\n",
    "        print(\"Done: \", i / 1000000, \" million\")\n",
    "elapsed_time = time.time() - start_time\n",
    "print(f'Graph creation took {elapsed_time:.3f} seconds')"
   ],
   "metadata": {
    "collapsed": false,
    "ExecuteTime": {
     "end_time": "2023-05-27T13:48:45.126166300Z",
     "start_time": "2023-05-27T13:44:02.766690700Z"
    }
   }
  },
  {
   "cell_type": "code",
   "execution_count": 19,
   "outputs": [],
   "source": [
    "# save graph object to file\n",
    "filename = \"account_time_amount_HI_SMALL\"\n",
    "pickle.dump(graph, open(filename + '.pickle', 'wb'))"
   ],
   "metadata": {
    "collapsed": false,
    "ExecuteTime": {
     "end_time": "2023-05-27T13:50:05.324553600Z",
     "start_time": "2023-05-27T13:49:58.539975400Z"
    }
   }
  },
  {
   "cell_type": "code",
   "execution_count": 20,
   "outputs": [],
   "source": [
    "# load graph object from file\n",
    "filename = \"account_time_amount_HI_SMALL\"\n",
    "G = pickle.load(open(filename + '.pickle', 'rb'))"
   ],
   "metadata": {
    "collapsed": false,
    "ExecuteTime": {
     "end_time": "2023-05-27T13:50:12.627510700Z",
     "start_time": "2023-05-27T13:50:05.293310200Z"
    }
   }
  },
  {
   "cell_type": "code",
   "execution_count": 46,
   "outputs": [
    {
     "data": {
      "text/plain": "{0: {'timestamp': 1662001200, 'amount_paid': 0.002624},\n 1: {'timestamp': 1662001260, 'amount_paid': 0.00301},\n 2: {'timestamp': 1662162180, 'amount_paid': 0.002624},\n 3: {'timestamp': 1662161400, 'amount_paid': 0.00301},\n 4: {'timestamp': 1662180660, 'amount_paid': 0.002624},\n 5: {'timestamp': 1662179820, 'amount_paid': 0.00301},\n 6: {'timestamp': 1662294840, 'amount_paid': 0.002624},\n 7: {'timestamp': 1662295680, 'amount_paid': 0.00301},\n 8: {'timestamp': 1662368580, 'amount_paid': 0.002624},\n 9: {'timestamp': 1662369960, 'amount_paid': 0.00301},\n 10: {'timestamp': 1662480180, 'amount_paid': 0.002624},\n 11: {'timestamp': 1662480480, 'amount_paid': 0.00301},\n 12: {'timestamp': 1662576120, 'amount_paid': 0.002624},\n 13: {'timestamp': 1662575820, 'amount_paid': 0.00301},\n 14: {'timestamp': 1662609060, 'amount_paid': 0.002624},\n 15: {'timestamp': 1662608340, 'amount_paid': 0.00301},\n 16: {'timestamp': 1662765780, 'amount_paid': 0.002624},\n 17: {'timestamp': 1662766140, 'amount_paid': 0.00301},\n 18: {'timestamp': 1662853380, 'amount_paid': 0.002624},\n 19: {'timestamp': 1662852840, 'amount_paid': 0.00301}}"
     },
     "execution_count": 46,
     "metadata": {},
     "output_type": "execute_result"
    }
   ],
   "source": [
    "import numpy as np\n",
    "G.get_edge_data(\"8136C5291\", \"81489D161\")"
   ],
   "metadata": {
    "collapsed": false,
    "ExecuteTime": {
     "end_time": "2023-05-27T14:01:23.727156400Z",
     "start_time": "2023-05-27T14:01:23.711503200Z"
    }
   }
  },
  {
   "cell_type": "code",
   "execution_count": null,
   "outputs": [],
   "source": [],
   "metadata": {
    "collapsed": false
   }
  }
 ],
 "metadata": {
  "kernelspec": {
   "display_name": "Python 3 (ipykernel)",
   "language": "python",
   "name": "python3"
  },
  "language_info": {
   "codemirror_mode": {
    "name": "ipython",
    "version": 3
   },
   "file_extension": ".py",
   "mimetype": "text/x-python",
   "name": "python",
   "nbconvert_exporter": "python",
   "pygments_lexer": "ipython3",
   "version": "3.9.13"
  }
 },
 "nbformat": 4,
 "nbformat_minor": 5
}
