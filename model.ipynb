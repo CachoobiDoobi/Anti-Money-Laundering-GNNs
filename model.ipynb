{
 "cells": [
  {
   "cell_type": "code",
   "execution_count": 5,
   "outputs": [],
   "source": [
    "from torch_geometric.nn import TAGConv\n",
    "from torch_geometric.nn import AGNNConv\n",
    "from torch.nn import Sequential, Linear, ReLU\n",
    "import torch.nn.functional as F\n",
    "import torch.nn as nn"
   ],
   "metadata": {
    "collapsed": false,
    "ExecuteTime": {
     "end_time": "2023-05-27T10:49:55.444889200Z",
     "start_time": "2023-05-27T10:49:55.420058400Z"
    }
   }
  },
  {
   "cell_type": "code",
   "execution_count": 6,
   "outputs": [],
   "source": [
    "class GNN_Example(nn.Module):\n",
    "    \"\"\"\n",
    "      This class defines a PyTorch module that takes in a graph represented in the PyTorch Geometric Data format,\n",
    "      and outputs a tensor of predictions for each node in the graph. The model consists of one or more TAGConv layers,\n",
    "      which are a type of graph convolutional layer.\n",
    "\n",
    "      Args:\n",
    "          node_dim (int): The number of node inputs.\n",
    "          edge_dim (int): The number of edge inputs.\n",
    "          output_dim (int, optional): The number of outputs (default: 1).\n",
    "          hidden_dim (int, optional): The number of hidden units in each GNN layer (default: 50).\n",
    "          n_gnn_layers (int, optional): The number of GNN layers in the model (default: 1).\n",
    "          K (int, optional): The number of hops in the neighbourhood for each GNN layer (default: 2).\n",
    "          dropout_rate (float, optional): The dropout rate to be applied to the output of each GNN layer (default: 0).\n",
    "\n",
    "      \"\"\"\n",
    "    def __init__(self, node_dim, edge_dim, output_dim=1, hidden_dim=50, n_gnn_layers=1, K=2, dropout_rate=0):\n",
    "        super().__init__()\n",
    "        self.node_dim = node_dim\n",
    "        self.edge_dim = edge_dim\n",
    "        self.output_dim = output_dim\n",
    "        self.hidden_dim = hidden_dim\n",
    "        self.n_gnn_layers = n_gnn_layers\n",
    "        self.K = K\n",
    "        self.dropout_rate = dropout_rate\n",
    "\n",
    "        self.convs = nn.ModuleList()\n",
    "\n",
    "        if n_gnn_layers == 1:\n",
    "            self.convs.append(TAGConv(node_dim, output_dim, K=K))\n",
    "        else:\n",
    "            self.convs.append(TAGConv(node_dim, hidden_dim, K=K))\n",
    "\n",
    "            for l in range(n_gnn_layers-2):\n",
    "                self.convs.append(TAGConv(hidden_dim, hidden_dim, K=K))\n",
    "\n",
    "            self.convs.append(TAGConv(hidden_dim, output_dim, K=K))\n",
    "\n",
    "    def forward(self, data):\n",
    "        \"\"\"Applies the GNN to the input graph.\n",
    "\n",
    "          Args:\n",
    "              data (Data): A PyTorch Geometric Data object representing the input graph.\n",
    "\n",
    "          Returns:\n",
    "              torch.Tensor: The output tensor of the GNN.\n",
    "\n",
    "          \"\"\"\n",
    "        x = data.x\n",
    "        edge_index = data.edge_index\n",
    "        edge_attr = data.edge_attr\n",
    "\n",
    "        for i in range(len(self.convs)-1):\n",
    "            x = self.convs[i](x=x, edge_index=edge_index, edge_weight=edge_attr)\n",
    "            x = nn.Dropout(self.dropout_rate, inplace=False)(x)\n",
    "            x = nn.PReLU()(x)\n",
    "\n",
    "        x = self.convs[-1](x=x, edge_index=edge_index, edge_weight=edge_attr)\n",
    "        # x = nn.Sigmoid()(x)\n",
    "\n",
    "        return x"
   ],
   "metadata": {
    "collapsed": false,
    "ExecuteTime": {
     "end_time": "2023-05-27T10:49:55.828179200Z",
     "start_time": "2023-05-27T10:49:55.804560800Z"
    }
   }
  }
 ],
 "metadata": {
  "kernelspec": {
   "display_name": "Python 3",
   "language": "python",
   "name": "python3"
  },
  "language_info": {
   "codemirror_mode": {
    "name": "ipython",
    "version": 2
   },
   "file_extension": ".py",
   "mimetype": "text/x-python",
   "name": "python",
   "nbconvert_exporter": "python",
   "pygments_lexer": "ipython2",
   "version": "2.7.6"
  }
 },
 "nbformat": 4,
 "nbformat_minor": 0
}
