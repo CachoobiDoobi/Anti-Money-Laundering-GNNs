{
 "cells": [
  {
   "cell_type": "code",
   "execution_count": 6,
   "id": "2756a07a",
   "metadata": {
    "ExecuteTime": {
     "end_time": "2023-05-27T11:39:38.402002956Z",
     "start_time": "2023-05-27T11:39:38.295815932Z"
    }
   },
   "outputs": [],
   "source": [
    "import numpy as np\n",
    "import pandas as pd\n",
    "import networkx as nx\n",
    "import matplotlib.pyplot as plt\n"
   ]
  },
  {
   "cell_type": "code",
   "execution_count": 3,
   "id": "91f11b54",
   "metadata": {
    "ExecuteTime": {
     "end_time": "2023-05-27T11:33:52.405640663Z",
     "start_time": "2023-05-27T11:33:45.640184866Z"
    }
   },
   "outputs": [],
   "source": [
    "# read the data\n",
    "df = pd.read_csv('./Data/HI-Small_Trans.csv')"
   ]
  },
  {
   "cell_type": "markdown",
   "source": [],
   "metadata": {
    "collapsed": false
   }
  },
  {
   "cell_type": "markdown",
   "source": [],
   "metadata": {
    "collapsed": false
   }
  },
  {
   "cell_type": "code",
   "execution_count": 18,
   "id": "7b50921e",
   "metadata": {
    "ExecuteTime": {
     "end_time": "2023-05-27T11:41:56.818445001Z",
     "start_time": "2023-05-27T11:41:56.803964885Z"
    }
   },
   "outputs": [
    {
     "data": {
      "text/plain": "                Timestamp  From Bank    Account  To Bank  Account.1  \\\n0        2022/09/01 00:20         10  8000EBD30       10  8000EBD30   \n1        2022/09/01 00:20       3208  8000F4580        1  8000F5340   \n2        2022/09/01 00:00       3209  8000F4670     3209  8000F4670   \n3        2022/09/01 00:02         12  8000F5030       12  8000F5030   \n4        2022/09/01 00:06         10  8000F5200       10  8000F5200   \n...                   ...        ...        ...      ...        ...   \n5078340  2022/09/10 23:57      54219  8148A6631   256398  8148A8711   \n5078341  2022/09/10 23:35         15  8148A8671   256398  8148A8711   \n5078342  2022/09/10 23:52     154365  8148A6771   256398  8148A8711   \n5078343  2022/09/10 23:46     256398  8148A6311   256398  8148A8711   \n5078344  2022/09/10 23:37     154518  8148A6091   256398  8148A8711   \n\n         Amount Received Receiving Currency   Amount Paid Payment Currency  \\\n0            3697.340000          US Dollar   3697.340000        US Dollar   \n1               0.010000          US Dollar      0.010000        US Dollar   \n2           14675.570000          US Dollar  14675.570000        US Dollar   \n3            2806.970000          US Dollar   2806.970000        US Dollar   \n4           36682.970000          US Dollar  36682.970000        US Dollar   \n...                  ...                ...           ...              ...   \n5078340         0.154978            Bitcoin      0.154978          Bitcoin   \n5078341         0.108128            Bitcoin      0.108128          Bitcoin   \n5078342         0.004988            Bitcoin      0.004988          Bitcoin   \n5078343         0.038417            Bitcoin      0.038417          Bitcoin   \n5078344         0.281983            Bitcoin      0.281983          Bitcoin   \n\n        Payment Format  Is Laundering  \n0         Reinvestment              0  \n1               Cheque              0  \n2         Reinvestment              0  \n3         Reinvestment              0  \n4         Reinvestment              0  \n...                ...            ...  \n5078340        Bitcoin              0  \n5078341        Bitcoin              0  \n5078342        Bitcoin              0  \n5078343        Bitcoin              0  \n5078344        Bitcoin              0  \n\n[5078345 rows x 11 columns]",
      "text/html": "<div>\n<style scoped>\n    .dataframe tbody tr th:only-of-type {\n        vertical-align: middle;\n    }\n\n    .dataframe tbody tr th {\n        vertical-align: top;\n    }\n\n    .dataframe thead th {\n        text-align: right;\n    }\n</style>\n<table border=\"1\" class=\"dataframe\">\n  <thead>\n    <tr style=\"text-align: right;\">\n      <th></th>\n      <th>Timestamp</th>\n      <th>From Bank</th>\n      <th>Account</th>\n      <th>To Bank</th>\n      <th>Account.1</th>\n      <th>Amount Received</th>\n      <th>Receiving Currency</th>\n      <th>Amount Paid</th>\n      <th>Payment Currency</th>\n      <th>Payment Format</th>\n      <th>Is Laundering</th>\n    </tr>\n  </thead>\n  <tbody>\n    <tr>\n      <th>0</th>\n      <td>2022/09/01 00:20</td>\n      <td>10</td>\n      <td>8000EBD30</td>\n      <td>10</td>\n      <td>8000EBD30</td>\n      <td>3697.340000</td>\n      <td>US Dollar</td>\n      <td>3697.340000</td>\n      <td>US Dollar</td>\n      <td>Reinvestment</td>\n      <td>0</td>\n    </tr>\n    <tr>\n      <th>1</th>\n      <td>2022/09/01 00:20</td>\n      <td>3208</td>\n      <td>8000F4580</td>\n      <td>1</td>\n      <td>8000F5340</td>\n      <td>0.010000</td>\n      <td>US Dollar</td>\n      <td>0.010000</td>\n      <td>US Dollar</td>\n      <td>Cheque</td>\n      <td>0</td>\n    </tr>\n    <tr>\n      <th>2</th>\n      <td>2022/09/01 00:00</td>\n      <td>3209</td>\n      <td>8000F4670</td>\n      <td>3209</td>\n      <td>8000F4670</td>\n      <td>14675.570000</td>\n      <td>US Dollar</td>\n      <td>14675.570000</td>\n      <td>US Dollar</td>\n      <td>Reinvestment</td>\n      <td>0</td>\n    </tr>\n    <tr>\n      <th>3</th>\n      <td>2022/09/01 00:02</td>\n      <td>12</td>\n      <td>8000F5030</td>\n      <td>12</td>\n      <td>8000F5030</td>\n      <td>2806.970000</td>\n      <td>US Dollar</td>\n      <td>2806.970000</td>\n      <td>US Dollar</td>\n      <td>Reinvestment</td>\n      <td>0</td>\n    </tr>\n    <tr>\n      <th>4</th>\n      <td>2022/09/01 00:06</td>\n      <td>10</td>\n      <td>8000F5200</td>\n      <td>10</td>\n      <td>8000F5200</td>\n      <td>36682.970000</td>\n      <td>US Dollar</td>\n      <td>36682.970000</td>\n      <td>US Dollar</td>\n      <td>Reinvestment</td>\n      <td>0</td>\n    </tr>\n    <tr>\n      <th>...</th>\n      <td>...</td>\n      <td>...</td>\n      <td>...</td>\n      <td>...</td>\n      <td>...</td>\n      <td>...</td>\n      <td>...</td>\n      <td>...</td>\n      <td>...</td>\n      <td>...</td>\n      <td>...</td>\n    </tr>\n    <tr>\n      <th>5078340</th>\n      <td>2022/09/10 23:57</td>\n      <td>54219</td>\n      <td>8148A6631</td>\n      <td>256398</td>\n      <td>8148A8711</td>\n      <td>0.154978</td>\n      <td>Bitcoin</td>\n      <td>0.154978</td>\n      <td>Bitcoin</td>\n      <td>Bitcoin</td>\n      <td>0</td>\n    </tr>\n    <tr>\n      <th>5078341</th>\n      <td>2022/09/10 23:35</td>\n      <td>15</td>\n      <td>8148A8671</td>\n      <td>256398</td>\n      <td>8148A8711</td>\n      <td>0.108128</td>\n      <td>Bitcoin</td>\n      <td>0.108128</td>\n      <td>Bitcoin</td>\n      <td>Bitcoin</td>\n      <td>0</td>\n    </tr>\n    <tr>\n      <th>5078342</th>\n      <td>2022/09/10 23:52</td>\n      <td>154365</td>\n      <td>8148A6771</td>\n      <td>256398</td>\n      <td>8148A8711</td>\n      <td>0.004988</td>\n      <td>Bitcoin</td>\n      <td>0.004988</td>\n      <td>Bitcoin</td>\n      <td>Bitcoin</td>\n      <td>0</td>\n    </tr>\n    <tr>\n      <th>5078343</th>\n      <td>2022/09/10 23:46</td>\n      <td>256398</td>\n      <td>8148A6311</td>\n      <td>256398</td>\n      <td>8148A8711</td>\n      <td>0.038417</td>\n      <td>Bitcoin</td>\n      <td>0.038417</td>\n      <td>Bitcoin</td>\n      <td>Bitcoin</td>\n      <td>0</td>\n    </tr>\n    <tr>\n      <th>5078344</th>\n      <td>2022/09/10 23:37</td>\n      <td>154518</td>\n      <td>8148A6091</td>\n      <td>256398</td>\n      <td>8148A8711</td>\n      <td>0.281983</td>\n      <td>Bitcoin</td>\n      <td>0.281983</td>\n      <td>Bitcoin</td>\n      <td>Bitcoin</td>\n      <td>0</td>\n    </tr>\n  </tbody>\n</table>\n<p>5078345 rows × 11 columns</p>\n</div>"
     },
     "execution_count": 18,
     "metadata": {},
     "output_type": "execute_result"
    }
   ],
   "source": [
    "df"
   ]
  },
  {
   "cell_type": "code",
   "execution_count": 38,
   "id": "0be48790",
   "metadata": {
    "ExecuteTime": {
     "end_time": "2023-05-27T12:01:59.261152658Z",
     "start_time": "2023-05-27T12:01:58.680500374Z"
    }
   },
   "outputs": [],
   "source": [
    "graph = nx.MultiDiGraph()\n",
    "\n",
    "# Add node features\n",
    "node_features = ['Account']\n",
    "unique_accounts = pd.unique(df[node_features].squeeze())"
   ]
  },
  {
   "cell_type": "code",
   "execution_count": 39,
   "outputs": [],
   "source": [
    "# Add nodes with features\n",
    "for account in unique_accounts:\n",
    "    graph.add_node(account)"
   ],
   "metadata": {
    "collapsed": false,
    "ExecuteTime": {
     "end_time": "2023-05-27T12:02:01.357152887Z",
     "start_time": "2023-05-27T12:02:00.815808927Z"
    }
   }
  },
  {
   "cell_type": "code",
   "execution_count": null,
   "outputs": [],
   "source": [
    "# Add edges with features\n",
    "edge_features = ['Timestamp', 'Amount Paid', 'Payment Currency', 'Payment Format']\n",
    "for _, row in df.iterrows():\n",
    "    source_node = row['Account']  # Replace 'source_node' with your own column name\n",
    "    target_node = row['Account.1']  # Replace 'target_node' with your own column name\n",
    "    features = {feature: row[feature] for feature in edge_features}\n",
    "    graph.add_edge(source_node, target_node, **features)"
   ],
   "metadata": {
    "collapsed": false,
    "is_executing": true,
    "ExecuteTime": {
     "start_time": "2023-05-27T12:03:31.797443697Z"
    }
   }
  },
  {
   "cell_type": "code",
   "execution_count": 21,
   "outputs": [
    {
     "name": "stderr",
     "output_type": "stream",
     "text": [
      "IOPub data rate exceeded.\n",
      "The notebook server will temporarily stop sending output\n",
      "to the client in order to avoid crashing it.\n",
      "To change this limit, set the config variable\n",
      "`--NotebookApp.iopub_data_rate_limit`.\n",
      "\n",
      "Current values:\n",
      "NotebookApp.iopub_data_rate_limit=1000000.0 (bytes/sec)\n",
      "NotebookApp.rate_limit_window=3.0 (secs)\n",
      "\n"
     ]
    }
   ],
   "source": [],
   "metadata": {
    "collapsed": false,
    "ExecuteTime": {
     "end_time": "2023-05-27T11:50:49.534155427Z",
     "start_time": "2023-05-27T11:50:48.447981941Z"
    }
   }
  },
  {
   "cell_type": "code",
   "execution_count": null,
   "outputs": [],
   "source": [],
   "metadata": {
    "collapsed": false
   }
  }
 ],
 "metadata": {
  "kernelspec": {
   "display_name": "Python 3 (ipykernel)",
   "language": "python",
   "name": "python3"
  },
  "language_info": {
   "codemirror_mode": {
    "name": "ipython",
    "version": 3
   },
   "file_extension": ".py",
   "mimetype": "text/x-python",
   "name": "python",
   "nbconvert_exporter": "python",
   "pygments_lexer": "ipython3",
   "version": "3.9.13"
  }
 },
 "nbformat": 4,
 "nbformat_minor": 5
}
