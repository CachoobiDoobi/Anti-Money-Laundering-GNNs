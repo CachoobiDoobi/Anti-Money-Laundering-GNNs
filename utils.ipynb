{
 "cells": [
  {
   "cell_type": "code",
   "execution_count": null,
   "outputs": [],
   "source": [
    "import time\n",
    "import numpy as np"
   ],
   "metadata": {
    "collapsed": false
   }
  },
  {
   "cell_type": "code",
   "execution_count": 4,
   "outputs": [],
   "source": [
    "def train_epoch(model, loader, optimizer,criterion, device='cpu'):\n",
    "    \"\"\"\n",
    "      Trains a neural network model for one epoch using the specified data loader and optimizer.\n",
    "\n",
    "      Args:\n",
    "          model (nn.Module): The neural network model to be trained.\n",
    "          loader (DataLoader): The PyTorch Geometric DataLoader containing the training data.\n",
    "          optimizer (torch.optim.Optimizer): The PyTorch optimizer used for training the model.\n",
    "          device (str): The device used for training the model (default: 'cpu').\n",
    "\n",
    "      Returns:\n",
    "          float: The mean loss value over all the batches in the DataLoader.\n",
    "\n",
    "      \"\"\"\n",
    "    losses = []\n",
    "    for batch in loader:\n",
    "        optimizer.zero_grad()\n",
    "        out = model(batch)\n",
    "        targets = batch.y\n",
    "        loss = criterion(out, targets)\n",
    "        loss.backward()\n",
    "        optimizer.step()\n",
    "        losses.append(loss.item())\n",
    "    return np.mean(losses)"
   ],
   "metadata": {
    "collapsed": false,
    "ExecuteTime": {
     "end_time": "2023-05-27T11:00:43.262629700Z",
     "start_time": "2023-05-27T11:00:43.226362500Z"
    }
   }
  },
  {
   "cell_type": "code",
   "execution_count": 2,
   "outputs": [],
   "source": [
    "def evaluate_epoch(model, loader, criterion, device='cpu'):\n",
    "    \"\"\"\n",
    "    Evaluates the performance of a trained neural network model on a dataset using the specified data loader.\n",
    "\n",
    "    Args:\n",
    "        model (nn.Module): The trained neural network model to be evaluated.\n",
    "        loader (DataLoader): The PyTorch Geometric DataLoader containing the evaluation data.\n",
    "        device (str): The device used for evaluating the model (default: 'cpu').\n",
    "\n",
    "    Returns:\n",
    "        float: The mean loss value over all the batches in the DataLoader.\n",
    "\n",
    "    \"\"\"\n",
    "    losses = []\n",
    "    for batch in loader:\n",
    "        model.eval()\n",
    "        out = model(batch)\n",
    "        targets = batch.y\n",
    "        loss = criterion(out, targets)\n",
    "        losses.append(loss.item())\n",
    "    return np.mean(losses)"
   ],
   "metadata": {
    "collapsed": false,
    "ExecuteTime": {
     "end_time": "2023-05-27T10:56:51.130106500Z",
     "start_time": "2023-05-27T10:56:51.111160800Z"
    }
   }
  },
  {
   "cell_type": "code",
   "execution_count": 5,
   "outputs": [],
   "source": [
    "def train(num_epochs, model, train_loader, val_loader, optimizer, criterion, device='cpu', patience=5 ):\n",
    "    # create vectors for the training and validation loss\n",
    "    train_losses = []\n",
    "    val_losses = []\n",
    "\n",
    "    #start measuring time\n",
    "    start_time = time.time()\n",
    "\n",
    "    for epoch in range(1, num_epochs+1):\n",
    "        # Model training\n",
    "        train_loss = train_epoch(model, train_loader, optimizer, criterion, device=device)\n",
    "\n",
    "        # Model validation\n",
    "        val_loss = evaluate_epoch(model, val_loader, criterion, device=device)\n",
    "\n",
    "        train_losses.append(train_loss)\n",
    "        val_losses.append(val_loss)\n",
    "\n",
    "        # Early stopping\n",
    "        try:\n",
    "            if val_losses[-1]>=val_losses[-2]:\n",
    "                early_stop += 1\n",
    "                if early_stop == patience:\n",
    "                    print(\"Early stopping! Epoch:\", epoch)\n",
    "                    break\n",
    "            else:\n",
    "                early_stop = 0\n",
    "        except:\n",
    "            early_stop = 0\n",
    "\n",
    "        if epoch%10 == 0:\n",
    "            print(\"epoch:\",epoch, \"\\t training loss:\", np.round(train_loss,4),\n",
    "                  \"\\t validation loss:\", np.round(val_loss,4))\n",
    "\n",
    "    elapsed_time = time.time() - start_time\n",
    "    print(f'Model training took {elapsed_time:.3f} seconds')\n",
    "    return train_losses, val_losses"
   ],
   "metadata": {
    "collapsed": false,
    "ExecuteTime": {
     "end_time": "2023-05-27T11:01:35.981209200Z",
     "start_time": "2023-05-27T11:01:35.967133Z"
    }
   }
  }
 ],
 "metadata": {
  "kernelspec": {
   "display_name": "Python 3",
   "language": "python",
   "name": "python3"
  },
  "language_info": {
   "codemirror_mode": {
    "name": "ipython",
    "version": 2
   },
   "file_extension": ".py",
   "mimetype": "text/x-python",
   "name": "python",
   "nbconvert_exporter": "python",
   "pygments_lexer": "ipython2",
   "version": "2.7.6"
  }
 },
 "nbformat": 4,
 "nbformat_minor": 0
}
