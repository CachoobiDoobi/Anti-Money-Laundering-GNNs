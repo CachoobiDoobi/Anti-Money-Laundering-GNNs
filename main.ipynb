{
 "cells": [
  {
   "cell_type": "code",
   "execution_count": 1,
   "metadata": {
    "collapsed": true,
    "ExecuteTime": {
     "end_time": "2023-05-27T12:21:03.806352200Z",
     "start_time": "2023-05-27T12:20:40.388958700Z"
    }
   },
   "outputs": [],
   "source": [
    "import matplotlib.pyplot as plt\n",
    "import numpy as np\n",
    "import torch\n",
    "import torch.nn as nn\n",
    "from torch_geometric import data\n",
    "from torch_geometric.loader import DataLoader\n",
    "import wandb"
   ]
  },
  {
   "cell_type": "code",
   "execution_count": 2,
   "outputs": [],
   "source": [
    "%run model.ipynb\n",
    "%run utils.ipynb\n",
    "device = torch.device('cuda:0' if torch.cuda.is_available() else 'cpu')\n",
    "device='cpu'"
   ],
   "metadata": {
    "collapsed": false,
    "ExecuteTime": {
     "end_time": "2023-05-27T12:21:04.307327100Z",
     "start_time": "2023-05-27T12:21:03.822308800Z"
    }
   }
  },
  {
   "cell_type": "code",
   "execution_count": 3,
   "outputs": [
    {
     "name": "stderr",
     "output_type": "stream",
     "text": [
      "\u001B[34m\u001B[1mwandb\u001B[0m: Currently logged in as: \u001B[33mradu-gaghi\u001B[0m (\u001B[33mcaceu\u001B[0m). Use \u001B[1m`wandb login --relogin`\u001B[0m to force relogin\n"
     ]
    },
    {
     "data": {
      "text/plain": "<IPython.core.display.HTML object>",
      "text/html": "Tracking run with wandb version 0.15.3"
     },
     "metadata": {},
     "output_type": "display_data"
    },
    {
     "data": {
      "text/plain": "<IPython.core.display.HTML object>",
      "text/html": "Run data is saved locally in <code>D:\\Master\\Q4\\MLGD\\AML with GNNs\\Anti-Money-Laundering-GNNs\\wandb\\run-20230527_142121-mge0k8cc</code>"
     },
     "metadata": {},
     "output_type": "display_data"
    },
    {
     "data": {
      "text/plain": "<IPython.core.display.HTML object>",
      "text/html": "Syncing run <strong><a href='https://wandb.ai/caceu/AML_GNN/runs/mge0k8cc' target=\"_blank\">sunny-music-2</a></strong> to <a href='https://wandb.ai/caceu/AML_GNN' target=\"_blank\">Weights & Biases</a> (<a href='https://wandb.me/run' target=\"_blank\">docs</a>)<br/>"
     },
     "metadata": {},
     "output_type": "display_data"
    },
    {
     "data": {
      "text/plain": "<IPython.core.display.HTML object>",
      "text/html": " View project at <a href='https://wandb.ai/caceu/AML_GNN' target=\"_blank\">https://wandb.ai/caceu/AML_GNN</a>"
     },
     "metadata": {},
     "output_type": "display_data"
    },
    {
     "data": {
      "text/plain": "<IPython.core.display.HTML object>",
      "text/html": " View run at <a href='https://wandb.ai/caceu/AML_GNN/runs/mge0k8cc' target=\"_blank\">https://wandb.ai/caceu/AML_GNN/runs/mge0k8cc</a>"
     },
     "metadata": {},
     "output_type": "display_data"
    },
    {
     "data": {
      "text/html": "<button onClick=\"this.nextSibling.style.display='block';this.style.display='none';\">Display W&B run</button><iframe src='https://wandb.ai/caceu/AML_GNN/runs/mge0k8cc?jupyter=true' style='border:none;width:100%;height:420px;display:none;'></iframe>",
      "text/plain": "<wandb.sdk.wandb_run.Run at 0x25ef9a1f790>"
     },
     "execution_count": 3,
     "metadata": {},
     "output_type": "execute_result"
    }
   ],
   "source": [
    "# Set training parameters\n",
    "learning_rate = 1e-3\n",
    "batch_size = 1\n",
    "num_epochs = 100\n",
    "patience = 5\n",
    "# start a new wandb run to track this script\n",
    "wandb.init(\n",
    "    # set the wandb project where this run will be logged\n",
    "    project=\"AML_GNN\",\n",
    "\n",
    "    # track hyperparameters and run metadata\n",
    "    config={\n",
    "        \"learning_rate\": learning_rate,\n",
    "        \"architecture\": \"GNN\",\n",
    "        \"dataset\": \"dummy\",\n",
    "        \"epochs\": num_epochs,\n",
    "    }\n",
    ")"
   ],
   "metadata": {
    "collapsed": false,
    "ExecuteTime": {
     "end_time": "2023-05-27T12:21:52.936174500Z",
     "start_time": "2023-05-27T12:21:04.289377400Z"
    }
   }
  },
  {
   "cell_type": "code",
   "execution_count": 4,
   "outputs": [
    {
     "name": "stdout",
     "output_type": "stream",
     "text": [
      "DataBatch(x=[2, 1], edge_index=[2, 1], y=[2, 2], batch=[2], ptr=[2])\n"
     ]
    }
   ],
   "source": [
    "x = torch.tensor([[0.0], [1.0]])\n",
    "y = torch.tensor([[1, 0], [0, 1]])\n",
    "edge_index = torch.tensor([[0, 1]]).T\n",
    "dataset = [data.Data(x, y=y, edge_index=edge_index)]\n",
    "train_loader = DataLoader(dataset, batch_size=batch_size, shuffle=False)\n",
    "val_loader = DataLoader(dataset, batch_size=batch_size, shuffle=False)\n",
    "for batch in train_loader:\n",
    "    print(batch)"
   ],
   "metadata": {
    "collapsed": false,
    "ExecuteTime": {
     "end_time": "2023-05-27T12:21:52.960109900Z",
     "start_time": "2023-05-27T12:21:52.898276300Z"
    }
   }
  },
  {
   "cell_type": "code",
   "execution_count": 5,
   "outputs": [
    {
     "name": "stdout",
     "output_type": "stream",
     "text": [
      "GNN_Example(\n",
      "  (dropout): Dropout(p=0.0, inplace=False)\n",
      "  (relu): PReLU(num_parameters=1)\n",
      "  (convs): ModuleList(\n",
      "    (0): TAGConv(1, 4, K=1)\n",
      "    (1): TAGConv(4, 4, K=1)\n",
      "    (2): TAGConv(4, 2, K=1)\n",
      "  )\n",
      ")\n"
     ]
    }
   ],
   "source": [
    "node_dim = 1\n",
    "edge_dim = 1\n",
    "output_dim = 2\n",
    "hidden_dim = 4\n",
    "n_gnn_layers = 3\n",
    "K = 1\n",
    "dropout_rate = 0.0\n",
    "\n",
    "# Create model\n",
    "model = GNN_Example(node_dim, edge_dim, output_dim, hidden_dim, n_gnn_layers, K, dropout_rate).to(device)\n",
    "print(model)"
   ],
   "metadata": {
    "collapsed": false,
    "ExecuteTime": {
     "end_time": "2023-05-27T12:21:53.090761200Z",
     "start_time": "2023-05-27T12:21:52.915230Z"
    }
   }
  },
  {
   "cell_type": "code",
   "execution_count": 6,
   "outputs": [],
   "source": [
    "# Create the optimizer to train the neural network via back-propagation\n",
    "optimizer = torch.optim.Adam(params=model.parameters(), lr=learning_rate)\n",
    "criterion = nn.MSELoss()"
   ],
   "metadata": {
    "collapsed": false,
    "ExecuteTime": {
     "end_time": "2023-05-27T12:21:53.127666700Z",
     "start_time": "2023-05-27T12:21:52.974072500Z"
    }
   }
  },
  {
   "cell_type": "code",
   "execution_count": 7,
   "outputs": [
    {
     "name": "stdout",
     "output_type": "stream",
     "text": [
      "epoch: 10 \t training loss: 0.467 \t validation loss: 0.4648\n",
      "epoch: 20 \t training loss: 0.4449 \t validation loss: 0.4427\n",
      "epoch: 30 \t training loss: 0.4233 \t validation loss: 0.4211\n",
      "epoch: 40 \t training loss: 0.4012 \t validation loss: 0.3989\n",
      "epoch: 50 \t training loss: 0.3782 \t validation loss: 0.3759\n",
      "epoch: 60 \t training loss: 0.3544 \t validation loss: 0.352\n",
      "epoch: 70 \t training loss: 0.3298 \t validation loss: 0.3274\n",
      "epoch: 80 \t training loss: 0.3047 \t validation loss: 0.3021\n",
      "epoch: 90 \t training loss: 0.2791 \t validation loss: 0.2765\n",
      "epoch: 100 \t training loss: 0.2534 \t validation loss: 0.2508\n",
      "Model training took 4.300 seconds\n"
     ]
    },
    {
     "data": {
      "text/plain": "<IPython.core.display.HTML object>",
      "text/html": "Waiting for W&B process to finish... <strong style=\"color:green\">(success).</strong>"
     },
     "metadata": {},
     "output_type": "display_data"
    },
    {
     "data": {
      "text/plain": "<IPython.core.display.HTML object>",
      "text/html": "<style>\n    table.wandb td:nth-child(1) { padding: 0 10px; text-align: left ; width: auto;} td:nth-child(2) {text-align: left ; width: 100%}\n    .wandb-row { display: flex; flex-direction: row; flex-wrap: wrap; justify-content: flex-start; width: 100% }\n    .wandb-col { display: flex; flex-direction: column; flex-basis: 100%; flex: 1; padding: 10px; }\n    </style>\n<div class=\"wandb-row\"><div class=\"wandb-col\"><h3>Run history:</h3><br/><table class=\"wandb\"><tr><td>train loss</td><td>████▇▇▇▇▇▇▆▆▆▆▆▆▅▅▅▅▅▄▄▄▄▄▄▃▃▃▃▃▂▂▂▂▂▁▁▁</td></tr><tr><td>validation oss</td><td>████▇▇▇▇▇▇▆▆▆▆▆▆▅▅▅▅▅▄▄▄▄▄▄▃▃▃▃▃▂▂▂▂▂▁▁▁</td></tr></table><br/></div><div class=\"wandb-col\"><h3>Run summary:</h3><br/><table class=\"wandb\"><tr><td>train loss</td><td>0.25335</td></tr><tr><td>validation oss</td><td>0.25079</td></tr></table><br/></div></div>"
     },
     "metadata": {},
     "output_type": "display_data"
    },
    {
     "data": {
      "text/plain": "<IPython.core.display.HTML object>",
      "text/html": " View run <strong style=\"color:#cdcd00\">sunny-music-2</strong> at: <a href='https://wandb.ai/caceu/AML_GNN/runs/mge0k8cc' target=\"_blank\">https://wandb.ai/caceu/AML_GNN/runs/mge0k8cc</a><br/>Synced 6 W&B file(s), 0 media file(s), 0 artifact file(s) and 0 other file(s)"
     },
     "metadata": {},
     "output_type": "display_data"
    },
    {
     "data": {
      "text/plain": "<IPython.core.display.HTML object>",
      "text/html": "Find logs at: <code>.\\wandb\\run-20230527_142121-mge0k8cc\\logs</code>"
     },
     "metadata": {},
     "output_type": "display_data"
    }
   ],
   "source": [
    "train_losses, validation_losses = train(num_epochs, model, train_loader, val_loader, optimizer, criterion, device, patience)"
   ],
   "metadata": {
    "collapsed": false,
    "ExecuteTime": {
     "end_time": "2023-05-27T12:22:51.300301500Z",
     "start_time": "2023-05-27T12:21:53.044883400Z"
    }
   }
  },
  {
   "cell_type": "code",
   "execution_count": 8,
   "outputs": [
    {
     "data": {
      "text/plain": "<Figure size 640x480 with 1 Axes>",
      "image/png": "[encoded data removed]"
     },
     "metadata": {},
     "output_type": "display_data"
    }
   ],
   "source": [
    "plt.grid()\n",
    "plt.plot(train_losses, label='Training')\n",
    "plt.plot(validation_losses, label='Validation')\n",
    "plt.legend()\n",
    "plt.xlabel(\"Epochs\")\n",
    "plt.ylabel(\"Loss\")\n",
    "plt.show()"
   ],
   "metadata": {
    "collapsed": false,
    "ExecuteTime": {
     "end_time": "2023-05-27T12:22:52.578882800Z",
     "start_time": "2023-05-27T12:22:51.307281800Z"
    }
   }
  }
 ],
 "metadata": {
  "kernelspec": {
   "display_name": "Python 3",
   "language": "python",
   "name": "python3"
  },
  "language_info": {
   "codemirror_mode": {
    "name": "ipython",
    "version": 2
   },
   "file_extension": ".py",
   "mimetype": "text/x-python",
   "name": "python",
   "nbconvert_exporter": "python",
   "pygments_lexer": "ipython2",
   "version": "2.7.6"
  }
 },
 "nbformat": 4,
 "nbformat_minor": 0
}
